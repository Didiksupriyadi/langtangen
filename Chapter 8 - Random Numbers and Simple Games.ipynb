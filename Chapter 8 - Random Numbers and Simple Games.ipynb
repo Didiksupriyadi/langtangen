{
 "cells": [
  {
   "cell_type": "markdown",
   "metadata": {},
   "source": [
    "# 8.1 Drawing random numbers"
   ]
  },
  {
   "cell_type": "code",
   "execution_count": 1,
   "metadata": {},
   "outputs": [],
   "source": [
    "import random"
   ]
  },
  {
   "cell_type": "code",
   "execution_count": 2,
   "metadata": {},
   "outputs": [
    {
     "data": {
      "text/plain": [
       "0.3858569577847155"
      ]
     },
     "execution_count": 2,
     "metadata": {},
     "output_type": "execute_result"
    }
   ],
   "source": [
    "random.random()"
   ]
  },
  {
   "cell_type": "code",
   "execution_count": 3,
   "metadata": {},
   "outputs": [
    {
     "data": {
      "text/plain": [
       "0.8343129788220142"
      ]
     },
     "execution_count": 3,
     "metadata": {},
     "output_type": "execute_result"
    }
   ],
   "source": [
    "random.random()"
   ]
  },
  {
   "cell_type": "markdown",
   "metadata": {},
   "source": [
    "## 8.1.1 The Seed"
   ]
  },
  {
   "cell_type": "code",
   "execution_count": 4,
   "metadata": {},
   "outputs": [
    {
     "name": "stdout",
     "output_type": "stream",
     "text": [
      "0.24, 0.54, 0.37, 0.60, 0.63, 0.07, 0.01, 0.84, 0.26, 0.23, 1.00\n",
      "0.47, 0.84, 0.48, 0.64, 0.15, 0.63, 0.87, 0.52, 0.74, 0.67, 0.06\n",
      "0.76, 0.59, 0.30, 0.03, 0.87, 0.47, 0.72, 0.88, 0.71, 0.92, 0.39\n"
     ]
    }
   ],
   "source": [
    "random.seed(3)\n",
    "print(', '.join(['%.2f' % random.random() for i in range(11)]))\n",
    "print(', '.join(['%.2f' % random.random() for i in range(11)]))\n",
    "print(', '.join(['%.2f' % random.random() for i in range(11)]))"
   ]
  },
  {
   "cell_type": "code",
   "execution_count": 5,
   "metadata": {},
   "outputs": [
    {
     "name": "stdout",
     "output_type": "stream",
     "text": [
      "0.24, 0.54, 0.37, 0.60, 0.63, 0.07, 0.01, 0.84, 0.26, 0.23, 1.00\n",
      "0.47, 0.84, 0.48, 0.64, 0.15, 0.63, 0.87, 0.52, 0.74, 0.67, 0.06\n",
      "0.76, 0.59, 0.30, 0.03, 0.87, 0.47, 0.72, 0.88, 0.71, 0.92, 0.39\n"
     ]
    }
   ],
   "source": [
    "random.seed(3)\n",
    "print(', '.join(['%.2f' % random.random() for i in range(11)]))\n",
    "print(', '.join(['%.2f' % random.random() for i in range(11)]))\n",
    "print(', '.join(['%.2f' % random.random() for i in range(11)]))"
   ]
  },
  {
   "cell_type": "markdown",
   "metadata": {},
   "source": [
    "## 8.1.2 Uniformly Distributed Random Numbers"
   ]
  },
  {
   "cell_type": "code",
   "execution_count": 6,
   "metadata": {},
   "outputs": [
    {
     "data": {
      "text/plain": [
       "<Figure size 640x480 with 1 Axes>"
      ]
     },
     "metadata": {},
     "output_type": "display_data"
    }
   ],
   "source": [
    "import matplotlib.pyplot as plt \n",
    "\n",
    "plt.figure()\n",
    "plt.plot([random.uniform(-1, 1) for i in range(300)], '+')\n",
    "plt.show()"
   ]
  },
  {
   "cell_type": "code",
   "execution_count": 7,
   "metadata": {},
   "outputs": [
    {
     "data": {
      "image/png": "[encoded data removed]",
      "text/plain": [
       "<Figure size 432x288 with 1 Axes>"
      ]
     },
     "metadata": {},
     "output_type": "display_data"
    }
   ],
   "source": [
    "# normal distribution\n",
    "plt.figure()\n",
    "plt.plot([random.gauss(0, 1) for i in range(300)], '+')\n",
    "plt.show()"
   ]
  },
  {
   "cell_type": "markdown",
   "metadata": {},
   "source": [
    "## 8.1.3 Visualizing the Distribution"
   ]
  },
  {
   "cell_type": "code",
   "execution_count": 8,
   "metadata": {},
   "outputs": [
    {
     "name": "stderr",
     "output_type": "stream",
     "text": [
      "/Users/onnoeberhard/anaconda3/lib/python3.6/site-packages/matplotlib/axes/_axes.py:6462: UserWarning: The 'normed' kwarg is deprecated, and has been replaced by the 'density' kwarg.\n",
      "  warnings.warn(\"The 'normed' kwarg is deprecated, and has been \"\n"
     ]
    },
    {
     "data": {
      "image/png": "[encoded data removed]",
      "text/plain": [
       "<Figure size 432x288 with 2 Axes>"
      ]
     },
     "metadata": {},
     "output_type": "display_data"
    }
   ],
   "source": [
    "plt.figure()\n",
    "plt.subplot(211)\n",
    "plt.hist([random.random() for i in range(1000)], bins=50, normed=True)\n",
    "plt.subplot(212)\n",
    "plt.hist([random.random() for i in range(100000)], bins=50, normed=True)\n",
    "plt.show()"
   ]
  },
  {
   "cell_type": "markdown",
   "metadata": {},
   "source": [
    "# 8.1.4 Vectorized Drawing of random numbers"
   ]
  },
  {
   "cell_type": "code",
   "execution_count": 9,
   "metadata": {},
   "outputs": [],
   "source": [
    "import numpy as np"
   ]
  },
  {
   "cell_type": "code",
   "execution_count": 10,
   "metadata": {},
   "outputs": [
    {
     "data": {
      "text/plain": [
       "0.6261707558351127"
      ]
     },
     "execution_count": 10,
     "metadata": {},
     "output_type": "execute_result"
    }
   ],
   "source": [
    "np.random.random()"
   ]
  },
  {
   "cell_type": "code",
   "execution_count": 11,
   "metadata": {},
   "outputs": [
    {
     "data": {
      "text/plain": [
       "array([0.41875195, 0.22002842, 0.37352794, 0.07059993, 0.62934343,\n",
       "       0.60844382, 0.16715554, 0.96157769, 0.46538005, 0.15534173,\n",
       "       0.16649141, 0.38051623, 0.76307046, 0.91083554, 0.65517142,\n",
       "       0.68555901, 0.28538579, 0.86987374, 0.08422141, 0.72905601])"
      ]
     },
     "execution_count": 11,
     "metadata": {},
     "output_type": "execute_result"
    }
   ],
   "source": [
    "x = np.random.random(size=20)\n",
    "x"
   ]
  },
  {
   "cell_type": "markdown",
   "metadata": {},
   "source": [
    "# 8.1.5 Computing the mean and standard deviation"
   ]
  },
  {
   "cell_type": "code",
   "execution_count": 12,
   "metadata": {},
   "outputs": [
    {
     "data": {
      "text/plain": [
       "0.4800165752869951"
      ]
     },
     "execution_count": 12,
     "metadata": {},
     "output_type": "execute_result"
    }
   ],
   "source": [
    "np.mean(x)"
   ]
  },
  {
   "cell_type": "code",
   "execution_count": 13,
   "metadata": {},
   "outputs": [
    {
     "data": {
      "text/plain": [
       "0.2810610390159891"
      ]
     },
     "execution_count": 13,
     "metadata": {},
     "output_type": "execute_result"
    }
   ],
   "source": [
    "np.std(x)"
   ]
  },
  {
   "cell_type": "code",
   "execution_count": 14,
   "metadata": {},
   "outputs": [
    {
     "data": {
      "text/plain": [
       "0.2810610390159891"
      ]
     },
     "execution_count": 14,
     "metadata": {},
     "output_type": "execute_result"
    }
   ],
   "source": [
    "np.sqrt(np.var(x))"
   ]
  },
  {
   "cell_type": "markdown",
   "metadata": {},
   "source": [
    "# The Gaussian or normal distribution"
   ]
  },
  {
   "cell_type": "code",
   "execution_count": 15,
   "metadata": {},
   "outputs": [
    {
     "data": {
      "text/plain": [
       "-0.6854581253108192"
      ]
     },
     "execution_count": 15,
     "metadata": {},
     "output_type": "execute_result"
    }
   ],
   "source": [
    "random.gauss(0, 1)"
   ]
  },
  {
   "cell_type": "code",
   "execution_count": 16,
   "metadata": {},
   "outputs": [
    {
     "data": {
      "text/plain": [
       "-0.04892370386886112"
      ]
     },
     "execution_count": 16,
     "metadata": {},
     "output_type": "execute_result"
    }
   ],
   "source": [
    "np.random.normal()"
   ]
  },
  {
   "cell_type": "code",
   "execution_count": 17,
   "metadata": {},
   "outputs": [
    {
     "name": "stdout",
     "output_type": "stream",
     "text": [
      "[[ 0.15075558 -0.51104611 -0.96761321]]\n",
      "[[0.42596201 0.39819833 0.93113491]]\n",
      "0.23512074765480273\n",
      "4.548813503927325\n",
      "4.548813503927325\n",
      "[[0.71518937 0.60276338 0.54488318]]\n",
      "[[0.4236548  0.64589411 0.43758721]]\n",
      "[[0.891773   0.96366276 0.38344152]]\n",
      "[[0.79172504 0.52889492 0.56804456]]\n",
      "[[4.96862431 5.15828096 3.63683485]]\n",
      "[[ 1.41020463 -0.37447169  0.27519832]]\n",
      "3.882026172983832\n",
      "3.882026172983832\n",
      "[[6 6]\n",
      " [6 4]]\n",
      "[4 3 5]\n"
     ]
    }
   ],
   "source": [
    "# numpy random madness\n",
    "\n",
    "# uniformly distributed numbers\n",
    "print(np.random.uniform(-1, 1, (1, 3)))    # here, the interval can be specified [low, high)\n",
    "print(np.random.rand(1, 3))                # interval [0, 1), convenience function for uniform.\n",
    "print(np.random.rand())\n",
    "# uniform(a, b) is the same as (b - a) * rand() + a:\n",
    "np.random.seed(0)\n",
    "print(np.random.uniform(4, 5))\n",
    "np.random.seed(0)\n",
    "print((5 - 4) * np.random.rand() + 4)    # however, this is longer and more confusing in this case!\n",
    "\n",
    "# all identical, all like rand, but longer. (unuseful!)\n",
    "print(np.random.random([1, 3]))\n",
    "print(np.random.random_sample([1, 3]))\n",
    "print(np.random.ranf([1, 3]))\n",
    "print(np.random.sample([1, 3]))\n",
    "\n",
    "# normally distributed numbers\n",
    "print(np.random.normal(4, 2, (1, 3)))    # here, mu and sigma can be specified\n",
    "print(np.random.randn(1, 3))             # mu = 0, sigma = 1; convenience function for normal.\n",
    "# normal(mu, sigma) is the same as sigma * randn() + mu:\n",
    "np.random.seed(0)\n",
    "print(np.random.normal(3, 0.5))\n",
    "np.random.seed(0)\n",
    "print(0.5 * np.random.randn() + 3)    # however, this is longer and more confusing in this case!\n",
    "\n",
    "# integers\n",
    "print(np.random.randint(3, 9, size=(2, 2)))    # draw int from [low, high)\n",
    "\n",
    "# sample\n",
    "print(np.random.choice([1, 2, 3, 4, 5], 3))"
   ]
  },
  {
   "cell_type": "code",
   "execution_count": 18,
   "metadata": {},
   "outputs": [
    {
     "name": "stderr",
     "output_type": "stream",
     "text": [
      "/Users/onnoeberhard/anaconda3/lib/python3.6/site-packages/matplotlib/axes/_axes.py:6462: UserWarning: The 'normed' kwarg is deprecated, and has been replaced by the 'density' kwarg.\n",
      "  warnings.warn(\"The 'normed' kwarg is deprecated, and has been \"\n"
     ]
    },
    {
     "data": {
      "image/png": "[encoded data removed]",
      "text/plain": [
       "<Figure size 432x288 with 1 Axes>"
      ]
     },
     "metadata": {},
     "output_type": "display_data"
    }
   ],
   "source": [
    "plt.figure()\n",
    "plt.hist([np.random.randn() for i in range(1000)], bins=25, normed=True)\n",
    "from scipy.stats import norm\n",
    "x = np.linspace(-4, 4)\n",
    "plt.plot(x, norm.pdf(x))\n",
    "plt.show()"
   ]
  },
  {
   "cell_type": "markdown",
   "metadata": {},
   "source": [
    "# 8.2 Drawing Integers"
   ]
  },
  {
   "cell_type": "code",
   "execution_count": 19,
   "metadata": {},
   "outputs": [
    {
     "data": {
      "text/plain": [
       "2"
      ]
     },
     "execution_count": 19,
     "metadata": {},
     "output_type": "execute_result"
    }
   ],
   "source": [
    "random.randint(2, 6)    # upper limit is includet! (unlike in np.random.randint)"
   ]
  },
  {
   "cell_type": "markdown",
   "metadata": {},
   "source": [
    "# 8.2.8 Drawing a random element from a list"
   ]
  },
  {
   "cell_type": "code",
   "execution_count": 20,
   "metadata": {},
   "outputs": [],
   "source": [
    "a = np.arange(10)"
   ]
  },
  {
   "cell_type": "code",
   "execution_count": 21,
   "metadata": {},
   "outputs": [
    {
     "data": {
      "text/plain": [
       "7"
      ]
     },
     "execution_count": 21,
     "metadata": {},
     "output_type": "execute_result"
    }
   ],
   "source": [
    "random.choice(a)"
   ]
  },
  {
   "cell_type": "code",
   "execution_count": 22,
   "metadata": {},
   "outputs": [
    {
     "data": {
      "text/plain": [
       "6"
      ]
     },
     "execution_count": 22,
     "metadata": {},
     "output_type": "execute_result"
    }
   ],
   "source": [
    "np.random.choice(a)"
   ]
  },
  {
   "cell_type": "code",
   "execution_count": 23,
   "metadata": {},
   "outputs": [
    {
     "data": {
      "text/plain": [
       "array([2, 9, 0, 5, 4, 6, 3, 8, 1, 7])"
      ]
     },
     "execution_count": 23,
     "metadata": {},
     "output_type": "execute_result"
    }
   ],
   "source": [
    "random.shuffle(a)    # changes the list (does not copy)\n",
    "a"
   ]
  },
  {
   "cell_type": "code",
   "execution_count": 24,
   "metadata": {},
   "outputs": [
    {
     "data": {
      "text/plain": [
       "array([9, 2, 5, 6, 1, 7, 8, 0, 4, 3])"
      ]
     },
     "execution_count": 24,
     "metadata": {},
     "output_type": "execute_result"
    }
   ],
   "source": [
    "np.random.shuffle(a)\n",
    "a"
   ]
  },
  {
   "cell_type": "code",
   "execution_count": 25,
   "metadata": {},
   "outputs": [
    {
     "data": {
      "text/plain": [
       "array([0.10231682, 0.29217737, 0.98299011, 0.13974578, 0.3305963 ,\n",
       "       0.05105306, 0.33126888, 0.32032629, 0.94680717, 0.84515409,\n",
       "       0.38276422, 0.02476906, 0.83103111, 0.66053618, 0.15236448,\n",
       "       0.99607127, 0.10023344, 0.86711454, 0.29426616, 0.43535347])"
      ]
     },
     "execution_count": 25,
     "metadata": {},
     "output_type": "execute_result"
    }
   ],
   "source": [
    "np.fromiter((np.random.rand() for i in range(20)), dtype=float)    # turn generator into 1d array."
   ]
  },
  {
   "cell_type": "markdown",
   "metadata": {},
   "source": [
    "# 8.3 Computing Probabilities"
   ]
  },
  {
   "cell_type": "code",
   "execution_count": 26,
   "metadata": {},
   "outputs": [
    {
     "data": {
      "text/plain": [
       "'b'"
      ]
     },
     "execution_count": 26,
     "metadata": {},
     "output_type": "execute_result"
    }
   ],
   "source": [
    "random.choice(\"abc\")"
   ]
  },
  {
   "cell_type": "markdown",
   "metadata": {},
   "source": [
    "# 8.6 Random Walk in One Space Dimension"
   ]
  },
  {
   "cell_type": "code",
   "execution_count": 27,
   "metadata": {},
   "outputs": [
    {
     "data": {
      "image/png": "[encoded data removed]",
      "text/plain": [
       "<Figure size 432x288 with 1 Axes>"
      ]
     },
     "metadata": {},
     "output_type": "display_data"
    }
   ],
   "source": [
    "import numpy as np\n",
    "import matplotlib.pyplot as plt\n",
    "from math import sqrt\n",
    "from scipy.stats import norm\n",
    "\n",
    "n_steps = 10000\n",
    "n_particles = 500\n",
    "x = np.sum(np.random.choice((-1, 1), (n_steps, n_particles)), axis=1)\n",
    "plt.figure()\n",
    "plt.hist(x, bins=25, density=True)\n",
    "plt.plot(x, np.zeros(x.shape), 'kx')\n",
    "x = np.linspace(-2 * sqrt(n_steps), 2 * sqrt(n_steps))\n",
    "plt.plot(x, norm.pdf(x, 0, sqrt(n_steps)))\n",
    "plt.show()"
   ]
  },
  {
   "cell_type": "code",
   "execution_count": 28,
   "metadata": {},
   "outputs": [
    {
     "name": "stdout",
     "output_type": "stream",
     "text": [
      "22.4291545984239 100.0\n"
     ]
    }
   ],
   "source": [
    "# sigma obviously is not sqrt(n_steps!)\n",
    "# -> find sigma using a monte carlo simulation!\n",
    "\n",
    "x = np.sum(np.random.choice((-1, 1), (n_steps, n_particles)), axis=1)    # random values\n",
    "xm = x.mean()\n",
    "variance = 1 / len(x) * np.sum((x - xm)**2)\n",
    "sigma = sqrt(variance)\n",
    "print(sigma, sqrt(n_steps))    # aha!"
   ]
  },
  {
   "cell_type": "code",
   "execution_count": 29,
   "metadata": {},
   "outputs": [
    {
     "data": {
      "image/png": "[encoded data removed]",
      "text/plain": [
       "<Figure size 432x288 with 1 Axes>"
      ]
     },
     "metadata": {},
     "output_type": "display_data"
    }
   ],
   "source": [
    "# again:\n",
    "plt.figure()\n",
    "plt.hist(x, bins=25, density=True)\n",
    "plt.plot(x, np.zeros(x.shape), 'kx')\n",
    "x_ = np.linspace(-sqrt(n_steps), sqrt(n_steps), 200)\n",
    "plt.plot(x_, norm.pdf(x_, xm, sigma))    # xm does really approach 0.\n",
    "plt.show()"
   ]
  }
 ],
 "metadata": {
  "kernelspec": {
   "display_name": "Python 3",
   "language": "python",
   "name": "python3"
  },
  "language_info": {
   "codemirror_mode": {
    "name": "ipython",
    "version": 3
   },
   "file_extension": ".py",
   "mimetype": "text/x-python",
   "name": "python",
   "nbconvert_exporter": "python",
   "pygments_lexer": "ipython3",
   "version": "3.6.4"
  }
 },
 "nbformat": 4,
 "nbformat_minor": 2
}
