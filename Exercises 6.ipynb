{
 "cells": [
  {
   "cell_type": "markdown",
   "metadata": {},
   "source": [
    "# Exercise 6.1: Make a dictionary from a table"
   ]
  },
  {
   "cell_type": "code",
   "execution_count": 1,
   "metadata": {},
   "outputs": [
    {
     "data": {
      "text/plain": [
       "{'Avogadro number': 6.0221367e+23,\n",
       " 'Boltzmann constant': 1.380658e-23,\n",
       " 'Planck constant': 6.6260755e-34,\n",
       " 'electron mass': 9.1093897e-31,\n",
       " 'elementary charge': 1.60217733e-19,\n",
       " 'gravitational constant': 6.67259e-11,\n",
       " 'proton mass': 1.6726231e-27,\n",
       " 'speed of light': 299792458.0}"
      ]
     },
     "execution_count": 1,
     "metadata": {},
     "output_type": "execute_result"
    }
   ],
   "source": [
    "import requests\n",
    "\n",
    "def get_constants():\n",
    "    data = requests.get(\"https://raw.githubusercontent.com/hplgit/scipro-primer/master/src/dictstring/constants.txt\").text\n",
    "    return {' '.join(row[:-2]): float(row[-2]) for row in [line.split() for line in data.splitlines()[2:]]}\n",
    "    \n",
    "get_constants()"
   ]
  },
  {
   "cell_type": "markdown",
   "metadata": {},
   "source": [
    "# Exercise 6.2: Explore syntax differences: lists vs. dicts"
   ]
  },
  {
   "cell_type": "code",
   "execution_count": 2,
   "metadata": {
    "collapsed": true
   },
   "outputs": [],
   "source": [
    "t2 = [0] * 2\n",
    "t2[0] = -5\n",
    "t2[1] = 10.5\n",
    "\n",
    "# or\n",
    "t3 = []\n",
    "t3.append(-5)\n",
    "t3.append(10.5)"
   ]
  },
  {
   "cell_type": "markdown",
   "metadata": {},
   "source": [
    "# Exercise 6.3: Use string operations to improve a program"
   ]
  },
  {
   "cell_type": "code",
   "execution_count": 3,
   "metadata": {},
   "outputs": [
    {
     "data": {
      "text/plain": [
       "{'Earth core': 13.0,\n",
       " 'Earth mean': 5.52,\n",
       " 'Moon': 3.3,\n",
       " 'Sun core': 160.0,\n",
       " 'Sun mean': 1.4,\n",
       " 'air': 0.0012,\n",
       " 'gasoline': 0.67,\n",
       " 'gold': 18.9,\n",
       " 'granite': 2.7,\n",
       " 'human body': 1.03,\n",
       " 'ice': 0.9,\n",
       " 'iron': 7.8,\n",
       " 'limestone': 2.6,\n",
       " 'mercury': 13.6,\n",
       " 'platinium': 21.4,\n",
       " 'proton': 230000000000000.0,\n",
       " 'pure water': 1.0,\n",
       " 'seawater': 1.025,\n",
       " 'silver': 10.5}"
      ]
     },
     "execution_count": 3,
     "metadata": {},
     "output_type": "execute_result"
    }
   ],
   "source": [
    "def read_densities_1():\n",
    "    data = requests.get(\"https://raw.githubusercontent.com/hplgit/scipro-primer/master/src/dictstring/densities.dat\").text\n",
    "    return {' '.join(row[:-1]): float(row[-1]) for row in [line.split() for line in data.splitlines()]}\n",
    "\n",
    "read_densities_1()"
   ]
  },
  {
   "cell_type": "code",
   "execution_count": 4,
   "metadata": {},
   "outputs": [
    {
     "data": {
      "text/plain": [
       "{'Earth core': 13.0,\n",
       " 'Earth mean': 5.52,\n",
       " 'Moon': 3.3,\n",
       " 'Sun core': 160.0,\n",
       " 'Sun mean': 1.4,\n",
       " 'air': 0.0012,\n",
       " 'gasoline': 0.67,\n",
       " 'gold': 18.9,\n",
       " 'granite': 2.7,\n",
       " 'human body': 1.03,\n",
       " 'ice': 0.9,\n",
       " 'iron': 7.8,\n",
       " 'limestone': 2.6,\n",
       " 'mercury': 13.6,\n",
       " 'platinium': 21.4,\n",
       " 'proton': 230000000000000.0,\n",
       " 'pure water': 1.0,\n",
       " 'seawater': 1.025,\n",
       " 'silver': 10.5}"
      ]
     },
     "execution_count": 4,
     "metadata": {},
     "output_type": "execute_result"
    }
   ],
   "source": [
    "def read_densities_2():\n",
    "    data = requests.get(\"https://raw.githubusercontent.com/hplgit/scipro-primer/master/src/dictstring/densities.dat\").text\n",
    "    return {name.strip(): float(value) for name, value in [(line[:12], line[12:]) for line in data.splitlines()]}\n",
    "\n",
    "read_densities_2()"
   ]
  },
  {
   "cell_type": "code",
   "execution_count": 5,
   "metadata": {
    "collapsed": true
   },
   "outputs": [],
   "source": [
    "def test_densities():\n",
    "    assert read_densities_1() == read_densities_2()\n",
    "test_densities()"
   ]
  },
  {
   "cell_type": "markdown",
   "metadata": {},
   "source": [
    "# Exercise 6.4: Interpret output from a progam"
   ]
  },
  {
   "cell_type": "code",
   "execution_count": 6,
   "metadata": {},
   "outputs": [
    {
     "data": {
      "image/png": "[encoded data removed]",
      "text/plain": [
       "<matplotlib.figure.Figure at 0x115bd6c50>"
      ]
     },
     "metadata": {},
     "output_type": "display_data"
    }
   ],
   "source": [
    "import numpy as np\n",
    "import matplotlib.pyplot as plt\n",
    "\n",
    "with open(\"stuff/lnsum.txt\") as f:\n",
    "    data = f.readlines()[24:]\n",
    "\n",
    "epsilon = np.array([float(line[9:14]) for line in data])\n",
    "error = np.array([float(line[29:37]) for line in data])\n",
    "n = np.array([int(line[41:]) for line in data])\n",
    "\n",
    "plt.semilogy(n, epsilon, n, error)\n",
    "plt.show()"
   ]
  },
  {
   "cell_type": "markdown",
   "metadata": {},
   "source": [
    "# Exercise 6.5: Make a dictionary"
   ]
  },
  {
   "cell_type": "code",
   "execution_count": 7,
   "metadata": {},
   "outputs": [
    {
     "data": {
      "text/plain": [
       "{'Alpha Centauri A': 1.56,\n",
       " 'Alpha Centauri B': 0.45,\n",
       " 'Alpha Centauri C': 6e-05,\n",
       " 'BD +36 degrees 2147': 0.006,\n",
       " \"Barnard's Star\": 0.0005,\n",
       " 'Luyten 726-8 A': 6e-05,\n",
       " 'Luyten 726-8 B': 4e-05,\n",
       " 'Ross 154': 0.0005,\n",
       " 'Sirius A': 23.6,\n",
       " 'Sirius B': 0.003,\n",
       " 'Wolf 359': 2e-05}"
      ]
     },
     "execution_count": 7,
     "metadata": {},
     "output_type": "execute_result"
    }
   ],
   "source": [
    "exec(requests.get(\"https://raw.githubusercontent.com/hplgit/scipro-primer/master/src/funcif/stars.txt\").text)\n",
    "d = {row[0]: row[-1] for row in data}\n",
    "d"
   ]
  },
  {
   "cell_type": "markdown",
   "metadata": {},
   "source": [
    "# Exercise 6.6: Make a nested dictionary"
   ]
  },
  {
   "cell_type": "code",
   "execution_count": 8,
   "metadata": {},
   "outputs": [
    {
     "name": "stdout",
     "output_type": "stream",
     "text": [
      "{'Alpha Centauri A': {'apparent brightness': 0.26,\n",
      "                      'distance': 4.3,\n",
      "                      'luminosity': 1.56},\n",
      " 'Alpha Centauri B': {'apparent brightness': 0.077,\n",
      "                      'distance': 4.3,\n",
      "                      'luminosity': 0.45},\n",
      " 'Alpha Centauri C': {'apparent brightness': 1e-05,\n",
      "                      'distance': 4.2,\n",
      "                      'luminosity': 6e-05},\n",
      " 'BD +36 degrees 2147': {'apparent brightness': 0.0003,\n",
      "                         'distance': 8.2,\n",
      "                         'luminosity': 0.006},\n",
      " \"Barnard's Star\": {'apparent brightness': 4e-05,\n",
      "                    'distance': 6.0,\n",
      "                    'luminosity': 0.0005},\n",
      " 'Luyten 726-8 A': {'apparent brightness': 3e-06,\n",
      "                    'distance': 8.4,\n",
      "                    'luminosity': 6e-05},\n",
      " 'Luyten 726-8 B': {'apparent brightness': 2e-06,\n",
      "                    'distance': 8.4,\n",
      "                    'luminosity': 4e-05},\n",
      " 'Ross 154': {'apparent brightness': 2e-05,\n",
      "              'distance': 9.4,\n",
      "              'luminosity': 0.0005},\n",
      " 'Sirius A': {'apparent brightness': 1.0, 'distance': 8.6, 'luminosity': 23.6},\n",
      " 'Sirius B': {'apparent brightness': 0.001,\n",
      "              'distance': 8.6,\n",
      "              'luminosity': 0.003},\n",
      " 'Wolf 359': {'apparent brightness': 1e-06,\n",
      "              'distance': 7.7,\n",
      "              'luminosity': 2e-05}}\n"
     ]
    }
   ],
   "source": [
    "d = {row[0]: {\"distance\": row[1], \"apparent brightness\": row[2], \"luminosity\": row[3]} for row in data}\n",
    "from pprint import pprint\n",
    "pprint(d)"
   ]
  },
  {
   "cell_type": "markdown",
   "metadata": {},
   "source": [
    "# Exercise 6.7: Make a nested dictionary from a file"
   ]
  },
  {
   "cell_type": "code",
   "execution_count": 9,
   "metadata": {},
   "outputs": [
    {
     "name": "stdout",
     "output_type": "stream",
     "text": [
      "{'H. erectus': {'brain volume': '850 (early) - 1100 (late)',\n",
      "                'height': '1.8',\n",
      "                'mass': '60',\n",
      "                'when': '1.4 - 0.2'},\n",
      " 'H. ergaster': {'brain volume': '700 - 850',\n",
      "                 'height': '1.9',\n",
      "                 'mass': '',\n",
      "                 'when': '1.9 - 1.4'},\n",
      " 'H. floresiensis': {'brain volume': '400',\n",
      "                     'height': '1.0',\n",
      "                     'mass': '25',\n",
      "                     'when': '0.10 - 0.012'},\n",
      " 'H. habilis': {'brain volume': '660',\n",
      "                'height': '1.0 - 1.5',\n",
      "                'mass': '33 - 55',\n",
      "                'when': '2.2 - 1.6'},\n",
      " 'H. heidelbergensis': {'brain volume': '1100 - 1400',\n",
      "                        'height': '1.8',\n",
      "                        'mass': '60',\n",
      "                        'when': '0.6 - 0.35'},\n",
      " 'H. neanderthalensis': {'brain volume': '1200 - 1700',\n",
      "                         'height': '1.6',\n",
      "                         'mass': '55 - 70',\n",
      "                         'when': '0.35 - 0.03'},\n",
      " 'H. sapiens sapiens': {'brain volume': '1000 - 1850',\n",
      "                        'height': '1.4 - 1.9',\n",
      "                        'mass': '50 - 100',\n",
      "                        'when': '0.2 - present'}}\n"
     ]
    }
   ],
   "source": [
    "data = requests.get(\"https://raw.githubusercontent.com/hplgit/scipro-primer/master/src/dictstring/human_evolution.txt\").text.splitlines()[3:-3]\n",
    "humans = {row[:19].strip(): {\n",
    "    'when': row[21:34].strip(),\n",
    "    'height': row[37:46].strip(),\n",
    "    'mass': row[50:58].strip(),\n",
    "    'brain volume': row[62:].strip()\n",
    "} for row in data}\n",
    "pprint(humans)"
   ]
  },
  {
   "cell_type": "markdown",
   "metadata": {},
   "source": [
    "# Exercise 6.8: Make a nested dictionary from a file"
   ]
  },
  {
   "cell_type": "code",
   "execution_count": 10,
   "metadata": {},
   "outputs": [
    {
     "name": "stdout",
     "output_type": "stream",
     "text": [
      "# Viscosity data of some gases\n",
      "# Sutherland's formula for the viscosity:\n",
      "#  mu = mu_0*(T_0 + C)/(T + C)(T/T_0)**1.5\n",
      "# Column 1: gas name\n",
      "# Column 2: C (in Kelvin) (Sutherland's constant)\n",
      "# Column 3: T_0 (in Kelvin)\n",
      "# Column 4: mu_0 (in 10**-6 Pa*s)\n",
      "\n",
      "#   gas           C     T_0     mu_0\n",
      "air              120   291.15   18.27\n",
      "nitrogen         111   300.55   17.81\n",
      "oxygen           127   292.25   20.18\n",
      "carbon dioxide   240   293.15   14.8\n",
      "carbon monoxide  118   288.15   17.2\n",
      "hydrogen          72   293.85   8.76\n",
      "ammonia          370   293.15   9.82\n",
      "sulphur dioxide  416   293.65   12.54\n",
      "\n",
      "# Source: http://en.wikipedia.org/wiki/Viscosity\n",
      "\n",
      "\n"
     ]
    }
   ],
   "source": [
    "data = requests.get(\"https://raw.githubusercontent.com/hplgit/scipro-primer/master/src/dictstring/viscosity_of_gases.dat\").text\n",
    "print(data)"
   ]
  },
  {
   "cell_type": "code",
   "execution_count": 11,
   "metadata": {},
   "outputs": [
    {
     "name": "stdout",
     "output_type": "stream",
     "text": [
      "{'air': {'C': 120.0, 'T_0': 291.15, 'mu_0': 18.27},\n",
      " 'ammonia': {'C': 370.0, 'T_0': 293.15, 'mu_0': 9.82},\n",
      " 'carbon dioxide': {'C': 240.0, 'T_0': 293.15, 'mu_0': 14.8},\n",
      " 'carbon monoxide': {'C': 118.0, 'T_0': 288.15, 'mu_0': 17.2},\n",
      " 'hydrogen': {'C': 72.0, 'T_0': 293.85, 'mu_0': 8.76},\n",
      " 'nitrogen': {'C': 111.0, 'T_0': 300.55, 'mu_0': 17.81},\n",
      " 'oxygen': {'C': 127.0, 'T_0': 292.25, 'mu_0': 20.18},\n",
      " 'sulphur dioxide': {'C': 416.0, 'T_0': 293.65, 'mu_0': 12.54}}\n"
     ]
    }
   ],
   "source": [
    "data = requests.get(\"https://raw.githubusercontent.com/hplgit/scipro-primer/master/src/dictstring/viscosity_of_gases.dat\").text.splitlines()[9:17]\n",
    "mu_data = {row[:15].strip(): {'C': float(row[17:20]), 'T_0': float(row[23:29]), 'mu_0': float(row[32:])} for row in data}\n",
    "pprint(mu_data)"
   ]
  },
  {
   "cell_type": "code",
   "execution_count": 12,
   "metadata": {
    "collapsed": true
   },
   "outputs": [],
   "source": [
    "def mu(T, gas, mu_data):\n",
    "    mu_0 = mu_data[gas]['mu_0']\n",
    "    T_0 = mu_data[gas]['T_0']\n",
    "    C = mu_data[gas]['C']\n",
    "    return mu_0 * (T_0 + C) / (T + C) * (T/T_0)**1.5"
   ]
  },
  {
   "cell_type": "code",
   "execution_count": 13,
   "metadata": {},
   "outputs": [
    {
     "data": {
      "image/png": "[encoded data removed]",
      "text/plain": [
       "<matplotlib.figure.Figure at 0x118a5c208>"
      ]
     },
     "metadata": {},
     "output_type": "display_data"
    }
   ],
   "source": [
    "T = np.linspace(223, 373)\n",
    "plt.figure()\n",
    "plt.plot(T, mu(T, \"air\", mu_data))\n",
    "plt.plot(T, mu(T, \"carbon dioxide\", mu_data))\n",
    "plt.plot(T, mu(T, \"hydrogen\", mu_data))\n",
    "plt.show()"
   ]
  },
  {
   "cell_type": "markdown",
   "metadata": {},
   "source": [
    "# Exercise 6.9: Compute the area of a triangle"
   ]
  },
  {
   "cell_type": "code",
   "execution_count": 14,
   "metadata": {
    "collapsed": true
   },
   "outputs": [],
   "source": [
    "def triangle_area(v):\n",
    "    return 1/2 * abs(v[2][0]*v[3][1] - v[3][0]*v[2][1] - v[1][0]*v[3][1] + v[3][0]*v[1][1] + v[1][0]*v[2][1] - v[2][0]*v[1][1])"
   ]
  },
  {
   "cell_type": "code",
   "execution_count": 15,
   "metadata": {},
   "outputs": [
    {
     "data": {
      "text/plain": [
       "1.0"
      ]
     },
     "execution_count": 15,
     "metadata": {},
     "output_type": "execute_result"
    }
   ],
   "source": [
    "triangle_area({1: (0,0), 2: (1,0), 3: (0,2)})"
   ]
  },
  {
   "cell_type": "markdown",
   "metadata": {},
   "source": [
    "# Exercise 9.10: Compare data structures for polynomials"
   ]
  },
  {
   "cell_type": "code",
   "execution_count": 16,
   "metadata": {},
   "outputs": [
    {
     "name": "stdout",
     "output_type": "stream",
     "text": [
      "262.50251569260803\n",
      "262.50251569260803\n"
     ]
    }
   ],
   "source": [
    "poly_list = [-0.5] + [0]*99 + [2]\n",
    "poly_dict = {0: -0.5, 100: 2}\n",
    "\n",
    "def eval_poly_dict(poly, x):\n",
    "    return sum(poly[power]*x**power for power in poly)\n",
    "\n",
    "def eval_poly_list(poly, x):\n",
    "    return sum(poly[power]*x**power for power in range(len(poly)))\n",
    "\n",
    "print(eval_poly_list(poly_list, 1.05))\n",
    "print(eval_poly_dict(poly_dict, 1.05))"
   ]
  },
  {
   "cell_type": "markdown",
   "metadata": {},
   "source": [
    "# Exercise 6.11: Compute the derivative of a polynomial"
   ]
  },
  {
   "cell_type": "code",
   "execution_count": 17,
   "metadata": {},
   "outputs": [
    {
     "data": {
      "text/plain": [
       "{2: 6, 4: -5}"
      ]
     },
     "execution_count": 17,
     "metadata": {},
     "output_type": "execute_result"
    }
   ],
   "source": [
    "def diff(poly):\n",
    "    dp = poly.copy()\n",
    "    del dp[0]\n",
    "    dp = {k - 1: k * v for (k, v) in dp.items()}\n",
    "    return dp\n",
    "\n",
    "p = {0: -3, 3: 2, 5: -1}\n",
    "diff(p)"
   ]
  },
  {
   "cell_type": "markdown",
   "metadata": {},
   "source": [
    "# Exercise 6.14: Compare average temperatures in cities"
   ]
  },
  {
   "cell_type": "code",
   "execution_count": 18,
   "metadata": {},
   "outputs": [
    {
     "name": "stdout",
     "output_type": "stream",
     "text": [
      "{'Abidjan': 'IVABIDJN.txt',\n",
      " 'Abu Dh': 'ERABUDBI.txt',\n",
      " 'Addis Ababa': 'ETADSABA.txt',\n",
      " 'Algiers': 'ALALGIER.txt',\n",
      " 'Almaty': 'RAALMATY.txt',\n",
      " 'Amman': 'JDAMMAN.txt',\n",
      " 'Amsterdam': 'NLAMSTDM.txt',\n",
      " 'Ankara': 'TUANKARA.txt',\n",
      " 'Antananarivo': 'MGANTRVO.txt',\n",
      " 'Ashabad': 'RAASHBAD.txt',\n",
      " 'Athens': 'GRATHENS.txt',\n",
      " 'Auckland': 'NZACKLND.txt',\n",
      " 'Bangkok': 'THBNGKOK.txt',\n",
      " 'Bangui': 'CEBANGUI.txt',\n",
      " 'Banjul': 'GBBANJUL.txt',\n",
      " 'Barcelona': 'SPBRCLNA.txt',\n",
      " 'Beijing': 'CIBIEJNG.txt',\n",
      " 'Beirut': 'LBBEIRUT.txt',\n",
      " 'Belfast': 'UKBELFST.txt',\n",
      " 'Belgrade': 'YGBLGRDE.txt',\n",
      " 'Belize City': 'BHBELIZE.txt',\n",
      " 'Bern': 'SWBERN.txt',\n",
      " 'Bilbao': 'SPBILBAO.txt',\n",
      " 'Bishkek': 'RABSHKEK.txt',\n",
      " 'Bissau': 'GWBISSAU.txt',\n",
      " 'Bogota': 'COBOGOTA.txt',\n",
      " 'Bombay (Mumbai)': 'INBOMBAY.txt',\n",
      " 'Bonn': 'DLBONN.txt',\n",
      " 'Bordeaux': 'FRBRDAUX.txt',\n",
      " 'Brasilia': 'BZBRSLIA.txt',\n",
      " 'Bratislava': 'CZBRTSLV.txt',\n",
      " 'Brazzaville': 'CGBRZAVL.txt',\n",
      " 'Bridgetown': 'BRBRGTWN.txt',\n",
      " 'Brisbane': 'AUBRSBAN.txt',\n",
      " 'Brussels': 'BXBRUSSL.txt',\n",
      " 'Bucharest': 'ROBCHRST.txt',\n",
      " 'Budapest': 'HUBUDPST.txt',\n",
      " 'Buenos Aires': 'AGBUENOS.txt',\n",
      " 'Bujumbura': 'BIBJMBRA.txt',\n",
      " 'Cairo': 'EGCAIRO.txt',\n",
      " 'Calcutta': 'INCALCUT.txt',\n",
      " 'Calgary': 'CNCALGRY.txt',\n",
      " 'Canberra': 'AUCNBERA.txt',\n",
      " 'Capetown': 'ZACAPTWN.txt',\n",
      " 'Caracas': 'VNCARACS.txt',\n",
      " 'Chengdu': 'CICHNGDU.txt',\n",
      " 'Chennai (Madras)': 'INCHENAI.txt',\n",
      " 'Colombo': 'SBCOLMBO.txt',\n",
      " 'Conakry': 'GNCONKRY.txt',\n",
      " 'Copenhagen': 'DNCOPNHG.txt',\n",
      " 'Cotonou': 'BJCOTNOU.txt',\n",
      " 'Dakar': 'SGDAKAR.txt',\n",
      " 'Damascus': 'SYDMSCUS.txt',\n",
      " 'Dar Es Salaam': 'TNDESALM.txt',\n",
      " 'Delhi': 'INDELHI.txt',\n",
      " 'Dhahran': 'SDDHAHRN.txt',\n",
      " 'Dhaka': 'BWDHAKA.txt',\n",
      " 'Doha': 'QTDOHA.txt',\n",
      " 'Du': 'ERDUBAI.txt',\n",
      " 'Dublin': 'IEDUBLIN.txt',\n",
      " 'Dusanbe': 'RADUSNBE.txt',\n",
      " 'Edmonton': 'CNEDMNTN.txt',\n",
      " 'Frankfurt': 'DLFRNKFT.txt',\n",
      " 'Freetown': 'SLFRETWN.txt',\n",
      " 'Geneva': 'SWGENEVA.txt',\n",
      " 'Georgetown': 'GYGRGTWN.txt',\n",
      " 'Guadalajara': 'MXGUADLJ.txt',\n",
      " 'Guangzhou': 'CIGNGZHO.txt',\n",
      " 'Guatemala City': 'GUGUATML.txt',\n",
      " 'Guayaquil': 'EQGUAYQL.txt',\n",
      " 'Halifax': 'CNHLIFAX.txt',\n",
      " 'Hamburg': 'DLHAMBUR.txt',\n",
      " 'Hamilton': 'BEHMLTON.txt',\n",
      " 'Hanoi': 'VSHANOI.txt',\n",
      " 'Havana': 'CUHAVANA.txt',\n",
      " 'Helsinki': 'FIHELSIN.txt',\n",
      " 'Hong Kong': 'HKHONGKG.txt',\n",
      " 'Islamabad': 'PKISLMBD.txt',\n",
      " 'Istanbul': 'TUISTNBL.txt',\n",
      " 'Jakarta': 'IDJAKRTA.txt',\n",
      " 'Kampala': 'UGKAMPAL.txt',\n",
      " 'Karachi': 'PKKARACH.txt',\n",
      " 'Katmandu': 'NPKTMNDU.txt',\n",
      " 'Kiev': 'URKIEV.txt',\n",
      " 'Kuala Lumpur': 'MSKUALA.txt',\n",
      " 'Kuwait': 'KWKUWAIT.txt',\n",
      " 'La Paz': 'BOLAPAZ.txt',\n",
      " 'Lagos': 'NILAGOS.txt',\n",
      " 'Libreville': 'GOLIBRVL.txt',\n",
      " 'Lilongwe': 'MWLILNGW.txt',\n",
      " 'Lima': 'PRLIMA.txt',\n",
      " 'Lisbon': 'POLISBON.txt',\n",
      " 'Lome': 'TGLOME.txt',\n",
      " 'London': 'UKLONDON.txt',\n",
      " 'Lusaka': 'ZBLUSAKA.txt',\n",
      " 'Madrid': 'SPMADRID.txt',\n",
      " 'Managua': 'NKMANAGU.txt',\n",
      " 'Manama': 'BNMANAMA.txt',\n",
      " 'Manila': 'PHMANILA.txt',\n",
      " 'Maputo': 'MZMAPUTO.txt',\n",
      " 'Melbourne': 'AUSYDNEY.txt',\n",
      " 'Mexico City': 'MXMXCITY.txt',\n",
      " 'Milan': 'IYMILAN.txt',\n",
      " 'Minsk': 'YMINSK',\n",
      " 'Monterrey': 'MXMONTRY.txt',\n",
      " 'Montreal': 'CNMONTRL.txt',\n",
      " 'Montvideo': 'UYMNTVID.txt',\n",
      " 'Moscow': 'RSMOSCOW.txt',\n",
      " 'Munich': 'DLMUNICH.txt',\n",
      " 'Muscat': 'OMMUSCAT.txt',\n",
      " 'Nairobi': 'KNNAIROB.txt',\n",
      " 'Nassau': 'BANASSAU.txt',\n",
      " 'Niamey': 'NRNIAMEY.txt',\n",
      " 'Nicosia': 'CYNICOSI.txt',\n",
      " 'Nouakchott': 'MTNOKCHT.txt',\n",
      " 'Osaka': 'JPOSAKA.txt',\n",
      " 'Oslo': 'NOOSLO.txt',\n",
      " 'Ottawa': 'CNOTTOWA.txt',\n",
      " 'Panama City': 'PMPANAMA.txt',\n",
      " 'Paramaribo': 'SMPRMRIB.txt',\n",
      " 'Paris': 'FRPARIS.txt',\n",
      " 'Perth': 'AUPERTH.txt',\n",
      " 'Port au Prince': 'HAPORTAP.txt',\n",
      " 'Prague': 'CZPRAGUE.txt',\n",
      " 'Pristina': 'YGPRISTN.txt',\n",
      " 'Pyongyang': 'KRPYGYNG.txt',\n",
      " 'Quebec': 'CNQUEBEC.txt',\n",
      " 'Quito': 'EQQUITO.txt',\n",
      " 'Rabat': 'MCRABAT.txt',\n",
      " 'Rangoon': 'BMRNGOON.txt',\n",
      " 'Regina': 'CNREGINA.txt',\n",
      " 'Reykjavik': 'ILREYKJV.txt',\n",
      " 'Riga': 'RSRIGA.txt',\n",
      " 'Rio de Janeiro': 'BZRIODJN.txt',\n",
      " 'Riyadh': 'SDRIYADH.txt',\n",
      " 'Rome': 'IYROME.txt',\n",
      " 'San Jose': 'CSSANJOS.txt',\n",
      " 'Santo Domingo': 'DRSNTODM.txt',\n",
      " 'Sao Paulo': 'BZSAOPLO.txt',\n",
      " 'Sapporo': 'JPSAPPOR.txt',\n",
      " 'Seoul': 'KOSEOUL.txt',\n",
      " 'Shanghai': 'CISHANGH.txt',\n",
      " 'Shenyang': 'CISHNYNG.txt',\n",
      " 'Singapore': 'SRSINGAP.txt',\n",
      " 'Skopje': 'YGSKOPJE.txt',\n",
      " 'Sofia': 'BUSOFIA.txt',\n",
      " 'Stockholm': 'SNSTKHLM.txt',\n",
      " 'Sydney': 'AUMELBRN.txt',\n",
      " 'Tai': 'TWTAIPEI.txt',\n",
      " 'Tashkent': 'RATASKNT.txt',\n",
      " 'Tbilisi': 'RSTBLISI.txt',\n",
      " 'Tegucigalpa': 'HOTEGUCI.txt',\n",
      " 'Tel Aviv': 'ISTELAVI.txt',\n",
      " 'Tirana': 'ABTIRANA.txt',\n",
      " 'Tokyo': 'JPTOKYO.txt',\n",
      " 'Toronto': 'CNTORONT.txt',\n",
      " 'Tunis': 'TSTUNIS.txt',\n",
      " 'Ulan-bator': 'MOULNBTR.txt',\n",
      " 'Vancouver': 'CNVANCVR.txt',\n",
      " 'Vienna': 'OSVIENNA.txt',\n",
      " 'Vientiane': 'LAVIENTN.txt',\n",
      " 'Warsaw': 'PLWARSAW.txt',\n",
      " 'Windhoek': 'NMWNDHOK.txt',\n",
      " 'Winnipeg': 'CNWINNPG.txt',\n",
      " 'Yerevan': 'RSYERVAN.txt',\n",
      " 'Zagreb': 'YGZAGREB.txt',\n",
      " 'Zurich': 'SWZURICH.txt'}\n"
     ]
    }
   ],
   "source": [
    "with open(\"stuff/city_temp/citylistWorld.htm\") as f:\n",
    "    data = f.read()\n",
    "    \n",
    "data = data.split(\"'><b>\")[1:]\n",
    "names =  []\n",
    "files = []\n",
    "for row in data:\n",
    "    names.append(row[: row.find('</b>') - 3])\n",
    "    f = row[row.find('\">') + 2 : row.find(\"</a>\")]\n",
    "    files.append(f if f.endswith(\".txt\") else f[f.find(\"'>\") + 2 : f.find(\"</span>\")])\n",
    "\n",
    "filenames = {k: v for k, v in zip(names, files)}\n",
    "\n",
    "from pprint import pprint\n",
    "pprint(filenames)"
   ]
  },
  {
   "cell_type": "code",
   "execution_count": 19,
   "metadata": {},
   "outputs": [
    {
     "data": {
      "text/plain": [
       "array([[datetime.datetime(1995, 1, 1, 0, 0), 34.200000000000003],\n",
       "       [datetime.datetime(1995, 1, 2, 0, 0), 32.600000000000001],\n",
       "       [datetime.datetime(1995, 1, 3, 0, 0), 30.899999999999999],\n",
       "       ..., \n",
       "       [datetime.datetime(2007, 7, 8, 0, 0), 61.0],\n",
       "       [datetime.datetime(2007, 7, 9, 0, 0), 59.799999999999997],\n",
       "       [datetime.datetime(2007, 7, 10, 0, 0), 59.899999999999999]], dtype=object)"
      ]
     },
     "execution_count": 19,
     "metadata": {},
     "output_type": "execute_result"
    }
   ],
   "source": [
    "import numpy as np\n",
    "from datetime import datetime\n",
    "def open_data(city, filenames):\n",
    "    data = np.loadtxt(\"stuff/city_temp/\" + filenames[city])\n",
    "    data = np.array([[datetime(int(y), int(m), int(d)), t] for m, d, y, t in data])\n",
    "    return data\n",
    "\n",
    "open_data(\"London\", filenames)"
   ]
  },
  {
   "cell_type": "code",
   "execution_count": 20,
   "metadata": {},
   "outputs": [
    {
     "data": {
      "image/png": "[encoded data removed]",
      "text/plain": [
       "<matplotlib.figure.Figure at 0x1189e0d68>"
      ]
     },
     "metadata": {},
     "output_type": "display_data"
    }
   ],
   "source": [
    "import matplotlib.pyplot as plt\n",
    "\n",
    "def plot_city_temp(city_data):\n",
    "    plt.figure()\n",
    "    for city in city_data:\n",
    "        plt.plot(city_data[city][:, 0], city_data[city][:, 1], label=city)\n",
    "    plt.legend()\n",
    "    plt.show()\n",
    "    \n",
    "plot_city_temp({city: open_data(city, filenames) for city in [\"London\", \"Singapore\"]})"
   ]
  },
  {
   "cell_type": "markdown",
   "metadata": {},
   "source": [
    "# Exercise 6.15: Generate an HTML report with figures"
   ]
  },
  {
   "cell_type": "code",
   "execution_count": 21,
   "metadata": {},
   "outputs": [
    {
     "data": {
      "image/png": "[encoded data removed]",
      "text/plain": [
       "<matplotlib.figure.Figure at 0x11e47a438>"
      ]
     },
     "metadata": {},
     "output_type": "display_data"
    },
    {
     "data": {
      "image/png": "[encoded data removed]",
      "text/plain": [
       "<matplotlib.figure.Figure at 0x11e65ff60>"
      ]
     },
     "metadata": {},
     "output_type": "display_data"
    },
    {
     "data": {
      "image/png": "[encoded data removed]",
      "text/plain": [
       "<matplotlib.figure.Figure at 0x11e896fd0>"
      ]
     },
     "metadata": {},
     "output_type": "display_data"
    }
   ],
   "source": [
    "from numpy import exp, sin, pi, linspace\n",
    "f = lambda x, t: exp(-(x - 3*t)**2) * sin(3*pi * (x - t))\n",
    "x = linspace(-5, 5, 1000)\n",
    "\n",
    "plt.figure()\n",
    "plt.plot(x, f(x, -1))\n",
    "plt.savefig(\"stuff/wavepacket1.png\")\n",
    "plt.show()\n",
    "\n",
    "plt.figure()\n",
    "plt.plot(x, f(x, 0))\n",
    "plt.savefig(\"stuff/wavepacket2.png\")\n",
    "plt.show()\n",
    "\n",
    "plt.figure()\n",
    "plt.plot(x, f(x, 1))\n",
    "plt.savefig(\"stuff/wavepacket3.png\")\n",
    "plt.show()"
   ]
  },
  {
   "cell_type": "code",
   "execution_count": 22,
   "metadata": {
    "collapsed": true
   },
   "outputs": [],
   "source": [
    "# file: code/615.html"
   ]
  },
  {
   "cell_type": "markdown",
   "metadata": {},
   "source": [
    "# Exercise 6.16: Allow different types for a function argument"
   ]
  },
  {
   "cell_type": "code",
   "execution_count": 23,
   "metadata": {},
   "outputs": [
    {
     "name": "stdout",
     "output_type": "stream",
     "text": [
      "ACA\n",
      "ACA\n"
     ]
    }
   ],
   "source": [
    "def find_consensus_v1(frequency_matrix):\n",
    "    base2index = {'A': 0, 'C': 1, 'G': 2, 'T': 3}\n",
    "    consensus = \"\"\n",
    "    dna_length = len(frequency_matrix[0])\n",
    "    \n",
    "    for i in range(dna_length):    # loop over positions in string \n",
    "        max_freq = -1              # holds the max freq. for this i \n",
    "        max_freq_base = None       # holds the corresponding base\n",
    "        \n",
    "        for base in \"ATGC\":\n",
    "            if frequency_matrix[base2index[base]][i] > max_freq:\n",
    "                max_freq = frequency_matrix[base2index[base]][i]\n",
    "                max_freq_base = base\n",
    "            elif frequency_matrix[base2index[base]][i] == max_freq:\n",
    "                max_freq_base = \"-\"     # more than one base as max\n",
    "                \n",
    "        consensus += max_freq_base     # add new base with max freq return consensus\n",
    "        \n",
    "    return consensus\n",
    "\n",
    "def find_consensus_v2(frequency_matrix):\n",
    "    consensus = \"\"\n",
    "    dna_length = len(frequency_matrix['A'])\n",
    "    \n",
    "    for i in range(dna_length):    # loop over positions in string \n",
    "        max_freq = -1              # holds the max freq. for this i \n",
    "        max_freq_base = None       # holds the corresponding base\n",
    "        \n",
    "        for base in \"ACGT\":\n",
    "            if frequency_matrix[base][i] > max_freq:\n",
    "                max_freq = frequency_matrix[base][i]\n",
    "                max_freq_base = base\n",
    "            elif frequency_matrix[base][i] == max_freq:\n",
    "                max_freq_base = \"-\"     # more than one base as max\n",
    "\n",
    "        consensus += max_freq_base    # add new base with max freq return consensus\n",
    "    \n",
    "    return consensus\n",
    "\n",
    "def find_consensus(frequency_matrix, dna_length=None):\n",
    "    if isinstance(frequency_matrix, list) and isinstance(frequency_matrix[0], list):\n",
    "        return find_consensus_v1(frequency_matrix)\n",
    "    elif isinstance(frequency_matrix, dict) and isinstance(frequency_matrix['A'], list):\n",
    "        return find_consensus_v2(frequency_matrix)\n",
    "    else: return None\n",
    "    \n",
    "f_mat =  [[2, 0, 2],\n",
    "          [1, 2, 0],\n",
    "          [0, 1, 0],\n",
    "          [0, 0, 1]]\n",
    "print(find_consensus(f_mat))\n",
    "\n",
    "f_mat =  {'A': [2, 0, 2],\n",
    "          'C': [1, 2, 0],\n",
    "          'G': [0, 1, 0],\n",
    "          'T': [0, 0, 1]}\n",
    "print(find_consensus(f_mat))"
   ]
  },
  {
   "cell_type": "markdown",
   "metadata": {},
   "source": [
    "# Exercise 6.17: Make a function more robust"
   ]
  },
  {
   "cell_type": "code",
   "execution_count": 24,
   "metadata": {},
   "outputs": [
    {
     "data": {
      "text/plain": [
       "{'A': 1, 'D': 2, 'L': 3, 'S': 1, 'T': 2}"
      ]
     },
     "execution_count": 24,
     "metadata": {},
     "output_type": "execute_result"
    }
   ],
   "source": [
    "from collections import defaultdict\n",
    "def get_base_counts2(dna):\n",
    "    counts = defaultdict(int)\n",
    "    for base in dna:\n",
    "        counts[base] += 1\n",
    "    return dict(counts)\n",
    "\n",
    "get_base_counts2(\"ADLSTTLLD\")"
   ]
  },
  {
   "cell_type": "markdown",
   "metadata": {},
   "source": [
    "# Exercise 6.18: Find proportion of bases inside/outside exons"
   ]
  },
  {
   "cell_type": "code",
   "execution_count": 25,
   "metadata": {},
   "outputs": [],
   "source": [
    "exons = requests.get(\"https://raw.githubusercontent.com/hplgit/bioinf-py/master/data/lactase_exon.tsv\").text.splitlines()\n",
    "gene = ''.join(requests.get(\"https://raw.githubusercontent.com/hplgit/bioinf-py/master/data/lactase_gene.txt\").text.split())\n",
    "introns = ''.join([gene[start:end] for start, end in [(int(exons[i].split()[1]), (int(exons[i + 1].split()[0]) if i + 1 < len(exons) else None)) for i in range(len(exons))]])\n",
    "exons = ''.join([gene[int(start):int(end)] for start, end in [line.split() for line in exons]])"
   ]
  },
  {
   "cell_type": "code",
   "execution_count": 26,
   "metadata": {},
   "outputs": [
    {
     "name": "stdout",
     "output_type": "stream",
     "text": [
      "\n",
      "Base frequency for A in:\n",
      "Exons: 0.2445011157156519\n",
      "Introns: 0.2590450977660118\n",
      "\n"
     ]
    }
   ],
   "source": [
    "print(f\"\"\"\n",
    "Base frequency for A in:\n",
    "Exons: {exons.count('A') / len(exons)}\n",
    "Introns: {introns.count('A') / len(introns)}\n",
    "\"\"\")"
   ]
  }
 ],
 "metadata": {
  "kernelspec": {
   "display_name": "Python 3",
   "language": "python",
   "name": "python3"
  },
  "language_info": {
   "codemirror_mode": {
    "name": "ipython",
    "version": 3
   },
   "file_extension": ".py",
   "mimetype": "text/x-python",
   "name": "python",
   "nbconvert_exporter": "python",
   "pygments_lexer": "ipython3",
   "version": "3.6.2"
  }
 },
 "nbformat": 4,
 "nbformat_minor": 2
}
