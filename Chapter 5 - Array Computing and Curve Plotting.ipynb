{
 "cells": [
  {
   "cell_type": "markdown",
   "metadata": {
    "collapsed": true
   },
   "source": [
    "# 5.2 Arrays in Python Programs"
   ]
  },
  {
   "cell_type": "markdown",
   "metadata": {},
   "source": [
    "## 5.2.2 Basics of Numerical Python Arrays"
   ]
  },
  {
   "cell_type": "code",
   "execution_count": 1,
   "metadata": {
    "collapsed": true
   },
   "outputs": [],
   "source": [
    "import numpy as np"
   ]
  },
  {
   "cell_type": "code",
   "execution_count": 2,
   "metadata": {},
   "outputs": [
    {
     "data": {
      "text/plain": [
       "array([1, 2, 3])"
      ]
     },
     "execution_count": 2,
     "metadata": {},
     "output_type": "execute_result"
    }
   ],
   "source": [
    "np.array([1, 2, 3])"
   ]
  },
  {
   "cell_type": "code",
   "execution_count": 3,
   "metadata": {},
   "outputs": [
    {
     "data": {
      "text/plain": [
       "array([ 0.,  0.,  0.,  0.])"
      ]
     },
     "execution_count": 3,
     "metadata": {},
     "output_type": "execute_result"
    }
   ],
   "source": [
    "np.zeros(4)"
   ]
  },
  {
   "cell_type": "code",
   "execution_count": 4,
   "metadata": {},
   "outputs": [
    {
     "data": {
      "text/plain": [
       "array(['', '', ''],\n",
       "      dtype='<U4')"
      ]
     },
     "execution_count": 4,
     "metadata": {},
     "output_type": "execute_result"
    }
   ],
   "source": [
    "np.zeros_like([\"eins\", \"zwei\", \"drei\"])"
   ]
  },
  {
   "cell_type": "code",
   "execution_count": 5,
   "metadata": {},
   "outputs": [
    {
     "data": {
      "text/plain": [
       "array([ 1.        ,  1.66666667,  2.33333333,  3.        ,  3.66666667,\n",
       "        4.33333333,  5.        ])"
      ]
     },
     "execution_count": 5,
     "metadata": {},
     "output_type": "execute_result"
    }
   ],
   "source": [
    "np.linspace(1, 5, 7)"
   ]
  },
  {
   "cell_type": "code",
   "execution_count": 6,
   "metadata": {},
   "outputs": [
    {
     "name": "stdout",
     "output_type": "stream",
     "text": [
      "[1, 2, 3]\n",
      "[1, 10, 3]\n",
      "[1, 2, 3]\n",
      "[1, 2, 3]\n"
     ]
    }
   ],
   "source": [
    "# important note!\n",
    "# a slice is not a copy of the original array! (unlike with lists)\n",
    "a1 = [1, 2, 3]\n",
    "b1 = a1[1:]\n",
    "b1[0] *= 5\n",
    "print(a1)\n",
    "a2 = np.array([1, 2, 3])\n",
    "b2 = a2[1:]\n",
    "b2[0] *= 5\n",
    "print(list(a2))\n",
    "# it's only a slice if the result is a sub-list or array (not just a value like a[2])\n",
    "a1 = [1, 2, 3]\n",
    "b1 = a1[1]\n",
    "b1 *= 5\n",
    "print(a1)\n",
    "a2 = np.array([1, 2, 3])\n",
    "b2 = a2[1]\n",
    "b2 *= 5\n",
    "print(list(a2))"
   ]
  },
  {
   "cell_type": "markdown",
   "metadata": {},
   "source": [
    "## 5.2.3 Computing Coordinates and Function Values"
   ]
  },
  {
   "cell_type": "code",
   "execution_count": 7,
   "metadata": {},
   "outputs": [
    {
     "data": {
      "text/plain": [
       "array([ 0.      ,  0.015625,  0.125   ,  0.421875,  1.      ])"
      ]
     },
     "execution_count": 7,
     "metadata": {},
     "output_type": "execute_result"
    }
   ],
   "source": [
    "x = np.linspace(0, 1, 5)\n",
    "y = np.zeros(5)\n",
    "\n",
    "def f(x):\n",
    "    return x**3\n",
    "\n",
    "for i, xi in enumerate(x):\n",
    "    y[i] = f(xi)\n",
    "\n",
    "y"
   ]
  },
  {
   "cell_type": "markdown",
   "metadata": {},
   "source": [
    "## 5.2.4 Vectorization"
   ]
  },
  {
   "cell_type": "code",
   "execution_count": 8,
   "metadata": {},
   "outputs": [
    {
     "data": {
      "text/plain": [
       "array([ 0.      ,  0.015625,  0.125   ,  0.421875,  1.      ])"
      ]
     },
     "execution_count": 8,
     "metadata": {},
     "output_type": "execute_result"
    }
   ],
   "source": [
    "y2 = f(x)\n",
    "y2"
   ]
  },
  {
   "cell_type": "code",
   "execution_count": 9,
   "metadata": {
    "collapsed": true
   },
   "outputs": [],
   "source": [
    "x = np.linspace(0, 20)"
   ]
  },
  {
   "cell_type": "code",
   "execution_count": 10,
   "metadata": {},
   "outputs": [
    {
     "name": "stdout",
     "output_type": "stream",
     "text": [
      "126 µs ± 2.08 µs per loop (mean ± std. dev. of 7 runs, 10000 loops each)\n"
     ]
    }
   ],
   "source": [
    "%%timeit\n",
    "# scalar:\n",
    "from math import sin, cos, exp\n",
    "r = np.zeros(len(x))\n",
    "for i, xi in enumerate(x):\n",
    "    r[i] = sin(np.pi * xi)*cos(xi)*exp(-xi**2) + 2 + xi**2"
   ]
  },
  {
   "cell_type": "code",
   "execution_count": 11,
   "metadata": {},
   "outputs": [
    {
     "name": "stdout",
     "output_type": "stream",
     "text": [
      "20.4 µs ± 558 ns per loop (mean ± std. dev. of 7 runs, 10000 loops each)\n"
     ]
    }
   ],
   "source": [
    "%%timeit\n",
    "# vectorized:\n",
    "from numpy import sin, cos, exp, pi\n",
    "r = sin(pi * x)*cos(x)*exp(-x**2) + 2 + x**2"
   ]
  },
  {
   "cell_type": "markdown",
   "metadata": {},
   "source": [
    "# 5.3 Curve Plotting"
   ]
  },
  {
   "cell_type": "markdown",
   "metadata": {},
   "source": [
    "## 5.3.1 MATLAB-Style Plotting with Matplotlib"
   ]
  },
  {
   "cell_type": "code",
   "execution_count": 12,
   "metadata": {
    "collapsed": true
   },
   "outputs": [],
   "source": [
    "from numpy import *\n",
    "from matplotlib.pyplot import *\n",
    "\n",
    "t = linspace(0, 3)\n",
    "\n",
    "def f1(t):\n",
    "    return t**2 * exp(-t ** 2)\n",
    "\n",
    "y = f1(t)\n",
    "\n",
    "plot(t, y)\n",
    "savefig(\"plot1.png\")    # apparently has to be called before show (or before the end of the plotting cell!)"
   ]
  },
  {
   "cell_type": "code",
   "execution_count": 13,
   "metadata": {},
   "outputs": [
    {
     "data": {
      "image/png": "[encoded data removed]",
      "text/plain": [
       "<matplotlib.figure.Figure at 0x111de3b70>"
      ]
     },
     "metadata": {},
     "output_type": "display_data"
    }
   ],
   "source": [
    "plot(t, y)\n",
    "xlabel(\"t\")\n",
    "ylabel(\"y\")\n",
    "legend([\"t^2 * exp(-t^2)\"])\n",
    "axis([0, 3, 0, 0.4])\n",
    "title(\"A very nice graph\")\n",
    "# savefig here (a bit like show())\n",
    "show()"
   ]
  },
  {
   "cell_type": "code",
   "execution_count": 14,
   "metadata": {},
   "outputs": [
    {
     "data": {
      "image/png": "[encoded data removed]",
      "text/plain": [
       "<matplotlib.figure.Figure at 0x112cc20b8>"
      ]
     },
     "metadata": {},
     "output_type": "display_data"
    }
   ],
   "source": [
    "def f2(t):\n",
    "    return t**2 * f1(t)\n",
    "\n",
    "y2 = f2(t)\n",
    "\n",
    "plot(t, y, 'r-')\n",
    "plot(t, y2, 'bo')\n",
    "title(\"Two curves!\")\n",
    "xlabel(\"t\")\n",
    "ylabel(\"y\")\n",
    "legend([\"t^2 * exp(-t^2)\", \"t^4 * exp(-t^2)\"])\n",
    "show()"
   ]
  },
  {
   "cell_type": "code",
   "execution_count": 15,
   "metadata": {},
   "outputs": [
    {
     "data": {
      "image/png": "[encoded data removed]",
      "text/plain": [
       "<matplotlib.figure.Figure at 0x1160ac898>"
      ]
     },
     "metadata": {},
     "output_type": "display_data"
    }
   ],
   "source": [
    "fig = figure()\n",
    "\n",
    "subplot(2, 1, 1)\n",
    "plot(t, y, 'r-', t, y2, 'bo')\n",
    "title(\"Top figure\")\n",
    "xlabel(\"t\")\n",
    "ylabel(\"y\")\n",
    "legend([\"t^2 * exp(-t^2)\", \"t^4 * exp(-t^2)\"])\n",
    "\n",
    "subplot(2, 1, 2)\n",
    "plot(t, 1 * y, 'r-', t, .5 * y2, 'bo')\n",
    "title(\"Bottom figure\")\n",
    "xlabel(\"t\")\n",
    "ylabel(\"y\")\n",
    "legend([\"2 * t^2 * exp(-t^2)\", \"0.5 * t^4 * exp(-t^2)\"])\n",
    "\n",
    "fig.tight_layout()    # makes that the title of the bottom thing fits as well\n",
    "show()"
   ]
  },
  {
   "cell_type": "markdown",
   "metadata": {
    "collapsed": true
   },
   "source": [
    "## 5.3.4 Making Animations"
   ]
  },
  {
   "cell_type": "code",
   "execution_count": 16,
   "metadata": {},
   "outputs": [
    {
     "data": {
      "image/png": "[encoded data removed]",
      "text/plain": [
       "<matplotlib.figure.Figure at 0x11b129320>"
      ]
     },
     "metadata": {},
     "output_type": "display_data"
    }
   ],
   "source": [
    "from numpy import pi, sqrt, exp, linspace\n",
    "import matplotlib.pyplot as plt\n",
    "from IPython import display\n",
    "import time\n",
    "\n",
    "def f(x, m, s):\n",
    "    return 1 / sqrt(2 * pi) / s * exp(-1/2 * ((x - m) / s)**2)\n",
    "\n",
    "x = linspace(-5, 5, 300)\n",
    "s = linspace(1, 3)\n",
    "\n",
    "plt.figure()\n",
    "\n",
    "for i, s in enumerate(s):\n",
    "    display.clear_output(wait=True)\n",
    "    plt.plot(x, f(x, 0, s))\n",
    "    plt.title(f\"Gaussian distribution (s = {s})\")\n",
    "    plt.axis([-5, 5, 0, f(0, 0, 1)])\n",
    "    plt.savefig(\"./stuff/footage/pic%04d.png\" % i)\n",
    "    plt.show()\n",
    "    time.sleep(1e-3)"
   ]
  },
  {
   "cell_type": "code",
   "execution_count": 17,
   "metadata": {},
   "outputs": [
    {
     "data": {
      "text/html": [
       "<video width=\"432\" height=\"288\" controls autoplay loop>\n",
       "  <source type=\"video/mp4\" src=\"data:video/mp4;base64,AAAAHGZ0eXBNNFYgAAACAGlzb21pc28yYXZjMQAAAAhmcmVlAACzzG1kYXQAAAKhBgX//53cRem9\n",
       "5tlIt5Ys2CDZI+7veDI2NCAtIGNvcmUgMTM4IC0gSC4yNjQvTVBFRy00IEFWQyBjb2RlYyAtIENv\n",
       "cHlsZWZ0IDIwMDMtMjAxMyAtIGh0dHA6Ly93d3cudmlkZW9sYW4ub3JnL3gyNjQuaHRtbCAtIG9w\n",
       "dGlvbnM6IGNhYmFjPTEgcmVmPTMgZGVibG9jaz0xOjA6MCBhbmFseXNlPTB4MzoweDExMyBtZT1o\n",
       "ZXggc3VibWU9NyBwc3k9MSBwc3lfcmQ9MS4wMDowLjAwIG1peGVkX3JlZj0xIG1lX3JhbmdlPTE2\n",
       "IGNocm9tYV9tZT0xIHRyZWxsaXM9MSA4eDhkY3Q9MSBjcW09MCBkZWFkem9uZT0yMSwxMSBmYXN0\n",
       "X3Bza2lwPTEgY2hyb21hX3FwX29mZnNldD0tMiB0aHJlYWRzPTEyIGxvb2thaGVhZF90aHJlYWRz\n",
       "PTIgc2xpY2VkX3RocmVhZHM9MCBucj0wIGRlY2ltYXRlPTEgaW50ZXJsYWNlZD0wIGJsdXJheV9j\n",
       "b21wYXQ9MCBjb25zdHJhaW5lZF9pbnRyYT0wIGJmcmFtZXM9MyBiX3B5cmFtaWQ9MiBiX2FkYXB0\n",
       "PTEgYl9iaWFzPTAgZGlyZWN0PTEgd2VpZ2h0Yj0xIG9wZW5fZ29wPTAgd2VpZ2h0cD0yIGtleWlu\n",
       "dD0yNTAga2V5aW50X21pbj0yMCBzY2VuZWN1dD00MCBpbnRyYV9yZWZyZXNoPTAgcmNfbG9va2Fo\n",
       "ZWFkPTQwIHJjPWNyZiBtYnRyZWU9MSBjcmY9MjMuMCBxY29tcD0wLjYwIHFwbWluPTAgcXBtYXg9\n",
       "NjkgcXBzdGVwPTQgaXBfcmF0aW89MS40MCBhcT0xOjEuMDAAgAAAFFhliIQAN//+9vD+BTY7mNCX\n",
       "Ec3onTMfvxW4ujQ3vc4AAAMAADfc5kcuvRoP92E2VFHG0SaKBbolUuwECI7wYrlhax7E5F5XVDes\n",
       "fK8USkpKM3C38z3FA6WGLCYB+yq7sj4r7LajCKFPfo5ZqjUZqs7LDE2arhPxoEyH+1yBzsJkFDZT\n",
       "S24lxa95IU7MrQFHatGpVzFYgZTX3307QtMP1TdMeq9Hmd9UnPg5nsUfjeTjc43cNpySLc8x67t9\n",
       "3x0kcMB2xgpUkC7wCREY5xPBsClWNV1KEfOF5MSz5sIo26LVwCKC3qgKflIMLZbIsUUWYxskYlB1\n",
       "0pWsZ4DfROPSuzTfwnlRJ/YhERo8GTXeINVWRFXsRjvL//EbhI62O1pIAaNxiBsNqp7ucwrFQGnD\n",
       "o6KBgmJRWvxlKAuP2MXg0449tLTKPOcFEvGXeOSwdimZN4o3uOEfmFWjxMGYuiXR0X3rZgDJ1BHz\n",
       "ZMvqVILzyuvr6wXs5Nl8ucro61d1x86+hxzah5YhUijXkb/kLotnoLsubjVtiCmHfG6MYYTD4AD5\n",
       "W7gVxKxFLUQfN1iY3ELy5QmFjCj5s/1knbxZl6L+bMOK35OpVmNlgoxyVM4YC9gZPE7H/KMMIh8A\n",
       "HiYeRiYi1i4sDElmIGtwM5X019vhG5y1Ft30qqBGaYAz+oIoYMXquc1LQ7cOlE+flgviAjgB4LR1\n",
       "cUfsbW86Ydj4LNuFW30VCvdqM0Yo9rAwLkcrpfxCPk15vdSmB2iDzvrn0ir4Vwwyo1XIJlGSskJk\n",
       "4f/0WEfXfaMHr/5P4LY6eDsqrX4VHktZSRigmZN0JM3Nrslp4+RoCooRMer51wcqeVU0inUz/nNs\n",
       "Lji1wmaj1duwpgg4L9SJP2cqBURQIV5Z9mL1JongJj5k7P6x7REIXZfsgjaIS472lpK1e5W2RUmH\n",
       "9vORg9BT3VMGe52hhn4hLcWWKWeefmGYIfOMJwMiF/dxzInv3TIPLNizMT2HP8r8lQmAUeZquyB6\n",
       "5Cn/9T+Nw8OVekEQpBn5LIgk+ojADdPzeMww16UO0DO0AMRnRLHOIhATbxOkHcNPwzPX0O84TPyw\n",
       "Qnjc+vbAyURP+jzR+IMfNY0A13WGmQVF74mFZfYLsYpWkPZNQ1mDnLmPyD8pzgDcHyAwY1Q0WpVS\n",
       "hJgqfb+Fnt9GRL6YpdWYFNbWxpgAbx1ussni5S7GzO0v7R2jqdND1NMylUeju+r8xQRzTEFkzaNZ\n",
       "xt++Hq986FWQAKqxOC8mGkIkpFjB0/SNgmJCRd3+XWMVXcZUx58rdo+bdHO09ffvRrWigImwOn2s\n",
       "Y2CjwKnZ6Az1y8UMS4T5YcBN+HZLyEt7wibR5+sWRTo7kj95WS7s/lC8g/01gSLKNL9dELCzS2xI\n",
       "iyFZ4gPu8Go7gYSao97Lb2e1IfRbh26ZcrpTs8NBH+TcW8M6GF0B40P8xxlCbOmdZjtV6JQTxhRc\n",
       "OaWqFtv8HhUniWuYJdikISzpeVzXI5w8W/aa7+dN56Gsf/IeICYfTl8+zckQWqsYjJEEaYfs5+vl\n",
       "Nxj/E9Wu7EO5MWEZIB5ugRm3JfRArBOe6n7aR8jfB5HTKXqExeo80Hv8e0M+Gjfwbf36EmtUEGfu\n",
       "/S/1+EUjtMTecGk/DyDVK0VeROTK43Xdi6S8KIBDc9UzRziVqeEkGUbqm8c29U/tWZ5P+3+cq2Se\n",
       "sC5cam008MQu7CO3wyDQeRuw/zG+MzMQe8vUgjkbBajwX8NSUnmVMgqJjtucA8sk3zKixKU4NYiG\n",
       "uRPKZzINfJABgTD550QDw5xIti4vC3BOdNC02H67kMRmE+u2ACHJX8TRY7Qh1hMk17PmD+aVInqm\n",
       "5qznY9IcVGsN/VMd1Ig6SXOqFSOI2db8kYmvQyb0IR+pSSga5OUSq8dLvS/aqV/8vHlso05hAyoI\n",
       "Ji/x0lD1yWHNJZLl77XmsbvcfVXHnzgJ7GkAl39FXMkiP/qg0FOCUdUZg1RkMiomCFrK+Pb3yAwe\n",
       "uqoujoS85iUfyQ9+bSCxuglylcgYwnwwDYbNe3osgA4wypvxa3gNoxXxsQeZ9X1bslPPTID8C7zF\n",
       "HaWl3DVtN5Ndywnhj0YE26uDdVNKrCUbX6OPhve002jUb/HEnbAXZ33U7dDEoTxKStqucbJDLii8\n",
       "o+mXcRV9PDbcSXYonYXWyzXT7/b/AzWReUM7qATBHJkHNunXhI3h9TuHEy2gtzMkSTpqW49/AfN/\n",
       "c9CO4a5/w/whyulqieMeTgI79hIV3sImeaN+tTKyjo/4RFpeHubImfNBHT0/S/x9OHDKwBd1jvtV\n",
       "9mj+/XL+Gx0+zwV/Jnn3TPc5GRmON0qk5nnRzGgFt4fq4DOBRh7UeNpFDRn/1ByEsXHUZs1jtUGr\n",
       "VhiidXQoaSM2v6DTUYqIA6mb8Rl5UQAAdpD+k3pOhTRMPO5IulhsJgiwVsBY87B2pKTf7kwF4ZJ3\n",
       "8tMYTh9N9FgEewpk8KY7viBUhOuAs6upDJxjYUfXF+xPvzJKVF0u70ke8OdbT27oD514sbFN9FDx\n",
       "0c7TsW985jFJvGv3ZI2KVglsihC51LMkudTQEs7Kzt89Mxtj0RzHnRJ9fkRy4lM+IFWSoeh+o5UI\n",
       "qzbL3FPPUa1d+O96cHRQG8vt+sq/VZck8biXzeuCuqIwhvCFYkwdxV33bHe6pOIecJa3K9h7mdJd\n",
       "anYfUchzcDoYzBL+oSEkzfoHAHE/Bwy2rrM7koCUp2S0LtpHvqGVBkPti8EE1yIAWZxEkoryLL5i\n",
       "9ziZjswCxNIj8dmDWPCfm7Nv2mcEeE42lPzxnJ6h+nagr/INW3gTcJ579bRrr66sAHh1mBLHokNw\n",
       "apHRktmQB90PJiyo4neXh6SC3ZblY6BQdF8cbl6mfEdji3OI7wNSCZKXK8XY21bZiCjFQoEItfUN\n",
       "OstN+cFqKjZ97/FOfg1HDEZJ0xfjBiKiS5c9bZBr6XFgtRPe9I/OkSwr8rNQx96trfNjAs48BZPj\n",
       "tvkog+Kcqaymb/YhX7+yGsaVcDGaJZqkjBCrbZwREDvNdtTDIiB2QuxtOgAjFAw4FamRCzNaNFIr\n",
       "sBFNWLPhtOVlhwWcaqWzgACcfSYGAUK0fCyahwjrRoL3FoqwqgK+Hd/8RE63+XY5dMM1Q4CjgNZd\n",
       "QnPfS74M2F9ZitiCmNHmcIuHVCjeyyepX+s2EizBxYl/is/38PsJADTwDgzI1K4kkxCM6+L5mfVG\n",
       "6mPy/4d3QBVZUWjcwmdKnXgBwiAp8WMjOTWjITDESxKfv8k4oPJ91An90SEbhiksoKZPOoglMsH0\n",
       "P+N74zPnNHjW03S/dc9XUfMTnM4P0zjkjRTraLcnOM6VoaZQ6zdqTTBGcehhXw+OMTJgtc4nve9c\n",
       "rcOW55T0ZM4VFwXjyqYju6pvIZtL0GZlgEKh0FQNYGQr3jlMckB8YoQqXHC0/FViqyQ+9dnRl7ed\n",
       "sPRnj0Eb19kpAXWZRsfcfOQhvzH1O0Raojt1pdTHQho6vxMYe+Ja31iRSHVS+Tw07ZyTxhE3h08/\n",
       "IgkjXEn4WhiNcElRP99pcbAeqVl0zdAr05rLSyChPx+VXqG6BCSi7O2YePBtHU8847du/G0yGlN7\n",
       "OreRAlbEH+n3exodP5pA3zY60DwD79DEqVutxnLyB2Pe/W9w9roO7eBzfDs6LksMVegQXbOsYMI2\n",
       "1IG3tUWnPWcBhdn7P6NUaoKExmxrs4yZo8rf/gKXrjBCNs/mS7ntlo84QbHSaAu817eoiSKigKEO\n",
       "uuboIgIiRJ4PDSsCyxd5MThJNlwHJimwu9JXJ4SfHp6kOTCIrOHDY558OWjzXFUFr2g0U2CULcrb\n",
       "XdbG519nInF4vPx8D78ExpSLsLjc4D7C9vzbtunsbO5FkkaUDXPJFLjT2rRqswfkpRUd6uS4ikmN\n",
       "v/KjHBh17YTuQ8qFJNl1UozxmtLjCx/nbjmc1S/uNK7VuBQPpDMdtVzLqchXbctY9tj9fNY9TFTk\n",
       "sjoUsHqpuoJbGeVblaWSxwcWMxR2gMS8QLqaOK3L9Ye+mFlfrH/EMEsTgWD2LKxv7XzNoGI95V8r\n",
       "0K58BKeFMCVOUgVZyDfpRx0ZX4CWB7bozuZLbZ6lo/8yYeiG562uYFAojlZHVvwWPk4+hauMyUXT\n",
       "bWCzXM47/fbZUULy/7jAuVLOzN8BxqPdz59ZYvxVyXS+dfNNM2N0rft06BZSAL1c7kt0pPufcQGm\n",
       "usyeiRMM1WpgQL/u4+PbRnQhbgqCyKcCCaBVtjRJcYeq0VRjAkErtSB+4JaWBG3Zs8VstSWRPleg\n",
       "CEqYhJITpOcn3evSrLXRaiPa9TIvqh/vYqJqeF+MPczMLYcNHZgcKF7xBLaDNR5uBMRiA7H6/hbK\n",
       "lRwwwXYl10FGworBaINZ2pE23Uwn2wvY2mj8SrgyqPFau44ycqeJPUKYg93pQLa8L0LbWa9yGepw\n",
       "aE/KvfpfZ6QzyannUMCP3SCypprLkNKT1MDBxFknHCUofvjR8SW9VXfbHOx9bWlxDEQ7YjG6vEHW\n",
       "JuQ4Psh6tsiqkHXfXNlfPFuqPEh6Nz+v1ccAISVK+2aZjn9+5Y2OR+z9wFGhlLgHtMUbICs8YSKv\n",
       "RA2oKaCnOpriQ1WwTqTzsqIHMEL9f8vZU5lQ18LshNtelv0szMHpT6oVPA+H2kiadxBbUEAGAgbh\n",
       "dXgJhUKO4HgwWIuIEXc+qzn/mFYaFcEd9RwTKa91zB1vFtf3xbu+y4GLaun7A0ly40MGtWYr1cD3\n",
       "E6texu4AgBKN8LG1NB8SGul22g8mpSEFKadt5YS2PcqLuG29cpCFTW6KsZ6mnpYRb/3GK0QYDSWO\n",
       "Zm3imYsXiMMlPyFlVZ9zuRnvDc50JxUqw0RER13wgRlR30ohpdOlldeYnOZTnoScW+TWIYUHpZNM\n",
       "7OkNsQ8hqFcQyKKUAe3d135BkpUMjZHjVBT3TPWTwQCj+kHEzxAJiotY3osfS4/coqit57n8UXQZ\n",
       "1G/A75o0MYhYLkBqabVSIp97uFDZX7m8UVbgmoDSpQeEbhR8y2QGnrggF45pxHK9gbT5oAr696Wd\n",
       "+calF/9ze4ZLzjPgXjrpMFKtE6A4RD8N+daZLcs13wR8GI6s5mGUL1lLOGRmCEm3vq8F4JgnaLHg\n",
       "FDR94nsagljYioYPyO0s+Oi93/9K2mH82SYjzQwlHHnVsh6rsCtC/bsOYNL25ZcbpQTVWCYsFw/+\n",
       "NX+Jg0G+1uLc/+Sk5OiV1WrAyBLpxvqkn6zxZWoDzkxPMCGCpORdapaHquC2ALCstKd0G+y5LR6s\n",
       "nU4WTQbnrAvR15ymccmJ8/rma7K8206agoRmjSzCO86jfQcIopevBTDd1vTPQ4lP/UTJhpiee6vE\n",
       "QX0HgC+f//yYC5b5Hf+ZKXMk/C6VhdN/a60B+rHsIXn8DOenzWjpz1RsetKvAnrYXCoRZFKqfu6U\n",
       "60GTi/QGEw7f2snceS5LqAYLAAksQwYhTBhD7wSgJnUKOs6oQDXDWkMHhozNuTw+QV5CcQ1Uh6sU\n",
       "iDVChsp+HWXzW5SrUKKPA2ZiJ4/gEjmrSWKHj31gBmX/AeWXeHI4CiRFCLZdCEg5ncuaYGX1ROM3\n",
       "dTiT0A+0lb/wKhDKJCsN8TTTyz2d7/y3D3niknjTk9ZjB6MqO1CE0dQcCZAWqvI/3DH+MooJqhb8\n",
       "zS8jUsydd/EPfqLgeW6GCtGr6RqkdU44HiMo3fowIb7Emgnzu3iZdx0MNLTlgSrfJLqRJ3YOytlz\n",
       "/kNuwxpvTsITX1FmhjFOvTf/r5blcibOekbCxFiQ+LJRP8cXb+o9bF+tdJV54gEUttFIwqAyCcAR\n",
       "awassO0maa3VDXtmwV5uvT6xA3sOveWTmUdwale8Kfymq5dAC8rZ/e+Pf/lki2u8FKkc/gTvg2Bm\n",
       "RtpO1W2hK9ejArukKwuIAmY+mmJwFBbv1C/ynWU76v7HWKsXCb/Gmd2hhebceIDRIWyrsv2EQimZ\n",
       "m6X5XwO0zSGdN8/jVhMMmdNtOGerFn2Sp0OpsZ3EwCvyTHUQs5YyW6knXWkwjpvAxPzmMpmRu3qp\n",
       "vGn/oHEDeBBz1mOdgEwiEOtSke+Ah8j6YXlQahsJyO0oK2yKQGq+htTNC/drseRAsrCOtFYpc/kD\n",
       "RBJOr8JRJhMc/1sM+yApIGTzkWCFA+t/VM9gFvsnpQECke5WdxUD/F0RCVPz8SkTwLto5MwNVun4\n",
       "NNjwZw2OXAcTXGrVL787MvVR9XBEId+Nrnf6yiYbFwo1sbne8awk1oY1ALVzr1x4zNJaYZ1bWd9m\n",
       "bubDToEzo+vjMdSVsUJkUOFPpJcPlgRhlJ1v3H8+Yml1gxlPKp3uyukRPHBexdQVl7okPZ/9QJNI\n",
       "hpOb+5rfmh1ieLjEupXK7wxYDdBtumiKbJEbZ9qonl3dxuZ1xB5KoJK0SHQTMKJn7tO4OmvT4hbl\n",
       "LVf0dcFNedBcxJnbl7R3W8/6c9g4nMeWVq3fJ51xH8Hm/hOfiYA359pfmE2FxsYDvl6TE+vuTzAu\n",
       "azholv2U/zITBlIsdmUBJOqvUUrB0dNS5WeWmITk2hBIYznrrTooTozHM95onwSa4GbFx3aGX1kO\n",
       "BOhp6dWvqzB/doxpgZeGvAC2z/oChhNNuV/2Sh1tTOr0H5cyiqj2tWz1mEY+8PEB++70w7p07xHW\n",
       "IVn4NlJqciDFkFgFcTeqcyrRz09HxXArqxk431vpJcBjnjYw3K7jG7QdF1UoZdvcNavN83koaJOD\n",
       "gIFjAEy8Rwdz2eDToI4TMUDSx0H7Hc1eaF7uBQ7+f72cb5sCBGrJmcBsahUP9cutfRda6DBq7TUO\n",
       "Ys/20b20Dzmi5yPWvG8GyXx1TeZsyfZXU9PSnkWLGB0tDwC7pnhwG5U21qodfByTAPsBkLm8hSxm\n",
       "24LNyptulYK24tKP7g10XT60gvzV+ljsjRAdNDS+oL6Rw96QnkqnekfNtJjs2ACQ3LLPcFhTEjhR\n",
       "UFWNvcUAAAjBQZohbEO//qmWEJK/aI14yjwCDyR9Zd1J0llWuDQR8y8TQb6hodYGw+z5nrFsAosP\n",
       "+ChwU7HRH0bWbvY8YSNxdwcA+Wop8pOGd3BGVrTwQVi1qjXpkaudae7F0FBqBGXExxzj3aGAxjyP\n",
       "MFO9s63WZbY0P4QmqjIKYay5DPWkW27qzk3rk9yj7qPnWIUFmVGwZ2kkA7dK9TGDlFcHC5JLX1mA\n",
       "L/HE0gsBoM7iXH09dYuxygoNLGnt4vSWmq/+HpYVqScRRFnboJGxEQY7ajTT5iktdwl9Hu2Qcakk\n",
       "JGh88/SE3oAv+RroL4e9MLSM6xI1D7wO7nxp2NnGFz5ajokeuqF2GqIRsJFnwzMJVQx/JkHFNfAP\n",
       "C7nupUnjqQuu4lQWp2NRMfghGw9Tyw45uU9ax185mrO2S9swfd8S2+zJk2nxYMEV0dOjCASmUfS/\n",
       "WuXBTEh8QQRFy4aG7bLpnhOS3gdFrzADWFh4AWBThH54RoAH5UFegXAeVlHeVEejA1Z/Kn10haX4\n",
       "hY/lWOdkGtrXWGfj7gnxcX2tPldaGSjEMv/O1YuHbgC/EJ3EC0eXeyHkJtobZTuTdQMLpCHJ4WpP\n",
       "I+V/pWMkoXhamcP6gaxmsnI3KDHNZwPAy0AKaHVtAP4gcqpaHXbRj+Lwsnt1KVvZh3crNK9dZMxk\n",
       "nIlsQ67rrva8MtctgNUwXymVN/yfNFg7I9mEYIU1WF/i+iMs5u4hno+2RESxnUUuizKjmlhffh54\n",
       "0iia8dYQYCT4b3kpq++eNYBm3kDLJlWIueqN41qa4u4z3ZKE/Vtb1290Fmzd6+DSwDAUrZJrvDOD\n",
       "gyhKjxapjdPXUVRt0XKiI03wlIp5A1V4AdJdQX7zYoY2wHce6OVK4LfTnCMnZQRLpB8DY5pjAp5S\n",
       "ZOAMCUmwLGQ/8L5xqxbVYNuIzoHDrinbe7ZmJ1O1sHDTdXqKVI5iGMom4ye3KCrilhS8A4LopnyX\n",
       "8HtL1oTYPYQrucnLk0yPx3tw068B2LW6SQ5J/Vq+8a+mTY2tsEhFMfYnyDPRGz8xixBunf7ILi7m\n",
       "IgzTsTSur9m4Ewt/WWZ0abZvFM2VDzJgm38IXAYRB3Zom2zFvs4jaTqh2rs3T/8F1rSSHrAthnCZ\n",
       "rxV/Sk1RaTvhavnALMEvBh9wqy/aEJ4mEqZLPeqp61JHs0ZAmIVQEifJ+O3a2iqJMKDmQ8x1J2k0\n",
       "sGIFv3Vn0aPhBeS4pEIVZmrEhCjazG10mxF2zq2bjIksUM3SF3DhZoRx9Zutr8KiNqg1SXU630j3\n",
       "sUh03E3SPJyz6J84nhnA5Evbj/5ZdItfEcihnFzgel5zcNnd48LFN5b+xXOFB8byGUqidPd3xV+d\n",
       "Rgdw5ZZIQ2Z2gjK3FMcr2+ZMljJ+0/+9YqbM2q/V0vZ6vlR8E8yjOVxl6iH1EbPQr7ukqudWPpCE\n",
       "26GirfefjujXZKZ4GA31NMrf9RyCuApgTwDhtdsUF5Ah1Jl37aFSeV3qUvlcsbgDpVK0OEzG5oMu\n",
       "gJpBP0wn4GDZ1nRk9Qb0DJMC64nzwoGXfiwstlVuCNuHgXOnmrJ/AmnGi9n8I+MWaGqMicfy5nXd\n",
       "/aUWu2ZHB/8DR9TY8FM/X65Ws+JVZASDwrNTw26zwYKOqOdEdOq8OY+vM4Szs7mL65bE8nMZqIqS\n",
       "YzXwZIs9D/YeObcKnMx4uFfbnbQooCHoQ2W7fTkSKUruzJFauSJbGeer1NeN77Yp9wq6jxE6ZxBK\n",
       "Sm1P5XHGu546eEUKmtJ+clgpetNnl6S5kJanP4txrpWPjbroPF0wwIMn656PAiiB2VUMp9vuWO9k\n",
       "17/69hRhKX8gAvbvpMH5+pnhBJ4Wp+rY2VhahNKZhHK/48vCfbo70F+gXN86qBP2CycBb43R2mCM\n",
       "wK2WG1MBARpJ7rn/r2iKuN88qGzmIjLQhYhmxH2w9+Pi7fNdD4AJzGVjVZpdybU0PdeACFKInSES\n",
       "A3hMhzuvlFkGxog84gSBu7a72AvYqo4iK9V13S9lxOKBRL/xLThCj6A89ZB4Z+mz1G5QKkojTXG0\n",
       "aofVcLVjCMfLGr5CL9rvkJbW/1zSjky+tTWW1fkH1KyyA+ao0gM4lmaVwKb3LPxDl9YI1jMO0s36\n",
       "wpnpMImzDyQrLawgL9b11HHzUyLmyWQMZcCEiUIUnyzpfLLvKX35KTxg9ut3ArhBY9JSZwk/qW54\n",
       "IZWd53nVzKC8cVebsUhW7gYQrIfT1IricGwNf3mN49cRHrirFLzABlRAwxg1IZPUmT2rf8f6HYlo\n",
       "JkDMqCtuYG132PbaGIvYzQe9826Tv1h0EAH+Ft99mpaI38Uw9fAOgEkHAylLKRG6tiMHRD6exjY1\n",
       "Mqp73UneWY2uRyN+Y+JN6IHHywLafZybVVINksRY0uWGiDT3aeqt7OcvCfaapwVdCdHxp4uixuAP\n",
       "AqaKP/zqeJAhel+rFHup4A2CVIVU6vo+jkDLikSBcg+SFLlZlSOgM7aj0zwBbmGHOK9a+brlwC/w\n",
       "e4lgCQHbYhmO6mEz4j63Dv57173rQ3L4ZSU1IXJuw5w1+DWc6MSrwfUuHMNQsyU/8eUYdxfqnkfX\n",
       "G79/7pVb4I0iAWWDhv/cea2FilgsfXl9ug0fLuFOZzp3wdjJKr2k8KzcyO9Gp7CePgtwzWkyh8Ms\n",
       "5CvyDYDAf/AzaSp4X2nzXJHXmETdw7TxxwTK2syOsguLUq1pV3lQuJMgNMr9dYwWZ3nkacW9uWi0\n",
       "12wn4GyRsmWyL+84nvdl57aKTO1S4cYVrK/gFPzw3XB1Sm2GX0k6ux57udsVSRkYzr3KIJiEX/Qh\n",
       "glJv/x8dX3xIxWPbbpuaPn/E8r7vFaqcb6u+IwFmcWxU3CKgzgaMZ/tznjgTnwJ7JQhRZzntlsgf\n",
       "3xfxwyWG5OfvB+uLg7gSobbwuavHlXLqhe3V8rvgqrxcvAzKeYNOYKJRtwuFfr2rEWiQN1qNhPlR\n",
       "thNHCT6rn6Xr3FcEczxFMT5MuLoFF69qUn84AAAFNUGaQzwhkymEO//+qZYPu01AFACiNSKR3VXG\n",
       "aIdYuVj+PpbFm22RXIHajfsksBV5Utjhm2g2FrxVnzmSDrPebQjQBS1k6ERHN/uS0KMc/MrA4Fwq\n",
       "0OwXo5lbzhBFozqMted55txt64Ew5a/O9L+QynSmgtX58Ng/w7epaQ73uzcwFmQ7ApzMG0YZ9xP1\n",
       "1RfWEPxx7SSUhXAuGAp2TxFWzNfPxvniY3DEuRsi5+RU02z8/Wj/m5gWu8JVXhbVb8fsbkvOPSuQ\n",
       "BpQRPGA555w812pYeNzb0rIi/ohxlIt1DQpOaCBhvcYj5jSpt6m8gU07igSqvGuafGrzJAKOERIp\n",
       "HcXePLRqZZDPfcZeSKoqv8VKbVsBTZ7YLgUdIxhqIEStqZhEacYAxFT9HnvP1qbEJcnWHuv5zuEC\n",
       "FclBsZvYHlgniu3YGpvDYq71XletfM3YrRVGm3Lp1VzeBUedvZecYsBYX0Kd1UNMSqdu+kH1ysYf\n",
       "nfGUM3G+TFYGbGiSmZfo8GL3/2s0iUluIP5JmEheVBlgB0WDFcDYK5dqpVf/GtYXGTV/7Uytz5ZO\n",
       "6PGQYajE6NGjvTKNHLgMKaMRVkx/dbv6DdNiATQCYDplBZFG69UXoxVqppncpvvndd2K+cwNnzFD\n",
       "sLnTKEZ/5Wunw7QFCvlE/qZdNDSOgtQIrCqPonkjjEhd//ieVFi9UJWHG3DXml30Xhr5K+8THFJt\n",
       "ANtUFdmVAJTDqizBffYybLW6guPGKEIXrpxsuplL41eeNDdKkV0MRgqGCfwBgAI1ceYyg+4XLWL1\n",
       "GHpUAptziHnqvvNUn5IoZhAWBYnsEk8BU92U+Y7MjfTJOOZh5zM39FT5lPGmJ4ClQS/ElR1t/Low\n",
       "E0ElOFQRsp82/GYhQjAjyOKuZfNHihp7Nmw779TdGqFRw/P9HBm5EwKCS2VUmglOD8YpQh1rErYW\n",
       "ZAO2IExf+SgLT9z86hBFprdSBhkkM/qR7wraSGvucueYieeDgKHTXUA85whpcP7p3UihDs6Ui1cv\n",
       "YwOk86+wSHOiaNZHae2voSXJ1c6pQry2q4doWaYz/iL8v43sqfzCjEjeORotx2QR+Txr3yvLU3l/\n",
       "SAr9Cf66/z6pjFFvtipAu6Vde+VJRsJ49UZRBrJg0l4hTVnb+vlanFBroulNCTyQSgjRxaj5JZFi\n",
       "rq3mN9utgpmgwDIyodcfrG5wqcOjK7e5gL21O/yXvYPQcYd9KywDnQ4sTinF/lyQ+17N/BnvFQSa\n",
       "OdtwyuXZq0WdrDypmXLy7FNGAFvB9SpJ9k4lQsGWbh6XGINeKYEnI/aKZ9wS8mj9U0kafGJW9yyX\n",
       "c+o95FTRLL6cRX3zPKWu4qhTcqhkOOk5TMHTa+r85D5P4IUDii5NCXwWBH3WjyDAzdY3zYPOYdvY\n",
       "faTcsZStv7bybVt6NoA6xv5yjX9FnzYm8f6/dcbG1VKHAREF6FDNoQsb8Ac+Ov5XUK527cd3WiY3\n",
       "vayFnveEbAm+9wVAYJSZwGkJTb8gJ7dRVIp5wP56Ay5ac19BYAAd47qQ75MGZu85SmDwF/TJoZwS\n",
       "p1AHMHGjJHHYGs8OguO4PYz9qKTyeraYiAaQfRcakDgyqrw+5hyDmw4umD9ewMKEste50/LIS548\n",
       "EHa47arw9hISuZTyzrUhHLT6ArtQ1vLtV9DAUbgetwZobQJvdrxGCMnznfzWtUoytSrSGSIKNAMd\n",
       "ANTbb0aXhLjYiuW9rSGCQEVrEI+i5FAwF1nhWP8DaJJd5f8QepsXPRASAwdp8PPGLvxdOksAAALH\n",
       "AZ5iakK/Eo8/yWwuAQJ3OIiUAEQedDzwkGeC6EzvE48MGLAL5e6Ju2bWvBAdQQl6FMct9gJoz4B9\n",
       "vMchUEIxtwjSxcbX1063pRmXmZ1xj2QEwB5TWohY9iepgNAgm9gLcOCeOehuKLDrK0BJoyjxRAws\n",
       "Ol6VCmIwBVeKc4jKHymRs9XbvHDV2SBLzZLTjTdMfNh83t+hJETYs3jf3OjAU3U5Twi6zVneAGmb\n",
       "CdSPVesxV9B01iEBOn2VWNQQ8aAyzHlZHNHgvnpcFmaqmAi+E+VUSrcct4DlxSEnqz7Z0BFPAS+8\n",
       "zeQaGIL/I+Mh4HaXeXDBgNXJ1ElUJ/KfCdixP9+fOWMzm0TUBIHJNj7hLA+9SdwZ72jrvrZCQmYs\n",
       "mbh0nDedgBz29/u3wqZhTAwHEcMqEQ6jGOY0z1GCH1WG3bunC5DnFIM9L2ya/yUF6I0gId9vBnW9\n",
       "ZzRzsvXqV4rQ3cgkHLjLKCUiXZ7gTo10eoNXm92y4Xm6UBbU0e+EY9wruUOP1EAYSlmuOw94jxi9\n",
       "wmZv46/VkvuE2DfwyDWYWB2PrMFzxWEP89iWG3iTVmVHi4iv2YQeKRbmV/yw3UANtc+PpC+pXjud\n",
       "25uUCse26+sapvpnDRIIYBLUjhGlz7nLeDUi0ZpQQD7CdhBBkBCt6GI3xGZtSsSRqmK5ySd3i6dX\n",
       "gAG1Pp527SPcB1JXYq1zPaeJ+oZsd6Hba40KUEjheGa9zB1mocSHIGXDEx1PbTrBZ7WPOt0uHcg8\n",
       "MzzODc94+IwEqnoOqluZqvFEm7I/i6gAU5OLoX8+/Rvpg40Q4Ruhx3OPmwTm7U+sDaJOi9YN0LJS\n",
       "tmXaLXv3BziKNY7EHatSyq/jphKQQ+ycKJ/aEJ2BmSgNwb/QKr1jaoJoRUNTqjSUJbY5jeSUElM+\n",
       "kWlWE1tvFmamGSeafHW/wVK+ZL8hH8piID8gAAAFM0GaZUnhDyZTBTw7//6plggDpMAL/XEnCo+o\n",
       "LbVBGWCdos8RO8nVoF4tgKp08jgtCUO/h5T5952HdjZBD+pAiDnuu72DIo5l0SaJxl8+6o4SRfL6\n",
       "AwUabbbV2eBztKwJKbrFO+53dcAWJr9o14BL3bR28bbD7wsVlmpvfRykKnERRZbjZOuFX12spYc2\n",
       "u0SBp1VumW77xl6eqg9CZ/PaNuqNQOzo+ma5Xu8HgUk66YtTgz/GZNxBTis37K7FTZAbIsUtQmPl\n",
       "YLeiNMATV/otR00HZ0JMLpu6g6YQqAtRPwZoGyCJ31UhWdSct9bDb1zBggu/IeHdGQCN1tQ8HR7g\n",
       "mT+21rFhSp5+R8YXwJ/jrwYGVJjZP8kDMpDNhfUz3CQYeAT/aA16G3c1U7cSABk3BEQ4zmjY983J\n",
       "+7i2wS0RXm3fHeFgXDnsqCSyNetr+3wWA4fkFIuCUDf77Zz+azLdrIrmO0/dlTHdqU4FN8dVivvq\n",
       "/0f/jvqXmgqe5IDbKgYaKH0YX0pGVvA0QXvHiEKVON/wyc9G+Jyl5r/CEIV6KVHkuVtn8QZdCnvT\n",
       "52VL6/XgNAbty3BDpuay5ke9XFLME90kurZXXr4YH0/jSIe3MA+Yz9k20taYbqs/2oSfvUlWoN16\n",
       "eahHxrKY/9uVJtf05xlZyPPXrfx4wjfkZLRZlebK77cxRlRjAMbSnqchpfZUm+9RBB0qwSMI8uGQ\n",
       "rDhT8ykBY23Pd9F3zkNFAvMOByt5XIEg+vzphs4+xefEwOmjY3Cx1qSnT6Flt3rt5B3RDY4sRRvI\n",
       "lQP3pACWkqaUhfhg6DSs3C7Rpr4igc8rr9LEHOTrGmj/RIM398RvYNc0aVVcOnSvzT0UUfkxJq/6\n",
       "JtKg8gvxJowXzLnjO0flCGEzgUGjBUWLnqzYP3CryTy8lFp0jTDmSROLgai8G/Wh3hbvMsvd7OaA\n",
       "BFOwoCxyqyA4qinK9B1SjdWzR4BIRkCvRDfL9bwWy1paMXEP/ZlXSOrdf47CwMW4XX7246n7nwIy\n",
       "qGXJstXnKOB51K/fUTGKmOESgYoC5tLFl5W5ZiWeErkYTXmUnKwnpwSSixwi8b53EHAbjW+TmSak\n",
       "XAC8pIOW6nmW8fyj6vB8bFu0RTyHda6Qy92AaiaNRul0RwD+8x4XKSrsYcn4bC6/C19XYDM06w+4\n",
       "ApU2algNcjfk24nTWIzhbcWAbIdSSKWD2RjSGDPD89+Ntmm4yzbCbBXTDflux0IkkQIfPs7j192K\n",
       "tPvU2rJc4yr91pi2DcP16F2jBn6cIipFooKrmbq49p1W8R+SR2OdUZUrS4Ctr7+Zk/kg2w0Lo61X\n",
       "zPcnz/Fw/QICozU0HXyJQup/YyHugjxvfHFFozMHavm32y9ehsa/YMW/BdlZgcSllFae0/FG4qBQ\n",
       "8zwbxvnuvCBPfkkN6peq6LoFGi9wj6fFCbLidoGBegdLqOaTC3189kk4+8agSgRvvZPRMGr+JICw\n",
       "76dP5wVGiMIwHXf3lQ1qXGaKKJ2IWBwXQPhyKeJaL7/0o/7OI5jZcL7PDjDT9dJABFa39E9fE+ZW\n",
       "weFtNeMCFWN0r1bJu2bN/BK8TOUc7pnyJ9Wax/BSqFE7/ZUNmCXrJZnJnpo4CzS7sXGB3m94g8aj\n",
       "H6gh2C9Db1+RaAfa4vU3i/nPVCL6WT42cvtfPpFu1bOjld32T5xc9MpOPNRTgfIbNkvID3fhrdbd\n",
       "qMe4AvapG4dXM5+TC03fWaUrudkELmqn3g5rVuWMoGSjiarIP4RcI1wjYWPYWjwTZfUVAAAC4gGe\n",
       "hGpCvwNoBQxyKXnw2yTvGqop09ovyc+jGICg3RQAmkMjXJvlreQchDH9PGDBGMLxix45kZxH7c9W\n",
       "ZPjDQ7NwNOSPwFRdfhMep7RqQCwqng68p/9lQvk3npDJ/+6AwtMDsHgsQmIvSJEE3JCUHlICSNAO\n",
       "4ScK7b5GVmKCQjf6WFGZWrZ7ipbkW5qRCONsZGfp5x+4PF8UtiUpL/f9HJXngOGq2kF2J/gVyMBY\n",
       "VpwXs62EFyaOf9VAhZBxujJ/j7fvT1LLaIYw0x7i+i+BTY0+nDxqce3JdbeIc1dmvAryJQhEf/QX\n",
       "TpHp/8TUM0jGb+FGsxnEduoV6ymMnaDYgV2zb7VPEkEtampGj853Nr6xm2D/i9DkAtP2KSaz+mXQ\n",
       "UBS4YY8+iNzgTrY84OoNkxQ8vYJDEAnB66C7k5d0W4ewXVHNJhvypztVNPt0JiVfcWBaRACdoFpZ\n",
       "CpFv8XxYFecq2Q3T/5lD9b5REXqI69WWBgnCcEdW8NuI8To445z5CFjTr5KbqnryNmCuqHv5doXf\n",
       "jR1fFfxxPkO3l7Le8aB9WxldAb1qtp7aDXJk2B6hQRsHQQDXVxvbaljxT9UbTMcFg/HHrHnVi1ye\n",
       "X4A3O865E6I+BXVFYttfP/BQSsKOxsNsfPDdy2N4ZwbNq2/rX5GaJYlqg089CjiiL004DIjGMo0+\n",
       "S5s01um1yn7GkgrbACdgnDpFNUiZLrXi37Z3up1K4Vqw2jjupofYh4Qx4HBp6xrJnM4qyFtA/2aF\n",
       "rARuJxtsPO128K/zS/BKGSL2DLnuOn3YF0l/rLgWNaHKfQy5tdnkyhtCBBF8Gei8Ut0TYSpLnDCk\n",
       "Zpror3XgFLjliiBqU0TsRvy/aJMR6URdfVQfeviNv1nCdgStNPDqGsVnthTPLrChQiMcyDM6yeUb\n",
       "Q6JN1eZgq2AxlD/MaOx22tp4pQeqqnJ4wQBsjz6J/u5Ih5AsMdBpvSXPXWDikLWhXTIERQAAA+NB\n",
       "modJ4Q8mUwU8O//+qZYIA6TAC/3LDIgZewY/zVpN79ItV73Wpv2UrgraeO6F5cq1fdXSz6i++wEs\n",
       "YtBgCHtDTO9PXlGbTKzhZK6YLy8xtmZeaWRHl/Oy5lSlYZA3la9pyf/vdJehhgrqvZNBx/TSxC/f\n",
       "SIh9NRJ3jgKL1HT6JdtZoPcuwnJKLPgOZYxheqB/Qfp1epE20ZRQCXeaQtDy8jhwpqzOF96NxN7b\n",
       "X1c/YmJjxQs4yWPZUhajToGeEepbPba+Ro2K7K8NK0YtT2jjaeuiR1DrKCkQCVBhIhASDvO17BxU\n",
       "KOoMJ3kyl4zTAyJkB7jhrOSL57oXoAaxSkNgorv0BA/lx8vf3iLslTmmZ0R9wOhhIftMeMGs8sGb\n",
       "0keLV99+GZIpPOUV+oJx1nIZthk2qdLV6I61hLaLjYiZ/6jmuv/OAzRDwBB5qXNfl9PrG+NdkE3x\n",
       "X6OeRInz/VDRq8CCqAKn8aqBVbLJ/OZ/J6CY5xE4WoaSu0KBrm3aJ5g5axFVe4as+Gv1I6AKY+Vf\n",
       "quKmZ4IVsmqBVtCCyyOQvkW0HMAtTnB3EWwGUbL81gxtor2obX7rFKzDumIBj5GXDps0YT9lFk8d\n",
       "pY8C1c2b+tw7Fa1WMn83+LrjpCE23zWdCZuuTl4vfrBdj/+cr8ByYTJFqnXyVs9vrvOhhJub4PsE\n",
       "Tz8PWe0Rr6Hi1rUYg1z5xop4xj5/UoctgjNUo6Zfo/LfNMSr1Ou3efWW+f94IlqA1ZakZ/2ea3D9\n",
       "SA27xeXmvXaNKA9ts02mMtseqv5tc3FayycNolGymBVqklZFQQj7tp4pDUlQF7wbGx3ZuHW4tmms\n",
       "8MQlZnr5VJhaLjDM6q2yVJyHRua5Z8/N17mjVWT5kPtf08Gj94KDb0CCpdmgPk5hYrZbMHuE1wzi\n",
       "iI/vJyJKakkaRxieBGfEfcLJE88SFXVriuq7Daia5iulEkavfdeG0MRhc5GmNIVMWCi/9FjWShxF\n",
       "nRp1UPeeUpgQZUgaY+tjQCEiuj9fP+CAazVPOMgThgQQIGXyorb9jFyflpJAf2j6GCpWOGJZASKG\n",
       "8YCCx3kII2XzJ8+hxM9UMSnikXUByF4842ZL0dvM/v/j3nv474oH7r9DLdbzIyz4IgUXpRjjyhh9\n",
       "jikTCBo0ZwWS/sukswVeWbsqAEFGMOKmqI3gktmIwRhLtoRg3hCivvEAWnYrb4hQAHJ4F6JBMrhi\n",
       "sher7eS733pcnZEF/HBB51MoqffUvMMOtlFYAnNoDZsPy8CYJYxh/VWbmeOHSSwca5h5y2n6Ywl7\n",
       "YIKTXWV0cbZdI74N5CAgJygrMUBV/C1IIQAAAlwBnqZqQr8CnyWQyiQXQjtlbACavOh45DzhGBgx\n",
       "XNOrjIZykhNfGq+Sz32kuo6GVDppipncZDxwGZQouN/F/voL6NwqHkpaA3jh1W3od54exMCqSy+l\n",
       "zwudbUNv9tb8im6zINafL4VsobfJlTX4fgaUHnhAp09YUlwE2lzDrMKtB2cfkGHIHeVcQu7q24Rk\n",
       "qMVRrrugcBsdGcIYwUSihUp0IcvqnlL5kOlA75U6hAla+hyavX9r2T2M+8N798OVHF25Z9XVjOVy\n",
       "bq0GEOvLDkRNH9lI2cx9pqX61Qw8oOhwJBBi1Zpp3m/3kRRqFoS1dW4Zj7VRU/vCzUDtB6z6PARS\n",
       "5tZWEzj4WhM4DYrfyv3M9WeqJ7d72OJURnVmbD2KTwaTCIVPSohmOtKtd1Sn1s1pKFMfUvNWsoFU\n",
       "fWvm1eeoh8WYq4H8AxoGlSUJbChNxbgnQnJSXIbpC9gEYmpnkxkYh8ZaxVqduyrBjKm4/cWKUhNT\n",
       "S8yil4Ge6pkqWKgoXltGyny4FA0EZy9+4RCSTovnvaUpXZNxcMdreRawNLeya1MTH0fEnkxikO9A\n",
       "ax5kFYuelItz68ccWANF+78Qz+j/kbc5lCK7b1lMyB5oAwgCYhmx0bGGSVjgoZWTOBoYaEnt9U9K\n",
       "lKQ/OcwQGtTY6MbxsLDAg/nHwzudY44TeJcrgM6OHDJrSb1L921VXtDq0Fg6/RBQkU/PXiaiG0O8\n",
       "EbpmPdFcRtVzgfp4RW9cSpZNNN02hr9sqS/PTpL1leqM+rlecuwxYYJ5MaiEmMRrJYWBRCJIVx1k\n",
       "ZbwsxsfNAAADvkGaqUnhDyZTBTw7//6plggJtFADpXLDIgZewY/zVpN79ItZ04+JIC0KFUXiFWj9\n",
       "NR828f8ZbAkeH+vibQOe/qi6McFVSqPHwQa3nt0IO4CdnzwmG1vUly7IRcgKkf7D9naKjYZe4g6R\n",
       "/MpAhEhWokzR37nXPYlu0ELeL4eev/hGP1VebUzXCGfFc7UNpPfm7e2Y8DeHlOxieVWbOOb4I4CN\n",
       "tM/+ajS3oM/T4vAX2qp7+xqKyagY/a461VQkRmz1CfMOWsAx7OCP9ju1fzfcJS8N6dem+5kRxxGv\n",
       "IJYoCOMf5qS/wVLzwb1Qqx/SuJIwhBpWNcFBBVljtkBppp3eznmUPkuost00wG+4V7dNN/FJl5u8\n",
       "VbGbPBhB9KnwcW0XSiqgKmyeAI8+K4ueoENqUttBNR6Grq8oitVjZXhdmcAzjASskNCxl+Kfkg7b\n",
       "eQyW0j9x89A1GCSnkop79E8/rdpdxcROx36SsFWs8biYxMIZb50FdLBQ/1RqH17XrxpwfuJD+Ewl\n",
       "46nG01SqhzYuCN+PpequYJ8JWvvX9Hzw1T6qCSIdItmXKul8Z6ymv4ye4mx32G7YfshF4eXaeGWu\n",
       "QLm9aWg3GVdqL/ENoEFHqhAFShhKKtFAPM4VyCCWgx9bpq10zD1CUJUlVRJu47V0msYDWwFEXd9t\n",
       "/K29Hr2epy4xYcqtyx2nrfqVzLjJ2HOsjuUstYY3xTV+ufWrVe/pRLntSMh1QDTaJKZXnDkza1CD\n",
       "g/Xx9cqXjT3KiubWIULUMiQvai31DM/ZEC2The+9dMKXA8N0oFSsLln9p0Y/eiELzqdA+7IVZWYL\n",
       "SM1yydJFChmthXdmdjctPI1sa4CuSeFADxjGZHn26N1gxTHnSXA5A3EikAmFWsZlw+4CFpCbcvfP\n",
       "9iFS+M07nmob1mvpc+dsY29Mws6x9LkonthIAO0hvj2eP5bSX05eY6EmYNv4Y38m/oMj9us5noX5\n",
       "GOiu+wSfFH1WMAIQrwAvBgYJd/XRxpmXpX25Qr9snn2u+faR6FWhpCbcyZ4wLCE4O7ec3dZQ6TIn\n",
       "lSbB+QKOT1GlM1zPxyFJt2xIFy0R061Lje6W5s2MSMoN/jDXIvWDox3r/2jYH7xnHbQvCjvKbbOd\n",
       "y6RShlXRdCSOv6J6FIQn28ddrnAAEVqWSi4nDPx7DHwVwCKCrAjMObxFABR8S/EvQ11weQlKglVn\n",
       "JGCb65C2wZvEaJXh9Q4/AxhF+7/jv2riJ5jDcWKjNfZm47/dfYMCQKw2vNTBf7JJkk++kdH5a0AA\n",
       "AAJNAZ7IakK/Ba+rYgwG/0kPM0eFACdvIUErfH0jZcFTgtZyenEs22bwUKcLHNl6tXA8T89OgLRB\n",
       "c4jAypyENv+QHJDGDq9ZQMtE2G8Oh5bIdVS0w7kvyLKeG+NUIoGW5+aQpfEUbbVVA2wZk9Ge3IHl\n",
       "o6qhKPQ7qsUkQ1mAcgCM6WPVTAXCSf/ZPIRRJ1DbpCDT/zEfObKD3xbbUznNk4QOMjYLiF3QjRlS\n",
       "9VAftp71TTOZQy65Y2aQOMEXeWIz2RXnvj/qw3k/yE8tgkp2j4gorWSIVfmT5M/f9/3Z2LCD3c9q\n",
       "KPjlmp26YI67WH1IRlyeKRIDGptEGbNEl684HREJ4AFfXgTjf9KOq9NNQCHwrH4qQ4vJGjXUaeFc\n",
       "I16oyC38+1unhCaIvpHr6TF15jy4nfip5rUn/YvsqZaQdHZqKsupG8AUkydTfvQ5nPurPjVk15Jt\n",
       "fhJ2nXaSTtmfuSsUvboQp6DdjL8CF+hnKpRKy05zrWqAuYC/TT+ESh5Ojn2L3B5aggrK7XHrPqrs\n",
       "go5tN8nSf0RDQkEWpOzoMiHSLwXEMqCQH2iAh2cHWzsK+6eOnHWTQIMbevD7a+FQEtMBAR8INaSC\n",
       "TmQLUOoAS1DXPIwSn1Jiha2XfvpT2QBSMHFdsFd9HNterrhdjivS1nkXaCjWUzJfZs7/94l+AWow\n",
       "w0GcsDSDy+rW79RjzpnCiGfF3+vGpolsr1/GpFpbCBCnviwhT/RQEDzNnUin2bwe2cOpjMOfHJ2H\n",
       "uw6ZzrA6XNyQfnkAakOMnXzTz3l0IAAABLFBmstJ4Q8mUwU8N//+p4QO/iUgAoNxJClhwMFPE0ww\n",
       "B9X362oNv4TAl4eduLe6WOmaNG/O2wPNV8Rx6FkbjDhK6sarh2zhTYEJpwexwTbectx6nlhQ1u9d\n",
       "gL4o3KYOeppDdV39bOLpqMXv2cDdS5CUyphQ916sxkD9iAsKRuMtoLQOU+x4clEoiTgcpWEx1HLr\n",
       "XI8s0ADlL4EpAr0+zucqe9xkN8mkV62qJ8GjF0DVlORsg668ti6/vTlBYEreAOhazVTgN0Uusbnd\n",
       "RzfXI45HGsmr5kG72Q+8mACvXh9WJXkQLJ2ZVtfrg6BqEQwEg0wUmO44noDZv8w9+tQ+K4ApsbKo\n",
       "l9/webTWIVP2eLKG+GIh++orCE/VlMCBd3E9oGBRtUBF8phmN2mCiY9GnVAAiwqL9KycEH+8FNvw\n",
       "PiHJWvhYjdHvoNzstEi2Dle28vfT+dAdgyY633l0jY1u2PwF86TyYvCNySHN5+hp05/XwcOvy5WY\n",
       "sLM+VMDBjE8UhvTSqYPTzh8cUiwhWiQRTFflRRmFz1muCFurc7E9WgAehCfFKvPg8vzphwPKbXgD\n",
       "qutOaVB/FCYBuGzIMHPIGwz3EuZEz6jrySt1uWsrcgYwMJYaDFiSaQbhf9gcRd7rQ+9Y2o2OFbCg\n",
       "1P2XwnEvGRRkX1OjkHOyXgCcwl6k/hYksV+eSn7mo6IkvtbesmZYLIi5EKgBkF/nguE294j3sOx5\n",
       "rN3VRYoLh+t+nQD/wOf4CB7qg+x7fy7tGTgBiyvcsll0Wdsycg7ZloQpWXrtxwVgmp7VKuZH8SV3\n",
       "VDww68fFc3hd/0vacDddJHCP79yH1utmS2JRnyuTTdYYDEdBa5qUrkQyzKM7H4t30TDxyNHbViNI\n",
       "Ay3H/DoCSEnNdSppiNC7VGk/GZGzX0mnxdqT2qZ3fm7rl7cHVbabDttnxrYDFCvzM456Qr1Q5W0A\n",
       "enemvsv22EFDXFj/8NqVo6XfRpi0g/+QjxCxklmw7n/WygQb2DV+jqSuywk0MEAN3nlKHf8urD5o\n",
       "q8L06Vv1t4V///48fzIXNf5406vRFeGDDP1E+7uQ+ECPNuLQbiu4CacpE9zl/K5zQgFXbEvOY2UR\n",
       "u5HcsN+RIOuGKHK6npbayglLvlqxtzJxmHIKsHMvCPQQ5SN42GvN6v4NglO56dBtpiflwl5z0UE/\n",
       "4lSnMae54OTTEV2H9xwgJmZiG0VvZaiPHzDrSlr3ltD23yhen33cKCNvhlEeA9X241pgDvOpLFlg\n",
       "Co6dU5THZiY4reog03/1IOgANQzsPaWEfT6H/twhds9gcVgxk4cFHSsgBBUOjhDaeKwNVcZC4eGg\n",
       "Hbs4F8rY0N3DC+duyhV8/Fn8BUo2YU1WJYY08JhrVCN6RnRV4KmQnOiZVRX4oF7+rq5k1reOyJ9J\n",
       "L1CGsP1otpQL+tJQkEZGUvb01/us3EbCMa7K35zU9XNmlil6zPrUMZ5e6ag2q3gg4JjE9SprBCfR\n",
       "gfArfSKPbo2R9Jg7LSaGIRjaTYya58zsB5EiT0v61lU7LEsuRAHHeIyeYM+A+7+rZo20QzqtmvSv\n",
       "xzWJIRqO7XvkQUkI2zI8mWnn/0VD57PA7lYgMmo1AAACcwGe6mpCvwWvq1YRGNGZwAmlk1/XMa3L\n",
       "HEOK1gYUhROObppT+6GKyykIUwfu2Mh2RZ3DnLSdDIZqGF/zAcJcoNtfR3Ij2WNa/x1Fi1qRt6L7\n",
       "2g30Me3BKu63Fpp/JHDj4V/h5+c7WRmOng+EQRBb7myO8AsGfEgrNq9p00HXsdQwhFqt0CWxY4qG\n",
       "vRNlVsBbUAEuJ8Nsi/4Ih5/+Yib3bJhMMyj9XL6M2MaQ8dEH2OMhoGwDkRXdsgf4pOJp0McSXHs3\n",
       "sY4OmzDsOnnvxPOoCj1MDLyw8cdTsLFaeen8gzDd0rQKnuQL/k0ijh89Fgf5LyEPC4xiZFKn1xjX\n",
       "LHTqCgvIS+ntzh+vzUHnvOv7u9Z7rlfcNlr4sc24elX5w8QbXyHT5To1sKhSCAbbHknOA7er8Bye\n",
       "J1WIHS1E/Wn5DZbzwzS4PheAhRIUS0uyLyfGGN+OgS8FsBb+/a2TqH9uwwbfX/2Mvj0mW5aWvGZv\n",
       "Tvj8a6oSwCtJrUK0SFGw6kq7w8F1EYp55XcA0M6t4OB4IlLy95RQVep5HMehU151uOSK0hSM4e5G\n",
       "fsRJBCQcmzLLK2gdWH6L+r27Ipnql0GP9k6+Iah5UGibqXoyqpWPXP+TUsNHnz1fqmKaXU6l24+d\n",
       "RtcRwBuHewGKbvER+P/1craQIHK31WEG5TS2cCUCVnAApoE9JBqR0YFjrFvb9L4QKlaYAI4j06Bm\n",
       "m2JKdOxcDjUMSsei2Q/Am+2fnfGlTltMPjxbvkqerWuO+vTuQHljAbGHiKY4RzPx5tWuWpzTUnjT\n",
       "I1Ii5ct+SVFUX0/94u8Dj1uv+Lqy/0V0nNto6diUVEkBuQAAAqlBmuxJ4Q8mUwId//6plg+z1JOn\n",
       "y2gYK0zN0AOihEnrIKSq4P1qEejB3YPZFix7pMgRMfs3Mn/qjTF7rgT2WRc3meDxUyVT8pUl3miz\n",
       "xH3Et2Jh9VD14OFskQJ3v0cKHuwEhRcW6v+auw/HgHqv6+RGQhv0WeE+sz+HSKAAhzjxTJV1W9mb\n",
       "wxSCQJGpB5nVI6IT6swlZO5SMHHkvJn46QsxfWrkUf2+4lCm6MVSklKk1DjFCIctKaRUdyAxTIB0\n",
       "tuvT7/oRGR/x17n3S1yoslhP7MVL5tXPvH5MHlO5B6JTvNVViw+sblMQJctTUykignD1m9wisZd+\n",
       "/hympxqgLoj4GMQFfcFBD9yO/OVAbpXN79lvPkhjoEYShOpK+pynUD3Ov7hodrRBrWe86y0BVwVE\n",
       "mO24E0vzpq1f4Z/fWjLv12oYFbONHY8Q32ejMsRNuW2Z/wTSdWRQJpKl6JHkJMv3Q/+jB7812wdX\n",
       "W8v9Y5Wd7dgnQVd4fwy5wVpNpPHM92IaqfYppHQ2CA1vcP1eJpWIn8GKrcLZtncK7aPPke4sH1pF\n",
       "qdpgQpRAV3eEnHSqMMB0v7sgL0eCA6d4KWo46d8+9qhZFLe5WuyCbRR5D8PaKwUpCDPayu9KOHnT\n",
       "6fIAdNYHnNXHHGs1AVYPMooPLpAGPU54Pk1PUoAO9slOohxqI8WW1kgGtIN2/nF799aAIt4xJxnD\n",
       "XSSbgHdEY9ynoTMrefJdku2Hy+PTJ0kgwAo5O/CVZ98bmu23Lbl9IuYmKsWCtmEesFJNDoNkWfcD\n",
       "imCWkw9mJzQPsS2P51Fb5bBtjUl0xmQNw3TqjcOunTjXWQSEsKjNzPkyv6HF6G3DrfUKwrKmSIWA\n",
       "dVvnk+kdNaFZJNL1DSt6Hxv7DA87bvHRpEu7C084b/YQCLgAAARYQZsOSeEPJlMFETw7//6plg/K\n",
       "WVPpV4R4IAB0pCAj7TVOBezZ1OKWdnyeIVrKifBUeIiKtJ+T6HYzxnEGjmuBDLdGnMbIQsdBBfvz\n",
       "G8CcJWehTPrW+e2Q3532Po3SWxHP4msq+r2ayrrnKZS6ROzUSxbKs+F/DpjotMlu4p43QPNmv5up\n",
       "Yv1/bTRaSJLpCscIC4Fedc4F0zr0Z8NRzVK1PWvyHw/vL9eI3iTn7DqJ+5I+jjv52ogMNSv+QIu2\n",
       "QKh0VGNAO1SoN0dL+nGc0ZAag6bkYoDr9lfFKZUa/XghP7st1x8RrYXhPwKq1kPpyKpE+34DXf13\n",
       "nXYREZuvyTUfMmCZj/nZVWnTv6ygAvfQo2qlMCT58zcUfqXuPN9bWdOk1GWkA51JVoqJk64oYrVI\n",
       "ZF2JhnghJGXG695i43hYwn2POuj93X9/LhgSi7ZcFIuTrarI9cgarvu0C0dC70vlE3vIhwQ5tSXo\n",
       "KpMRSdq1QwfzHzDubQrIoJwPmEko7CIP2g0yGlomq9COkmifDQv/aKazlzxmcMi8IF4HzssNLD4X\n",
       "YjVrae3r3OpxBDVLif1lSWaBW65My48wYJAPO1tl3rCI6qIIyWL+9VVW0gvDmi+Rhdzmtz/6qr3x\n",
       "eq1Ga8ld37DLF9W+oCA9bgLiDZSmhSaB9kp2pcE+ZUC5STwKEmfRSWO3oPBURBvRC8bdd6wE0py8\n",
       "qpsPYpk3siLxXb9aM9Y2xylKP7Dwx8w9brLGFDh2wRrB9FmpzmB5R8rAD8RYaXUs7eH3Uwx1/aBg\n",
       "EsPExToC4vpJKVSSP5XLf5MiYDhSwNXRchn0K0PHMn0B22YuXsJVj0dIHpRL61cGXf+/DP//yyAL\n",
       "xbOl6rFwGf9GrZKsk9qNkFlWjNzh677w+bSel1VdQye3odosBdJj8UPL/JYQSglmRFB91AiQl/Ii\n",
       "QP9Z7CSzgbrgQAEKt/9cXbqUUydAV341inEMk3nXZ+3LG1eJ2WMKSBN3xeetC6dwboxInySbD7nx\n",
       "DjRZXc9oK5PQZZWjbqb50KQU3WCEHgUGDKyhEMITBtpeBScFjR2meo+4NYVo8WgXCB4OnY8izSQE\n",
       "I1VqF1JH/OF2VOwOOxlIpNY5nMmR6Ulx0Dwf/VqiKwtCPuR5VlitKMq816LXyq49AXxbHwgPqGml\n",
       "KmmfaRmAdoVH8l4Z0NJT6QNeDgGgaZgALOroj93asaHQ8Wt/d94LGxPWeiG8FcPfEiSc8aJGdcvQ\n",
       "t+UTco7UK+g7NwkJo2gG+AkzHnQA4uzLUg0+xGHs+FwqFxXYJSRpYObsWRvXf00iSIbc+aZUs/bP\n",
       "eKUXfNPCru5mK/lfC+//b0QvvqZ2Rk53NKhofwBdJ6exe5rKKFuwsImb52VHZ7fwI4s2xGDv8hry\n",
       "IP65bfjaUbMbYGYZowrO/RsKUSoLUcvuEvWfSfXdf3xI7M6siHyrL/oovPRBSp/uiWxJ3BgbEYHQ\n",
       "pe5spwiE2wYIIaEAAAJcAZ8takK/A2pyVEAmelKJBdEvJqj4ysFW5rBSg/fBtIAIeIYZhKvB3GTo\n",
       "dNLNqiD71BMn2T+MLR47cr40Vvl04NAWOA8ijtiCliwOeT4odaiJjghVPwMGqPcTWml2Et/T8s57\n",
       "m89CtQTrd4PRzyMusXwJuwZp6GRd2V+xx7Q7qmGpR7vb52fjrpL/R/6DwfbjgrnZQLMoLEpWyGWK\n",
       "CYPuQEpJ2sXIKeqL6sOIf0TiBdNYtkG+7OhHZeKx7jgHSl7ABI0Dbgsf2eYonWaoQ2wjAhaQUApM\n",
       "548ikvj5jZxjmj2A8AXeIEEm4+IT0faEAheZEb0O0bAkttJ0UEKsaWEHpXAFTsek7F5BPDSHXq4l\n",
       "/rvOe+FwLIpcwJbhWfOQGcG5y/HILyrLEteCKcKzW8XpxU484rwiJ3jze+VozoKGp4EkgX/4OiGq\n",
       "VNGqnNlWqofjz6ngSUpmg7H9+GIIAjfB06fjW5nDsTfGDoJA/86o2b/zTajGw925cBqkC6qngqTD\n",
       "oJo/0F2DNEytej+xtG/tJS8wzdBYoh0C1s13/MHM7wvZw5BVx+7QLi1UE/RhLWarVi0ZuKPRAzoG\n",
       "HUeaN5MieaPyLXNdNqkTqR4ZLhzkz/9/FtT5Nowcv2wkOpkVv+EyUAIw64TfzL2z4O1Q/o29IWQZ\n",
       "+qAMQxpHmk6C/1Zs83dPHLKcQ74nVeAn7pQ5W6WGugH0AUXB9J0FFf7O/i3SJWJo8J2Mj1ogEA4H\n",
       "u7wynvML59manvfNASWzP5QjloeKaRkSDoQS3dnhAJ2TipX4dWp9VYXUJIafE393hQAABFxBmzBJ\n",
       "4Q8mUwU8O//+qZYIA6TAC/3LFJvIoH12XjLcl4DIemDyZXRpUZ8WgYoOki5qpkRRfb5BR730WooH\n",
       "xtSpallk1obzLNA2mHC3XeVedZ5yjfsbfcJW5z2X1xRFdKaq7SHeWNXzPMdc7mINwC+3RKH8t+g6\n",
       "l1NV9I+BquawGyljv0+YC4Em+7LtrNwwKuPD0oVVk+wr4Ze1bsiu09xLij5LmdrbvKR609sCoocx\n",
       "D3YSDGggXOcWEyIfGbegvRqrL/xdYGY5FMfY14F+PooENfHypf3rSt/eBq5WACncMBsGFPqliwVp\n",
       "PTb2esoxdzlqzjeb2MdSnmYIt4THP9ORxEzlkFgq/26exwY67vNEn0OQdeW7zvajtiSfkVZNtzj8\n",
       "jZdZgJTvmwfkfeKX2UIgz9QZez4q98WKQNBB3DOUUybJiVtrwr2c4jb2frtTCe7gerZgtxT5NJjG\n",
       "gSbfX2y8jZgygk/IAPSotQNns8mu6szl70L011RW/fWKMlQ/OIlpUYDOMYXWU0yUJtyHyI61k1h6\n",
       "WUTJeYP1nJ0zLLRStFo2QHL0xjnWu8+/aX0+nvIEVmltOD8pQXZ8Z2V+4qIWqNJnUGN9NdDFt/PW\n",
       "g0+rge6DDkGtVD/k8W8U1DhHvVi+e+dSg6KpD208A5oboTqjnQwMw/NDtOS0vfhYx1p3TSV2QDvS\n",
       "xCcsx0LyxajBPCmFaVR6UUBgHCjxUpZKemU2ejbc6OP1V8KzmjChlwD48rr0SpVWi96Vn5+VwvhW\n",
       "hrM0Bv89kfJ6OJ7K0BP1ww3LBbNheG7HsDCSJHpnTFr3eOL+Jn2V0WJ3fQptqMJxXdHs/UmZ1Ydz\n",
       "vzizMShWjMgF6UXmR/CXP82W24wL7weG3VEBJnEpJYZ8bkFxUPcRtRr0LkT0k8YC9YUucxeTXdhK\n",
       "TKIqMNrzncW3bxsMJFaIEnenDn5i93pa/Vm41ukQ7lUeRfYnT1z72OTbHGMTWntfamHx7mujjeV3\n",
       "1w2oFsNeAs+qcuxbXH9uh69v5rlWCTZAQ8AYBDYOkbx79AXNiHHAkX0Fr9G5e3iJYWuaEUsJTX9k\n",
       "8biWNHpB7P7K8AfTuYmAFIgiIEJSNXC/gtlzXwEP+fC9i2olWi0Sa0D5G00MXOrhriP4wNfWmY9y\n",
       "5fKLNUenN0APjwi5OGsFTrzmn4t4bDIgVSHQD614Nm1/PytMv3LZQO/aceUiBYKATqHaHvwd/S5t\n",
       "LqUPTI1oN6o65TUbLua8b+z/WXwN/66Vi5DGlr32rAX2zWk2uF/om5JdQGDFHfiMIMJppPp1lvbE\n",
       "0zzyo+4JTRUyuT5FWOnJrD0eM7sI90wqGlu56bDcKaLVWsN+zENb3Y23fKe/2ya3JP8J8ABdlbps\n",
       "p+q2XXaSVq6zYraaK8J+/Fls5BsfAhYo4hP6GB0FLgDciKysXJfVuBGUbA4BtmfyhbE4l0qXmEMl\n",
       "8BF0eoi2LdvHqQalJSkp3TPW/Ok4xN7N6LHniasAAAKOAZ9PakK/Al7JclKgJimQATt50Oa55Xsb\n",
       "bkHG+bC/8eDhaZ/vagm62zvRB+iWNuFpJEVZpJdqpgYrD8enPm/scDMt5R0Hm/1KI4XbGTQ/L6VT\n",
       "iUAPGhCr2mSd1Zsk1AVJqf8uYFGnYWU1UoKvMXCfL6IyJYYiyWwfiqUUu3+GYJwwoSNqL1D/rwkf\n",
       "S+m+13603BIurDdMPwACEwm7uIeUf64MGpvmF5JBVJ+5zmdDYLNXWL5xtn0KEXd8TvD+5YDXuWVw\n",
       "HpaXTEi3iYDTIGuo0DBJgjBVlkfmNkJznm9/hVIq48beqEGY/3ywzb9QxtbKE2juIhHqnH2XkZ7l\n",
       "y+GoALWqAYijEydChW9jYCbRavaAKwZjW3ixvt/6QT4bC0oL2mQcKxDjEeP4+B1TRlyxpU21ksio\n",
       "dNQP9c3+DEOlpvIkmGcXEpjS7IlCQg3ePC1QZcAv5tJ7eBlO1ldh5cwISB21Fsle3ZM8AsUW7DTy\n",
       "FQtOY8i1MmtajvhHgqAiI3KUfWAa26GfUWKpCFgApm7WKpj1LB0JvhXlihaYrVx4UFWfXZtZZgyO\n",
       "0Hqvl1HxiLAuwG0zg8J6b2yrhrtKnEkeqpI6IVmkvv9EB/3isEJHTgywmLtwOMhbwV2Q4KJGeU4j\n",
       "xZH+6BcYhcWYialWjL6bHJqn4affbCqejWkIrbd9AY5MQSiW1sXlIT36kudnljp4e3t0HYPke12P\n",
       "bdZN2IP1IBy+3LU/IPmvB4+Q2dnhsJgkIBckXuKanyS3ZRmHHcY+WIj6UUZU8s2BngwbYghV4zHA\n",
       "IfCYDnhLLan3nIsu6wN8qT+GqAm2wlNle/+YDJ3BT68bdUUoIhckSh2jlg9gbdnxhFpfXvxuRS5q\n",
       "LvlwAAAEd0GbUknhDyZTBTw7//6plqhiodURIsAcyQX39X4fsw0AulnxclvI3wURn7cRkBR7gETC\n",
       "C5Zwp7+oycYURu/7UPg/LFFilnPvSc5ijh+NXijkgbfYs9g2k0INdviSFsl91aePF5Ipn+6f/3Uu\n",
       "6y6jQE66HPCTl3bVzmaNbAk+Or6y4wzMNT0kxRMVY7dpmTZPYGcJZeDj3Wr9EZ4Dn8Kz0JiYA1Kw\n",
       "rSoo23P7kLNars333sQYXnaSgvUQdHMJsMrQYFLP2qGEgk2d7q9+/ZI++nktpQUM5giCiSFuueYi\n",
       "D8W81QA2cbZnsU5wu9Q1Gs16c5Vm3tX7sgDDghkEEDkeRMFCMuuqhoFIr1oWc4zk1tnsiK1l+9iz\n",
       "R1SYKE9fq0xuYlmRXu3choFrbhWx6wFFWIzncW/+DPl3A4+U7D9mykOXkEFHBCFxX/e3s1TS+SIU\n",
       "AoPFxih5Xxw8HcrMxm6m3g42JHto+Bvc7+h7RKNOmfLzy0TeU8+f4l1hvDK/ZnkQg802pOXDIk9N\n",
       "25fViA3/CNBsyOYHkIrUKouHt0J7Xp/MujjUjd3zGtlD5CBgUhYuJQpmu3twPbtPLgtOLmJTzGNx\n",
       "ewp55eC3+BUVDgwgRyGGAmcYvQiREgJD+n77bZHl3Ls005ApyF43FO0QZpOGqPRYeHl9tb853a14\n",
       "IxVjf+BqbvZRO5dCZVqopHC6DPZUvuoLiPjf5TyvbnDaVTLlRld9uzPceyH9atbElgWrxGaTkRSC\n",
       "3/6/QL5RaDiSXazd42FhPmO4tmepIoPgOIlTt8DxmHBW0xULN8m2GHg7KfZWkIWUVPqxS+oUaBQN\n",
       "3D5z7/goouU5pTu9GMhvumqDVI+l7uGDPIGaG8lLXFRc7ftsbIiPwwnd3WjL2MNsC5k74f4OP9zy\n",
       "IoAmYHckqy0u2eZ/O562HKV/aPAh34Fzy/HqDW+b59Pu3d2Gt+zZ1XcJsHLsr+l7c818bWa/U27f\n",
       "+NfdsP9+rqL8NsFBfrk9jp3XSGsX1k6/O4GZlRaVi2bgK/9fJ2rJN9iR/3bo1eM2ZcrJLTn+IXT1\n",
       "a+AvHg8pKDhKG2GlZ33DwnDJh9RlNePNjyCoZJeRPUIBqRFNIItv17+0cuWcmhqbXVkt1ox+4+Iv\n",
       "/dszNdItDBktt88mlRZhUdDPvU3gBNaQu8OyLySmKfIJw21usqjvKeg7vPzRT0oE0txq22AW94tS\n",
       "hdTDZIaXuVR/d+kfRG6TlKy8fy0xgw6/KL24UQ/iFEICAf6Annm6Pc8zfv6XDuG5vz3Y/sF5Iwqd\n",
       "zUkvwDaDN4ljm1ylBJl/a3xsFNScPSXqdKOaC8iibprE4g/HFRGJQhfyrNg0FDknTA+psqphBKVC\n",
       "C2h1+TMx14k7JdJKvEsLNvC7/kXmubxUjgQVSALjSZyknAyKGSFjseU1lExFIbFH70AM92TRN/Dl\n",
       "ax0iiLYvkG7GcFZJCPS8nfzMeIaqRlzeEOn06hHIk4QZXjmerSivSjJe3O/Y2esCz39ObCIHFTVu\n",
       "O5BEBPJpBlIcQAAAAk8Bn3FqQr8Gc7FiaQdWLahgCqCFvLI6D6yFhiIb8hxImgQAmlg8zbL4IBAt\n",
       "fwAX58+4FYMNGDJaXYV77JGgJtYxbyI9Zg0/Fi34ylL/ixPwPbxdrL2Lw/TwWS/6TfgrLufz6bRF\n",
       "Nwjda/t6uJxFfw0S03Sz+h3lbDzZIRQZBElMmJdmXsRUq4DC30C2SKstL2IjFuhVUv4fkTq8UCCg\n",
       "RgB9j0Okl/vSOZ4b2tIJl2tiC79Qw59fs1yfh24zK8iaAT0EWnsSEmHG55hyvaYMvbPxeGbkgUO/\n",
       "GEr5NvntI2EfyQWOd4/DynAtcMDUdGetp4las55rpe0xTqZLCQBslBcbHURBrahul4d49zsuCs9Q\n",
       "Q8wDiQ2ccTPzd7vJo8pL2drpo6FQeMohCI2bZfwXR9/RTzvprebjwuWwSrNZE3SX4E49SmhDqltO\n",
       "3MykAnVjOkExsVUUqeDCBdGwwAIKPRhrDbkSD/MLvyKOTCDSYUt6hm+uck4p/bz3nYvQy7MKCDhc\n",
       "P0GgZhzrgkHHdGllJP7gocWhjBEVc9DAlBN210xbY1VtcqiTguLwAULnu2a5P8MLfKHLR645iqHQ\n",
       "LcAnupqk8rf4+EaRYxwBURjtwYjkpQEJksT1EMS/pwiNWmMpxJ3HUvRLsFV/cBMLW19KvkHpEWcT\n",
       "dKp6931aMNyOSVoh1nZaTZMZHorqwlVPlGP/f90Ecjj0vkWzTe1OoLyX5DQMGxPtRsESvU3srLhf\n",
       "n+6mlH3pKMy2AYjsK0JwjYun8Yv+Tcc1+Win2LjhP9v84bEAAARHQZt0SeEPJlMFPDv//qmWD7PU\n",
       "k6fLaBgrTM3QA6C5PuQlk39d/cooUyobbDwu83MYCv5ts2sfayU7bdxbMTHml1DAq1q4BQM5VFac\n",
       "cQkbK/XsdQGC4idRPQgYBsQubt+xgITzsS9geP1pz/NB/El3Clgwx4Qnqj5NK0xGTj9JdtrdPZgz\n",
       "Go3QEj7EWxTwuuRm1nh3aDoZXbWS2fL+yNaHO46UKkvzO+cuiHLvMXNoxtj21O9ll2QbAPVHwsy/\n",
       "zM4BLg/ChTWoX2Iq4o527a/8wMIgdnJ86ydqAMWGZMBLP/iKxJClMh1FBjHTELQAanNrxwM/wfUI\n",
       "aRYH2YUSoVnrbf9rpgx2TlS6i7fbZv3h2/HhTvsXdEVXStjSoyLVllIAZTZFGyF0m9c73jqkU9SM\n",
       "VkhoRmagqi+T/VxhQstp8vRHAg+e0gKLyR3w5z2hKl7pKIJGN76aKEIuWqOJMGcw9pmlrU8TOz64\n",
       "3kF7iJIRTACqWd5x/a1NJwX/R+XX2UMHiFfpprrezjU61QL+6Va/l7Vhaj3E0Hq6Ptsci+sIxkyP\n",
       "fZIurLR+UiaYPkNgQVujSERVlGMwtNwpOxpO7iIMmlrQDwZPa+hPhEU6DgaTngaiDSpEwmPYQWij\n",
       "r3FeDNyKAVcuGWqyNgYoRsw+e0oPyVqLK6r+XJFye0GDEYzr5Xv5otAL8qSBZqq5/SmO6qOvLk7p\n",
       "vjonEAjZg4jOl/mulie324QjDKCUT06lO5JsYJ6BF2k6abGXxuU0X3+WjH61DJEz0Vy9mhWEipnc\n",
       "eKG4em80ud9PUKSZfneHJi/4xLQIKzX+FOwiOgenc0IGiDPkIh6J97VvJaq2o7u/nSWUWFA5xUQZ\n",
       "eyCYiHZAqSqOxCeK/IqG9jUHR/d4U6oeXEO4DQruLidSn6rFIWtNEIScpj2d1VOfw/rGyl+1mY1s\n",
       "54rsi2EpT8A4kkKDoDr+nMhJaXvo0if7PoJbdckTL+ratVeS9B9ZKWK1E91Gfn0Eou4yZyZvguVC\n",
       "XuTpfNOFIYBUMH8AtcKh5QHHjVgiGIPk//risaDggURBLvJb/mnPpdFTgSMGZFD6GPHrNfdeJF5P\n",
       "NMBatXbh+vlKnLxAdTrOpO8Lwpg8p9MBHD6fs9FIItp7CY0la/YW2EnpzqHOTCigPGwMTST+w6h3\n",
       "ixBvn5CORHrcU3Wsza04pV1hpBGFtRt14MGOy2Ph2zbiXWRJCn5551kUxoAv69XCxKxlPuy6fr/l\n",
       "iNe+4hu6BTnNwCt2puRFNK8Fd0KWRE8kzf29v+UevXW+LaiYdTO+QavGFTMxu4hTonsV6S23ZCzj\n",
       "AzuBEuzdYZMhjxzSRllia97NPuU/kFpSwJMqDPSOzIsC8cDEk+SPcLQiZP8W39gcwwM5WMNXvZpV\n",
       "MQxjBwDN7TlTUC0cWM6WgCIQLUW4jO0D7Y1DK6td1qJ9QMAqEdAFuTvT4i6ioLebGdbAAAACLAGf\n",
       "k2pCvxjvs84EGJcGb8++ad+cEAG02cE2yZdAo1pN00aStbnl4Zpng/8Vaesviu7skcJ5wPYmGdI+\n",
       "CpCpDSfVMuSKECPOk5c3A8BsQVtoX2gZxfbE3/3xK3D3p6ABuMx3gyqJNkBO4A2HUrcAZApPNlnV\n",
       "8HaX+UgwVGGt5yk+buppXbxlWvXMSl1OWWJsP0bazeCcqYqJc78uI/pbvE1oG05blI3D0rtS4lVX\n",
       "5Q0ntBa1aoD2B+35/q+lwL8MPy1gUxQCQO+lV3Aw6/cZv5pw84HFm0KdMvZVJ5O2i6ZGMIbV+D6V\n",
       "F/thwMPs9tuvvMde4XLjLZp1G6n91lW1bGA8PtZXOPeC1UYl6cAB6p7QjbhHLO1B2HNCl4eBV7z7\n",
       "2YjnISkNDWOhZYDbJwKDVdg1c/1E75MqCSAxHkICJgJoYNpq2VWH16gIM+0o90vPYaOvqFoZe57F\n",
       "xntjL7rs7aWZT/1UhlkVgAoq52rMab4AzTNfytjpb7sxxIH1rcSXY81QXUgplifmGhaOCF2hKZvh\n",
       "TQHdeIqAPFdsM3OylBBaoCL47HTnMMGX2mSsmZh1wjpy71ZDeHwHjOo8jOesSz2EAO87B/4wJIMf\n",
       "CvSyVy7N6xdR3HvnpAgkv1DLUZZzLHrW/Z8bqpYqQ5a3rx9+zkdPx2NiOudefPASpnTXOiB0Apt2\n",
       "lPbacnuCjGl8XS6fGLMaLZQAvL1X1iXg2UD4reQH/v+QuPHRe8ylCVAAAAQuQZuWSeEPJlMFPDv/\n",
       "/qmWD8pZU+lXzrPoAv7U3YLIRcF0+q1jdqvjNlAx4JvJkIkOeZbhxJ30x3qkbh6AGrtVAX5oAUTt\n",
       "YUAB5DTOsW6DUxqyZI2yC63v0goMNY86r46bAU1+G0PYp7lC7xFHc32HwKJVWXm0KfVYXPNHkVQg\n",
       "VUk9tEVwQoqAn9HHrZRMl5fi+axfDXJYr399wp0DO1Dj6WOuc9FskaHtq4sXHjyNELwqSirano5f\n",
       "4SlcDxHyaYnS2ZCfK9boSL98Zs2nBz5v3TpYzo62cVHywFA276NEAr661GhnUC3lR6p/Tn9hf3kS\n",
       "7KB0C4WkbaaH+MIjRr/3XcagZotXGe5Am5saDem2ed8pu6UUzRb0Elm76IjdfbG1CCtDQVhPF10y\n",
       "PsyaVuHBos1M2Tz868gdTheQIAFjVkufQf/LUsQZyj8zZxxQ7j2feqb0AWYVUkJkvHt11fs9HVig\n",
       "SZnAro0NfwXZngJUG67V7gOzSKgWs6Q+xs4UqoCQalbSsAUAa0v/wQjUvGSP274IzIMDf0Ch6rSd\n",
       "7Xq4BLdME2SqDlz4/ZWJ+gcGRNnazTTwR8yeCfbfsb7ZuPgQLWXRekbsWPhLGUCpGFTUlw9lkQbT\n",
       "6ens86FVfcbcL8QHAj8uWBLIBA23v/AHDjwh5wY/7nraNp9D5Vtquh875z0hL5OO+akt2dsKXeNC\n",
       "Zv8LMmqo3xf4g4aS6I0gMC7YdGAWcYIThmkL0fqpVYQoO1LqewUOMZlzfUW2xjhaL3rqirrzgF0e\n",
       "XuuNFKE9AxVrPzzc74vBCE2XCgDKZjLI4toZl2USK/+sPmlNsQuLMGQNhw5fQ3xvGRM3L+rlbyAl\n",
       "BSQGcPO8cCtDmzMDuSpL6eUCuxBPmJc745pJRyET/gYxhOGde0Megub0PJ66q1WlKiIdocI1Zhsu\n",
       "m9I/UscdMr0gBd1Z8YenDgnB4+PgWePuWOH4ENjULtMJ0KEhgRaijQmb7c9zZJMt1YiuNGsJ/CZw\n",
       "mA6Fqizx2ufIFyr0k2wDPsNmF3WDq9kLxk/I7CxTy3Ym8qu18FK/yKuByNB3vzXrEOkNR4G9gM6Q\n",
       "sc/Em9O0Pkf6fJDqLgAU/NehQvFfcn7IiS1TL7gjeFfEkQ6qSXcfBnCWB7nyNMIVHSu7DZaYUbe7\n",
       "cTwzKqUN9QWbR9gMbxl6MdqvQLBwjkIoPPRNZOc+ZgNI0uqYXfLcN/iIVAQrSsLxDW/SC30s7c/a\n",
       "T2GCHcc0gTYZo2swejbmfdx9wD9uqvfKfdfycSXbXS3wAZDbP9f/Zmd1TaajaToeXbUHOY9mdRYy\n",
       "4y1EyLNCSBgJKMjFAeEjeI7ftIDRfsTQvQLgRiHJHIRD2DIWjeJ0EqfH97D0DrzwI39PehRPgnxi\n",
       "GvGVZ2xU46XjYSwsBvQy1dBzIotOhSF+dNGUz7eTussAAAJlAZ+1akK/GO+zzast9hNpuaKKCuwc\n",
       "rCD9gBNXm/0ap5IP+hJ1yXgbOCb0OD5jF21kPc55aoiQplXYy3ik9z1OYsBqeUBjolDXktY3cXhn\n",
       "ez5aSpkAd+LYO4wVytsU4pJm7/Er6TGEa5gND6Bo1h13E6Eg6dDS12/BFUPpI/RbCaWsjyLVEGVu\n",
       "+KiqNrSkzpi/CVNjWyljMPE8Wt/x+4SqzvupdaegsaDB87OI79UHq14Ayd+Ne9Ss9s2Y4JnXB8Y+\n",
       "0jI6l17Z7PIWZW/qA0gIkdJaVc+PoxibrGWiHCqHaTOWZ8ypRxCZzVr4MAF8CRqvUIjPcZcS+jQx\n",
       "DGivsxS/IxT2dI9qtfV+RHpA/Ad+ngb9NkF59hoX1S+iHu48zrAjSXDh2m3/ldNw8QyMPZjAm5G/\n",
       "qAHHCWIqRtrTev0mT4rD+A/PhvNcyBE/TlQK9ZWU8bfI4Zh1jeqpFGIkBXBv5Pss0PQkFFC7BnPg\n",
       "3cmW3Z60Bg9Ds0rRgldlqyrSPCoYhsY9gz6iu6eqLoZfdTqMbjusqGeWLkoFfvTwq2YX+IYDwa72\n",
       "9FC+NS1oNsixBjJr+dmJDccgvwt7WSm+uAf2QX+hczCI0ijAnmIsmlPjvzFGOHIvshiXJiAtb9J1\n",
       "4ijtpYdLICQ/9pYuDAULWYN7PkBROnqqvusLDypYgIUsbdY1KnRhPuW+tJYH5agewUtPcYuvfEQ4\n",
       "c28hheOBrkdkms5Ykr2P8EbSVbkiT/ivbvxFonBi3J5zDhIcklKf1a47KGmFdZKhUAVFkycqkHMX\n",
       "0rRxLDJvKV9urpxVG1izKE71T/xsgAAAA8FBm7hJ4Q8mUwU8O//+qZYIDAiYAX9qbsFkF6s67ubh\n",
       "tq3h0K7+TXSCrrILt7QmOOaW6c7G3iplE+d3hezakK/0X1LBI0zhYDzicAvY1jtZUz2/+D66KFAN\n",
       "OHFTrMXF4ZJ+bgF3dWXr7aD6SnUWhJMHhXPT2q58xFKHkSa9yY30DJYAbmO6hbmrywP0zRVp7I+g\n",
       "8j9/irK5bdZZ6ONGRwyLxi32rr891r1J88EGvhI4gtjbtN07KFsaL+V3/nvmna90cxf7G423yDsN\n",
       "mzVcszsFOGaGmoc4NE3YTZqcdl3n91JWv9vnk0wFdOplqb7fq9OOS/aYoE+WWHpS00EFCp3V86t/\n",
       "nMBhrLw9ITD8yMXMfRRwl3qMnAuTKOKfewNFPlGwnu7O2Ak96P4AjauQuHvhLSi4dsacERtpeKze\n",
       "J2j3G3ddMLvehKicPnwKWbsnt0FH3BIc+zxhICHq7NK6GEHJSh6XLV7NWUA1JW1U9jx3DT8WvmEo\n",
       "w+57dTncpuSEk7uSmOyw3Ou8BOKZLrtt3sTfVd4Tdzk2z7CmN090FrMbEwWpQywRVYHTShbK412J\n",
       "H5JC0UU4vgo0wXXnSnnqQtczO8nAly6a2RZqFi6Y87sRfUcB0Ca+zaeOA3PJi35ZLz2Y4TDEILRm\n",
       "RVn7/WMA+AV7NpJ8Hl2a7umOwvg/03da21J6UCd4tP4DFjTjO3ftBddO+0PnFrlfif9udkTt9F9Q\n",
       "nuBb6k/mFtqeFYJ/7tbT+UPr4OWYvtOcEb7QLK4lcn0GwjGe6oyMUUGVEU/+KfPXZjU9Q9PduHcm\n",
       "Sqx+h74fR97hUIRxUbGQmMvOv15s4BDeXXwZ+1oFJ2XRm0AJEgPYBe3g6FwLQL14Nc/0dX4EJNAc\n",
       "c17lKvqKefrRhMPF3+XE0lgYzvY1ePaR2eOtnfuNZsc6dKlfWe4MoTbeB0CTkT1p/DJ5ijknDS/Z\n",
       "eNAbKlD0nrCgbsW1Nmm0VsLysOxST7mz7K+uptB8P1Hom1Jgahw9DDZ3y0MMNBm/bAfZ6v69n1Tt\n",
       "HByLZwNVSVODnmFRfFjnO03m/RZmK0FNFvAnrxMLb7fZVMfxTkCRbHzHsVyTkktGL7NRNgT1rfkb\n",
       "aEAj7DUvaDO/MMIfYWGzDwz0MCxj3c3B5JXVDU96KrxVSCqw8ku8+aG2NqBTk2V210GQH+GtdKla\n",
       "vcVn3LQkmob9f0BwVO/tj4EEcSMO7WzewmSLxe0Gi5q1UfQLghfYKB6t3GAf6rQyIxv+f+GfSOHt\n",
       "VqykInjLhiAD15mmG7Lc7+C7AAAChwGf12pCvwKuTD+w/HeAE1eVI8Bsl3Ihtx1H+Wt8Q3E50HJk\n",
       "wJQcCZ2Mv8lw16R+CVo+F0rrVMi/GPBfLxYE15/xqCkxzP0X7qNIY3EyeMFYkHSiqZdsI2Tp/gAx\n",
       "a/wqp8+cFtWAKUkutPBIJu7td7Ku2lSCwyNJS7IZxQoWVHUEDEWkg2gXYqONuT158qFSl+nX/y99\n",
       "F+YNaLHZT3y63zZHyZ06DHcqBfHg5mCEjocM53ytZjUtj7zc+EA66D/Va9WG1VQKrjV2YQlay67q\n",
       "pAnC8LoDMmBebfFDv8Zl+B819WjOzdIJe21quQNeSXUCz+vG/kFtoylVk8ub/SezdMdQzdVNRdJu\n",
       "IUKLEh38358eVzjs9E+GE9kGCoeHedGgr8f4UYbVgnTEbtTZonqUltK1Zw4unBv19iRnFS1ggSc2\n",
       "8w9tfm2f+b0Z8bQeeEZJOfCryLTqhDibU3gMtk/aqzynd/gGUV3AJnYAXIU0s7rRrxyPsTb0p16f\n",
       "XO61tKKRkOoDG5nl/8dQuokFn5OuZKuRssmyBGiNdg3bur2WAliF7R/Rl9RdZi1WbplqAOsvfyri\n",
       "qmowL8Kzl2EYdQidKkAAfu1nTVPZzcgtZsBGLf0pUk3WpRGT6fnIKFWbbYLcrJXPFmBCHLnyT8Mz\n",
       "vvaehOHR5/A5fPoHaNGWiLaaZWpdEJDTBiT3OkdLob8VwaU1j87CI1/nUgCC7NieNhJ60lQiJL3v\n",
       "9NZ6f8tGps2RmSRlfl7rKVbCKma+9u688Gf0aBHooSO5jhpLDNRSDo5kkXqEuyDn9+VDryieYvM9\n",
       "MZ73G96sZIbyYPK2sQ685w3VgmMHX4iOc/3EHiCIOuma96+1hQwpBd73AAAEVEGb2knhDyZTBTw7\n",
       "//6plg/P1HHtImOTgMgA6KCfV4VPYMfbBz8i6pzkOcWpTuMo4YTRLm2OvP3tDploJXn6sL2BIO10\n",
       "BfR5GLKVibIsnJbgVs5rczEWHPioMTqcfzYiGfmcn54tCUXjKg4BUDvB+c2wyJdLap7XN04wR4sq\n",
       "nqGz4SsEo2hB4wamDGJYjL3YZzn90lWJ/kr6yOOYmT8YX13F5p/lxLOlXWtr/tQPyEr7IW7cFMfV\n",
       "HTv1HbbpUn7hjkLEWBPTgdUOr1MO5dAlgN9Ts3SBls093XiIlmlVfqEa/Q1YaNGUujHbvtfcfUMi\n",
       "gC0ZPzUy9mnvHXHwUAxJhLWn0KYxybi8hsE+FUa2xjPMIfLF3otvlJHnO9W25yWecbDvYi+PPQAU\n",
       "ACumDN/W4ksnYPdlaeozvELfPBBKn+YeyR5g4KflEw65T86g6YZsY8JhklMC77DCZZnYTFsGuNO8\n",
       "JeQ4ZS+DywSsvcuJi183DSf1pcUirj4Ho3XdjFcn+hZ6XhWJBNDwZURxUB81KaS8idbnh6ny4fKR\n",
       "tjk0afYMVt/jnbJBzvBhfn7o+8KgEqOn3Pm5JnhCiXYJIeN9elKJtISSo5SZf6omj4zHz0/aRIuB\n",
       "jW4mx55UkfDjRdE85GDygAeuePoGrFnCEkSes+RZx40ao6JV/jRHQRd29oqpvAn+YpXVD45kf9zx\n",
       "r3u/4tysrXFApyqCFc5MWjsIw73TryLJKDKHK4nSIbAxKegT6mb/uXLTqsetAyhDyMOr4k2gEynq\n",
       "mvj3Vw4bB5hNunEHsyVkZkSszSTQFYsXrFPLMlvdROxLwxXuFNAilIVcQ593uuCzWJsUpRvGkkYa\n",
       "nM50yMtrSlUIyPc1MbzO0kYge7y4+19vY0z/hrtxLV8kuQHpbYRbNmD3dNLHdnsMTicXH3RUhTN6\n",
       "FsHc1QdSjQ6q49ONATVNf5obL7Zsw+f0Apx7czAWqINn4a4h+sQJ85dMMM1JdG6zNNL6PjEJmnXL\n",
       "fzxEyi9TKIfdaXBnX/U+x4sieQ6W17D1pEszTe+LDCAUxkRuZ71gMCg8u4H+gxxI8g+Zz3cffTo3\n",
       "tgV7Ihm0KWFbhNK+HUIKN9dljpyybg4EEWZWg9TFYZYTDb8aP+HU0LiOgo4Is3Eppff8qqbzyUlZ\n",
       "DvSITU0VN96goPXL6RYpDaeWuVj0HAFCcGSXtzfefDwM2wWfiG7i+SSPF38+jE7PTZB07MLQ3fA3\n",
       "ChsslHvbLY2CVay58jV/TuvmTRWOufJHobBySpSukVWTZsFsFzTxpnj4DDnNzfeOlo15PTDLwJmK\n",
       "leLFBPp/NT55i+Pd+0yn57a7dIvZK6EzWjyXfM9gORDOMmQPjGMGIW5CwP1H+o+iPqpulC523Unc\n",
       "TXTqCtgeeT3yWZX69xbPkdBrF4gtjgw4YwbH7eDc5fR0OmfpXfIfbBp0Ra1fxB5ptMtJ1KSPD8pq\n",
       "4RTNWobf3/JNiWUEOVwAAAIlAZ/5akK/Bi2rdu5s5oGd6VUGq4XB4AIemq+NlYigv1dn6ptktLAV\n",
       "cjLBRoTGaDEV4yksAC7abVM8Btn+Z7WA9B91PEA1khY3YlxuEjMbFQGVinqwFfTY4R24TFOvSmuG\n",
       "67U+eBK6WX2q/C/HHgBm0VxZGw9ZxSn8MMqXgcAR/bxxjs5h9ExQBQgpgvPL3+giKaHnmcv/MC50\n",
       "MHWujA71yH5HOJGFvWXmK/oib9Lx6BR1O5v/z1KCTXH0ORn3p8OGjetpjy9Yoc+c0P4TpMGkTPll\n",
       "lh2NkVDuv/OxsfyRUjlml+uaFrkp9NPrrvE/Z6EU3qGU+TMl+LiWOY1PvuDcAd1s9WovtZ9dLizm\n",
       "RIIQ0mR1dy7HeFn2qnwnhBWEyvTew+u/FACOcbzwHUYdd8BzUgY5jvuw3f+rQCditfXSZjdQl7i6\n",
       "MD8vNgRbhpsU146/9BtcZp8JkhtSPfDIX3H/jwWyItPElTv8sXrc++XV04DU5G6mbeTF9vR1D67q\n",
       "aj8h+VIIg5pr15OG5OLfqmwa49/a8SaWstV77ex0j1bTZmQk0koKv23wELYHlYt/oaUxI+x+hOCP\n",
       "+1I71pe45j5MR3Yl8p/WxF4PIUZ3o7AIAaxBYwQROdVb3Nf51jaqoU8Dk6ww2dAJHuIQO1eYE3rL\n",
       "Zu9GDacPQ+sWt6XI6m7HKgcu9MxybxUlrZLCjuHz2BRmAvRzd+35bwdVn6SrV8K+eeJNZgUNAAAD\n",
       "1UGb/EnhDyZTBTw7//6plgMncaNPcAErsAJbsH9A1Q5+nvibIEW8qnW0L39N65Sdrwp1y0CB0ZDe\n",
       "8cwfefC/CNtINBQc78cQ85QgAujbNL+QFWvltkQUap17kNESaUSYm3zwZOLoxB5ZYsPTJ59idhAG\n",
       "8AHq7few5033XWTQW4XwK5lJaPm5epB5cAK3N0CXz0QOTShR2ChmtTSBPWgR/NkgeHNTFTgYOdDQ\n",
       "a7hPIWGvtFmHgkqAi8zk53uV0MjIUs35khbVIzJVe8kwX40POZ/et80ByDr3daYq8s5LqzwlMNiQ\n",
       "DoJxXlAxNB5nzOpMESZHxR7/jwldtVrc2dD6hSDV2/5TzJmp9S7Zs9ckRsJTIZFJ8swG5NTV423l\n",
       "AMHo4r1uTNDS+ycQArA+ctuhZlxfqG+xVKgZwAdBz9YDG0EJnRxlfXdZeNmcy01I3UVr7DvKiIO4\n",
       "tpLh7ezZ4ALEmn3lPY1KLq4U3W2q/wB4ESHOU6Z4HG9aagOdHrDCbnvxgPUAIfMzD9H9/2vi3lsg\n",
       "xgH3R/6OuPJOp7w/FuHo9OO4Fxi+lECLQ1Rw/H1YINAskAmuagRrPQpisQF+LPUEX6YFhy6M8G1V\n",
       "X0fxjFtaCSGxqlR9jAvQ8y24RQ8qD5uMNbUcb8zAn/k3oI5XfntkrnWJtC4pP6ctcEgT/9qUs20h\n",
       "FRYEAbf0qjrUFFgjT7H1Ng8mMTFLu/fOwZwLwQXJEmU0alzwhlXXoiNlHLEqBI5/11hSc9CnH+PM\n",
       "gHl6HWlxakqU3BrLoTeOd1yybrDtgZB4MuUHOHcqRHNmsT9o19nh02dleB8uudgnlCEB2ZnxpZ2q\n",
       "xMJVR809QaNyc2/HFGhCZX4VRRzkSlVR+VURWjyyt8tDs81VSA28hFV4GRA8o745bJ/AyeHcsA4o\n",
       "YYCzvRQtwmhhO8fcJ3pEMzQZtykE4zxat1OW+z6GykNuNBvMDr6S8aTk0rAjZiDMwx1MKLHCR4X7\n",
       "oTxzVWJlgK1e4JYSjza4GtGJSOQoYAm/DdcwsTZIFJHPtCbjPhJnrcRd/X4YRooUq4Ax99+H/YN9\n",
       "shLJ2FPAqtl2W1UlM+QJDZmEzL6yD/vJM8waJzuWIgFoX1VPA0EBVIkwdni1kdw9GeyoIhLdxhK5\n",
       "TeGV2CSvnkqtNIuBRBlpGysdmQBMeWhOz3yO0uictfg8p2O8CmLLt9Hd4V2rvM2noGrCLZmfDAz4\n",
       "BgXj+sE/5k4EUZJV9oB/1m5jzwMD1ckdOynwQPnodmoi+gOY06v2Ihj9xJskA5Vk6DmKAV7ZJ7V3\n",
       "7OKt7829Nkm48CZCWAAAAlEBnhtqQr8GLat3WKG40eNGyjoWsxe8FbneSt68AJq86HiNTKBllZ9x\n",
       "3NgorLL/Xe55EcT09o5b1QhBoHKTVTUM8xVfdg19fG9cvKof5MIhO367b9Dm9v25cA0zIUFDTccz\n",
       "fzlhUp/GojcSE+Et5pNDYo9jzHf1fFOPDzD3nKLdy/Edq24zxdh9NVFZXeOHpwidTcAierWAceE7\n",
       "NkJ6dj+U2TCfNmDJ7as3jJ2LMLfEnFzpNB0/z1edwGnE+QDPiNBPO2x0bebwueF/f6ORzUWcbpbe\n",
       "WK+dsDybhWHOycW0cbg5z2AS1seoDot4LQDBpnHn1RpAaHWbUJ5oGQHmsFETk1q22NnXpYUy2nVP\n",
       "R7yF4TGZwrnFem0u3u291LOFD41JoqLZ/DBlqry28uBKVLN39PTwwNpnMZvEjlSw75C8vYvRiqg1\n",
       "tEm0W/O5mRfzyiwmIG5ROLYqms82zxAgGHHX7a7MOF6A7kiWbig+wMrBa2EeMqdwhsswYbJ3z9R7\n",
       "lGCjvFcaKfQzJpHYallqqrayK63wku26cNRYhUckjKNOdxZsrI2+38JqRcUvKljCsbURshWWmmJv\n",
       "9U662pTCqoI5iObSkP6qJNieSX640UOfwNBzTm+P4eZKDjAMmdBAa/us3luIhJjCTFYx8UWTU9ZI\n",
       "m9fAz6yackvRruXWkhHKEB2N7AhdOwoP34aElC3jCIpyh3HqSCeO9Idfpo7a/ho9dFkzoyrGqmu9\n",
       "Os7Xt2OMNGERGgh7nUxYHj5nICsPDpZEGOAEplJAJ8Fw+UdqL/gR8QAABDlBmh5J4Q8mUwU8O//+\n",
       "qZYDHfkUKgwATqluKGf6VEEhoeaozk2DaMvdgHMzN/fREjh97tsvFQrgCtQbZWLZx/8qildJsssG\n",
       "wNYihPNhT9qavYcSVsEZse6Q1aOT2hW3r/fAuGFkQTolVNZZpCgPYBgLLwk4pM+IIge2Vubs4TAw\n",
       "E5Y0wHI5TJV+n1qKPOihYd0QVzzz25nQwvzzlW96kMGjCNtES2vtQiWNlN2xZO/rhkKjqLaYMO8Z\n",
       "UYHRSCMyG0h8/8eqQ1VLUN+6/7ou58eCy8HrC1HqBncLz8DOonzVGFppMcdrLi+s+54f5THQtCvO\n",
       "EyGarcdobRhIgm12rSHqBPcoTi9wlmfXYZT9mxZoG84n2II+NxMHBhb2jzu/Z5QrZFB2r3K5A2QP\n",
       "h/w9973iu4ciL/n/RN3y79QLGAPcPsrANEoqegzKKGzNPb8JjXpALlNHimV50850udeMVFuiyNef\n",
       "mzBUNSua4LAqkU/KmfSgMYhvLmb3RoBDQ5q5I20X97qo5mWPL11Px4GI3o7Vlbo8LtnIy+7IXe7V\n",
       "nOCG+7aUiH3k4b+3tAGfrWIwCg0OZGoi7UX773paK4YHyAGhP9/rHjn5iJgXHiA7iiQgCc/3Cnll\n",
       "NDKCkVcURV98Vu6ChERyx6gYQOVkVx6HnN4fExLSWwX6OmKR45J2fONfSZhH0WZiMo1vqHKWVdsU\n",
       "UP7JRWpqzrhHL5TedgT30hGBfvFh3hq0E5mQaSlpRzDb12Ycd/x/8qRzU6gta+EFqcfxKj6hcSNF\n",
       "vGZWgyvgYdF0eQ43XpSNeXu0ixDjEVkzyORefkoZz51ItEs4KSKwBb9oqmFxGbozTdmN2nqhv7T2\n",
       "clqeLEH+o8ksMplF/7zpcYsz7M1jl324aSX92o2OpykqyD9CZuq8+CwdCdSdsHQJvJaAoCZrPOTY\n",
       "l7k7nRaKczZhrXynJ9TH3HvuAaQwwRt1hpZXJ5WhS77yYcvX+O7XjzcTvNexjsNdXs4vBhh643CK\n",
       "oM1ggYT70ZzDcxQPLfau69BaxYjgGIHmbc8cqb5sR3xF7kDbjy4bPlRQUpqsV2fQiv4VZyPbmF2H\n",
       "bgz/pusEc0bzEXL2LrARnMtFAdXIlr+hfOWUihi147ocz1MzrvGb/1dKeXzrPmtD+e7K+XEFcf33\n",
       "8MEKq+dI/ItEeKtf0HEW9uDAmD2RzTN40vIJ9RReLuesfM/tP2ZT30ILszE0taYkdUL57a9+DBCt\n",
       "EkNCjBds/3STGQbMKdB8YIBi/azzYaU14B+ZWzurCwGfWk4TX7wohjA3dTHuDmfVUrhWGRwAimw4\n",
       "aDiLYGcBub+lMn4Y43ZykkJISyhfV/5vB8g6ojqtVTMnGWrO11F7EcAGIpIY9EqNY7tDGcj23qol\n",
       "EWvSfM/cQfGfvHSFPxRgSGRKK03/m5ju9U2vYpnfMjSOqm+MSaegRwZdAAACDgGePWpCvwIUVEiA\n",
       "E1XvFqYwwQ6zxhxbP9DSBAjeeevf0nQLlBs4vga3f7kM9sz73SwMc0ODLTKfMwjL+JUl7CSWSx8B\n",
       "i85MHsiAqUamBaCZLWpDlO+ONixu0YsfYCqZHInQGvpQMixQATuHk0t2ne2erDKnD+e0mTw4hlme\n",
       "at569E5flzN8832ZyQ8viLecy/W9ELCk9DeRe/A+w6lNbLU2aOAvjA3Ub+Ly00ySsUnybJHVGFzn\n",
       "iim5fqDzztbVzC7PtUW0xbeOOv1hG0fUj6WqDeLIfffOhAke+qrkYuXSsG7dylCkgmTkrp96Nw5a\n",
       "XPq6tndAxn6X/BLf5hLRKqEtsCnOUj4S12bC/k9Fmq1te7DDSNss+xEWBGQQhUHSuLax1xtx67F7\n",
       "/50ou4Ybr3Cs3pne3WZECZoRSAcij68ZSvYkybO4S0QIr9tGNXkpDxN96UcSwDLpaxSl/C1r3bdA\n",
       "NJyCoJupAlkxQxdAY+Ped2fkJg361LXS5CO2T+BEBoQ9l5P7PAhhTGnsbT2PkOcQ+CgE8KVv456m\n",
       "qCUe8jeGnOVrQAjwIAXXkn+tsaey/uMFpas3NCmC162toH7K2O2FBdg6j/s2eWScuudM/SE6ys/T\n",
       "d4pPL5Xa5ibPDxwPTolKvwvRlEyi2lDPy6A2LurfXEuMgJhcIuYYKVPA4fpQkT/27fcnHR7N7sZU\n",
       "qYAAAAO1QZogSeEPJlMFPDv//qmWD7PIG55TVjfaCVzu/plX1biWn3UV85BgBCmvUC1YNl/Dz50B\n",
       "myMVo5z/ZDcFqg5gvtCO9DdwMHi8Wm/KqKd8XzN78thiZypPq9PuYWJE/mlvaVcP8NRXqxJu/e65\n",
       "MhH8njaAJrrPuNCeyCxBEYfJL5GP7dLAdXTmjduPWy+bIJkN3rw0T9K02Naja6mlkj2LiSca5Nb4\n",
       "kjhZvoslyGM7KekpyogGpkQhRnQpqJkmJXZVd7CeroZOQ62ns6gsqi9l+1vZw79NZUHBXnwukTCA\n",
       "OJQbe4HeqYXNsx7TJQwNAsHgiW4TBFbPKbNFjtF51w20Tg5LGyOFNQt5Egaljpx0BS1qggNyFLPv\n",
       "BqUcTpyjzvQMokLM4e57AmGG5TNVGpJ6qBXIFMZcJKauc/kEK7FLyQHzSQ021LCZTHMt9ipbY9OQ\n",
       "jqeI1ydtcbL4TF+w89W/l/uLVrs+8WiHWQiQP2j4G3rK7+DiuY5ck3lQQ/vZHqaQWSEyos1ZTflo\n",
       "Otho672aOeS9ogHuDQm598wfMxhUVLxCFVX7EpxNdWBcf8szAuUoILYdQPhOG/Ksg+ZT59U3MvDp\n",
       "PBvXRn6N62eoBlpR8li22wUQLZianJJPoplqjkUM83TWMnzqG5Fw/jvg8c8tsinHkJM6bjVlJzuX\n",
       "SuX31c3Wlh36kyQeM0quu9GTbTfZHW3bv72aRE8jYvgmnAgRpT97WmwvtMB3hM1cVMCkW50DZEb4\n",
       "X3UJO3nREtrrSsw2605JvBmXJLtFieSAEBwabAS/0Vry7iokr5i9XR9mAG+HC3G4QYId0q3dK+8n\n",
       "3I08WRcvDm4pb3a1qH/0vKPo4900/ifRwTZey+BFyXDXhBm9HEbXmXQ4lZDxwOMr4AEZ/yDn64sw\n",
       "0Esen+85HauH9Zkf3QdsGx9qtczV8Izn6tBDhilcwQh4xyNVnZLPg2iHrn8XlxF+a5NvhJewOzWp\n",
       "rhdFLhCUIyDOdKd6/g7lFUhK0c2t4Hc4xbVS2FfnZLr1i923MnS4cOF+cgSGuNllUd3thKmF6LNM\n",
       "5Q8vbUCrqDFOFQv4St6aoimNHYilq6uXHh4XhR9L8PKCbXYGOISteqTpdzVF8Vi7fx0k3PDYLqKZ\n",
       "PTkZ3Pv6S6JwNddksOfwmCx8GeN2sfY52POncSgji4q0uu0sSqJtMe2IrXKbda2d3+BOLqRpvB7M\n",
       "p743I2w1Kl4I6OC4jVl8h0At2hdx5NMy4F4qk4m/kmjNv+Sl9cfud6y0oAAAAicBnl9qQr8Fr6t+\n",
       "7C32AZ3pVViLnLwAmryHW6XlOROPdSgbiLtt6n/RO6gwSuOZaIV/O6AAOOGBpzwRRYYY/iglo45q\n",
       "eNefLG1gOV/QYVx0uvg8MXzVKyWpmHqxok6cjj86RYlwAkfjJSIcu28buKIgFpTX9BNKdeU73Ch9\n",
       "2yEKBK5o4RDzYBLynrDksQzqCPZWOh5z0cWEc1LsPNp+Rvp+BtSsd3mLTDNnjq4AJzELcCyDI0Hq\n",
       "ziFUXMMBIqkY1ZvLAm5W5iGlxRZ12Noo6u5Ifcf16rSd/ANKuNufrv4I+z5CNho0Qz6Y6S0Tj2eI\n",
       "I5jw2h8wv5c0ZCtNSEY7nDdpiRmYAiHCt2Tm9hpAQvW0Dv9Kht+Z6B5aty5CtnTJbjmBcVzkJ+nM\n",
       "f5mHbuOTaVssEWdPPUkzrbnRWmtLg0SGUjYa7JYikmSdqpK3nqS3P/vkkNe2AXt/Swh5JFHusVxG\n",
       "VmKbwUMxUQ+4T35206XzffX+Q2gPKy0NWId/T/CKF7pq2bQ+HqDYgC0JLlkYIn0O7fWuJyBq/mJv\n",
       "VP1iw0jVVeo7Wfmmqu14tAjMjm6G+a89anQ4TEd7HlLuSuN+YBY2pyOH0MpCmVCYBXSikN1/v+JB\n",
       "YgU1w3MJiTZ50iZ12rLHKfvio4Dg5wXTYLXquwXEZzB5zV4zJwEjoS0FKoDQ2W6FknA+eRGNBCAb\n",
       "9RSYKoRI5weYB8Y3rIhKskNquhNd9BnvN0+esQAAA6xBmkRJ4Q8mUwIb//6nhAZSThigARBrjurG\n",
       "MsKLWW2Y07mV/l2Z+t2JVmtTo5GOJyv6MrCn6WQ9hOxfA+mbJO2wPcx/5V9CeKveOF3CkJB1Tdgk\n",
       "rVZ8CO+wxOhzasRsOrnLHwt3ui3nzlagLc+Whtvn6gR/oaN/woi8afo8xVbBopltBueiDdkblyhg\n",
       "2AtnRHkwKMrs4Ao1UoRDaCPROv0VBtSU22oOPeZM9fb8JMqv19o84OmPJnc2yMU0RJQtXlSyPFYC\n",
       "mUuLI8uTfmzQncZNh57fhhRB/NXjAnCfxNr2YB5vP+4GXF9+Wmyd31IKd3jpRYLy3tzZ26NdTtcP\n",
       "eZui8CqZfGwAMtzEFu81H8o7pwwa9KLj7vnSGrXme1X12uM8Edm/qzdeGn3x1PaG5o7ildhVIa/V\n",
       "dMANn32RJUetN3MASYMlyxnTHpXl4PLgu16AL+DyVQATWxl8PBfTdqKkAdHUoyUh67QGbdekBgFm\n",
       "Ls/Y1RQGIVFB74PTU1kHSuGt+MKYkPGaKRDbV1cUOWI7m4+x00Rk0AwehVNwWTc5ieQnUmMKRoG4\n",
       "5g/LGnYS7URt7fEqyPp/kCJz5Ijh/b1EB4hYq3z+OssfuehXT8KxtO/YzDCQJRJrzSTp4sQ1zbau\n",
       "tOm/34Pynw3xgIibInEVfGSYDyiVgaQ0Oi0TfJ5flxfDfPYpuf1cEC3wXpV3/HBE86GrlZOmFFla\n",
       "6+8DOXOnuNvGqMeGdSppk9LTKg0uiLuzWywKjBLdGyeFiYKVQ9f2pIbHTC4dBQr/FqLYdQ+S0lc9\n",
       "Zx6fny4qLzCSuQ+DQ9o2gSgwaUWdw6HI22l9sGOeNBgKX9H1vzaQAaA2fJnsU1LA/ImQM6Em1ztT\n",
       "Hn2BcQLWXG0i1wfR3UaAXFhjX3VczDt6xTDZKeZ0IsMWrWgD4KIIWHdl20PCH3Nr9SEX72V2ziXF\n",
       "7sb0+PtQbr+R7ELRVYXJ0aW+Blsu2nnbje7rh2E6s8dpVp/EmZuDOCHjK9F8udEMDO/+5XDCBOG0\n",
       "+qs/8chGLVTSTSVCx5Y66POagQg8AuUIZq5rZOjEIc2pScDHkmZp8M6gfDQqMIXXHjivoTsFk2ps\n",
       "9xHal6GSrMqJYWIPa5adSpziTfRgo1sRqyqaB5Sbd8CPOZAI7cnFbWmwer4bSGCX701Ub7kCA3IV\n",
       "5G2+9HT6lHMj+GWH0Tac6/IPkNyWj+h9gMsu67q0NjnvQaiK+TL4yCx1OcmceLZ+AhRLfVc8WVRG\n",
       "qgn4AAAChEGeYkURPDP/A2ydv5NF2i+vBIFhaSYhNfWSNRqwAQ7AZnq//JexJCIJgtd86TW25mZK\n",
       "w2A+CERidVwLJI6uUf1eEaAqY8HZK/BRKZ9B3GEZydkgZyEqfTcpaZF3xmTBMH2IgtWvFS87Z2CF\n",
       "I3C/iNetr89C+uLY4YnSBR4yg/Tfe3tRpIKlE8sGJeQDVbob506OzJzrCwg+SMuvQqcVSFoW2PO0\n",
       "SlzfCljCp90YRW/6QrotiOyEsjdpg4o4J9siE1OIULGmLf0C70+ArkKrtiiQrHlTPi89Lp8xa+g2\n",
       "a4gFV66aTwK+XHv69/LFPocwhNvPgNyKJNKxdZwnptrqDKhoDtFKLowBmUp6eHgjfPw8mKSwW7SB\n",
       "eDyJOrrO32541gBhVCXghtw/tC3p9WMwJ97xMq2NfCFrg71n6h5GX4KFdC/omCGohj3WzDTOzjfx\n",
       "9ohl6IIyP08R7hO3xvLEkRY5QbVZQHCvhOHKjbsoYHfMkNnL6dSNZx1eKDiEe/mDaVGfj0MELtwX\n",
       "HxpiFLtGHnnrlKkuC8clcbhpI+w1ch9HvTeDZAsJ1hmcH/F0bD+YaLMC5bjqwDn3WRSUzDEjVgHN\n",
       "ARXOHts5x3DCbqoA+yL+TcO5e8cqAqp+Xq0ZrtwQ97MqPGEMOa8ZMz5v4avB/0qMZfaOiJP50Dam\n",
       "oUgIjTdgqTZmdtjygBDVo3Ai+CE9py9/egHaJ3cFLgJju3gBperFa1NcipoAYm67pqZT0lcC21Z6\n",
       "ZnS74C5CgpLpcvgEawllaXuTqIReM2rmpynRzvA9PQ1wgk+P/QDjymm1yl0xoOcNITSJb8XpI9w7\n",
       "P+LvCxsvVLW9uZXAKUquhjgofpG2TkGvAAABlwGegXRCvwXsBs+1rKo+ITYQ+u8AJq86OvqHm9w6\n",
       "nOBndFVI9YSo94fVER6z4UhYnccmHAGP73oSOX3PyK+S3zKqIPenHYvdtK39M77DsNpHvfIverkp\n",
       "TJAnQlUqVPF0FqiP42AZheK4j5OjlPFza9X0WnDvCneqO3Xn7HWJOLC0uUwDOlDdNvhhNfpyZpjf\n",
       "zXTEwyWkg/rpB1gENMIw1v2gT7oac0g/ikD4GwUyG3aBliY7puc44VYqsndeiYGof0b+e0H+3V3G\n",
       "/VTca461goOOd+qkcgFjlz/pUhkuLz2FMFi77ogC3otHYVJ1ABTe7UMhcTOS47D6FUYZF+QGhcs/\n",
       "ncx2HBTgZH33CYLDvsUl7pd3Jz+BWprdxrSEe7fxG1NZgQ2hggYJaYc0uMjnSdpfuDOwHN4TM+Iu\n",
       "SZECPGdq9sdO/l0D4WueuCc6GS+kHuQ8yeboSU2p4zJOVNatftf/u6NmrVGQuG1+0p5uTXe+jiB+\n",
       "H2cz9N8BCdIJlvi8LjZgVktQE9qU1jk77fsuzJAIcJB4AIaAAAACJAGeg2pCvwNotAR9OivXIHSE\n",
       "AH886OvtWQbLF9Tgiqslq4j4r6N80fltaqGWEvxLljrpAfT/OGn93JBMmMcdKyEYPIe7cqWCmaqY\n",
       "6nzZSMXFrodws9M0xD74TJlLrChfYri2SdgOARrJzOzeJ+BrEUtn+b0Y2qvnBZwoKjetRTzRyi5n\n",
       "P3rQmWdPaiEuspnjASpoaFnA6fpR9/O3xlxmTLWYFfzTKfodoWZJkUtaWHjPRMSbhho/fALFxFk6\n",
       "tc2CCKZmKJEYzkuL2sVJT8YMH1BDueuVYa74PLnemk6i2hfgqMOrO11DFJN0iBysBX8zgd3bpJyA\n",
       "dZcjagelsvQdjEim0RTURwdaOmJTJ8hR8+Kxu+sLmcSOiPMsee8PrQBKyPGJq8GtkEtooC75E+6Z\n",
       "6/b12O6AmHkZPwD2aHYHdxF6qGaMGVoWWbI4w3daJ/+Uk0jwnoVGv+SviO+uk4zMWVFaH4U69XtL\n",
       "WIgDBzGwFUy9VliQ3JPB50Fi87k+n6/cbnE7NvYJvwIPt4oElAHDYrmb5kiDRvo4t9rTADTV7/PJ\n",
       "OAekh2E6LqnSFoqR3YyjgbrLVJELPi3swLkG+/UOmIvEh2IxX9Xjns/MDXRo4O84QRhAxYoYl3mb\n",
       "/2eIXv48cDAoca3tWWSZlWFc2W8ot4imlc5JaPmoua+FUM/1LliC5rtfT5dSzbvtuS+C5aWNLUyx\n",
       "nJyaug3UwA40jYJJgd0MOvT9AAADakGahUmoQWiZTAh3//6plg/KWVPpVMXgsdX7k4wAbSeyZTsN\n",
       "TiKq8iM17tHbn0u9nOQCv85wpH6NffyH+bg1B++IwrRgDYP7MdlISGbhn+1gBAsKnqQK8wVrXeuP\n",
       "uUaabH03ZFSQ05YSvrD2ws0X/itCJD5emmMHhYvxK9KLHCHX2ltu9EdFqr56b2gp8S9px605Zh4l\n",
       "sta9TcmJKE1dRG5McG9kVYhTlzNxyK+bAz/5mJch28Eil3o7g4s0cQQN9ySmgO0mztuePR7uw/A/\n",
       "rS0F1aopl0+h9L+FDEDWJHw5WSME/Xh8OTQbbsv7EScFWokRbYx4exereM07//rrmRgS7S2wvGfQ\n",
       "tDsbSqb7E3aMEXmzGkb4GOddaJS3wiK9i7UJsK7ll893j6/RPIjvtIYvbG416gsLbQkdnaqyxE1b\n",
       "5vTx99B759xAkWDlywFQnNJ16+h3D+ASaHQn9i79B3z0/+btfSNK2RJF7kmUJqIrN46xtPVYh7g3\n",
       "5OZpyJm/vFIZHDAZ32wjRP7I7hPR8YduwAtmH08H6L7dS80TUi/QHHxe8r/O6a9a1fO3HBjldGdG\n",
       "5WoM81vmHT70njZn8a43XxwfUURlpQASCsr3B5xsBH0e4P0lQEum50ruK1K6iMBYIDcfn/cLHqN5\n",
       "eKLGOVW8MVk/usbitXhad7gpSuLClEF+JOfxegHkU6PWCUL0wxCGiGq4MDKwffO7dVXYEdTeH42d\n",
       "fcnQg9E/vGn4BWr8Mvc/yly4hYjqfMy1sTvAW78lyvILwsr5/d0SlAauUIFW0q921TUWGO3TlNAR\n",
       "q4UEAk8xv1i/xN/aK/x7yiQiF/4iHT5w/dy+5KlHrlOMi+1TH2LpVT48igyLqjog7gdiTl/Yc+O8\n",
       "tzVuhm4FR1jukgWZZ0VAjuTxRerVvBYeoLMXRmBA2Dmbavy74oL1KjBCpoOkuoeRevT3BVp1prQ/\n",
       "RV2W50tBmH+/oZidQ+Snh9O3aKepfTJV6Q7KHgBHip7bcA1UEkoK/nLHVKmeFVrA0kMtt/PwCVxT\n",
       "ZRdKlazRvE4K4HtfIZYsePukDH1YXxWi5ThMUFW4WGn/VU0mr4JT2udL7yoQxYhEl4fDlIKTkeYJ\n",
       "IsPGb8+d0vU/yiCv68XhkhXAD0EFbwPZ0XSVAJKiQ3WfoFayZc8O0D0AAAJAQZqmSeEKUmUwId/+\n",
       "qZYPyllT6VTF4LHWAG9+FgARB7pYN8lU1+DITCP2Dbx0zsnFIQxfSjqgG6u0HfZf+RTOgcNsBgtH\n",
       "jtpJTPm5QMCzO820BMnJqTXa+z/q/ymuMJnYlrRPD3BpC40WV/HmpAWXm1x9A0X9Nh5JTgFuByaT\n",
       "MpRoCwiJ3A/bA6aL2LTeXtj0ROXOWGekTVavM5JTbgHnWrSdNi70PIL1CzhqsBkz3qwSKvn4sxSq\n",
       "oqoBCgz0vBJjnODL8/Bzw/MiZ95DJoC/byEYgndT8YdFhsPwhlf5w29mxtylmsXD4DLruK5BlYmC\n",
       "C31ZoxYKTkbSydqmWk/pSJYCII/hkaySNWtXu2qZWIIdNAClxI3KGv5Wrx95tdk7frkDtj8cd+QA\n",
       "FALHtIpmmxU3+jApABUF4YxrIv0pRKSH6x5TKJ2H82GcIXrohR6igwZmVb8gPQdKz3XTG6XhhcFh\n",
       "SRi4oXENtrBV6tI/t7b817bgK9hr5nKWhxn/q9yityaevFSAXtJcCLH1hjktPu1rsSx+XaE5v8W9\n",
       "TU0upm1bXXZr1oBspFe4CESpmApAXEYQiczMtOGndHm78iLaRzo4YIXla7SIO0CXs4QYGsRVNeAm\n",
       "5go5NeK0H85y5SVzqiX/fOWFNrWyjKQExWYz35Rx3ASa8px68cIuOVsSkfl6gDUm3Ec7dTcCdyn/\n",
       "EewldjNNZ/6aqm0Zscu80gJlkkfrCR3gfwOXoSzBiw6pxcqyFhqQUi36B/gVl2oJdF4RAAADuEGa\n",
       "yknhDomUwId//qmWAza+nKYMjBXNABtV0AvePyRkK5NU48CbbGmhKCd8PZ9rkn6uC/oPttsY0du2\n",
       "TMS81rQgxFvF0XF4hod1gKnVd6+fk0J7x/eLeZCE/4SyaXMqmqMXMhcwRfxI1luuscbeY5lRJeFV\n",
       "jULNDCespQWOTV2zV97HFHbNwQSu2GZQYErySForMgvoyoJU3xtNRLWLxTQHMC+Wbn/01DOVlxDt\n",
       "Fks3liTUi3HGP2Tp78My4hkkHQahaXOgX2GOL17UJEiazC52RU8LuQfn3M2Y4ah5ymEcVe77806T\n",
       "PDTfVIacpLrzIqyBSS+7wm4aVBAXy7t4MVMP1d2x/HQ/5YXJnPtaZ8HspGtKmbeNyh3d8TJpQ1eJ\n",
       "nTRKD4LEMy8g2Ig+Mkn+Z1YZ9C4D1VSJlcOhfJR7RZKyK0kZovvm6QdydMo4XzzvwOTr0rKetT9m\n",
       "ns/WtNP3S31gB9NozmpgEb/Om2TF/Y3fql/Nnvg1mQxsKnyeGcd55545JVHN96g/+g1NdoQmw9jC\n",
       "jm0NzTfg+TjeHNPGQqJbDjIdUbAGK+6wiI5Yk0MCw9kK6Rr7OLwmaTqouKaenFDjVydBAN2P6WF5\n",
       "atOkhn0aS1sCh7z3BdOezm2h81jYFjlt2McV0CG10NE48H/gesLfwyzcPrXHQZIrAt8BpSql5BZF\n",
       "kAuRgFrYc2QkP4HkSL4qiScwEz44A0NJzYV0Mr4jQinITVbpxaLsNU2YsaGCvpHkRPFbRKu8b8sk\n",
       "GBckMbO/oIXXpzhx5DznZTYlqdnucfZqN9sWBFec/+wefqfrHMBZWcVj64G5Ol0Tu/4Xwd9kbBsC\n",
       "cAksKb34RiTSw9TK5esPZ5ihzOkM/Lw3IrVbwqeWQlbiOrgxOpXd1Z+c4YGd4/rxK6kRIZvZzIr5\n",
       "vTQ3Y6Y4aVOTkWdxFKTi83Ftxko19lyZU/tjpY4hHm5JbD2Em2HRx9fS6a7TrPFarb2piPrQ6glj\n",
       "SAPAJ98/tAg1Q9FeOqrTad/rOLrU5/Iitvh33fFhpHQMSgksmyNepWQa8IrHhQSz9Gnu2/NifGfh\n",
       "YwPAEDaqrK9Vg78G0PRBdhUQc9ObvR8AsUTDE8hO2ePYCVX33pdZQH9537EDShGvvFWGRGyjqkc2\n",
       "Uz8ZyowMLiERlF8B8S21PQe18hK2W91YGQWPJBrSy2HGFDtwRst4I/7CEdutWuyJAnjmMCrIebED\n",
       "/DWt+J2fz9Ryn0EReBbsgG8UJ92AV2vvtBwAGbz3xDqX6EEXj4EAAAJSQZ7oRRE8M/8E2Zg0z2ZD\n",
       "dNJYNnr/mJik10WjNC54ob/8FLAHHi2gA5wHD9uMwZ++ky6FpFzDnIX5d7IUPYClm/seQpP8BX36\n",
       "NLr6rCdF0i2WrTF3vPmRRV8WfHCK+MrGXzJVPkXiXCDNnMJ1H0S3P7Ecfva5XjGLLQoR3vR5SM6a\n",
       "yzSC22E6HAL246RGr0LpiCj+WXcowBFo0jZwVuKXUH3Wa+vLREnfBUwQb3dZmuk27v3GSU2en7KG\n",
       "DQKqcS2vv9LRLuDNGa4ZlugTytafZ8UmCxYAUn1Wzv4ykq3O/BmCQiEnIfqQBrM6K1qMF/cyBk44\n",
       "AV+r0Q2xZVUPrIh53adAqpQqyIgk6hmAZs26EXLR6A1dEb5sTpz8tRit43Ocv784TWWRVXw9ky6O\n",
       "4DPuL8vTBPe5mBGXLXOznNXxqki2v/N+nKMq3pkT1n0iB6xMum6HA5pyHMgK6YLeXhIsUO2Clt5c\n",
       "v/jkG6FdTOgonu4pen1fcnlNAsD/Y3zgacicewzztv7Urqu69O8lg14oAEln2G9BH1ud/QCYmEtd\n",
       "0CnZVvCbEN0j31Ub6cLkprw0LyiZkR5GJ1ECln7rOo/gk0Qqj4AUByIFhiNjgQ6W3gK4Mrew7N/U\n",
       "sjrAaUiIP8JGLqXxw132lCIn3g5ophjCU0vWMeOK/2mNhrexNyi4Ya/DEn0kxQX+YGDW1ZSzNL6s\n",
       "eXQxhmI2Io1tN9mKB7hXOtidwcZ4X5b6lIwls9iZIW3cg7QHRInkWsIVJvfqnHCgOo+Q3ZDXNMjy\n",
       "FUFsdUyLKWEFAAACKQGfB3RCvwYtqtfCnFsvzbAfp8kSLUhkEWutzVu04EkaFXIOADaCwz+tR1H7\n",
       "dsGbkVq6oeNyzme6ubI6L+fnps1+HvTeMmYcuU8oFG+wONbFMewBWlMPHQhTVCRjlCjlXjlAl9mI\n",
       "UW8vAXtKc5zOxlNWCPyJMkCaQyvzAalnGY6a2SErjNCRMQoK2HRmDMPVLBbQ+QES2Jvm9gg+QXPK\n",
       "9Vk0zXFu7tpMbVOsewdG2RNvHqkHne5yWesOw9cBLAU6u9OZ7JosEA6ha7csJMnCboykN83GFJMN\n",
       "ms5uR36J3oDPuMALsTUl/X8ecN/Xr7jw3CzRwXJAuxzs/lp41NEwjpXQcvv7XLQ91tShWOnA4WcR\n",
       "/nibDgL+utes5eWalP4lCIUvMOiEu0AORcgdWKvGC7coL5Ne/vR5sNNJbfxlUscR+58NC5lk+XSx\n",
       "kX1mKVPTDGau4O3orPAzE0LFupGCSvo46LCIHu1M6cK3ZyeidYWD+8ttCQl+H0HWZZXoHs5+bpFo\n",
       "NvXfE4LLojgylQ8vi+D1kC4lCS130LRhs7wAFbhjMAzrEQgAxxs6BTEjGfRXRk9qDYsqvWjDRYyw\n",
       "AXqnhalHKcv1XWH6lK419ABfZUZ/38F+JIrGQuEIHTXWi+zHwuYX8rjEfoVNG/8kJK2ypZFeJIcx\n",
       "UBrZ0DBA68ApWrhv7Da3Lo0VsIHLNssW7PyJGZKZLB6ykZ7iQWwi4aTzUXzp9ha+7h2vxVwAAAJB\n",
       "AZ8JakK/Bi2q9faLmdGdvlHfW0M8CgAfzy5ZSRNuzggt7QaHbTYuM7aZQqmKsdHkpWB4i3I543yS\n",
       "Mf0K6ANjRdLBOzlfYX4WHWqHKlFZIrq8cSxseyVYEw3eoYk7Jhno1C4FnIrxq2zzUEYPKQ6Hxxy9\n",
       "J8CxB5nWrpHcpBYE0W3jeJOa/mPwh5k8c0tA/nNlYS3IQIq6an5zBgu+6e+Syu/y7dOgroKq6Ux2\n",
       "rDhLK2RfvoTJKD8lBbtYqaa7OTU1M62MFVqMyQKBPFlgnkzw7iRK3zvq38CwTwExCM5i/QkWsnn0\n",
       "D5b9c1fZXWo6/yiHT6PGYaB2Aib1eLicORt7e7O4zv+4HHZPgdrLRf/58FWyuRkfXr8Kzgl6/QSL\n",
       "H+AEUMRT8Klyt5EHR7I5JZNYZr27ALpDtEvK7mIbEzeYF4sII31TZJ783G1vmkB8qhSngwx78R5a\n",
       "qxThbSolY9xmS3hxd3QtDxS4hsryh1PzCZfkss9/gWlcUnWwsic+UOLaYlcD/BZnAblRtz3WiK2N\n",
       "2ZA8QIgqyz18LFW1PdwAMmrMgUJk3L/21iSBu8yD58jyL5peldgYr9o+0JmNgJTmuQQCG7SZsxZE\n",
       "6I1PITvXGXADCCXJ70UOcBCdIbKIh7AK5I7ASTwN1oeuWF6rE+Bg+IQXUzT3zv+zEPk24x5WuMv+\n",
       "QKbwT7e2lJVALcNuW9gT2GoiDBZh3JpxZXSndpddnu5wFXFHZPkPlqDydGGhc1c/BkBTwQyqC2IV\n",
       "6iRb4lJYQQAAA2BBmw5JqEFomUwIb//+p4QeHZ8kkmFSjQLeiYR646aOm/CjJPkAHM70XeMdZe7x\n",
       "XjY/OvHSFE04NSRMpCuYGNvpAaQ2XZ0un9vKTCqjObYgsIj7cAxcUUKlxFpNLmdQZu96/TDbYSFD\n",
       "hMN+TvvSCZI3pn/J7JAid8EmrqugZFN0llpYAqwU7kf3zlklgs9z6ZT/Zp/bz23qpHmYvcOT/nBR\n",
       "5RevX8DdfJYJRPNX88WQeAL4L2eTUp9zyXuHvkpmBKYpNy1C3B1g8oxjfJfjh+6i3vAZRzl5faeq\n",
       "lkk9cc8N7Nl+e9eMEfKyZNDM3wu+lhZoJuUn8TNAHreUMnpXiVxA5cVP1U+TgVuDyMDtEjS6IeAq\n",
       "6JG8OImss4/TE0tEjU4C/EcaAPZm1UuDpmtyKHgF2nrTcfv4xoptCt8H5Y+h4aXaUH8sRAktdOP0\n",
       "89GgRM+tRHD2g+sPAU0KszDVHJcIzYcj5eKkvfvZZSTjFIaESOwMimZZdjDtGR4JEpGum38Fxhfb\n",
       "8DHh8jSZapjosWH6JP9JhmdGT1+7J3AZBIxEs3hNNAe39HO5XrhF1PLLSSpVeTqFPsenBTKN0NT6\n",
       "aV85Tf3rQwm26byIPavkldL00XuOPoG+gpsgZ5ZMY8BeBe0n6OtdD0zkal4wGpZY3ICQRNUby+35\n",
       "h47nSdPDPHjigCSGkzf8qhD/saABFmQHX8/tIKdqihS0cWIbu2lah5gJN2ZDEUEZ+3JxjT9QBN8c\n",
       "0LTKUpbyejJn5SuYtYwfWu7RYq3WQk29bhRTzu1gLnJF6ghCHcY2eLFlJouebUuGgOrAzW86XDB5\n",
       "z0w601htnc6IHH8wSzcalE431MmI/4/riDRe9XJqw9YtJJCscbgb2wL5YqrlVFALpyCi/N7CO/r3\n",
       "O3CoFVADpaNBmK8pvLpeSMFsQe/keLwmBlxamoFYrBJ3NPWvkhBLodimjAmxiliof2+YbzjHV/0K\n",
       "CfMNNqhRsCG6PGF8t208ZC+VS6EU8Y9/2Kx1woOX4BA90MQeux7g6KxVCBk2+KXKcz18HHdf6y4R\n",
       "Qn4nBF2LQ5bx3ZRGtK+qzRNaXm0YZieosXGJ/NEFFYDQZ3vy7D9AgjK49rzO1Nd0uqZfOKIUUEMB\n",
       "Wx3rwwgQVdCoAAAInFqKlVBCIXAAAAJ3QZ8sRREsM/8DmyGC0GYfkQzmyg4OKygAiD13vgl9Ng9V\n",
       "E0AseAJTF3uaGrqIwFjLKEKKCGQUW6XhJ+TQ32Gl+CRVVhpoOstSeuPDOIT74v3lhzhL0lNNj4JJ\n",
       "apnEaZQUdb7RVGVSt4roLEHbYGK1lS9EeRIu3KL5VESd/ILNnb3ESL4i12ySBcizIDfMo/m8Nz0m\n",
       "Ge30VQpbYTtZANWV56NIorDEV4B91+Y0eww0srPvkS2ueQXaQ64CK18cMtXn1HricnvTUwmT0inQ\n",
       "FNFFWwD+xLoLVBHxnkP3XjbvWVRJE4Xm3V9ZaGbXAkamAWswTmw3Cg7bxsL82KlDT1Ieyk9aJ1xr\n",
       "is+S2y8emcM3u/DUvSHJMiYa7UJnR7yhjs23kYCjUsAkZ6L31wWUjRTCFwz0kaxATGZLQxtzoJL5\n",
       "+TWzM3IfCNLKgrBEMuCkuvj/WnB1mzsAFP7HVnCb5Imrs2zZwBLHmJKRkDul4Ff6J5iHxFpCuTbs\n",
       "KSY6MLbZL30qzKzhATxvjQTxhvqGgTsfzPU1cXiV0e/UX9hDYE5OAgpGiHmMY9x6mBCUi2ROA4tX\n",
       "dQEuWsCbRUqXlhBItpizAYxm2SfnfTKlgjUl6LDpVT0K2Ct0j/Dlrp0ftpprDdQSIu76sDP58JnW\n",
       "1J+D7stRYvW/2K9qHdLeg5p6ADaQ3LKIlEwSHH9uUpLPGGW9m5KIlNl+imlX1hSnXqRPDBBps0kA\n",
       "bI1BRust01r+YOi53oHjMbkycAK+Lc2DLVTJjXYM9oI/UAbGfPOF03KyZs370dS0KrZUprH++AYA\n",
       "IghAmMfuSmAqRx4WpsuAAAHo8EWYR2bpnOAwYAAAAjMBn0t0Qr8CIQ+AAnbOQyBqaKtxPisNrP7r\n",
       "O/niiDAuEKLP9N9grrvH/QZuXer4MZMBYGcNwM+M+OS1H32XRRkzvI9zgwBNZi0uIeyOcc7VZXU7\n",
       "1GRnCzRVEY3QhZleqrdaqc5DBJskJ80aRv80NZXygAWkX8yiRXhwv++bKuxTiF79HNHF4cUx0uB2\n",
       "on0RO12wotHYr+D10OYKAnUFiw/IuGzz5TWpE4BMcHjMXLI2mGHtrtC0lzgtTfoEcsTsa/PEylzN\n",
       "z70fGFb5ddMJbVvsaCR5nOdKegUaAc4ROc0oe9v4EY4aEHn+ul9nRaA3+BUJutDAjomer8QZ/qgW\n",
       "OVS6Yb8+Xk28am2Qf8TCWUEuXzMeu7oHWyjvIeC7+OxNtMa7WoLgBR75ZugivHpP0L5ltW6bZJVm\n",
       "RRc0bBbYjeV3qGEtFeAF6ccQfoQLhoTiRm8hDA1JoDAXKuy6pMENkipPPK7IQRXSddxCL5PoOkWt\n",
       "xg7TDFTbPsvCf6KXc/H1kvcl3B/TTv/xL6pqBvMXKdvjcbIZAzNBBxakov6i15nl4kLgTROJynw0\n",
       "exdLJGhXJAeU12sjgrz4EBCqvi5Sfkd0x7Vht3wT5n3kaaFLIltkoCIh09t4FUWXUfbNZF2mFNjE\n",
       "cvxx4FkuNUtlt5L0bTLKCTk8SMFpk6u23HsWnM8tpje+0NeXEgs/vlTxWmAG5CjRm+EXPfC7RDLp\n",
       "FQhLdMXbn0t12gE0YiGZG5OOpZ79QStumQAAAfsBn01qQr8DaLQEfTor1x8KlR23Xur6N6RgA2gq\n",
       "VWkT9lTSKKwV75SxxwTEyycHICVCEzQC6gOAK3+/BNcCn2FDxEqmR5Md5GbDQg5FDkp8QzM0JpyN\n",
       "0aSe2NTe+NA9qTF1FlFbzxApRhAFT+oqLWH6rVUFdJm3eILjaM8S33dGLq5IdR1J/YkjWtqMT6nP\n",
       "TM1lN5aFTHmPi/bBgxAWoUHtBtSvZoSjnxwGyx5o5ZFvmtYKJ8sf1JaSgPoTqWbmJou/xW8Q7ZKE\n",
       "wF8NFvFQr/4rptX3EfTWw/kskph8Y5k/kvnZpk2b08CwLbq5VyudkXh3jPOS4moibQc32/yR++MG\n",
       "rs66LWXg6tzUbJ4tvjAC15dSXMi72RzB7W4RNL7mt4RS3JG/YmKgoPH1KZM4pEBQFAd9gF59VFIL\n",
       "1pUwbIOqHSJw2S+T20XOKJb+DP56gBwh7jwp0X4yFho1zmTafOycd12tVOJ8UP3l9BcBEwpOm6VG\n",
       "EjSCXJJaZEExbsDqdPkBHBfvQsD8DG66sKic0lam9rCm0XxupALwCiO9MgCoTQR+X2QbBaPAzlGr\n",
       "HtqP4OB+YiAZKgLMJl+afJZxU/JcV6Bt433b+lvDKXERzmBNU/qQoMc+U2T62isTr7EJ4sMZcuYQ\n",
       "ZfxrYuPUk9a4I+EJGAAlu2QN3z0Xa8EAAAPsQZtRSahBbJlMCFf//jhBWcEOJz7oawUmLYlDaE+g\n",
       "Ah+aysD8R5NkBXtMabN5mQOwzQZl6SN0v5JPcTdw9ikDe7tZ4N99oRKh3KOc6+5Vsf6aBMNGI3k9\n",
       "H312V32wbvCqgGL2A/MbpX/d+IZTGlzs8JDe3cx33DTSftch5ghxiVGMPimKA9Z9SXGn5PoqJaUf\n",
       "6tWcLzp+jJXZc0ZNOESXDTjBZVfZwgXXTYOwwqkEV9Ce9rGCq2y1pU9qUh7JlmSNC9ixDkdJfN/q\n",
       "Eq8TG9KPH+Km3ijF8CEsayHuc1X06kwGcTTjpoq/UyF3rVy6LbMrIQ2TOutvZWPR/sIOAh6lIQIH\n",
       "UJYEoRjL0u7v6YAt4JLtiQ7paNgK/K83f4/LzK0MMXcup5W65kKIzZg/ksBZ6h+5XVTu9xAMtfjT\n",
       "JNSQm2VLp0nQZhyIYGkCmzYu/TNXokqA3b9MhDyPtR5sBe+jIilAbP6KwWp2ogkaWGDBySOgz0iE\n",
       "unO4wwyBKV9pftHEtCy87u3Y40Ct/aMbVpEc5cW49PR0IzAbCZa0dEEzytOXIL7FTlG4GueYpYgJ\n",
       "oJwH74d/lMyQU8+tXja7rvHy67ohZ4CLRbmQLk/1/zQLYPjPX7UIbv+9XvF3nuNJFyyMqHAb96kd\n",
       "N7gEuv1Z5+tc7dK3+zvPC/xRILF/JfPCICHsx4+rkvzcgtVFCHifFsFRG164992eQCas+FUYFVry\n",
       "nWDUvE+1Tt5cR6xNFuVg84Mp1KR9POjhJCX59/InDPi1VcZRmr5qAXQ7kAPsFvmvrYkj4JnDAgb0\n",
       "QBMtftulbqBpqcx2MCOlPqAdbi+z57H1Kqd+S7p5YG7pCbE4qc+bK/J0zWfHzpsLdQQ19BOlsJQN\n",
       "L2cPcx2PIOVR6KuUCLQWFfSDDrwlkj+pXEL7TTMfYjK0nSgWxL1lLJ+x4WJWPpD9PRgLyrASg2zS\n",
       "rvgTaUyfmMK3GNJuPy4RCY4pQ6p9Y6vpG21zIvzQidUJUe8xO+sqfh5CdsHEA0y5X6x3Doh8A4Zk\n",
       "e27Ue2wyBT85YlvMEz3c3Y+bxgtJCnNxCZ4/vYa+xFqK5R9R9W2qSPBGEKqDp1+BvguLLnVPx5bf\n",
       "Ks2L94STq4DxjWZpT5+Mfk3WQUy3mjb6DxXf5ydBvsjUXO01Y6tXZlSi7Y1XU1LGKSBE8VU+mb06\n",
       "CzoFbo+K7M6rgU2lyEr/nwtYepFSv12K//jx1BnA4IQ4yndETmshQoFfnrHUY2Ta15j9YB71B3nO\n",
       "wISuIGB3WZAZOqvYUNABW6E2c20bI1IUbeDjFyP/qDTAgost4ZSqsY5kpeNn6LLWowYJRckNv5fn\n",
       "79QtZWEAAAJRQZ9wQhX/Eo81ximUQFPIMzYW7Vm+BzqV6++vUuRygAnZgEAxAduomQsqF1503TDF\n",
       "QbqIeUJbOvANgqKwyRzUp9EhZZjsq+EfKLhMtwW5Et/RU28QRz9SlF0Upy+XnCysxI1ighcGU3kb\n",
       "PHxBXSXDU7SfCBa6TBhLi1H8hISrOJPum/n/eA94R5RUAGIHPi88SKkhw7JjiA1HuLPuxWpO3MYx\n",
       "CGMefIYqXNDp5zoyTe4VKqOKNZ/UmKoZ5gktTmdZ3h1V56lDNt5cpBCHFQu6R6F91wqnEG2B/0i6\n",
       "dBghSP5W3manatCOpUJGU3Lnn6yeNLYLFayVCIR1YbWYGBjLrzADZKJk0cWTPqIDiGpraiNTNW3m\n",
       "4M77cyqVkKf+mfgJSukrWrYuhvyHDlTRa/4CaUMqt9QGoZ0/UCSrepcj8WWZGN0Vk/8PCInB4yTU\n",
       "YrmDDDv//dV8nRqm9PSYhQNg5rPLbnkr9QcQFF4Mx4nu1vywx5SbiFi9d4n60i3u5Dl7uZP6zxKo\n",
       "afFBzDgpvPNI6vL4ut1bthGltJzNU+nLGw+Xcv5n4dLd9EJatuNuRfwbdOB1ppbHcQ2g73XL8Hsl\n",
       "mQhnB29Dhu9EJqY8o14ZbptJ6AsU88lb+ine42EVBwsWdOhXbSwC7JYrMgPZq1NpWlFm1HtAnpV0\n",
       "ONLTnGwrGM58+ShQx7epohxan4hP5Ui7BUIE7tpZReijldtvuepiPEJjsqXYElMtjB0rQsYnobXZ\n",
       "uDBfPhyYTgnFjCu84ghOkXjEdv0F5ySTOHGp8MNJz+4AAAJXAZ+PaRCvGO+0cLMypidhN+FKAdfY\n",
       "jgqQAE7edGjJ6KDbZVR38dEBAoiKDrv11CdkfQVd2bQCsNjX7NNZykzqloDBkhH01GDVfYFYOa9z\n",
       "8nMRN0GAO8JnY6rseoi6C4oq6JZV44CR/NZp65kLDtKCC8C1eUzMi9biO6kG5pIQ+dK8cO8Ict0n\n",
       "ir/sIJfnOxfxtNmldWkeyoSd+MhNAxdrTKMulZRL/vHf7qs/885KEd03RP+JCVyVKjIjellBPgBm\n",
       "RINm1U6f4OO8gxrmGYybPOK7s5VUyNk3OSDzzsgEFZl6hAlhtBPmTcANaMdKP+lFs3IPTEDSiyP9\n",
       "2szHvBm/DJ5IrPBsR0Xd5XJCIYh/5grXOliQoO8HKrCif69VlAu30LHGmIZYjxqErKG5kPZ3nYB2\n",
       "534b3YBZ4SNqHTFoxUybnpqmCk1XM5J5dpS8O8CirSWj7s8W49UmyzptUL3h+BGTdMWnK0DWfrUB\n",
       "cOFRGhQMPsbUXvBzCSTJPWIMEELA1tk3yERWPLc63FfO6wCvL+3f7a5nYtW++7uMx5b/P5mm5UMc\n",
       "UVzQ8NxUASJLlRSdD4D7fM0KR8emziOMxEgH4XL6lkP+8K6ohxcethgdHGky3dqw1E5LghPM3pOE\n",
       "IaT/JgWNW1w+75XxU3rtHbXqisBFsrvmaPbIAM5WvZL3w9Lkm3/JR4Yus4YTPNkJJf9RtZ2dyBGs\n",
       "JaZuX1wDn54HzF7vQD1Lw8U2RMqixy3OYB+7MVxg1Ah+6d2oLvfvaMi9Pni8vRzv/nnmKlPI8Dhp\n",
       "5sd+xS9r1jgAAAV2bW9vdgAAAGxtdmhkAAAAAAAAAAAAAAAAAAAD6AAACcQAAQAAAQAAAAAAAAAA\n",
       "AAAAAAEAAAAAAAAAAAAAAAAAAAABAAAAAAAAAAAAAAAAAABAAAAAAAAAAAAAAAAAAAAAAAAAAAAA\n",
       "AAAAAAAAAAAAAgAABKB0cmFrAAAAXHRraGQAAAADAAAAAAAAAAAAAAABAAAAAAAACcQAAAAAAAAA\n",
       "AAAAAAAAAAAAAAEAAAAAAAAAAAAAAAAAAAABAAAAAAAAAAAAAAAAAABAAAAAAbAAAAEgAAAAAAAk\n",
       "ZWR0cwAAABxlbHN0AAAAAAAAAAEAAAnEAAAEAAABAAAAAAQYbWRpYQAAACBtZGhkAAAAAAAAAAAA\n",
       "AAAAAAAoAAAAZABVxAAAAAAALWhkbHIAAAAAAAAAAHZpZGUAAAAAAAAAAAAAAABWaWRlb0hhbmRs\n",
       "ZXIAAAADw21pbmYAAAAUdm1oZAAAAAEAAAAAAAAAAAAAACRkaW5mAAAAHGRyZWYAAAAAAAAAAQAA\n",
       "AAx1cmwgAAAAAQAAA4NzdGJsAAAAs3N0c2QAAAAAAAAAAQAAAKNhdmMxAAAAAAAAAAEAAAAAAAAA\n",
       "AAAAAAAAAAAAAbABIABIAAAASAAAAAAAAAABAAAAAAAAAAAAAAAAAAAAAAAAAAAAAAAAAAAAAAAA\n",
       "AAAAGP//AAAAMWF2Y0MBZAAV/+EAGGdkABWs2UGwloQAAAMABAAAAwCgPFi2WAEABmjr48siwAAA\n",
       "ABx1dWlka2hA8l8kT8W6OaUbzwMj8wAAAAAAAAAYc3R0cwAAAAAAAAABAAAAMgAAAgAAAAAUc3Rz\n",
       "cwAAAAAAAAABAAAAAQAAAZBjdHRzAAAAAAAAADAAAAACAAAEAAAAAAEAAAYAAAAAAQAAAgAAAAAB\n",
       "AAAGAAAAAAEAAAIAAAAAAQAABgAAAAABAAACAAAAAAEAAAYAAAAAAQAAAgAAAAABAAAGAAAAAAEA\n",
       "AAIAAAAAAQAABAAAAAABAAAGAAAAAAEAAAIAAAAAAQAABgAAAAABAAACAAAAAAEAAAYAAAAAAQAA\n",
       "AgAAAAABAAAGAAAAAAEAAAIAAAAAAQAABgAAAAABAAACAAAAAAEAAAYAAAAAAQAAAgAAAAABAAAG\n",
       "AAAAAAEAAAIAAAAAAQAABgAAAAABAAACAAAAAAEAAAYAAAAAAQAAAgAAAAABAAAGAAAAAAEAAAIA\n",
       "AAAAAQAACgAAAAABAAAEAAAAAAEAAAAAAAAAAQAAAgAAAAACAAAEAAAAAAEAAAoAAAAAAQAABAAA\n",
       "AAABAAAAAAAAAAEAAAIAAAAAAQAACgAAAAABAAAEAAAAAAEAAAAAAAAAAQAAAgAAAAABAAAIAAAA\n",
       "AAEAAAQAAAAAAQAAAAAAAAAcc3RzYwAAAAAAAAABAAAAAQAAADIAAAABAAAA3HN0c3oAAAAAAAAA\n",
       "AAAAADIAABcBAAAIxQAABTkAAALLAAAFNwAAAuYAAAPnAAACYAAAA8IAAAJRAAAEtQAAAncAAAKt\n",
       "AAAEXAAAAmAAAARgAAACkgAABHsAAAJTAAAESwAAAjAAAAQyAAACaQAAA8UAAAKLAAAEWAAAAikA\n",
       "AAPZAAACVQAABD0AAAISAAADuQAAAisAAAOwAAACiAAAAZsAAAIoAAADbgAAAkQAAAO8AAACVgAA\n",
       "Ai0AAAJFAAADZAAAAnsAAAI3AAAB/wAAA/AAAAJVAAACWwAAABRzdGNvAAAAAAAAAAEAAAAsAAAA\n",
       "YnVkdGEAAABabWV0YQAAAAAAAAAhaGRscgAAAAAAAAAAbWRpcmFwcGwAAAAAAAAAAAAAAAAtaWxz\n",
       "dAAAACWpdG9vAAAAHWRhdGEAAAABAAAAAExhdmY1Ny44My4xMDA=\n",
       "\">\n",
       "  Your browser does not support the video tag.\n",
       "</video>"
      ],
      "text/plain": [
       "<matplotlib.animation.FuncAnimation at 0x115fc3320>"
      ]
     },
     "execution_count": 17,
     "metadata": {},
     "output_type": "execute_result"
    }
   ],
   "source": [
    "import matplotlib as mpl\n",
    "from matplotlib.animation import FuncAnimation\n",
    "\n",
    "x = linspace(-5, 5, 300)\n",
    "s = linspace(1, 3)\n",
    "\n",
    "fig = plt.figure()\n",
    "ln, = plt.plot([], [])\n",
    "plt.xlabel(\"x\")\n",
    "plt.ylabel(\"y\")\n",
    "plt.axis([-5, 5, 0, f(0, 0.5, 1)])\n",
    "\n",
    "def draw(s):\n",
    "    plt.title(f\"Gaussian distribution (s = {s})\")\n",
    "    y = f(x, 0.5, s)\n",
    "    ln.set_data(x, y)\n",
    "    return ln,\n",
    "\n",
    "anim = FuncAnimation(fig, draw, s, interval=50, blit=True)\n",
    "mpl.rc('animation', html='html5')\n",
    "\n",
    "anim"
   ]
  },
  {
   "cell_type": "code",
   "execution_count": 18,
   "metadata": {
    "collapsed": true
   },
   "outputs": [],
   "source": [
    "anim.save(\"movie.mp4\", fps=15)"
   ]
  },
  {
   "cell_type": "markdown",
   "metadata": {},
   "source": [
    "# 5.4 Plotting Difficulties"
   ]
  },
  {
   "cell_type": "markdown",
   "metadata": {},
   "source": [
    "## 5.4.1 Piecewisely Defined Functions"
   ]
  },
  {
   "cell_type": "code",
   "execution_count": 19,
   "metadata": {},
   "outputs": [
    {
     "data": {
      "image/png": "[encoded data removed]",
      "text/plain": [
       "<matplotlib.figure.Figure at 0x11b146f98>"
      ]
     },
     "metadata": {},
     "output_type": "display_data"
    },
    {
     "data": {
      "image/png": "[encoded data removed]",
      "text/plain": [
       "<matplotlib.figure.Figure at 0x11b0516a0>"
      ]
     },
     "metadata": {},
     "output_type": "display_data"
    }
   ],
   "source": [
    "x = linspace(-10, 10, 10)\n",
    "H = lambda x: x > 0\n",
    "y = H(x)\n",
    "plt.figure()\n",
    "plt.plot(x, y, '', [min(x), 0, 0, max(x)], [0, 0, 1, 1], '--')\n",
    "plt.show()"
   ]
  },
  {
   "cell_type": "code",
   "execution_count": 20,
   "metadata": {
    "scrolled": true
   },
   "outputs": [
    {
     "data": {
      "image/png": "[encoded data removed]",
      "text/plain": [
       "<matplotlib.figure.Figure at 0x11adc5d30>"
      ]
     },
     "metadata": {},
     "output_type": "display_data"
    }
   ],
   "source": [
    "# Hat Function\n",
    "N = lambda x: ((-1 <= x) & (x < 0)) * (x + 1) + ((0 <= x) & (x < 1)) * (1 - x)\n",
    "x1 = np.array([-3, -1, 0, 1, 3])\n",
    "x2 = linspace(-3, 3, 6)\n",
    "plt.plot(x1, N(x1), '', x2, N(x2), '--')\n",
    "plt.legend((\"Exact\", \"Inappropriate x values\"))\n",
    "plt.show()"
   ]
  },
  {
   "cell_type": "code",
   "execution_count": 21,
   "metadata": {},
   "outputs": [
    {
     "data": {
      "image/png": "[encoded data removed]",
      "text/plain": [
       "<matplotlib.figure.Figure at 0x11b4e8d30>"
      ]
     },
     "metadata": {},
     "output_type": "display_data"
    }
   ],
   "source": [
    "# Hat Function\n",
    "from numpy import sin\n",
    "f = lambda x: sin(1/x)\n",
    "x1 = linspace(-1, 1, 500)\n",
    "x2 = linspace(-1, 1, 10)\n",
    "plt.plot(x1, f(x1), '', x2, f(x2), '--')\n",
    "plt.xlabel(\"x\")\n",
    "plt.ylabel(\"sin(1/x)\")\n",
    "plt.legend((\"Exact\", \"Inappropriate\"))\n",
    "plt.show()"
   ]
  },
  {
   "cell_type": "markdown",
   "metadata": {},
   "source": [
    "# 5.5 More Advanced Vectorization of Functions"
   ]
  },
  {
   "cell_type": "markdown",
   "metadata": {},
   "source": [
    "## 5.5.2 Vectorization of the Heaviside Function"
   ]
  },
  {
   "cell_type": "code",
   "execution_count": 23,
   "metadata": {},
   "outputs": [],
   "source": [
    "# Non-vectorized\n",
    "def H1(x):\n",
    "    return 0 if x < 0 else 1\n",
    "\n",
    "# Loop\n",
    "def H2(x):\n",
    "    return np.array([H1(x) for x in x])\n",
    "\n",
    "# Automatic Vectorization\n",
    "H3 = np.vectorize(H1)\n",
    "\n",
    "# Lucky if alright\n",
    "def H4(x):\n",
    "    return x >= 0\n",
    "\n",
    "# Manual Vectorization\n",
    "def H5(x):\n",
    "    return np.where(x >= 0, 1, 0)\n",
    "\n",
    "# Boolean Indexing\n",
    "def H6(x):\n",
    "    r = np.zeros(len(x))\n",
    "    r[x >= 0] = 1\n",
    "    return r"
   ]
  },
  {
   "cell_type": "code",
   "execution_count": 24,
   "metadata": {},
   "outputs": [
    {
     "data": {
      "text/plain": [
       "1"
      ]
     },
     "execution_count": 24,
     "metadata": {},
     "output_type": "execute_result"
    }
   ],
   "source": [
    "H1(3)"
   ]
  },
  {
   "cell_type": "code",
   "execution_count": 25,
   "metadata": {},
   "outputs": [
    {
     "name": "stdout",
     "output_type": "stream",
     "text": [
      "8.31 µs ± 139 ns per loop (mean ± std. dev. of 7 runs, 100000 loops each)\n"
     ]
    }
   ],
   "source": [
    "%%timeit\n",
    "H2(np.array([-1, 0, 1]))"
   ]
  },
  {
   "cell_type": "code",
   "execution_count": 26,
   "metadata": {},
   "outputs": [
    {
     "name": "stdout",
     "output_type": "stream",
     "text": [
      "37.3 µs ± 1.04 µs per loop (mean ± std. dev. of 7 runs, 10000 loops each)\n"
     ]
    }
   ],
   "source": [
    "%%timeit\n",
    "H3(np.array([-1, 0, 1]))"
   ]
  },
  {
   "cell_type": "code",
   "execution_count": 27,
   "metadata": {},
   "outputs": [
    {
     "name": "stdout",
     "output_type": "stream",
     "text": [
      "4.75 µs ± 113 ns per loop (mean ± std. dev. of 7 runs, 100000 loops each)\n"
     ]
    }
   ],
   "source": [
    "%%timeit\n",
    "h4 = H4(np.array([-1, 0, 1]))"
   ]
  },
  {
   "cell_type": "code",
   "execution_count": 28,
   "metadata": {},
   "outputs": [
    {
     "data": {
      "text/plain": [
       "array([0, 1, 1])"
      ]
     },
     "execution_count": 28,
     "metadata": {},
     "output_type": "execute_result"
    }
   ],
   "source": [
    "H4(np.array([-1, 0, 1]))*1"
   ]
  },
  {
   "cell_type": "code",
   "execution_count": 29,
   "metadata": {},
   "outputs": [
    {
     "name": "stdout",
     "output_type": "stream",
     "text": [
      "9.18 µs ± 151 ns per loop (mean ± std. dev. of 7 runs, 100000 loops each)\n"
     ]
    }
   ],
   "source": [
    "%%timeit\n",
    "H5(np.array([-1, 0, 1]))"
   ]
  },
  {
   "cell_type": "code",
   "execution_count": 30,
   "metadata": {},
   "outputs": [
    {
     "data": {
      "text/plain": [
       "array(1)"
      ]
     },
     "execution_count": 30,
     "metadata": {},
     "output_type": "execute_result"
    }
   ],
   "source": [
    "H5(3)"
   ]
  },
  {
   "cell_type": "code",
   "execution_count": 31,
   "metadata": {},
   "outputs": [
    {
     "name": "stdout",
     "output_type": "stream",
     "text": [
      "9.81 µs ± 163 ns per loop (mean ± std. dev. of 7 runs, 100000 loops each)\n"
     ]
    }
   ],
   "source": [
    "%%timeit\n",
    "H6(np.array([-1, 0, 1]))"
   ]
  },
  {
   "cell_type": "code",
   "execution_count": 32,
   "metadata": {
    "collapsed": true
   },
   "outputs": [],
   "source": [
    "# Times may vary for other functions!"
   ]
  },
  {
   "cell_type": "markdown",
   "metadata": {},
   "source": [
    "# 5.6 More on Numerical Python Arrays"
   ]
  },
  {
   "cell_type": "code",
   "execution_count": 33,
   "metadata": {},
   "outputs": [
    {
     "data": {
      "text/plain": [
       "array([-5., -4., -3., -2., -1.,  0.,  1.,  2.,  3.,  4.,  5.])"
      ]
     },
     "execution_count": 33,
     "metadata": {},
     "output_type": "execute_result"
    }
   ],
   "source": [
    "# compact linspace(-5, 5, 11)\n",
    "r_[-5:5:11j]"
   ]
  },
  {
   "cell_type": "markdown",
   "metadata": {},
   "source": [
    "# 5.9 Some Common Linear Algebra Operations"
   ]
  },
  {
   "cell_type": "code",
   "execution_count": 34,
   "metadata": {},
   "outputs": [
    {
     "data": {
      "text/plain": [
       "array([[ 0,  1,  2,  3,  4],\n",
       "       [ 5,  6,  7,  8,  9],\n",
       "       [10, 11, 12, 13, 14],\n",
       "       [15, 16, 17, 18, 19],\n",
       "       [20, 21, 22, 23, 24]])"
      ]
     },
     "execution_count": 34,
     "metadata": {},
     "output_type": "execute_result"
    }
   ],
   "source": [
    "A = np.array(range(25)).reshape(5, 5)\n",
    "A"
   ]
  },
  {
   "cell_type": "code",
   "execution_count": 35,
   "metadata": {},
   "outputs": [
    {
     "data": {
      "text/plain": [
       "True"
      ]
     },
     "execution_count": 35,
     "metadata": {},
     "output_type": "execute_result"
    }
   ],
   "source": [
    "(np.dot(A, A) == A@A).all()"
   ]
  },
  {
   "cell_type": "code",
   "execution_count": 36,
   "metadata": {},
   "outputs": [
    {
     "data": {
      "text/plain": [
       "array([ 6, 18])"
      ]
     },
     "execution_count": 36,
     "metadata": {},
     "output_type": "execute_result"
    }
   ],
   "source": [
    "A[[1, 3], [1, 3]]"
   ]
  },
  {
   "cell_type": "code",
   "execution_count": 37,
   "metadata": {},
   "outputs": [
    {
     "data": {
      "text/plain": [
       "array([[ 6,  8],\n",
       "       [16, 18]])"
      ]
     },
     "execution_count": 37,
     "metadata": {},
     "output_type": "execute_result"
    }
   ],
   "source": [
    "A[[1, 3], :][:, [1, 3]]"
   ]
  },
  {
   "cell_type": "code",
   "execution_count": 38,
   "metadata": {},
   "outputs": [
    {
     "data": {
      "text/plain": [
       "array([[ 6,  8],\n",
       "       [16, 18]])"
      ]
     },
     "execution_count": 38,
     "metadata": {},
     "output_type": "execute_result"
    }
   ],
   "source": [
    "A[np.ix_([1, 3], [1, 3])]"
   ]
  },
  {
   "cell_type": "markdown",
   "metadata": {},
   "source": [
    "# 5.13 Summary"
   ]
  },
  {
   "cell_type": "markdown",
   "metadata": {},
   "source": [
    "## 5.13.2 Example: Animating a Function"
   ]
  },
  {
   "cell_type": "code",
   "execution_count": 39,
   "metadata": {
    "collapsed": true
   },
   "outputs": [],
   "source": [
    "import matplotlib.pyplot as plt\n",
    "from numpy import *"
   ]
  },
  {
   "cell_type": "code",
   "execution_count": 40,
   "metadata": {
    "collapsed": true
   },
   "outputs": [],
   "source": [
    "def animate(tmax, dt, x, function, ymin, ymax, t0=0, xlabel=\"x\", ylabel=\"y\", filename=\"tmp_\"):\n",
    "    t = t0\n",
    "    counter = 0\n",
    "    while t <= tmax:\n",
    "        y = function(x, t)\n",
    "        plt.clf()\n",
    "        plt.plot(x, y)\n",
    "        plt.axis([x[0], x[-1], ymin, ymax])\n",
    "        plt.title(\"time=%2d h\" % (t / 3600))\n",
    "        plt.xlabel(xlabel)\n",
    "        plt.ylabel(ylabel)\n",
    "        plt.savefig(\"tmp_%04d.png\" % counter)\n",
    "        t += dt\n",
    "        counter += 1"
   ]
  },
  {
   "cell_type": "code",
   "execution_count": 41,
   "metadata": {
    "collapsed": true
   },
   "outputs": [],
   "source": [
    "def T(z, t):\n",
    "    a = sqrt(omega / 2 / k)\n",
    "    return T0 + A*exp(-a * z)*cos(omega*t - a*z)"
   ]
  },
  {
   "cell_type": "code",
   "execution_count": 42,
   "metadata": {},
   "outputs": [],
   "source": [
    "k = 1e-6\n",
    "P = 24*60*60\n",
    "omega = 2*pi / P\n",
    "dt = P/24\n",
    "tmax = 3*P\n",
    "T0 = 10\n",
    "A = 10\n",
    "a = sqrt(omega / 2 / k)\n",
    "D = -(1/a) * log(0.001)\n",
    "n = 501\n",
    "\n",
    "z = linspace(0, D, n)\n",
    "animate(tmax, dt, z, T, T0-A, T0+A, 0, \"z\", \"T\")"
   ]
  },
  {
   "cell_type": "code",
   "execution_count": 44,
   "metadata": {},
   "outputs": [
    {
     "data": {
      "text/plain": [
       "0"
      ]
     },
     "execution_count": 44,
     "metadata": {},
     "output_type": "execute_result"
    }
   ],
   "source": [
    "import os\n",
    "os.system(\"convert -delay 20 tmp_*.png movie.gif\")\n",
    "os.system(\"rm -f tmp_*.png\")"
   ]
  }
 ],
 "metadata": {
  "kernelspec": {
   "display_name": "Python 3",
   "language": "python",
   "name": "python3"
  },
  "language_info": {
   "codemirror_mode": {
    "name": "ipython",
    "version": 3
   },
   "file_extension": ".py",
   "mimetype": "text/x-python",
   "name": "python",
   "nbconvert_exporter": "python",
   "pygments_lexer": "ipython3",
   "version": "3.6.2"
  }
 },
 "nbformat": 4,
 "nbformat_minor": 2
}
