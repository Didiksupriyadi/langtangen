{
 "cells": [
  {
   "cell_type": "markdown",
   "metadata": {},
   "source": [
    "# Exercise 1:  Flip a coin times"
   ]
  },
  {
   "cell_type": "code",
   "execution_count": 3,
   "metadata": {},
   "outputs": [
    {
     "name": "stdout",
     "output_type": "stream",
     "text": [
      "Tails\n",
      "Heads\n",
      "Tails\n",
      "Heads\n",
      "Heads\n",
      "Heads\n",
      "Tails\n",
      "Tails\n",
      "Tails\n",
      "Heads\n",
      "5 times Heads!\n"
     ]
    }
   ],
   "source": [
    "import random\n",
    "\n",
    "N = 10\n",
    "s = 0\n",
    "for i in range(N):\n",
    "    r = random.randint(0, 1)\n",
    "    print(\"Heads\" if r else \"Tails\")\n",
    "    s += r\n",
    "print(\"%d times Heads!\" % s)"
   ]
  },
  {
   "cell_type": "markdown",
   "metadata": {},
   "source": [
    "# Exercise 8.2: Compute a probability"
   ]
  },
  {
   "cell_type": "code",
   "execution_count": 13,
   "metadata": {},
   "outputs": [
    {
     "name": "stdout",
     "output_type": "stream",
     "text": [
      "N = 1e+01: p = 0.200000\n",
      "N = 1e+02: p = 0.080000\n",
      "N = 1e+03: p = 0.098000\n",
      "N = 1e+06: p = 0.100152\n"
     ]
    }
   ],
   "source": [
    "for N in [1e1, 1e2, 1e3, 1e6]:\n",
    "    M = sum(0.5 <= random.random() < 0.6 for i in range(int(N)))\n",
    "    p = M / N\n",
    "    print(f\"N = {N:4.0e}: p = {p:f}\")"
   ]
  },
  {
   "cell_type": "markdown",
   "metadata": {},
   "source": [
    "# Exercise 8.3: Choose random colors"
   ]
  },
  {
   "cell_type": "code",
   "execution_count": 14,
   "metadata": {},
   "outputs": [
    {
     "name": "stdout",
     "output_type": "stream",
     "text": [
      "purple\n"
     ]
    }
   ],
   "source": [
    "colours = ['red', 'green', 'blue', 'yellow', 'orange', 'purple', 'black', 'white']\n",
    "print(random.choice(colours))"
   ]
  },
  {
   "cell_type": "markdown",
   "metadata": {},
   "source": [
    "# Exercise 8.4: Exercise 8.4: Draw balls from a hat"
   ]
  },
  {
   "cell_type": "code",
   "execution_count": 31,
   "metadata": {},
   "outputs": [
    {
     "name": "stdout",
     "output_type": "stream",
     "text": [
      "The probability is approximately 7.636%\n"
     ]
    }
   ],
   "source": [
    "# Monte Carlo Time!\n",
    "import numpy as np\n",
    "hat = 10*['red'] + 10*['blue'] + 10*['yellow'] + 10*['purple']\n",
    "N = 100000\n",
    "M = 0\n",
    "for _ in range(100000):\n",
    "    draw = [random.choice(hat) for _ in range(10)]\n",
    "    success = draw.count('blue') == 2 and draw.count('purple') == 2\n",
    "    M += success\n",
    "p = M / N\n",
    "print(f\"The probability is approximately {100*p}%\")"
   ]
  },
  {
   "cell_type": "markdown",
   "metadata": {},
   "source": [
    "# Exercise 8.5: Computing probabilities of rolling dice"
   ]
  },
  {
   "cell_type": "code",
   "execution_count": 32,
   "metadata": {
    "collapsed": true
   },
   "outputs": [],
   "source": [
    "# 1: 1/6\n",
    "# 2: (1/6)^4\n",
    "# 3: 1/6\n",
    "# 4: 100% (obviously, the die is biased)"
   ]
  },
  {
   "cell_type": "code",
   "execution_count": 37,
   "metadata": {},
   "outputs": [
    {
     "name": "stdout",
     "output_type": "stream",
     "text": [
      "0.16603\n",
      "0.16666666666666666\n"
     ]
    }
   ],
   "source": [
    "N = 100000\n",
    "M = 0\n",
    "for _ in range(N):\n",
    "    M += random.randint(1, 6) == 6\n",
    "print(M/N)\n",
    "print(1/6)"
   ]
  },
  {
   "cell_type": "code",
   "execution_count": 38,
   "metadata": {},
   "outputs": [
    {
     "name": "stdout",
     "output_type": "stream",
     "text": [
      "0.00078\n",
      "0.0007716049382716048\n"
     ]
    }
   ],
   "source": [
    "N = 100000\n",
    "M = 0\n",
    "for i in range(N):\n",
    "    s = 0\n",
    "    for ii in range(4):\n",
    "        s += random.randint(1, 6) == 6\n",
    "    M += s == 4\n",
    "print(M/N)\n",
    "print((1/6)**4)"
   ]
  },
  {
   "cell_type": "code",
   "execution_count": 39,
   "metadata": {},
   "outputs": [
    {
     "name": "stdout",
     "output_type": "stream",
     "text": [
      "0.16854\n",
      "0.16666666666666666\n"
     ]
    }
   ],
   "source": [
    "s = 0\n",
    "while s < 3:\n",
    "    s += random.randint(1, 6) == 6\n",
    "N = 100000\n",
    "M = 0\n",
    "for _ in range(N):\n",
    "    M += random.randint(1, 6) == 6\n",
    "print(M/N)\n",
    "print(1/6)"
   ]
  },
  {
   "cell_type": "markdown",
   "metadata": {},
   "source": [
    "# Exercise 8.6: Estimate the probability in a dice game"
   ]
  },
  {
   "cell_type": "code",
   "execution_count": 52,
   "metadata": {},
   "outputs": [
    {
     "name": "stdout",
     "output_type": "stream",
     "text": [
      "    n |   p [%] \n",
      "------+---------\n",
      "    1 |  16.459 \n",
      "    2 |  30.495 \n",
      "   10 |  83.841 \n",
      "  100 | 100.000 \n",
      " 1000 | 100.000 \n"
     ]
    }
   ],
   "source": [
    "print(\"    n |   p [%] \")\n",
    "print(\"------+---------\")\n",
    "N = 100000\n",
    "for n in [1, 2, 10, 100, 1000]:\n",
    "    M = 0\n",
    "    for i in range(N):\n",
    "        for ii in range(n):\n",
    "            if random.randint(1, 6) == 6:\n",
    "                M += 1\n",
    "                break\n",
    "    print(f\" {n:4} | {100*M/N:7.3f} \")"
   ]
  },
  {
   "cell_type": "code",
   "execution_count": 53,
   "metadata": {},
   "outputs": [
    {
     "data": {
      "text/plain": [
       "30.555555555555557"
      ]
     },
     "execution_count": 53,
     "metadata": {},
     "output_type": "execute_result"
    }
   ],
   "source": [
    "100*11/36    # close enough."
   ]
  },
  {
   "cell_type": "markdown",
   "metadata": {},
   "source": [
    "# Exercise 8.7: Compute the probability of hands of cards"
   ]
  },
  {
   "cell_type": "code",
   "execution_count": 23,
   "metadata": {
    "collapsed": true
   },
   "outputs": [],
   "source": [
    "import random\n",
    "\n",
    "class Deck(object):    \n",
    "    def __init__(self):\n",
    "        ranks = [\"A\", \"2\", \"3\", \"4\", \"5\", \"6\", \"7\",\n",
    "                 \"8\", \"9\", \"10\", \"J\", \"Q\", \"K\"]\n",
    "        suits = [\"C\", \"D\", \"H\", \"S\"]\n",
    "        self.deck = [s+r for s in suits for r in ranks]\n",
    "        random.shuffle(self.deck)\n",
    "        \n",
    "    def hand(self, n=1):\n",
    "        \"\"\"Deal n cards. Return hand as list.\"\"\"\n",
    "        hand = [self.deck[i] for i in range(n)] # pick cards\n",
    "        del self.deck[:n] # remove cards\n",
    "        return hand\n",
    "\n",
    "    def deal(self, cards_per_hand, no_of_players):\n",
    "        \"\"\"Deal no_of_players hands. Return list of lists.\"\"\"\n",
    "        return [self.hand(cards_per_hand) for i in range(no_of_players)]\n",
    "    \n",
    "    def putback(self, card):\n",
    "        \"\"\"Put back a card under the rest.\"\"\"\n",
    "        self.deck.append(card)\n",
    "    \n",
    "    def __str__(self):\n",
    "        return str(self.deck)\n",
    "    \n",
    "    \n",
    "def same_rank(hand, n_of_a_kind):\n",
    "    ranks = [card[1:] for card in hand]\n",
    "    counter = 0\n",
    "    already_counted = []\n",
    "    for rank in ranks:\n",
    "        if rank not in already_counted and ranks.count(rank) == n_of_a_kind:\n",
    "            counter += 1\n",
    "            already_counted.append(rank)\n",
    "    return counter\n",
    "\n",
    "\n",
    "def same_suit(hand):\n",
    "    suits = [card[0] for card in hand]\n",
    "    counter = {}   # counter[suit] = how many cards of suit\n",
    "    for suit in suits:\n",
    "        count = suits.count(suit)\n",
    "        if count > 1:\n",
    "            counter[suit] = count\n",
    "    return counter"
   ]
  },
  {
   "cell_type": "code",
   "execution_count": 37,
   "metadata": {},
   "outputs": [
    {
     "name": "stdout",
     "output_type": "stream",
     "text": [
      "The probability of receiving exactly two pairs among five cards is approximately 4.77%\n"
     ]
    }
   ],
   "source": [
    "# two pairs among five cards\n",
    "N = 10000\n",
    "M = 0\n",
    "for i in range(N):\n",
    "    h = Deck().hand(5)\n",
    "    M += same_rank(h, 2) == 2\n",
    "p = M / N\n",
    "print(f\"The probability of receiving exactly two pairs among five cards is approximately {100*p}%\")"
   ]
  },
  {
   "cell_type": "code",
   "execution_count": 40,
   "metadata": {},
   "outputs": [
    {
     "name": "stdout",
     "output_type": "stream",
     "text": [
      "The probability of receiving four or five cards of the same suit among five cards is approximately 4.78%\n"
     ]
    }
   ],
   "source": [
    "# >= 4 cards of same suit among 5 cards\n",
    "N = 10000\n",
    "M = 0\n",
    "for i in range(N):\n",
    "    h = Deck().hand(5)\n",
    "    M += list(same_suit(h).values())[0] >= 4\n",
    "p = M / N\n",
    "print(f\"The probability of receiving four or five cards of the same suit among five cards is approximately {100*p}%\")"
   ]
  },
  {
   "cell_type": "code",
   "execution_count": 42,
   "metadata": {},
   "outputs": [
    {
     "name": "stdout",
     "output_type": "stream",
     "text": [
      "The probability of receiving four-of-a-kind among five cards is approximately 0.03%\n"
     ]
    }
   ],
   "source": [
    "# four-of-a-kind among 5 cards\n",
    "N = 10000\n",
    "M = 0\n",
    "for i in range(N):\n",
    "    h = Deck().hand(5)\n",
    "    M += same_rank(h, 4)\n",
    "p = M / N\n",
    "print(f\"The probability of receiving four-of-a-kind among five cards is approximately {100*p}%\")"
   ]
  },
  {
   "cell_type": "markdown",
   "metadata": {},
   "source": [
    "# Exercise 8.8: Decide if a dice game is fair"
   ]
  },
  {
   "cell_type": "code",
   "execution_count": 44,
   "metadata": {},
   "outputs": [
    {
     "name": "stdout",
     "output_type": "stream",
     "text": [
      "After 10000 rounds your capital is: -4870\n"
     ]
    }
   ],
   "source": [
    "N = 10000\n",
    "money = 0\n",
    "for i in range(N):\n",
    "    money -= 1\n",
    "    money += 10 * (sum(random.randint(1, 6) for i in range(4)) < 9)\n",
    "print(f\"After {N} rounds your capital is: {money}\")"
   ]
  },
  {
   "cell_type": "markdown",
   "metadata": {},
   "source": [
    "# Exercise 8.9: Adjust a game to make it fair"
   ]
  },
  {
   "cell_type": "code",
   "execution_count": 12,
   "metadata": {},
   "outputs": [],
   "source": [
    "def probability_less_eyes(n_dice, n_eyes):\n",
    "    N = 100000\n",
    "    M = 0\n",
    "    for i in range(N):\n",
    "        M += sum(random.randint(1, 6) for i in range(n_dice)) < n_eyes\n",
    "    return M / N\n",
    "\n",
    "def probability_less_eyes2(n, s):\n",
    "    from scipy.special import comb\n",
    "    p = comb(s-1, s-1-n) / 6**n\n",
    "    return p if p <= 1 else 1"
   ]
  },
  {
   "cell_type": "code",
   "execution_count": 9,
   "metadata": {},
   "outputs": [
    {
     "data": {
      "text/plain": [
       "0.05359"
      ]
     },
     "execution_count": 9,
     "metadata": {},
     "output_type": "execute_result"
    }
   ],
   "source": [
    "probability_less_eyes(4, 9)"
   ]
  },
  {
   "cell_type": "code",
   "execution_count": 8,
   "metadata": {},
   "outputs": [
    {
     "data": {
      "text/plain": [
       "0.05401234567901234"
      ]
     },
     "execution_count": 8,
     "metadata": {},
     "output_type": "execute_result"
    }
   ],
   "source": [
    "probability_less_eyes2(4, 9)"
   ]
  },
  {
   "cell_type": "code",
   "execution_count": 10,
   "metadata": {},
   "outputs": [
    {
     "data": {
      "text/plain": [
       "18.514285714285716"
      ]
     },
     "execution_count": 10,
     "metadata": {},
     "output_type": "execute_result"
    }
   ],
   "source": [
    "# on average, you should lose / gain no money in a round.\n",
    "# => r * probability_less_eyes(4, 9) = 1\n",
    "r = 1 / probability_less_eyes2(4, 9)\n",
    "r"
   ]
  },
  {
   "cell_type": "code",
   "execution_count": 112,
   "metadata": {},
   "outputs": [
    {
     "name": "stdout",
     "output_type": "stream",
     "text": [
      "After 10000 rounds your capital is: -161.2513251622765 (average gain per round: -0.016125132516227648)\n"
     ]
    }
   ],
   "source": [
    "# play again:\n",
    "N = 10000\n",
    "money = 0\n",
    "for i in range(N):\n",
    "    money -= 1\n",
    "    money += r * (sum(random.randint(1, 6) for i in range(4)) < 9)\n",
    "print(f\"After {N} rounds your capital is: {money} (average gain per round: {money / N})\")"
   ]
  },
  {
   "cell_type": "markdown",
   "metadata": {},
   "source": [
    "# Exercise 8.10: Make a test function for Monte Carlo simulation"
   ]
  },
  {
   "cell_type": "code",
   "execution_count": 15,
   "metadata": {},
   "outputs": [],
   "source": [
    "import numpy as np\n",
    "\n",
    "def test_probability_less_eyes():\n",
    "    # impossibilities\n",
    "    assert probability_less_eyes2(4, 1) == 0\n",
    "    assert probability_less_eyes2(3, 3) == 0\n",
    "    \n",
    "    # necessities\n",
    "    assert probability_less_eyes2(1, 7) == 1\n",
    "    assert probability_less_eyes2(2, 13) == 1\n",
    "    \n",
    "    # n = 2, s in [3, 4, 5, 6]\n",
    "    # hand-calculations: p in [1/36, 3/36, 6/36, 10/36]\n",
    "    hand = [1/36, 3/36, 6/36, 10/36]\n",
    "    random.seed(42)\n",
    "    computed = [probability_less_eyes2(2, s) for s in [3, 4, 5, 6]]\n",
    "    assert np.allclose(hand, computed, atol=1e-6)\n",
    "    \n",
    "test_probability_less_eyes()"
   ]
  },
  {
   "cell_type": "markdown",
   "metadata": {},
   "source": [
    "# Exercise 8.11: Generalize a game"
   ]
  },
  {
   "cell_type": "code",
   "execution_count": 42,
   "metadata": {},
   "outputs": [
    {
     "data": {
      "text/plain": [
       "{2: 0.583427,\n",
       " 3: 0.324621,\n",
       " 4: 0.080498,\n",
       " 5: 0.010693,\n",
       " 6: 0.000744,\n",
       " 7: 2.143347050754458e-05}"
      ]
     },
     "execution_count": 42,
     "metadata": {},
     "output_type": "execute_result"
    }
   ],
   "source": [
    "from collections import defaultdict\n",
    "\n",
    "def probability():\n",
    "    N = 1000000\n",
    "    M = defaultdict(int)\n",
    "    \n",
    "    for _ in range(N):\n",
    "        throws = 2\n",
    "        previous = random.randint(1, 6)\n",
    "        eyes = random.randint(1, 6)\n",
    "        while previous < eyes:\n",
    "            previous = eyes\n",
    "            eyes = random.randint(1, 6)\n",
    "            throws += 1\n",
    "        M[throws] += 1\n",
    "    \n",
    "    p = {m: hits / N for m, hits in M.items()}\n",
    "    p[7] = 1 / 6**6\n",
    "    \n",
    "    return p\n",
    "\n",
    "probability()"
   ]
  },
  {
   "cell_type": "code",
   "execution_count": 50,
   "metadata": {},
   "outputs": [
    {
     "name": "stdout",
     "output_type": "stream",
     "text": [
      "Rewards:\n",
      "m = 2: r =     1.72€\n",
      "m = 3: r =     3.08€\n",
      "m = 4: r =    12.32€\n",
      "m = 5: r =    92.07€\n",
      "m = 6: r =  1377.41€\n",
      "m = 7: r = 46656.00€\n"
     ]
    }
   ],
   "source": [
    "# s = 0\n",
    "# while True:\n",
    "#    s -= 1\n",
    "#    if play_success(m):\n",
    "#        s += r\n",
    "# => r*p(m) = 1\n",
    "# => r_m = 1 / p(m)\n",
    "\n",
    "print(\"Rewards:\")\n",
    "p = probability()\n",
    "for m in [2, 3, 4, 5, 6, 7]:\n",
    "    print(f\"m = {m}: r = {1 / p[m]:8.2f}€\")"
   ]
  },
  {
   "cell_type": "markdown",
   "metadata": {},
   "source": [
    "# Exercise 8.12: Compare two playing strategies"
   ]
  },
  {
   "cell_type": "code",
   "execution_count": 72,
   "metadata": {},
   "outputs": [],
   "source": [
    "def play(nrounds, ndice=2):\n",
    "    player = Player(\"YOU\", nrounds, player_guess, ndice)\n",
    "    computer = Player(\"Computer\", nrounds, computer_guess, ndice)\n",
    "    \n",
    "    for i in range(nrounds):\n",
    "        player.play_one_round()\n",
    "        computer.play_one_round()\n",
    "    \n",
    "    return(player.wins, computer.wins)\n",
    "    \n",
    "    \n",
    "class Player(object):\n",
    "    def __init__(self, name, capital, guess_function, ndice):\n",
    "        self.name = name\n",
    "        self.wins = 0\n",
    "        self.capital = capital\n",
    "        self.guess_function = guess_function\n",
    "        self.ndice = ndice\n",
    "        \n",
    "    def play_one_round(self):\n",
    "        self.guess = self.guess_function(self.ndice)\n",
    "        self.throw = sum(random.randint(1, 6) for i in range(self.ndice))\n",
    "        if self.guess == self.throw:\n",
    "            self.capital += self.guess\n",
    "            self.wins += 1\n",
    "        else:\n",
    "            self.capital -= 1\n",
    "        \n",
    "def computer_guess(ndice):\n",
    "    return random.randint(ndice, 6*ndice)\n",
    "\n",
    "def player_guess(ndice):\n",
    "    return int(ndice*3.5)"
   ]
  },
  {
   "cell_type": "code",
   "execution_count": 73,
   "metadata": {},
   "outputs": [
    {
     "name": "stdout",
     "output_type": "stream",
     "text": [
      "The player won 1614 times, the computer 881 times.\n"
     ]
    }
   ],
   "source": [
    "print(\"The player won %d times, the computer %d times.\" % play(10000))"
   ]
  },
  {
   "cell_type": "markdown",
   "metadata": {},
   "source": [
    "# Exercise 8.13: Investigate strategies in a game"
   ]
  },
  {
   "cell_type": "code",
   "execution_count": 82,
   "metadata": {},
   "outputs": [
    {
     "name": "stdout",
     "output_type": "stream",
     "text": [
      "Best number of dice: 20\n"
     ]
    }
   ],
   "source": [
    "ndice = {}\n",
    "for i in range(2, 21):\n",
    "    p, c = play(50000, ndice=i)\n",
    "    ndice[i] = p / c\n",
    "print(f\"Best number of dice: %d\" % max(ndice, key= lambda k: ndice[k]))"
   ]
  },
  {
   "cell_type": "markdown",
   "metadata": {},
   "source": [
    "# Exercise 8.14: Investigate the winning chances of some games"
   ]
  },
  {
   "cell_type": "code",
   "execution_count": 85,
   "metadata": {},
   "outputs": [
    {
     "name": "stdout",
     "output_type": "stream",
     "text": [
      "{4: defaultdict(<class 'int'>, {1: 322, 2: 1025, 3: 2003, 4: 1082}),\n",
      " 5: defaultdict(<class 'int'>, {1: 699, 2: 2098, 3: 1299, 4: 2768}),\n",
      " 6: defaultdict(<class 'int'>, {1: 1165, 2: 3357, 3: 626, 4: 4347}),\n",
      " 7: defaultdict(<class 'int'>, {1: 1741, 2: 4765, 3: 246, 4: 5842}),\n",
      " 8: defaultdict(<class 'int'>, {1: 2455, 2: 6044, 3: 86, 4: 7045}),\n",
      " 9: defaultdict(<class 'int'>, {1: 2973, 2: 7319, 3: 13, 4: 7897}),\n",
      " 10: defaultdict(<class 'int'>, {1: 3388, 2: 8280, 3: 4, 4: 8668})}\n"
     ]
    }
   ],
   "source": [
    "N = 10000\n",
    "M = {n: defaultdict(int) for n in range(4, 11)}\n",
    "hat = 5*['red'] + 5*['yellow'] + 3*['green'] + 7*['brown']\n",
    "for _ in range(N):\n",
    "    for n in range(4, 11):\n",
    "        h = hat[:]\n",
    "        hand = []\n",
    "        for i in range(n):\n",
    "            x = random.choice(h)\n",
    "            h.remove(x)\n",
    "            hand.append(x)\n",
    "        M[n][1] += hand.count('red') == 3\n",
    "        M[n][2] += hand.count('brown') >= 3\n",
    "        M[n][3] += hand.count('yellow') == 1 and hand.count('brown') == 1\n",
    "        M[n][4] += {'red', 'yellow', 'green', 'brown'} <= set(hand)\n",
    "\n",
    "from pprint import pprint\n",
    "pprint(M)"
   ]
  },
  {
   "cell_type": "code",
   "execution_count": 88,
   "metadata": {},
   "outputs": [
    {
     "data": {
      "text/plain": [
       "{4: {1: 0.0322, 2: 0.1025, 3: 0.2003, 4: 0.1082},\n",
       " 5: {1: 0.0699, 2: 0.2098, 3: 0.1299, 4: 0.2768},\n",
       " 6: {1: 0.1165, 2: 0.3357, 3: 0.0626, 4: 0.4347},\n",
       " 7: {1: 0.1741, 2: 0.4765, 3: 0.0246, 4: 0.5842},\n",
       " 8: {1: 0.2455, 2: 0.6044, 3: 0.0086, 4: 0.7045},\n",
       " 9: {1: 0.2973, 2: 0.7319, 3: 0.0013, 4: 0.7897},\n",
       " 10: {1: 0.3388, 2: 0.828, 3: 0.0004, 4: 0.8668}}"
      ]
     },
     "execution_count": 88,
     "metadata": {},
     "output_type": "execute_result"
    }
   ],
   "source": [
    "p = {n: {s: h / N for s, h in v.items()} for n, v in M.items()}\n",
    "p"
   ]
  },
  {
   "cell_type": "code",
   "execution_count": 95,
   "metadata": {},
   "outputs": [
    {
     "data": {
      "text/plain": [
       "{4: {1: -6.068, 2: 9.0, 3: 30, 4: 15},\n",
       " 5: {1: -5.806, 2: 8.180339887498949, 3: 89, 4: 13},\n",
       " 6: {1: -5.01, 2: 7.24744871391589, 3: 178, 4: 11},\n",
       " 7: {1: -3.5540000000000003, 2: 6.228756555322953, 3: 303, 4: 9},\n",
       " 8: {1: -1.2699999999999996, 2: 5.142135623730951, 3: 470, 4: 7},\n",
       " 9: {1: -0.16199999999999903, 2: 4.0, 3: 685, 4: 5},\n",
       " 10: {1: 0.3279999999999994, 2: 2.811388300841898, 3: 954, 4: 3}}"
      ]
     },
     "execution_count": 95,
     "metadata": {},
     "output_type": "execute_result"
    }
   ],
   "source": [
    "from math import sqrt\n",
    "r = {n: {1: 60 * p[1] - 2*n, 2: 7 + 5*sqrt(n) - 2*n, 3: n**3 - 26 - 2*n, 4: 23 - 2*n} for n, p in p.items()}\n",
    "r"
   ]
  },
  {
   "cell_type": "code",
   "execution_count": 96,
   "metadata": {},
   "outputs": [],
   "source": [
    "# strategy 3 seems to be quite lucrative"
   ]
  },
  {
   "cell_type": "markdown",
   "metadata": {},
   "source": [
    "# Exercise 8.15: Compute probabilities of throwing two dice"
   ]
  },
  {
   "cell_type": "code",
   "execution_count": 125,
   "metadata": {},
   "outputs": [
    {
     "data": {
      "image/png": "[encoded data removed]",
      "text/plain": [
       "<matplotlib.figure.Figure at 0xb785198>"
      ]
     },
     "metadata": {},
     "output_type": "display_data"
    }
   ],
   "source": [
    "N = 100000\n",
    "M = defaultdict(int)\n",
    "\n",
    "for i in range(N):\n",
    "    M[random.randint(1, 6) + random.randint(1, 6)] += 1\n",
    "\n",
    "p = {n: v / N for n, v in M.items()}\n",
    "\n",
    "import matplotlib.pyplot as plt\n",
    "plt.figure()\n",
    "plt.bar(p.keys(), p.values())\n",
    "plt.show()"
   ]
  },
  {
   "cell_type": "code",
   "execution_count": 130,
   "metadata": {},
   "outputs": [
    {
     "name": "stdout",
     "output_type": "stream",
     "text": [
      "  n | Computed [%] | Exact [%] |        Error \n",
      "----+--------------+-----------+--------------\n",
      "  2 |     2.772000 |  2.777778 | 5.777778e-03 \n",
      "  3 |     5.519000 |  5.555556 | 3.655556e-02 \n",
      "  4 |     8.328000 |  8.333333 | 5.333333e-03 \n",
      "  5 |    11.041000 | 11.111111 | 7.011111e-02 \n",
      "  6 |    13.949000 | 13.888889 | 6.011111e-02 \n",
      "  7 |    16.804000 | 16.666667 | 1.373333e-01 \n",
      "  8 |    13.850000 | 13.888889 | 3.888889e-02 \n",
      "  9 |    11.173000 | 11.111111 | 6.188889e-02 \n",
      " 10 |     8.314000 |  8.333333 | 1.933333e-02 \n",
      " 11 |     5.505000 |  5.555556 | 5.055556e-02 \n",
      " 12 |     2.745000 |  2.777778 | 3.277778e-02 \n"
     ]
    }
   ],
   "source": [
    "print(\"  n | Computed [%] | Exact [%] |        Error \")\n",
    "print(\"----+--------------+-----------+--------------\")\n",
    "exact = {k: v / 36 * 100 for k, v in {2: 1, 3: 2, 4: 3, 5: 4, 6: 5, 7: 6, 8: 5, 9: 4, 10: 3, 11: 2, 12: 1}.items()}\n",
    "for n in sorted(p):\n",
    "    print(f\" {n:2} | {p[n] * 100:12.6f} | {exact[n]:9.6f} | {abs(p[n]*100 - exact[n]):12.6e} \")"
   ]
  },
  {
   "cell_type": "markdown",
   "metadata": {},
   "source": [
    "# Exercise 8.16: Vectorize flipping a coin"
   ]
  },
  {
   "cell_type": "code",
   "execution_count": 2,
   "metadata": {},
   "outputs": [
    {
     "data": {
      "text/plain": [
       "4952"
      ]
     },
     "execution_count": 2,
     "metadata": {},
     "output_type": "execute_result"
    }
   ],
   "source": [
    "import numpy as np\n",
    "\n",
    "N = 10000\n",
    "tails = np.sum(np.random.randint(2, size=N))    # tails = 1\n",
    "tails"
   ]
  },
  {
   "cell_type": "markdown",
   "metadata": {},
   "source": [
    "# Exercise 8.17: Vectorize a probablility computation"
   ]
  },
  {
   "cell_type": "code",
   "execution_count": 138,
   "metadata": {},
   "outputs": [
    {
     "name": "stdout",
     "output_type": "stream",
     "text": [
      "N = 1e+00: p = 0.000000\n",
      "N = 1e+01: p = 0.100000\n",
      "N = 1e+03: p = 0.094000\n",
      "N = 1e+06: p = 0.100008\n"
     ]
    }
   ],
   "source": [
    "for N in [1, 10, 1000, 1000000]:\n",
    "    M = sum(0.5 <= random.random() < 0.6 for i in range(N))\n",
    "    p = M / N\n",
    "    print(f\"N = {N:4.0e}: p = {p:f}\")"
   ]
  },
  {
   "cell_type": "code",
   "execution_count": 140,
   "metadata": {},
   "outputs": [
    {
     "name": "stdout",
     "output_type": "stream",
     "text": [
      "N = 1e+00: p = 1.000000\n",
      "N = 1e+01: p = 0.200000\n",
      "N = 1e+03: p = 0.120000\n",
      "N = 1e+06: p = 0.100028\n"
     ]
    }
   ],
   "source": [
    "for N in [1, 10, 1000, 1000000]:\n",
    "    r = np.random.rand(N)\n",
    "    M = np.sum((0.5 < r) & (r <= 0.6))\n",
    "    print(f\"N = {N:4.0e}: p = {M/N:f}\")"
   ]
  },
  {
   "cell_type": "markdown",
   "metadata": {},
   "source": [
    "# Exercise 8.18: Throw dice and compute a small probability"
   ]
  },
  {
   "cell_type": "code",
   "execution_count": 18,
   "metadata": {},
   "outputs": [
    {
     "name": "stdout",
     "output_type": "stream",
     "text": [
      "The probability is approximately 0.000400%\n"
     ]
    }
   ],
   "source": [
    "N = 10000000\n",
    "M = np.sum(np.sum(np.random.randint(1, 7, 7*N).reshape(7, -1), axis=0) == 7*6)\n",
    "print(f\"The probability is approximately {M / N * 100:f}%\")"
   ]
  },
  {
   "cell_type": "markdown",
   "metadata": {},
   "source": [
    "# Exercise 8.19: Is democracy reliable as a decision maker?"
   ]
  },
  {
   "cell_type": "code",
   "execution_count": 82,
   "metadata": {},
   "outputs": [
    {
     "name": "stdout",
     "output_type": "stream",
     "text": [
      "       N |    p |             Results \n",
      "---------+------+---------------------\n",
      "       5 | 0.49 | 0 1 0 1 0 1 1 1 1 0 \n",
      "       5 | 0.51 | 1 0 1 0 1 1 0 0 1 1 \n",
      "       5 | 0.80 | 1 1 1 1 1 1 1 1 1 1 \n",
      " 1000000 | 0.49 | 0 0 0 0 0 0 0 0 0 0 \n",
      " 1000000 | 0.51 | 1 1 1 1 1 1 1 1 1 1 \n",
      " 1000000 | 0.80 | 1 1 1 1 1 1 1 1 1 1 \n"
     ]
    }
   ],
   "source": [
    "def homogeneous(p, N):\n",
    "    votes = np.random.rand(N) < p\n",
    "    return np.sum(votes) > N/2\n",
    "\n",
    "def homogeneous_ex():\n",
    "    print(\"       N |    p |             Results \")\n",
    "    print(\"---------+------+---------------------\")\n",
    "    for N in 5, 1000000:\n",
    "        for p in 0.49, 0.51, 0.8:\n",
    "            print(f\" {N:7d} | {p:4.2f} | \", end=\"\")\n",
    "            for i in range(10):\n",
    "                print(\"%d \" % int(homogenous(p, N)), end=\"\")\n",
    "            print()\n",
    "\n",
    "homogeneous_ex()"
   ]
  },
  {
   "cell_type": "code",
   "execution_count": 119,
   "metadata": {},
   "outputs": [
    {
     "data": {
      "image/png": "[encoded data removed]",
      "text/plain": [
       "<matplotlib.figure.Figure at 0xb3b87f0>"
      ]
     },
     "metadata": {},
     "output_type": "display_data"
    }
   ],
   "source": [
    "from scipy.stats import norm\n",
    "import matplotlib.pyplot as plt\n",
    "\n",
    "p = np.linspace(1e-6, 1 - 1e-6, 10000)\n",
    "plt.figure()\n",
    "plt.grid()\n",
    "# population\n",
    "plt.plot(p, 1 - norm.cdf(1000000/2, loc= 1000000 * p, scale= 1000000 * p * (1 - p)))\n",
    "# king\n",
    "plt.plot(p, 1 - norm.cdf(0.95, loc=p, scale= p * (1 - p)))    # have 95% of all questions right (-> almost 100% competence)\n",
    "plt.show()"
   ]
  },
  {
   "cell_type": "code",
   "execution_count": null,
   "metadata": {},
   "outputs": [],
   "source": []
  }
 ],
 "metadata": {
  "kernelspec": {
   "display_name": "Python 3",
   "language": "python",
   "name": "python3"
  },
  "language_info": {
   "codemirror_mode": {
    "name": "ipython",
    "version": 3
   },
   "file_extension": ".py",
   "mimetype": "text/x-python",
   "name": "python",
   "nbconvert_exporter": "python",
   "pygments_lexer": "ipython3",
   "version": "3.6.4"
  }
 },
 "nbformat": 4,
 "nbformat_minor": 2
}
