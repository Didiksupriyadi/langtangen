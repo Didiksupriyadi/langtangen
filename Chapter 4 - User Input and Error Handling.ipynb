{
 "cells": [
  {
   "cell_type": "markdown",
   "metadata": {},
   "source": [
    "# 4.1 Asking Questions and Reading Answers"
   ]
  },
  {
   "cell_type": "markdown",
   "metadata": {},
   "source": [
    "## 4.1.1 Reading Keyboard Input"
   ]
  },
  {
   "cell_type": "code",
   "execution_count": 1,
   "metadata": {},
   "outputs": [
    {
     "name": "stdout",
     "output_type": "stream",
     "text": [
      "71.6\n"
     ]
    }
   ],
   "source": [
    "C = 22\n",
    "F = 9./5*C + 32\n",
    "print(F)"
   ]
  },
  {
   "cell_type": "code",
   "execution_count": 2,
   "metadata": {},
   "outputs": [
    {
     "name": "stdout",
     "output_type": "stream",
     "text": [
      "C=? 23\n"
     ]
    }
   ],
   "source": [
    "C = input(\"C=? \")"
   ]
  },
  {
   "cell_type": "code",
   "execution_count": 3,
   "metadata": {},
   "outputs": [
    {
     "name": "stdout",
     "output_type": "stream",
     "text": [
      "73.4\n"
     ]
    }
   ],
   "source": [
    "C = float(C)\n",
    "F = 9.0/5*C + 32\n",
    "print(F)"
   ]
  },
  {
   "cell_type": "markdown",
   "metadata": {},
   "source": [
    "# 4.2 Reading from the Command Line"
   ]
  },
  {
   "cell_type": "markdown",
   "metadata": {},
   "source": [
    "## 4.2.1 Providing Input on the Command Line"
   ]
  },
  {
   "cell_type": "code",
   "execution_count": 4,
   "metadata": {},
   "outputs": [
    {
     "name": "stdout",
     "output_type": "stream",
     "text": [
      "71.6\n"
     ]
    }
   ],
   "source": [
    "run \"code/421a.py\" 22"
   ]
  },
  {
   "cell_type": "code",
   "execution_count": 5,
   "metadata": {
    "collapsed": true
   },
   "outputs": [],
   "source": [
    "%%capture\n",
    "\n",
    "# 421a.py\n",
    "\"\"\"\n",
    "import sys\n",
    "C = float(sys.argv[1])\n",
    "F = 9.0*C/5 + 32\n",
    "print(F)\n",
    "\"\"\""
   ]
  },
  {
   "cell_type": "code",
   "execution_count": 6,
   "metadata": {},
   "outputs": [
    {
     "name": "stdout",
     "output_type": "stream",
     "text": [
      "1.2342\n"
     ]
    }
   ],
   "source": [
    "v0 = 5\n",
    "g = 9.81\n",
    "t = 0.6\n",
    "y = v0*t - 0.5*g*t**2\n",
    "print(y)"
   ]
  },
  {
   "cell_type": "code",
   "execution_count": 7,
   "metadata": {},
   "outputs": [
    {
     "name": "stdout",
     "output_type": "stream",
     "text": [
      "1.2342\n"
     ]
    }
   ],
   "source": [
    "run \"code/421b.py\" 0.6 5"
   ]
  },
  {
   "cell_type": "code",
   "execution_count": 8,
   "metadata": {
    "collapsed": true
   },
   "outputs": [],
   "source": [
    "%%capture\n",
    "\n",
    "# 421b.py\n",
    "\"\"\"\n",
    "import sys\n",
    "t = float(sys.argv[1])\n",
    "v0 = float(sys.argv[2])\n",
    "g = 9.81\n",
    "y = v0*t - 0.5*g*t**2\n",
    "print(y)\n",
    "\"\"\""
   ]
  },
  {
   "cell_type": "markdown",
   "metadata": {},
   "source": [
    "## 4.2.2 A Variable Number of Command-Line Arguments"
   ]
  },
  {
   "cell_type": "code",
   "execution_count": 9,
   "metadata": {},
   "outputs": [
    {
     "name": "stdout",
     "output_type": "stream",
     "text": [
      "The sum of 1 2 3 4 5 6 is 21.0\n"
     ]
    }
   ],
   "source": [
    "run \"code/422.py\" 1 2 3 4 5 6"
   ]
  },
  {
   "cell_type": "code",
   "execution_count": 10,
   "metadata": {
    "collapsed": true
   },
   "outputs": [],
   "source": [
    "%%capture\n",
    "\n",
    "#422.py\n",
    "\"\"\"\n",
    "import sys\n",
    "s = 0\n",
    "for arg in sys.argv[1:]:\n",
    "    number = float(arg)\n",
    "    s += number\n",
    "print(\"The sum of \", end=\"\")\n",
    "for arg in sys.argv[1:]:\n",
    "    print(arg, end=\" \")\n",
    "print(\"is\", s)\n",
    "\"\"\""
   ]
  },
  {
   "cell_type": "markdown",
   "metadata": {},
   "source": [
    "## 4.2.3 More on Command-Line Arguments"
   ]
  },
  {
   "cell_type": "code",
   "execution_count": 11,
   "metadata": {},
   "outputs": [
    {
     "name": "stdout",
     "output_type": "stream",
     "text": [
      "['-f',\n",
      " '/Users/onnoeberhard/Library/Jupyter/runtime/kernel-f96ee461-7e10-446e-a1f7-5b714d62c71d.json']\n"
     ]
    }
   ],
   "source": [
    "import sys, pprint\n",
    "pprint.pprint(sys.argv[1:])"
   ]
  },
  {
   "cell_type": "code",
   "execution_count": 12,
   "metadata": {},
   "outputs": [
    {
     "name": "stdout",
     "output_type": "stream",
     "text": [
      "['21', 'a', 'string', 'with', 'blanks', '31.3']\n"
     ]
    }
   ],
   "source": [
    "run \"code/423.py\" 21 a string with blanks 31.3"
   ]
  },
  {
   "cell_type": "code",
   "execution_count": 13,
   "metadata": {},
   "outputs": [
    {
     "name": "stdout",
     "output_type": "stream",
     "text": [
      "['21', 'a string with blanks', '31.3']\n"
     ]
    }
   ],
   "source": [
    "run \"code/423.py\" 21 \"a string with blanks\" 31.3"
   ]
  },
  {
   "cell_type": "markdown",
   "metadata": {},
   "source": [
    "# 4.3 Turning User Text into Live Objects"
   ]
  },
  {
   "cell_type": "markdown",
   "metadata": {
    "collapsed": true
   },
   "source": [
    "## 4.3.1 The Magic Eval Function"
   ]
  },
  {
   "cell_type": "code",
   "execution_count": 14,
   "metadata": {},
   "outputs": [
    {
     "data": {
      "text/plain": [
       "3"
      ]
     },
     "execution_count": 14,
     "metadata": {},
     "output_type": "execute_result"
    }
   ],
   "source": [
    "r = eval(\"1+2\")\n",
    "r"
   ]
  },
  {
   "cell_type": "code",
   "execution_count": 15,
   "metadata": {},
   "outputs": [
    {
     "data": {
      "text/plain": [
       "float"
      ]
     },
     "execution_count": 15,
     "metadata": {},
     "output_type": "execute_result"
    }
   ],
   "source": [
    "x = eval(\"3.2\")\n",
    "type(x)"
   ]
  },
  {
   "cell_type": "code",
   "execution_count": 16,
   "metadata": {},
   "outputs": [
    {
     "data": {
      "text/plain": [
       "list"
      ]
     },
     "execution_count": 16,
     "metadata": {},
     "output_type": "execute_result"
    }
   ],
   "source": [
    "l = eval(\"[1, 2, 3]\")\n",
    "type(l)"
   ]
  },
  {
   "cell_type": "code",
   "execution_count": 17,
   "metadata": {},
   "outputs": [
    {
     "data": {
      "text/plain": [
       "1.4142135623730951"
      ]
     },
     "execution_count": 17,
     "metadata": {},
     "output_type": "execute_result"
    }
   ],
   "source": [
    "from math import sqrt\n",
    "r = eval(\"sqrt(2)\")\n",
    "r"
   ]
  },
  {
   "cell_type": "code",
   "execution_count": 18,
   "metadata": {},
   "outputs": [
    {
     "data": {
      "text/plain": [
       "'hello'"
      ]
     },
     "execution_count": 18,
     "metadata": {},
     "output_type": "execute_result"
    }
   ],
   "source": [
    "s = eval(\"'hello'\")\n",
    "s"
   ]
  },
  {
   "cell_type": "code",
   "execution_count": 19,
   "metadata": {
    "collapsed": true
   },
   "outputs": [],
   "source": [
    "def io():\n",
    "    i1 = eval(input(\"Input 1: \"))\n",
    "    i2 = eval(input(\"Input 2: \"))\n",
    "    print(\"Output: \", i1 + i2)"
   ]
  },
  {
   "cell_type": "code",
   "execution_count": 20,
   "metadata": {},
   "outputs": [
    {
     "name": "stdout",
     "output_type": "stream",
     "text": [
      "Input 1: \"hello, \"\n",
      "Input 2: \"world\"\n",
      "Output:  hello, world\n"
     ]
    }
   ],
   "source": [
    "io()"
   ]
  },
  {
   "cell_type": "code",
   "execution_count": 21,
   "metadata": {},
   "outputs": [
    {
     "name": "stdout",
     "output_type": "stream",
     "text": [
      "Input 1: [1, 2]\n",
      "Input 2: [3]\n",
      "Output:  [1, 2, 3]\n"
     ]
    }
   ],
   "source": [
    "io()"
   ]
  },
  {
   "cell_type": "code",
   "execution_count": 22,
   "metadata": {},
   "outputs": [
    {
     "name": "stdout",
     "output_type": "stream",
     "text": [
      "Formula: sin(cos(x))\n",
      "x: 5/2*pi\n",
      "sin(cos(x)) for x=7.85398 yields 3.06162e-16\n"
     ]
    }
   ],
   "source": [
    "from math import * # make all math functions available\n",
    "import sys\n",
    "formula = input(\"Formula: \")\n",
    "x = eval(input(\"x: \"))\n",
    "result = eval(formula)\n",
    "print(\"%s for x=%g yields %g\" % (formula, x, result))"
   ]
  },
  {
   "cell_type": "markdown",
   "metadata": {},
   "source": [
    "## 4.3.2 The Magic Exec Function"
   ]
  },
  {
   "cell_type": "code",
   "execution_count": 23,
   "metadata": {},
   "outputs": [
    {
     "name": "stdout",
     "output_type": "stream",
     "text": [
      "Formula: tanh(2*x)\n",
      "a = 0.5\n",
      "b = 0.7\n",
      "Integral of tanh(2*x) on [0.5, 0.7] with n=200: 0.166052\n"
     ]
    }
   ],
   "source": [
    "def midpoint_integration(f, a, b, n=100):\n",
    "    h = (b - a)/float(n)\n",
    "    I = 0\n",
    "    for i in range(n):\n",
    "        I += f(a + i*h + 0.5*h)\n",
    "    return h*I\n",
    "\n",
    "from math import *\n",
    "f_formula = input(\"Formula: \")\n",
    "a = eval(input(\"a = \"))\n",
    "b = eval(input(\"b = \"))\n",
    "n = 200\n",
    "exec(\"\"\"\n",
    "def g(x):\n",
    "    return %s\n",
    "\"\"\" % f_formula)\n",
    "\n",
    "I = midpoint_integration(g, a, b, n)\n",
    "print(\"Integral of %s on [%g, %g] with n=%d: %g\" % (f_formula, a, b, n, I))"
   ]
  },
  {
   "cell_type": "markdown",
   "metadata": {},
   "source": [
    "## 4.3.3 Turning String Expressions into Functions"
   ]
  },
  {
   "cell_type": "code",
   "execution_count": 24,
   "metadata": {
    "collapsed": true
   },
   "outputs": [],
   "source": [
    "# scitools.StringFunction\n",
    "# let's see about sciren.."
   ]
  },
  {
   "cell_type": "markdown",
   "metadata": {},
   "source": [
    "# 4.4 Option-Value Pairs on the Command Line"
   ]
  },
  {
   "cell_type": "markdown",
   "metadata": {
    "collapsed": true
   },
   "source": [
    "## 4.4.1 Basic Usage of the Argparse Module"
   ]
  },
  {
   "cell_type": "code",
   "execution_count": 25,
   "metadata": {},
   "outputs": [
    {
     "name": "stdout",
     "output_type": "stream",
     "text": [
      "usage: 441.py [-h] [-v0 v0] [-s0 s0] [-a a] [-t t]\n",
      "\n",
      "optional arguments:\n",
      "  -h, --help            show this help message and exit\n",
      "  -v0 v0, --initial_velocity v0\n",
      "                        initial velocity\n",
      "  -s0 s0, --initial_position s0\n",
      "                        initial position\n",
      "  -a a, --acceleration a\n",
      "                        acceleration\n",
      "  -t t, --time t        time\n"
     ]
    }
   ],
   "source": [
    "run \"code/441.py\" -h"
   ]
  },
  {
   "cell_type": "code",
   "execution_count": 26,
   "metadata": {},
   "outputs": [
    {
     "name": "stdout",
     "output_type": "stream",
     "text": [
      "s = 4.5\n"
     ]
    }
   ],
   "source": [
    "run \"code/441.py\" -t 3"
   ]
  },
  {
   "cell_type": "code",
   "execution_count": 27,
   "metadata": {},
   "outputs": [
    {
     "name": "stdout",
     "output_type": "stream",
     "text": [
      "s = 154.5\n"
     ]
    }
   ],
   "source": [
    "run \"code/441.py\" -t 3 --initial_velocity 50"
   ]
  },
  {
   "cell_type": "code",
   "execution_count": 28,
   "metadata": {
    "collapsed": true
   },
   "outputs": [],
   "source": [
    "%%capture\n",
    "\n",
    "#441.py\n",
    "'''\n",
    "import argparse\n",
    "parser = argparse.ArgumentParser()\n",
    "parser.add_argument('-v0', '--initial_velocity', type=float,\n",
    "default=0.0, help=\"initial velocity\", metavar='v0', dest='v0')\n",
    "parser.add_argument('-s0', '--initial_position', type=float,\n",
    "default=0.0, help=\"initial position\", metavar='s0', dest='s0')\n",
    "parser.add_argument('-a', '--acceleration', type=float,\n",
    "default=1., help=\"acceleration\", metavar='a', dest='a')\n",
    "parser.add_argument('-t', '--time', type=float,\n",
    "default=1.0, help=\"time\", metavar='t', dest='t')\n",
    "args = parser.parse_args()\n",
    "s = args.s0 + args.v0*args.t + 0.5*args.a*args.t**2\n",
    "print(\"s =\", s)\n",
    "'''"
   ]
  },
  {
   "cell_type": "markdown",
   "metadata": {},
   "source": [
    "## 4.4.2 Mathematical Expressions as Values"
   ]
  },
  {
   "cell_type": "code",
   "execution_count": 29,
   "metadata": {},
   "outputs": [
    {
     "name": "stdout",
     "output_type": "stream",
     "text": [
      "s = 6.070796326794897\n"
     ]
    }
   ],
   "source": [
    "run \"code/442.py\" -s0 pi/2 -t 3"
   ]
  },
  {
   "cell_type": "code",
   "execution_count": 30,
   "metadata": {
    "collapsed": true
   },
   "outputs": [],
   "source": [
    "%%capture\n",
    "\n",
    "#441.py\n",
    "'''\n",
    "from math import *\n",
    "import argparse\n",
    "\n",
    "def evalarg(text):\n",
    "    return eval(text)\n",
    "\n",
    "parser = argparse.ArgumentParser()\n",
    "parser.add_argument('-s0', '--initial_position', type=evalarg,    # type=eval is also possible but won't have objects defined in namespace.\n",
    "default=0.0, help=\"initial position\", metavar='s0', dest='s0')\n",
    "parser.add_argument('-v0', '--initial_velocity', type=float,\n",
    "default=0.0, help=\"initial velocity\", metavar='v0', dest='v0')\n",
    "parser.add_argument('-a', '--acceleration', type=float,\n",
    "default=1., help=\"acceleration\", metavar='a', dest='a')\n",
    "parser.add_argument('-t', '--time', type=float,\n",
    "default=1.0, help=\"time\", metavar='t', dest='t')\n",
    "args = parser.parse_args()\n",
    "\n",
    "s = args.s0 + args.v0*args.t + 0.5*args.a*args.t**2\n",
    "print(\"s =\", s)\n",
    "'''"
   ]
  },
  {
   "cell_type": "markdown",
   "metadata": {},
   "source": [
    "# 4.5 Reading Data from File"
   ]
  },
  {
   "cell_type": "markdown",
   "metadata": {},
   "source": [
    "## 4.5.1 Reading a File Line by Line"
   ]
  },
  {
   "cell_type": "code",
   "execution_count": 31,
   "metadata": {},
   "outputs": [
    {
     "name": "stdout",
     "output_type": "stream",
     "text": [
      "['21.8\\n', '18.1\\n', '19\\n', '23\\n', '26\\n', '17.8']\n",
      "20.95\n"
     ]
    }
   ],
   "source": [
    "infile = open(\"stuff/451.txt\", 'r')\n",
    "lines = infile.readlines()\n",
    "infile.close()\n",
    "print(lines)\n",
    "mean = 0\n",
    "for line in lines:\n",
    "    mean = mean + float(line)\n",
    "mean = mean/len(lines)\n",
    "print(mean)"
   ]
  },
  {
   "cell_type": "code",
   "execution_count": 32,
   "metadata": {},
   "outputs": [
    {
     "name": "stdout",
     "output_type": "stream",
     "text": [
      "20.95\n"
     ]
    }
   ],
   "source": [
    "# or\n",
    "infile = open(\"stuff/451.txt\", 'r')\n",
    "lines = infile.readlines()\n",
    "infile.close()\n",
    "mean = sum(float(line) for line in lines)/len(lines)\n",
    "print(mean)"
   ]
  },
  {
   "cell_type": "markdown",
   "metadata": {},
   "source": [
    "## 4.5.2 Alternative Ways of Reading a File"
   ]
  },
  {
   "cell_type": "code",
   "execution_count": 33,
   "metadata": {},
   "outputs": [
    {
     "name": "stdout",
     "output_type": "stream",
     "text": [
      "20.95\n"
     ]
    }
   ],
   "source": [
    "with open(\"stuff/451.txt\", 'r') as infile:\n",
    "    lines = infile.readlines()\n",
    "    mean = sum(float(line) for line in lines)/len(lines)\n",
    "    print(mean)"
   ]
  },
  {
   "cell_type": "code",
   "execution_count": 34,
   "metadata": {},
   "outputs": [
    {
     "name": "stdout",
     "output_type": "stream",
     "text": [
      "21.8\n",
      "\n",
      "18.1\n",
      "\n"
     ]
    }
   ],
   "source": [
    "with open(\"stuff/451.txt\", 'r') as infile:\n",
    "    print(infile.readline())\n",
    "    print(infile.readline())"
   ]
  },
  {
   "cell_type": "code",
   "execution_count": 35,
   "metadata": {},
   "outputs": [
    {
     "name": "stdout",
     "output_type": "stream",
     "text": [
      "20.95\n"
     ]
    }
   ],
   "source": [
    "with open(\"stuff/451.txt\", 'r') as infile:\n",
    "    numbers = [float(w) for w in infile.read().split()]\n",
    "    mean = sum(numbers)/len(numbers)\n",
    "    print(mean)"
   ]
  },
  {
   "cell_type": "markdown",
   "metadata": {},
   "source": [
    "## 4.5.3 Reading a Mixture of Text and Numbers"
   ]
  },
  {
   "cell_type": "code",
   "execution_count": 36,
   "metadata": {},
   "outputs": [
    {
     "name": "stdout",
     "output_type": "stream",
     "text": [
      "The average rainfall for the months:\n",
      "Jan 81.2\n",
      "Feb 63.2\n",
      "Mar 70.3\n",
      "Apr 55.7\n",
      "May 53.0\n",
      "Jun 36.4\n",
      "Jul 17.5\n",
      "Aug 27.5\n",
      "Sep 60.9\n",
      "Oct 117.7\n",
      "Nov 111.0\n",
      "Dec 97.9\n",
      "The average rainfall for the year: 792.9\n"
     ]
    }
   ],
   "source": [
    "def extract_data(filename):\n",
    "    with open(filename) as infile:\n",
    "        data = [line.split() for line in infile][1:]\n",
    "    annual_avg = data[-1][1]\n",
    "    months = [m for m, _ in data[:-1]]\n",
    "    rainfall = [float(r) for _, r in data[:-1]]\n",
    "    return months, rainfall, annual_avg\n",
    "\n",
    "months, values, avg = extract_data(\"stuff/453.dat\")\n",
    "print(\"The average rainfall for the months:\")\n",
    "for month, value in zip(months, values):\n",
    "    print(month, value)\n",
    "print(\"The average rainfall for the year:\", avg)"
   ]
  },
  {
   "cell_type": "markdown",
   "metadata": {},
   "source": [
    "# 4.6 Writing Data to File"
   ]
  },
  {
   "cell_type": "markdown",
   "metadata": {},
   "source": [
    "## 4.6.1 Example: Writing a Table to File"
   ]
  },
  {
   "cell_type": "code",
   "execution_count": 37,
   "metadata": {
    "collapsed": true
   },
   "outputs": [],
   "source": [
    "data = [[0.75, 0.29619813, -0.29619813, -0.75], \n",
    "        [0.29619813, 0.11697778, -0.11697778, -0.29619813], \n",
    "        [-0.29619813, -0.11697778, 0.11697778, 0.29619813], \n",
    "        [-0.75, -0.29619813, 0.29619813, 0.75 ]]"
   ]
  },
  {
   "cell_type": "code",
   "execution_count": 38,
   "metadata": {
    "collapsed": true
   },
   "outputs": [],
   "source": [
    "with open(\"./stuff/461a.txt\", 'w') as f:\n",
    "    for row in data:\n",
    "        for column in row:\n",
    "            f.write(f\"{column:>13.6f}\")\n",
    "        f.write(\"\\n\")"
   ]
  },
  {
   "cell_type": "code",
   "execution_count": 39,
   "metadata": {
    "collapsed": true
   },
   "outputs": [],
   "source": [
    "with open(\"./stuff/461b.txt\", 'w') as f:\n",
    "    f.write(\"                  column 1      column 2      column 3      column 4 \\n\")\n",
    "    for i, row in enumerate(data):\n",
    "        f.write(f\"      row {i:2d} \")\n",
    "        for column in row:\n",
    "            f.write(f\"{column:>13.6f} \")\n",
    "        f.write(\"\\n\")"
   ]
  },
  {
   "cell_type": "code",
   "execution_count": 40,
   "metadata": {},
   "outputs": [
    {
     "name": "stdout",
     "output_type": "stream",
     "text": [
      "   column  1\n",
      "   column  4\n",
      "   column  7\n",
      "   column 10\n",
      "   column 13\n",
      "   column  1\n",
      "   column  4\n",
      "   column  7\n",
      "   column 10\n",
      "   column 13\n",
      "   column  1\n",
      "   column  4\n",
      "   column  7\n",
      "   column 10\n",
      "   column 13\n"
     ]
    }
   ],
   "source": [
    "# Nested printf\n",
    "for i in range(1, 15, 3):\n",
    "    print(\"%12s\" % (\"column %2d\" % i))\n",
    "    \n",
    "for i in range(1, 15, 3):\n",
    "    print(f\"{f'column {i:2d}':>12s}\")\n",
    "    \n",
    "for i in range(1, 15, 3):\n",
    "    print(\"%12s\" % f\"column {i:2d}\")"
   ]
  },
  {
   "cell_type": "markdown",
   "metadata": {},
   "source": [
    "## 4.6.2 Standard Input and Output as File Objects"
   ]
  },
  {
   "cell_type": "code",
   "execution_count": 41,
   "metadata": {},
   "outputs": [
    {
     "name": "stdout",
     "output_type": "stream",
     "text": [
      "Tell me a secret:\n",
      "hello, world!"
     ]
    }
   ],
   "source": [
    "import sys\n",
    "print(\"Tell me a secret:\")\n",
    "s = sys.stdin.readline()    # Apparently does not work in jupyter.\n",
    "sys.stdout.write(\"hello, world!\")"
   ]
  },
  {
   "cell_type": "code",
   "execution_count": 42,
   "metadata": {},
   "outputs": [
    {
     "name": "stderr",
     "output_type": "stream",
     "text": [
      "Oh noooo!"
     ]
    }
   ],
   "source": [
    "sys.stderr.write(\"Oh noooo!\")"
   ]
  },
  {
   "cell_type": "markdown",
   "metadata": {
    "collapsed": true
   },
   "source": [
    "# 4.7 Handling Errors"
   ]
  },
  {
   "cell_type": "markdown",
   "metadata": {},
   "source": [
    "## 4.7.1 Exception Handling"
   ]
  },
  {
   "cell_type": "code",
   "execution_count": 43,
   "metadata": {},
   "outputs": [
    {
     "name": "stdout",
     "output_type": "stream",
     "text": [
      "You did not provide a Celsius value in the command line!\n"
     ]
    },
    {
     "ename": "SystemExit",
     "evalue": "1",
     "output_type": "error",
     "traceback": [
      "An exception has occurred, use %tb to see the full traceback.\n",
      "\u001b[0;31mSystemExit\u001b[0m\u001b[0;31m:\u001b[0m 1\n"
     ]
    }
   ],
   "source": [
    "run \"code/471a.py\""
   ]
  },
  {
   "cell_type": "code",
   "execution_count": 44,
   "metadata": {},
   "outputs": [
    {
     "name": "stdout",
     "output_type": "stream",
     "text": [
      "30°C = 86°F\n"
     ]
    }
   ],
   "source": [
    "run \"code/471a.py\" 30"
   ]
  },
  {
   "cell_type": "code",
   "execution_count": 45,
   "metadata": {
    "collapsed": true
   },
   "outputs": [],
   "source": [
    "%%capture\n",
    "\n",
    "# Code:\n",
    "'''\n",
    "import sys\n",
    "\n",
    "try:\n",
    "    C = float(sys.argv[1])\n",
    "except:\n",
    "    print(\"You did not provide a Celsius value in the command line!\")\n",
    "    sys.exit(1)\n",
    "\n",
    "F = 9/5*C + 32\n",
    "print(\"%g°C = %g°F\" % (C, F))\n",
    "'''"
   ]
  },
  {
   "cell_type": "code",
   "execution_count": 46,
   "metadata": {},
   "outputs": [
    {
     "name": "stdout",
     "output_type": "stream",
     "text": [
      "The temperature in Celsius must be numeric!\n"
     ]
    },
    {
     "ename": "SystemExit",
     "evalue": "1",
     "output_type": "error",
     "traceback": [
      "An exception has occurred, use %tb to see the full traceback.\n",
      "\u001b[0;31mSystemExit\u001b[0m\u001b[0;31m:\u001b[0m 1\n"
     ]
    }
   ],
   "source": [
    "run \"code/471b.py\" 22x"
   ]
  },
  {
   "cell_type": "code",
   "execution_count": 47,
   "metadata": {},
   "outputs": [
    {
     "name": "stdout",
     "output_type": "stream",
     "text": [
      "22°C = 71.6°F\n"
     ]
    }
   ],
   "source": [
    "run \"code/471b.py\" 22"
   ]
  },
  {
   "cell_type": "code",
   "execution_count": 48,
   "metadata": {
    "collapsed": true
   },
   "outputs": [],
   "source": [
    "%%capture\n",
    "\n",
    "# Code:\n",
    "'''\n",
    "import sys\n",
    "\n",
    "try:\n",
    "    C = float(sys.argv[1])\n",
    "except IndexError:\n",
    "    print(\"You did not provide a Celsius value in the command line!\")\n",
    "    sys.exit(1)\n",
    "except ValueError:\n",
    "    print(\"The temperature in Celsius must be numeric!\")\n",
    "    sys.exit(1)\n",
    "\n",
    "F = 9/5*C + 32\n",
    "print(\"%g°C = %g°F\" % (C, F))\n",
    "'''"
   ]
  },
  {
   "cell_type": "markdown",
   "metadata": {
    "collapsed": true
   },
   "source": [
    "## 4.7.2 Raising Exceptions"
   ]
  },
  {
   "cell_type": "code",
   "execution_count": 49,
   "metadata": {
    "collapsed": true
   },
   "outputs": [],
   "source": [
    "def err():\n",
    "    raise ValueError(\"Absolutely the wrong value!\")"
   ]
  },
  {
   "cell_type": "code",
   "execution_count": 50,
   "metadata": {},
   "outputs": [
    {
     "name": "stdout",
     "output_type": "stream",
     "text": [
      "Absolutely the wrong value!\n"
     ]
    }
   ],
   "source": [
    "try:\n",
    "    err()\n",
    "except Exception as e:\n",
    "    print(e)"
   ]
  },
  {
   "cell_type": "markdown",
   "metadata": {},
   "source": [
    "# 4.8 A Glimpse of Graphical User Interfaces"
   ]
  },
  {
   "cell_type": "code",
   "execution_count": 51,
   "metadata": {
    "collapsed": true
   },
   "outputs": [],
   "source": [
    "from tkinter import *\n",
    "\n",
    "root = Tk()\n",
    "C_entry = Entry(root, width=4)\n",
    "C_entry.pack(side='left')\n",
    "C_label = Label(root, text=\"° Celsius\")\n",
    "C_label.pack(side='left')\n",
    "\n",
    "def compute():\n",
    "    C = float(C_entry.get())\n",
    "    F = 9/5*C + 32\n",
    "    F_label.configure(text=f\"{F}° Fahrenheit\")\n",
    "\n",
    "compute = Button(root, text=\" is \", command=compute)\n",
    "compute.pack(side='left', padx=4)\n",
    "\n",
    "F_label = Label(root, text=\"    ° Fahrenheit\")\n",
    "F_label.pack(side='left')\n",
    "root.mainloop()"
   ]
  },
  {
   "cell_type": "markdown",
   "metadata": {},
   "source": [
    "# 4.9 Making Modules"
   ]
  },
  {
   "cell_type": "markdown",
   "metadata": {},
   "source": [
    "on locations-- she don't know what it means. and the music makes her wanna be the story- and the story is whatever was the song."
   ]
  },
  {
   "cell_type": "markdown",
   "metadata": {},
   "source": [
    "## 4.9.1 Example: Interest on Bank Deposits"
   ]
  },
  {
   "cell_type": "code",
   "execution_count": 52,
   "metadata": {
    "collapsed": true
   },
   "outputs": [],
   "source": [
    "import sys\n",
    "sys.path.insert(0, \"code\")\n",
    "from interest import annual_rate"
   ]
  },
  {
   "cell_type": "markdown",
   "metadata": {},
   "source": [
    "## 4.9.2 Collecting Functions in a Module File"
   ]
  },
  {
   "cell_type": "code",
   "execution_count": 53,
   "metadata": {},
   "outputs": [
    {
     "data": {
      "text/plain": [
       "0.02038041504359711"
      ]
     },
     "execution_count": 53,
     "metadata": {},
     "output_type": "execute_result"
    }
   ],
   "source": [
    "annual_rate(20, 132, 3333324)"
   ]
  },
  {
   "cell_type": "markdown",
   "metadata": {},
   "source": [
    "## 4.9.3 Test Block"
   ]
  },
  {
   "cell_type": "code",
   "execution_count": 54,
   "metadata": {},
   "outputs": [
    {
     "name": "stderr",
     "output_type": "stream",
     "text": [
      "ERROR:root:File `'interest.py'` not found.\n"
     ]
    }
   ],
   "source": [
    "run interest 22"
   ]
  },
  {
   "cell_type": "markdown",
   "metadata": {},
   "source": [
    "## 4.9.6 Doc Strings in Modules"
   ]
  },
  {
   "cell_type": "code",
   "execution_count": 55,
   "metadata": {},
   "outputs": [
    {
     "name": "stdout",
     "output_type": "stream",
     "text": [
      "Help on module interest:\r\n",
      "\r\n",
      "N\bNA\bAM\bME\bE\r\n",
      "    interest\r\n",
      "\r\n",
      "D\bDE\bES\bSC\bCR\bRI\bIP\bPT\bTI\bIO\bON\bN\r\n",
      "    Module for computing with interest rates.\r\n",
      "    Symbols: A is present amount, A0 is initial amount,\r\n",
      "    n counts days, and p is the interest rate per year.\r\n",
      "    Given three of these parameters, the fourth can be\r\n",
      "    computed as follows:\r\n",
      "        A  = present_amount(A0, p, n)\r\n",
      "        A0 = initial_amount(A, p, n)\r\n",
      "        n  = days(A0, A, p)\r\n",
      "        p  = annual_rate(A0, A, n)\r\n",
      "\r\n",
      "F\bFU\bUN\bNC\bCT\bTI\bIO\bON\bNS\bS\r\n",
      "    a\ban\bnn\bnu\bua\bal\bl_\b_r\bra\bat\bte\be(A0, A, n)\r\n",
      "    \r\n",
      "    d\bda\bay\bys\bs(A0, A, p)\r\n",
      "    \r\n",
      "    i\bin\bni\bit\bti\bia\bal\bl_\b_a\bam\bmo\bou\bun\bnt\bt(A, p, n)\r\n",
      "    \r\n",
      "    p\bpr\bre\bes\bse\ben\bnt\bt_\b_a\bam\bmo\bou\bun\bnt\bt(A0, p, n)\r\n",
      "\r\n",
      "D\bDA\bAT\bTA\bA\r\n",
      "    _\b__\b_a\bal\bll\bl_\b__\b_ = ['present_amount', 'initial_amount', 'days', 'annual_rate']\r\n",
      "\r\n",
      "F\bFI\bIL\bLE\bE\r\n",
      "    /Users/onnoeberhard/anaconda3/lib/python3.6/site-packages/interest.py\r\n",
      "\r\n",
      "\r\n"
     ]
    }
   ],
   "source": [
    "!pydoc interest"
   ]
  },
  {
   "cell_type": "markdown",
   "metadata": {},
   "source": [
    "## 4.9.7 Using Modules"
   ]
  },
  {
   "cell_type": "code",
   "execution_count": 56,
   "metadata": {},
   "outputs": [
    {
     "name": "stdout",
     "output_type": "stream",
     "text": [
      "p=1% implies 68.4 years to double the amount\n",
      "p=2% implies 34.2 years to double the amount\n",
      "p=3% implies 22.8 years to double the amount\n",
      "p=4% implies 17.1 years to double the amount\n",
      "p=5% implies 13.7 years to double the amount\n",
      "p=6% implies 11.4 years to double the amount\n",
      "p=7% implies 9.8 years to double the amount\n",
      "p=8% implies 8.5 years to double the amount\n",
      "p=9% implies 7.6 years to double the amount\n",
      "p=10% implies 6.8 years to double the amount\n",
      "p=11% implies 6.2 years to double the amount\n",
      "p=12% implies 5.7 years to double the amount\n",
      "p=13% implies 5.3 years to double the amount\n",
      "p=14% implies 4.9 years to double the amount\n"
     ]
    }
   ],
   "source": [
    "from interest import days\n",
    "\n",
    "# How many days does it take to double an amount when the\n",
    "# interest rate is p=1,2,3,...14?\n",
    "for p in range(1, 15):\n",
    "    years = days(1, 2, p)/365.0\n",
    "    print(\"p=%d%% implies %.1f years to double the amount\" % (p, years))"
   ]
  },
  {
   "cell_type": "code",
   "execution_count": 57,
   "metadata": {},
   "outputs": [
    {
     "data": {
      "text/plain": [
       "{'d', 'initial_amount', 'present_amount'}"
      ]
     },
     "execution_count": 57,
     "metadata": {},
     "output_type": "execute_result"
    }
   ],
   "source": [
    "d = set(dir())\n",
    "from interest import *\n",
    "set(dir()) - d"
   ]
  },
  {
   "cell_type": "markdown",
   "metadata": {},
   "source": [
    "## 4.11.2 Example: Bisection Root Finding"
   ]
  },
  {
   "cell_type": "code",
   "execution_count": 58,
   "metadata": {},
   "outputs": [
    {
     "data": {
      "text/plain": [
       "0.4533958435058594"
      ]
     },
     "execution_count": 58,
     "metadata": {},
     "output_type": "execute_result"
    }
   ],
   "source": [
    "from bisection import bisect\n",
    "bisect(lambda x: x**3 + 2*x -1, -10, 10, 1E-5)"
   ]
  },
  {
   "cell_type": "code",
   "execution_count": 59,
   "metadata": {},
   "outputs": [
    {
     "name": "stdout",
     "output_type": "stream",
     "text": [
      "Using matplotlib backend: MacOSX\n",
      "Populating the interactive namespace from numpy and matplotlib\n"
     ]
    },
    {
     "name": "stderr",
     "output_type": "stream",
     "text": [
      "/Users/onnoeberhard/anaconda3/lib/python3.6/site-packages/IPython/core/magics/pylab.py:160: UserWarning: pylab import has clobbered these variables: ['modf', 'sinh', 'fmod', 'isclose', 'log1p', 'trunc', 'ldexp', 'tan', 'degrees', 'log', 'sin', 'nan', 'ceil', 'cos', 'frexp', 'cosh', 'gamma', 'Button', 'f', 'log2', 'copysign', 'log10', 'pi', 'inf', 'Text', 'floor', 'sqrt', 'Widget', 'isinf', 'isfinite', 'expm1', 'fabs', 'radians', 'mean', 'tanh', 'number', 'exp', 'isnan', 'hypot']\n",
      "`%matplotlib` prevents importing * from pylab and numpy\n",
      "  \"\\n`%matplotlib` prevents importing * from pylab and numpy\"\n"
     ]
    },
    {
     "data": {
      "text/plain": [
       "[<matplotlib.lines.Line2D at 0x112431630>]"
      ]
     },
     "execution_count": 59,
     "metadata": {},
     "output_type": "execute_result"
    }
   ],
   "source": [
    "%pylab\n",
    "x = linspace(-3, 3, 50) # generate 50 coordinates in [-3,3] In [2]: y = x - (x-1)*sin(x)\n",
    "y = x - (x-1)*sin(x)\n",
    "plot(x, y)"
   ]
  }
 ],
 "metadata": {
  "kernelspec": {
   "display_name": "Python 3",
   "language": "python",
   "name": "python3"
  },
  "language_info": {
   "codemirror_mode": {
    "name": "ipython",
    "version": 3
   },
   "file_extension": ".py",
   "mimetype": "text/x-python",
   "name": "python",
   "nbconvert_exporter": "python",
   "pygments_lexer": "ipython3",
   "version": "3.6.2"
  }
 },
 "nbformat": 4,
 "nbformat_minor": 2
}
