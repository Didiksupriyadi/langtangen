{
 "cells": [
  {
   "cell_type": "markdown",
   "metadata": {},
   "source": [
    "# Exercise 9.1: Demostrate the magic of inheritance"
   ]
  },
  {
   "cell_type": "code",
   "execution_count": 1,
   "metadata": {},
   "outputs": [],
   "source": [
    "class Line:\n",
    "    def draw(self):\n",
    "        pass\n",
    "    \n",
    "class Parabola(Line):\n",
    "    pass"
   ]
  },
  {
   "cell_type": "code",
   "execution_count": 2,
   "metadata": {},
   "outputs": [
    {
     "data": {
      "text/plain": [
       "['__class__',\n",
       " '__delattr__',\n",
       " '__dict__',\n",
       " '__dir__',\n",
       " '__doc__',\n",
       " '__eq__',\n",
       " '__format__',\n",
       " '__ge__',\n",
       " '__getattribute__',\n",
       " '__gt__',\n",
       " '__hash__',\n",
       " '__init__',\n",
       " '__init_subclass__',\n",
       " '__le__',\n",
       " '__lt__',\n",
       " '__module__',\n",
       " '__ne__',\n",
       " '__new__',\n",
       " '__reduce__',\n",
       " '__reduce_ex__',\n",
       " '__repr__',\n",
       " '__setattr__',\n",
       " '__sizeof__',\n",
       " '__str__',\n",
       " '__subclasshook__',\n",
       " '__weakref__',\n",
       " 'draw']"
      ]
     },
     "execution_count": 2,
     "metadata": {},
     "output_type": "execute_result"
    }
   ],
   "source": [
    "dir(Parabola)"
   ]
  },
  {
   "cell_type": "markdown",
   "metadata": {},
   "source": [
    "# Exercise 9.2: Make polynomial subclasses of parabolas"
   ]
  },
  {
   "cell_type": "code",
   "execution_count": 3,
   "metadata": {},
   "outputs": [],
   "source": [
    "class Parabola(object):\n",
    "    def __init__(self, c0, c1, c2):\n",
    "        self.c0 = c0\n",
    "        self.c1 = c1\n",
    "        self.c2 = c2\n",
    "        \n",
    "    def __call__(self, x):\n",
    "        print(\"in \")\n",
    "        return self.c2*x**2 + self.c1*x + self.c0\n",
    "    \n",
    "    def table(self, L, R, n):\n",
    "        \"\"\"Return a table with n points for L <= x <= R.\"\"\"\n",
    "        s = \"\"\n",
    "        import numpy as np\n",
    "        for x in np.linspace(L, R, n):\n",
    "            y = self(x)\n",
    "            s += \"%12g %12g\\n\" % (x, y)\n",
    "        return s"
   ]
  },
  {
   "cell_type": "code",
   "execution_count": 4,
   "metadata": {},
   "outputs": [],
   "source": [
    "class Cubic(Parabola):\n",
    "    def __init__(self, c0, c1, c2, c3):\n",
    "        super().__init__(c0, c1, c2)\n",
    "        self.c3 = c3\n",
    "        \n",
    "    def __call__(self, x):\n",
    "        return super().__call__(x) + (self.c3 * x**3)"
   ]
  },
  {
   "cell_type": "code",
   "execution_count": 5,
   "metadata": {},
   "outputs": [
    {
     "name": "stdout",
     "output_type": "stream",
     "text": [
      "in \n",
      "in \n",
      "in \n",
      "in \n",
      "in \n",
      "in \n",
      "in \n",
      "in \n",
      "in \n",
      "in \n",
      "           0            1\n",
      "    0.555556      3.72291\n",
      "     1.11111      12.4129\n",
      "     1.66667      31.1852\n",
      "     2.22222       64.155\n",
      "     2.77778      115.438\n",
      "     3.33333      189.148\n",
      "     3.88889      289.402\n",
      "     4.44444      420.314\n",
      "           5          586\n",
      "\n"
     ]
    }
   ],
   "source": [
    "print(Cubic(1, 2, 3, 4).table(0, 5, 10))"
   ]
  },
  {
   "cell_type": "code",
   "execution_count": 6,
   "metadata": {},
   "outputs": [],
   "source": [
    "class Parabola(object):\n",
    "    def __init__(self, c0, c1, c2):\n",
    "        self.c0 = c0\n",
    "        self.c1 = c1\n",
    "        self.c2 = c2\n",
    "        \n",
    "    def __call__(self, x):\n",
    "        print(\"Parabola.__call__\")\n",
    "        return self.c2*x**2 + self.c1*x + self.c0\n",
    "    \n",
    "    def table(self, L, R, n):\n",
    "        \"\"\"Return a table with n points for L <= x <= R.\"\"\"\n",
    "        s = \"\"\n",
    "        import numpy as np\n",
    "        for x in np.linspace(L, R, n):\n",
    "            y = self(x)\n",
    "            s += \"%12g %12g\\n\" % (x, y)\n",
    "        return sv"
   ]
  },
  {
   "cell_type": "code",
   "execution_count": 7,
   "metadata": {},
   "outputs": [],
   "source": [
    "class Cubic(Parabola):\n",
    "    def __init__(self, c0, c1, c2, c3):\n",
    "        super().__init__(c0, c1, c2)\n",
    "        self.c3 = c3\n",
    "        \n",
    "    def __call__(self, x):\n",
    "        print(\"Cubic.__call__\")\n",
    "        return super().__call__(x) + (self.c3 * x**3)"
   ]
  },
  {
   "cell_type": "code",
   "execution_count": 8,
   "metadata": {},
   "outputs": [],
   "source": [
    "class Poly4(Cubic):\n",
    "    def __init__(self, c0, c1, c2, c3, c4):\n",
    "        super().__init__(c0, c1, c2, c3)\n",
    "        self.c4 = c4\n",
    "        \n",
    "    def __call__(self, x):\n",
    "        print(\"Poly4.__call__\")\n",
    "        return super().__call__(x) + (self.c4 * x**4)"
   ]
  },
  {
   "cell_type": "code",
   "execution_count": 9,
   "metadata": {},
   "outputs": [
    {
     "name": "stdout",
     "output_type": "stream",
     "text": [
      "Poly4.__call__\n",
      "Cubic.__call__\n",
      "Parabola.__call__\n"
     ]
    },
    {
     "data": {
      "text/plain": [
       "2.6640000000000006"
      ]
     },
     "execution_count": 9,
     "metadata": {},
     "output_type": "execute_result"
    }
   ],
   "source": [
    "Poly4(1, 2, 3, 4, 5)(0.4)"
   ]
  },
  {
   "cell_type": "markdown",
   "metadata": {},
   "source": [
    "# Exercise 9.3: Implement a class for a function as a subclass"
   ]
  },
  {
   "cell_type": "code",
   "execution_count": 10,
   "metadata": {},
   "outputs": [],
   "source": [
    "class F(Parabola):\n",
    "    def __init__(self, A, omega, c0, c1, c2):\n",
    "        super().__init__(c0, c1, c2)\n",
    "        self.A, self.omega = A, omega\n",
    "        \n",
    "    def __call__(self, x):\n",
    "        from math import sin\n",
    "        return self.A*sin(self.omega * x) + super().__call__(x)"
   ]
  },
  {
   "cell_type": "code",
   "execution_count": 11,
   "metadata": {},
   "outputs": [
    {
     "name": "stdout",
     "output_type": "stream",
     "text": [
      "Parabola.__call__\n"
     ]
    },
    {
     "data": {
      "text/plain": [
       "2556.4056618765553"
      ]
     },
     "execution_count": 11,
     "metadata": {},
     "output_type": "execute_result"
    }
   ],
   "source": [
    "f = F(1, 2, 3, 4, 5)\n",
    "f(22.2)"
   ]
  },
  {
   "cell_type": "code",
   "execution_count": 12,
   "metadata": {},
   "outputs": [
    {
     "name": "stdout",
     "output_type": "stream",
     "text": [
      "152 ns ± 2.3 ns per loop (mean ± std. dev. of 7 runs, 10000000 loops each)\n",
      "1.59 µs ± 21.5 ns per loop (mean ± std. dev. of 7 runs, 1000000 loops each)\n"
     ]
    }
   ],
   "source": [
    "import math\n",
    "import numpy as np\n",
    "\n",
    "%timeit math.sin(2.415123452)\n",
    "%timeit np.sin(2.415123452)"
   ]
  },
  {
   "cell_type": "markdown",
   "metadata": {},
   "source": [
    "# Exercise 9.4: Create an alternative class hierarchy for polynomials"
   ]
  },
  {
   "cell_type": "code",
   "execution_count": 13,
   "metadata": {},
   "outputs": [],
   "source": [
    "class Polynomial(object):\n",
    "    def __init__(self, coefficients):\n",
    "        self.coeff = coefficients\n",
    "    \n",
    "    def __call__(self, x):\n",
    "        \"\"\"Evaluate the polynomial.\"\"\"\n",
    "        s=0\n",
    "        for i in range(len(self.coeff)):\n",
    "            s += self.coeff[i]*x**i\n",
    "        return s\n",
    "    \n",
    "    def __add__(self, other):\n",
    "        \"\"\"Return self + other as Polynomial object.\"\"\"\n",
    "        if len(self.coeff) > len(other.coeff):\n",
    "            result_coeff = self.coeff[:]  # copy!\n",
    "            for i in range(len(other.coeff)):\n",
    "                result_coeff[i] += other.coeff[i]\n",
    "        else:\n",
    "            result_coeff = other.coeff[:] # copy!\n",
    "            for i in range(len(self.coeff)):\n",
    "                result_coeff[i] += self.coeff[i]\n",
    "        return Polynomial(result_coeff)"
   ]
  },
  {
   "cell_type": "code",
   "execution_count": 14,
   "metadata": {},
   "outputs": [],
   "source": [
    "class Parabola(Polynomial):\n",
    "    def __init__(self, a, b, c):\n",
    "        super().__init__([a, b, c])\n",
    "        \n",
    "class Line(Parabola):\n",
    "    def __init__(self, a, b):\n",
    "        super().__init__(a, b, 0)\n",
    "        del self.coeff[2]"
   ]
  },
  {
   "cell_type": "code",
   "execution_count": 15,
   "metadata": {},
   "outputs": [
    {
     "data": {
      "text/plain": [
       "9"
      ]
     },
     "execution_count": 15,
     "metadata": {},
     "output_type": "execute_result"
    }
   ],
   "source": [
    "Line(1, 2)(4)"
   ]
  },
  {
   "cell_type": "markdown",
   "metadata": {},
   "source": [
    "# Exercise 9.5: Make circle a subclass of an ellipse"
   ]
  },
  {
   "cell_type": "code",
   "execution_count": 16,
   "metadata": {},
   "outputs": [],
   "source": [
    "class Ellipse:\n",
    "    from math import pi, sqrt\n",
    "    \n",
    "    def __init__(self, pos, a, b):\n",
    "        self.pos, self.a, self.b = pos, a, b\n",
    "\n",
    "    def area(self):\n",
    "        return pi * self.a * self.b\n",
    "    \n",
    "    def circumference(self):\n",
    "        return pi * (3/2*(a + b) - sqrt(a * b))\n",
    "    \n",
    "class Circle(Ellipse):\n",
    "    def __init__(self, pos, R):\n",
    "        super().__init__(pos, R, R)"
   ]
  },
  {
   "cell_type": "markdown",
   "metadata": {},
   "source": [
    "# Exercise 9.6: Make super- and subclass for a point"
   ]
  },
  {
   "cell_type": "code",
   "execution_count": 17,
   "metadata": {},
   "outputs": [],
   "source": [
    "class Point:\n",
    "    def __init__(self, x, y):\n",
    "        self.x, self.y = x, y\n",
    "        \n",
    "    def __str__(self):\n",
    "        return \"%g, %g\" % (self.x, self.y)\n",
    "    \n",
    "class PolarPoint(Point):\n",
    "    from math import sin, cos\n",
    "    \n",
    "    def __init__(self, r, theta):\n",
    "        self.r, self.theta = r, theta\n",
    "        super().__init__(r * cos(theta), r * sin(theta))"
   ]
  },
  {
   "cell_type": "markdown",
   "metadata": {},
   "source": [
    "# Exercise 9.7: Modify a function class by subclassing"
   ]
  },
  {
   "cell_type": "code",
   "execution_count": 18,
   "metadata": {},
   "outputs": [],
   "source": [
    "from math import exp, sin\n",
    "class F:\n",
    "    def __init__(self, a, b):\n",
    "        self.a, self.b = a, b\n",
    "        \n",
    "    def __call__(self, t):\n",
    "        return exp(-self.a * t) * sin(self.b * t)"
   ]
  },
  {
   "cell_type": "code",
   "execution_count": 19,
   "metadata": {},
   "outputs": [],
   "source": [
    "class Fb(F):\n",
    "    def __init__(self, a, t):\n",
    "        self.a, self.t = a, t\n",
    "        \n",
    "    def __call__(self, b):\n",
    "        self.b = b\n",
    "        return super().__call__(self.t)"
   ]
  },
  {
   "cell_type": "code",
   "execution_count": 20,
   "metadata": {},
   "outputs": [
    {
     "data": {
      "text/plain": [
       "-3.4482611891511404e-05"
      ]
     },
     "execution_count": 20,
     "metadata": {},
     "output_type": "execute_result"
    }
   ],
   "source": [
    "Fb(t=2, a=4.5)(3)"
   ]
  },
  {
   "cell_type": "markdown",
   "metadata": {},
   "source": [
    "# Exercise 9.8: Explore the accuracy of difference formulas"
   ]
  },
  {
   "cell_type": "code",
   "execution_count": 21,
   "metadata": {},
   "outputs": [],
   "source": [
    "from package.Diff2 import *"
   ]
  },
  {
   "cell_type": "code",
   "execution_count": 22,
   "metadata": {},
   "outputs": [],
   "source": [
    "mu = 1\n",
    "v = lambda x: (1 - exp(x / mu)) / (1 - exp(1 / mu))\n",
    "dvdx = lambda x: exp(x / mu) / (mu * (exp(1 / mu) - 1))"
   ]
  },
  {
   "cell_type": "code",
   "execution_count": 23,
   "metadata": {},
   "outputs": [
    {
     "data": {
      "text/plain": [
       "<Figure size 640x480 with 1 Axes>"
      ]
     },
     "metadata": {},
     "output_type": "display_data"
    }
   ],
   "source": [
    "import matplotlib.pyplot as plt\n",
    "import numpy as np\n",
    "\n",
    "plt.figure()\n",
    "\n",
    "x = np.linspace(-0.2, 1.005, 200)\n",
    "plt.plot(x, [v(x) for x in x], label=\"$\\mu = 1$\")\n",
    "mu = 0.01\n",
    "plt.plot(x, [v(x) for x in x], label=\"$\\mu = 0.01$\")\n",
    "plt.legend()\n",
    "plt.show()"
   ]
  },
  {
   "cell_type": "code",
   "execution_count": 24,
   "metadata": {},
   "outputs": [
    {
     "name": "stdout",
     "output_type": "stream",
     "text": [
      "+-----------+------+-----+-------------------------+\n",
      "|   Method  |  mu  |  x  |          Error          |\n",
      "+-----------+------+-----+-------------------------+\n",
      "| Backward1 |  1   |  0  |  2.909873501266702e-06  |\n",
      "| Backward1 |  1   | 0.9 |  7.157121372003417e-06  |\n",
      "| Backward1 | 0.01 |  0  |  1.859418130432611e-45  |\n",
      "| Backward1 | 0.01 | 0.9 |  2.269240054773858e-06  |\n",
      "|  Forward1 |  1   |  0  | -2.9098875877764385e-06 |\n",
      "|  Forward1 |  1   | 0.9 | -7.1571506179424205e-06 |\n",
      "|  Forward1 | 0.01 |  0  | -1.8606581558666612e-45 |\n",
      "|  Forward1 | 0.01 | 0.9 | -2.2707533000347266e-06 |\n",
      "|  Forward3 |  1   |  0  |  4.802269693016115e-12  |\n",
      "|  Forward3 |  1   | 0.9 |  2.4234836359937617e-11 |\n",
      "|  Forward3 | 0.01 |  0  |  3.1003034235195763e-52 |\n",
      "|  Forward3 | 0.01 | 0.9 |  4.3220895612483545e-13 |\n",
      "|  Central2 |  1   |  0  |  -7.043254868221993e-12 |\n",
      "|  Central2 |  1   | 0.9 | -1.4622969501942862e-11 |\n",
      "|  Central2 | 0.01 |  0  |  -6.200127167064711e-49 |\n",
      "|  Central2 | 0.01 | 0.9 |  -7.566226300007028e-10 |\n",
      "|  Central4 |  1   |  0  |  3.1870062144889744e-12 |\n",
      "|  Central4 |  1   | 0.9 |  1.3132606113686052e-11 |\n",
      "|  Central4 | 0.01 |  0  |  1.0068340878357098e-55 |\n",
      "|  Central4 | 0.01 | 0.9 |  5.3811989586538544e-14 |\n",
      "|  Central6 |  1   |  0  |  3.4023894812662547e-12 |\n",
      "|  Central6 |  1   | 0.9 |  1.5538015318838916e-11 |\n",
      "|  Central6 | 0.01 |  0  | -2.2940523520307313e-56 |\n",
      "|  Central6 | 0.01 | 0.9 |  5.795624397064714e-14  |\n",
      "+-----------+------+-----+-------------------------+\n"
     ]
    }
   ],
   "source": [
    "from prettytable import PrettyTable\n",
    "t = PrettyTable([\"Method\", \"mu\", \"x\", \"Error\"])\n",
    "for method in Backward1, Forward1, Forward3, Central2, Central4, Central6:\n",
    "    for mu in 1, 0.01:\n",
    "        for x in 0, 0.9:\n",
    "            t.add_row([method.__name__, mu, x, method(v, dfdx_exact=dvdx).error(x)])\n",
    "\n",
    "print(t)"
   ]
  },
  {
   "cell_type": "code",
   "execution_count": 25,
   "metadata": {},
   "outputs": [
    {
     "name": "stdout",
     "output_type": "stream",
     "text": [
      "| Method    |   mu |   x |        Error |\n",
      "|-----------+------+-----+--------------|\n",
      "| Backward1 | 1    | 0   |  2.90987e-06 |\n",
      "| Backward1 | 1    | 0.9 |  7.15712e-06 |\n",
      "| Backward1 | 0.01 | 0   |  1.85942e-45 |\n",
      "| Backward1 | 0.01 | 0.9 |  2.26924e-06 |\n",
      "| Forward1  | 1    | 0   | -2.90989e-06 |\n",
      "| Forward1  | 1    | 0.9 | -7.15715e-06 |\n",
      "| Forward1  | 0.01 | 0   | -1.86066e-45 |\n",
      "| Forward1  | 0.01 | 0.9 | -2.27075e-06 |\n",
      "| Forward3  | 1    | 0   |  4.80227e-12 |\n",
      "| Forward3  | 1    | 0.9 |  2.42348e-11 |\n",
      "| Forward3  | 0.01 | 0   |  3.1003e-52  |\n",
      "| Forward3  | 0.01 | 0.9 |  4.32209e-13 |\n",
      "| Central2  | 1    | 0   | -7.04325e-12 |\n",
      "| Central2  | 1    | 0.9 | -1.4623e-11  |\n",
      "| Central2  | 0.01 | 0   | -6.20013e-49 |\n",
      "| Central2  | 0.01 | 0.9 | -7.56623e-10 |\n",
      "| Central4  | 1    | 0   |  3.18701e-12 |\n",
      "| Central4  | 1    | 0.9 |  1.31326e-11 |\n",
      "| Central4  | 0.01 | 0   |  1.00683e-55 |\n",
      "| Central4  | 0.01 | 0.9 |  5.3812e-14  |\n",
      "| Central6  | 1    | 0   |  3.40239e-12 |\n",
      "| Central6  | 1    | 0.9 |  1.5538e-11  |\n",
      "| Central6  | 0.01 | 0   | -2.29405e-56 |\n",
      "| Central6  | 0.01 | 0.9 |  5.79562e-14 |\n"
     ]
    }
   ],
   "source": [
    "from tabulate import tabulate\n",
    "t = []\n",
    "for method in Backward1, Forward1, Forward3, Central2, Central4, Central6:\n",
    "    for mu in 1, 0.01:\n",
    "        for x in 0, 0.9:\n",
    "            t.append([method.__name__, mu, x, method(v, dfdx_exact=dvdx).error(x)])\n",
    "\n",
    "print(tabulate(t, [\"Method\", \"mu\", \"x\", \"Error\"], tablefmt='orgtbl'))"
   ]
  },
  {
   "cell_type": "markdown",
   "metadata": {},
   "source": [
    "# Exercise 9.9: Implement a subclass    "
   ]
  },
  {
   "cell_type": "code",
   "execution_count": 26,
   "metadata": {},
   "outputs": [],
   "source": [
    "class FuncWithDerivatives(object):\n",
    "    def __init__(self, h=1.0E-5):\n",
    "        self.h = h  # spacing for numerical derivatives\n",
    "\n",
    "    def __call__(self, x):\n",
    "        raise NotImplementedError\\\n",
    "        (\"___call__ missing in class %s\" % self.__class__.__name__)\n",
    "    \n",
    "    def df(self, x):\n",
    "        \"\"\"Return the 1st derivative of self.f.\"\"\"\n",
    "        # Compute first derivative by a finite difference\n",
    "        h = self.h\n",
    "        return (self(x+h) - self(x-h))/(2.0*h)\n",
    "    \n",
    "    def ddf(self, x):\n",
    "        \"\"\"Return the 2nd derivative of self.f.\"\"\"\n",
    "        # Compute second derivative by a finite difference:\n",
    "        h = self.h\n",
    "        return (self(x+h) - 2*self(x) + self(x-h))/(float(h)**2)"
   ]
  },
  {
   "cell_type": "code",
   "execution_count": 27,
   "metadata": {},
   "outputs": [],
   "source": [
    "from math import sin\n",
    "class Sine1(FuncWithDerivatives):\n",
    "    def __call__(self, x):\n",
    "        return sin(x)"
   ]
  },
  {
   "cell_type": "code",
   "execution_count": 28,
   "metadata": {},
   "outputs": [],
   "source": [
    "from math import sin, cos\n",
    "class Sine2:\n",
    "    def __call__(self, x):\n",
    "        return sin(x)\n",
    "    \n",
    "    def df(self, x):\n",
    "        return cos(x)\n",
    "    \n",
    "    def ddf(self, x):\n",
    "        return -sin(x)"
   ]
  },
  {
   "cell_type": "code",
   "execution_count": 29,
   "metadata": {},
   "outputs": [
    {
     "name": "stdout",
     "output_type": "stream",
     "text": [
      "Method       x        f(x)\n",
      "---------  ---  ----------\n",
      "Sine1      0.1   0.0998334\n",
      "Sine2      0.1   0.0998334\n",
      "Sine1.df   0.1   0.995004\n",
      "Sine2.df   0.1   0.995004\n",
      "Sine1.ddf  0.1  -0.0998333\n",
      "Sine2.ddf  0.1  -0.0998334\n",
      "Sine1      1.1   0.891207\n",
      "Sine2      1.1   0.891207\n",
      "Sine1.df   1.1   0.453596\n",
      "Sine2.df   1.1   0.453596\n",
      "Sine1.ddf  1.1  -0.891208\n",
      "Sine2.ddf  1.1  -0.891207\n"
     ]
    }
   ],
   "source": [
    "print(tabulate([\n",
    "    [\"Sine1\", 0.1, Sine1()(0.1)],\n",
    "    [\"Sine2\", 0.1, Sine2()(0.1)],\n",
    "    [\"Sine1.df\", 0.1, Sine1().df(0.1)],\n",
    "    [\"Sine2.df\", 0.1, Sine2().df(0.1)],\n",
    "    [\"Sine1.ddf\", 0.1, Sine1().ddf(0.1)],\n",
    "    [\"Sine2.ddf\", 0.1, Sine2().ddf(0.1)],\n",
    "    [\"Sine1\", 1.1, Sine1()(1.1)],\n",
    "    [\"Sine2\", 1.1, Sine2()(1.1)],\n",
    "    [\"Sine1.df\", 1.1, Sine1().df(1.1)],\n",
    "    [\"Sine2.df\", 1.1, Sine2().df(1.1)],\n",
    "    [\"Sine1.ddf\", 1.1, Sine1().ddf(1.1)],\n",
    "    [\"Sine2.ddf\", 1.1, Sine2().ddf(1.1)]\n",
    "], [\"Method\", \"x\", \"f(x)\"]))"
   ]
  },
  {
   "cell_type": "code",
   "execution_count": 30,
   "metadata": {},
   "outputs": [
    {
     "data": {
      "text/plain": [
       "['Sine1.df', 0.1, 0.9950041652613538]"
      ]
     },
     "execution_count": 30,
     "metadata": {},
     "output_type": "execute_result"
    }
   ],
   "source": [
    "[\"Sine1.df\", 0.1, Sine1().df(0.1)]"
   ]
  },
  {
   "cell_type": "markdown",
   "metadata": {},
   "source": [
    "# Exercise 9.10: Make classes for numerical differentiation"
   ]
  },
  {
   "cell_type": "code",
   "execution_count": 31,
   "metadata": {},
   "outputs": [],
   "source": [
    "class Derivative:\n",
    "    def __init__(self, f, h=1e-6):\n",
    "        self.f, self.h = f, h\n",
    "\n",
    "class Central(Derivative):\n",
    "    def __call__(self, x):\n",
    "        f, h = self.f, self.h\n",
    "        return (f(x + h) - f(x - h)) / 2/h\n",
    "    \n",
    "    \n",
    "class Forward(Derivative):\n",
    "    def __call__(self, x):\n",
    "        f, h = self.f, self.h\n",
    "        return (f(x + h) - f(x)) / h\n",
    "    \n",
    "    \n",
    "class Backward(Derivative):\n",
    "    def __call__(self, x):\n",
    "        f, h = self.f, self.h\n",
    "        return (f(x) - f(x - h)) / h"
   ]
  },
  {
   "cell_type": "markdown",
   "metadata": {},
   "source": [
    "# Exercise 9.11: Implement a new subclass for differentiation"
   ]
  },
  {
   "cell_type": "code",
   "execution_count": 32,
   "metadata": {},
   "outputs": [
    {
     "name": "stdout",
     "output_type": "stream",
     "text": [
      "Accuracy for (exp(-t))' at t=0:\n",
      "\n",
      "Method               h        Error\n",
      "---------  -----------  -----------\n",
      "Backward1  1            0.718282\n",
      "Backward2  1            0.757964\n",
      "Backward1  0.5          0.297443\n",
      "Backward2  0.5          0.123397\n",
      "Backward1  0.25         0.136102\n",
      "Backward2  0.25         0.0252392\n",
      "Backward1  0.125        0.0651876\n",
      "Backward2  0.125        0.00572642\n",
      "Backward1  0.0625       0.0319113\n",
      "Backward2  0.0625       0.00136494\n",
      "Backward1  0.03125      0.015789\n",
      "Backward2  0.03125      0.000333263\n",
      "Backward1  0.015625     0.00785335\n",
      "Backward2  0.015625     8.23409e-05\n",
      "Backward1  0.0078125    0.00391644\n",
      "Backward2  0.0078125    2.04647e-05\n",
      "Backward1  0.00390625   0.00195567\n",
      "Backward2  0.00390625   5.10119e-06\n",
      "Backward1  0.00195312   0.000977199\n",
      "Backward2  0.00195312   1.27343e-06\n",
      "Backward1  0.000976562  0.00048844\n",
      "Backward2  0.000976562  3.18124e-07\n",
      "Backward1  0.000488281  0.00024418\n",
      "Backward2  0.000488281  7.95017e-08\n",
      "Backward1  0.000244141  0.00012208\n",
      "Backward2  0.000244141  1.98725e-08\n",
      "Backward1  0.00012207   6.10376e-05\n",
      "Backward2  0.00012207   4.96948e-09\n",
      "Backward1  6.10352e-05  3.05182e-05\n",
      "Backward2  6.10352e-05  1.23691e-09\n"
     ]
    }
   ],
   "source": [
    "from itertools import chain\n",
    "\n",
    "class Backward2(Diff):\n",
    "    def __call__(self, x):\n",
    "        f, h = self.f, self.h\n",
    "        return (f(x - 2*h) - 4*f(x - h) + 3*f(x)) / (2 * h)\n",
    "    \n",
    "print(\"Accuracy for (exp(-t))' at t=0:\\n\")\n",
    "print(tabulate([(method.__name__, h, abs(-1 - method(lambda x: exp(-x), h=h)(0)))\n",
    "                for method, h in zip(15*[Backward1, Backward2], \n",
    "                                     chain.from_iterable((2**(-k), 2**(-k)) for k in range(15)))\n",
    "], [\"Method\", \"h\", \"Error\"]))"
   ]
  },
  {
   "cell_type": "markdown",
   "metadata": {},
   "source": [
    "# Exercise 9.12: Understand if a class can be used recursively"
   ]
  },
  {
   "cell_type": "code",
   "execution_count": 33,
   "metadata": {},
   "outputs": [
    {
     "data": {
      "text/plain": [
       "48.00000397171544"
      ]
     },
     "execution_count": 33,
     "metadata": {},
     "output_type": "execute_result"
    }
   ],
   "source": [
    "f = lambda x: x**4\n",
    "ddf = Central2(Central2(f).__call__)(2)\n",
    "ddf"
   ]
  },
  {
   "cell_type": "code",
   "execution_count": 34,
   "metadata": {},
   "outputs": [
    {
     "data": {
      "text/plain": [
       "48"
      ]
     },
     "execution_count": 34,
     "metadata": {},
     "output_type": "execute_result"
    }
   ],
   "source": [
    "12 * 2**2"
   ]
  },
  {
   "cell_type": "markdown",
   "metadata": {},
   "source": [
    "# Exercise 9.13: Represent people by a class hierarchy"
   ]
  },
  {
   "cell_type": "code",
   "execution_count": 35,
   "metadata": {},
   "outputs": [
    {
     "name": "stdout",
     "output_type": "stream",
     "text": [
      "--------  -------------\n",
      "name      Anthony\n",
      "birthday  1971-01-11\n",
      "company   Grocery Store\n",
      "area      Logistics\n",
      "--------  -------------\n"
     ]
    }
   ],
   "source": [
    "class Person:\n",
    "    def __init__(self, name, birthday=\"\", **kwargs):\n",
    "        self.name, self.birthday = name, birthday\n",
    "        \n",
    "class Worker(Person):\n",
    "    def __init__(self, name, company=\"\", **kwargs):\n",
    "        super().__init__(name, **kwargs)\n",
    "        self.company = company\n",
    "        \n",
    "class Scientist(Worker):\n",
    "    def __init__(self, name, area=\"\", **kwargs):\n",
    "        super().__init__(name, **kwargs)\n",
    "        self.area = area\n",
    "        \n",
    "s = Scientist(name=\"Anthony\", birthday=\"1971-01-11\", company=\"Grocery Store\", area=\"Logistics\")\n",
    "print(tabulate([(a, eval('s.' + a)) for a in s.__dir__()[:4]]))"
   ]
  },
  {
   "cell_type": "markdown",
   "metadata": {},
   "source": [
    "# Exercise 9.14: Add a new class in a class hierarchy"
   ]
  },
  {
   "cell_type": "code",
   "execution_count": 36,
   "metadata": {},
   "outputs": [],
   "source": [
    "class Integrator(object):\n",
    "    def __init__(self, a, b, n):\n",
    "        self.a, self.b, self.n = a, b, n\n",
    "        self.points, self.weights = self.construct_method()\n",
    "\n",
    "    def construct_method(self):\n",
    "        raise NotImplementedError('no rule in class %s' %\n",
    "                                  self.__class__.__name__)\n",
    "\n",
    "    def integrate(self, f):\n",
    "        s = 0\n",
    "        for i in range(len(self.weights)):\n",
    "            s += self.weights[i]*f(self.points[i])\n",
    "        return s\n",
    "\n",
    "    def vectorized_integrate(self, f):\n",
    "        return np.dot(self.weights, f(self.points))\n",
    "    \n",
    "    \n",
    "class MCint(Integrator):\n",
    "    def construct_method(self):\n",
    "        a, b, n = self.a, self.b, self.n\n",
    "        h = (b - a) / n\n",
    "        x = np.random.uniform(a, b, n)\n",
    "        w = n*[h]\n",
    "        return x, w"
   ]
  },
  {
   "cell_type": "code",
   "execution_count": 37,
   "metadata": {},
   "outputs": [
    {
     "name": "stdout",
     "output_type": "stream",
     "text": [
      "[0.5488135  0.71518937 0.60276338]\n",
      "0.16145042469863546\n",
      "1.2445108309142587\n"
     ]
    }
   ],
   "source": [
    "np.random.seed(0)\n",
    "i = MCint(0, 1, 3)\n",
    "print(i.points)\n",
    "print(sum(f(p)/3 for p in i.points))\n",
    "print(i.integrate(lambda x: 2*x))"
   ]
  },
  {
   "cell_type": "code",
   "execution_count": 38,
   "metadata": {},
   "outputs": [
    {
     "name": "stdout",
     "output_type": "stream",
     "text": [
      "      n        Error\n",
      "-------  -----------\n",
      "      1  1.11041\n",
      "     10  0.21277\n",
      "    100  0.0293739\n",
      "   1000  0.0328792\n",
      "  10000  0.00193093\n",
      " 100000  0.0036776\n",
      "1000000  9.35153e-06\n"
     ]
    }
   ],
   "source": [
    "from math import sin, pi\n",
    "f = lambda x: sin(x)\n",
    "print(tabulate([\n",
    "    (n, abs(2 - MCint(0, pi, n).integrate(f))) for n in [1, 10, 100, 1000, 10000, 100000, 1000000]\n",
    "], [\"n\", \"Error\"]))"
   ]
  },
  {
   "cell_type": "markdown",
   "metadata": {},
   "source": [
    "# Exercise 9.15: Compute convergence rates of numerical integration methods"
   ]
  },
  {
   "cell_type": "code",
   "execution_count": 39,
   "metadata": {},
   "outputs": [],
   "source": [
    "from package.integrate import *"
   ]
  },
  {
   "cell_type": "code",
   "execution_count": 40,
   "metadata": {},
   "outputs": [
    {
     "name": "stdout",
     "output_type": "stream",
     "text": [
      "Method          n          r         C\n",
      "-----------  ----  ---------  --------\n",
      "Midpoint        5   -2.02938  0.872319\n",
      "Midpoint        9   -2.00804  0.840112\n",
      "Midpoint       17   -2.00212  0.828246\n",
      "Midpoint       33   -2.00055  0.824255\n",
      "Midpoint       65   -2.00014  0.822998\n",
      "Midpoint      129   -2.00003  0.822621\n",
      "Midpoint      257   -2.00001  0.82251\n",
      "Midpoint      513   -2        0.822479\n",
      "Midpoint     1025   -2        0.82247\n",
      "Midpoint     2049   -2        0.822467\n",
      "Trapezoidal     5   -2.61526  6.99074\n",
      "Trapezoidal     9   -2.27413  3.81205\n",
      "Trapezoidal    17   -2.13058  2.69004\n",
      "Trapezoidal    33   -2.06384  2.18724\n",
      "Trapezoidal    65   -2.03158  1.93591\n",
      "Trapezoidal   129   -2.01571  1.80328\n",
      "Trapezoidal   257   -2.00783  1.73146\n",
      "Trapezoidal   513   -2.00391  1.69217\n",
      "Trapezoidal  1025   -2.00195  1.67063\n",
      "Trapezoidal  2049   -2.00097  1.65878\n",
      "Simpson         5  -13.5797\n",
      "Simpson         9   -9.89354\n",
      "Simpson        17   -8.83364\n",
      "Simpson        33   -8.39449\n",
      "Simpson        65   -8.19221\n",
      "Simpson       129   -8.09493\n",
      "Simpson       257   -8.04802\n",
      "Simpson       513   -8.00013\n",
      "Simpson      1025   -5.53038\n",
      "Simpson      2049   15.0074\n"
     ]
    }
   ],
   "source": [
    "from math import pi, sin, log\n",
    "\n",
    "t = []\n",
    "for Method in Midpoint, Trapezoidal:\n",
    "    for n in [2**k + 1 for k in range(2, 12)]:\n",
    "        E1 = abs(2 - Method(0, pi, n).integrate(sin))\n",
    "        E2 = abs(2 - Method(0, pi, n - 1).integrate(sin))\n",
    "        r = log(E2 / E1) / log((n - 1) / n)\n",
    "        C = E1 / n**r\n",
    "        t.append([Method.__name__, n, r, C])\n",
    "for Method in Simpson,:\n",
    "    for n in [2**k + 1 for k in range(2, 12)]:\n",
    "        E1 = abs(2 - Method(0, pi, n).integrate(sin))\n",
    "        E2 = abs(2 - Method(0, pi, n - 2).integrate(sin))\n",
    "        r = log(E2 / E1) / log((n - 1) / n)\n",
    "        C = E1 / n**r\n",
    "        t.append([Method.__name__, n, r])\n",
    "        \n",
    "print(tabulate(t, [\"Method\", \"n\", \"r\", \"C\"]))"
   ]
  },
  {
   "cell_type": "markdown",
   "metadata": {},
   "source": [
    "# Exercise 9.16: Add common functionality in a class hierarchy"
   ]
  },
  {
   "cell_type": "code",
   "execution_count": 41,
   "metadata": {},
   "outputs": [],
   "source": [
    "import numpy as np\n",
    "import math\n",
    "\n",
    "class Integrator(object):\n",
    "    def __init__(self, a, b, n):\n",
    "        self.a, self.b, self.n = a, b, n\n",
    "        self.points, self.weights = self.construct_method()\n",
    "\n",
    "    def construct_method(self):\n",
    "        raise NotImplementedError('no rule in class %s' %\n",
    "                                  self.__class__.__name__)\n",
    "\n",
    "    def integrate(self, f):\n",
    "        s = 0\n",
    "        for i in range(len(self.weights)):\n",
    "            s += self.weights[i]*f(self.points[i])\n",
    "        return s\n",
    "\n",
    "    def vectorized_integrate(self, f):\n",
    "        return np.dot(self.weights, f(self.points))\n",
    "    \n",
    "    def int_function(self, f, x):\n",
    "        self.b = x\n",
    "        self.points, self.weights = self.construct_method()\n",
    "        return self.integrate(f)\n",
    "\n",
    "\n",
    "class Midpoint(Integrator):\n",
    "    def construct_method(self):\n",
    "        a, b, n = self.a, self.b, self.n  # quick forms\n",
    "        h = (b-a)/float(n)\n",
    "        x = np.linspace(a + 0.5*h, b - 0.5*h, n)\n",
    "        w = np.zeros(len(x)) + h\n",
    "        return x, w\n",
    "\n",
    "class Trapezoidal(Integrator):\n",
    "    def construct_method(self):\n",
    "        x = np.linspace(self.a, self.b, self.n)\n",
    "        h = (self.b - self.a)/float(self.n - 1)\n",
    "        w = np.zeros(len(x)) + h\n",
    "        w[0] /= 2\n",
    "        w[-1] /= 2\n",
    "        return x, w\n",
    "\n",
    "class Simpson(Integrator):\n",
    "    def construct_method(self):\n",
    "        if self.n % 2 != 1:\n",
    "            print('n=%d must be odd, 1 is added' % self.n)\n",
    "            self.n += 1\n",
    "        x = np.linspace(self.a, self.b, self.n)\n",
    "        h = (self.b - self.a)/float(self.n - 1)*2\n",
    "        w = np.zeros(len(x))\n",
    "        w[0:self.n:2] = h*1.0/3\n",
    "        w[1:self.n-1:2] = h*2.0/3\n",
    "        w[0] /= 2\n",
    "        w[-1] /= 2\n",
    "        return x, w\n"
   ]
  },
  {
   "cell_type": "code",
   "execution_count": 42,
   "metadata": {},
   "outputs": [
    {
     "data": {
      "image/png": "[encoded data removed]",
      "text/plain": [
       "<Figure size 432x288 with 1 Axes>"
      ]
     },
     "metadata": {},
     "output_type": "display_data"
    }
   ],
   "source": [
    "plt.figure()\n",
    "\n",
    "x = np.linspace(-3, 3)\n",
    "\n",
    "plt.plot(x, [Midpoint(0, 1, 50).int_function(sin, x) for x in x])\n",
    "plt.plot(x, [Trapezoidal(0, 1, 50).int_function(lambda x: x, x) for x in x])\n",
    "plt.plot(x, [Simpson(0, 1, 51).int_function(lambda x: 1, x) for x in x])\n",
    "\n",
    "plt.show()"
   ]
  },
  {
   "cell_type": "markdown",
   "metadata": {},
   "source": [
    "# Exercise 9.17: Make a class hierarchy for root finding"
   ]
  },
  {
   "cell_type": "code",
   "execution_count": 43,
   "metadata": {},
   "outputs": [],
   "source": [
    "class Rootfinder:\n",
    "    def __init__(self, f, dfdx=None):\n",
    "        self.f = f\n",
    "        self.df = dfdx if dfdx else Central2(f)\n",
    "        \n",
    "    def solve(self, start_values=[0], max_iter=100, tolerance=1e-6):\n",
    "        pass\n",
    "    \n",
    "\n",
    "class Newton(Rootfinder):\n",
    "    def solve(self, start_values=[0], max_iter=100, tolerance=1e-6):\n",
    "        f, x, dfdx, epsilon, N = self.f, start_values[0], self.df, tolerance, max_iter\n",
    "        f_value = f(x)\n",
    "        n = 0\n",
    "        info = [(x, f_value)]\n",
    "        \n",
    "        while abs(f_value) > epsilon and n <= N:\n",
    "            dfdx_value = float(dfdx(x))\n",
    "            \n",
    "            if abs(dfdx_value) < 1E-14:\n",
    "                raise ValueError(\"Newton: f'(%g)=%g\" % (x, dfdx_value))\n",
    "\n",
    "            x = x - f_value/dfdx_value\n",
    "\n",
    "            n += 1\n",
    "            f_value = f(x)\n",
    "            info.append((x, f_value))\n",
    "            \n",
    "        return x, f_value, f_value < tolerance, info"
   ]
  },
  {
   "cell_type": "code",
   "execution_count": 44,
   "metadata": {},
   "outputs": [
    {
     "data": {
      "text/plain": [
       "(0.5505102040816306,\n",
       " 2.603082140950619e-07,\n",
       " True,\n",
       " [(0, 3),\n",
       "  (0.49999999999672445, 0.250000000016378),\n",
       "  (0.5499999999992284, 0.002500000003780478),\n",
       "  (0.5505102040816306, 2.603082140950619e-07)])"
      ]
     },
     "execution_count": 44,
     "metadata": {},
     "output_type": "execute_result"
    }
   ],
   "source": [
    "Newton(lambda x: (x - 3)**2 - 6).solve()"
   ]
  },
  {
   "cell_type": "markdown",
   "metadata": {},
   "source": [
    "# Exercise 9.18: Make a calculus calculator class"
   ]
  },
  {
   "cell_type": "code",
   "execution_count": 45,
   "metadata": {},
   "outputs": [],
   "source": [
    "class MinMax:\n",
    "    import numpy as np\n",
    "    \n",
    "    def __init__(self, f, a, b, n):\n",
    "        self.__dict__.update({k: v for k, v in locals().items() if k != 'self'})\n",
    "        self._find_extrema()\n",
    "        \n",
    "    def _find_extrema(self):\n",
    "        f, a, b = self.f, self.a, self.b\n",
    "        \n",
    "        self.Pmin, self.Pmax, self.Fmin, self.Fmax = Pmin, Pmax, Fmin, Fmax = [], [], [], []\n",
    "        \n",
    "        x = np.linspace(a, b, self.n)\n",
    "        for i, xi in enumerate(x[1:-1]):\n",
    "            if f(x[i]) < f(xi) > f(x[i + 2]):\n",
    "                Pmax.append(xi)\n",
    "                Fmax.append(f(xi))\n",
    "            elif f(x[i]) > f(xi) < f(x[i + 2]):\n",
    "                Pmin.append(xi)\n",
    "                Fmin.append(f(xi))\n",
    "                \n",
    "        if f(a) > f(x[1]):\n",
    "            Pmax.insert(1, a)\n",
    "            Fmax.insert(1, f(a))\n",
    "        elif f(a) < f(x[1]):\n",
    "            Pmin.insert(1, a)\n",
    "            Fmin.insert(1, f(a))\n",
    "        if f(b) > f(x[-2]):\n",
    "            Pmax.append(b)\n",
    "            Fmax.append(f(b))\n",
    "        elif f(b) < f(x[-2]):\n",
    "            Pmin.append(b)\n",
    "            Fmin.append(f(b))\n",
    "                    \n",
    "    def _refine_extrema(self):\n",
    "        f, a, b, n = self.f, self.a, self.b, self.n\n",
    "        Pmin, Pmax, Fmin, Fmax = self.Pmin, self.Pmax, self.Fmin, self.Fmax\n",
    "        for i, p in enumerate(Pmin):\n",
    "            if p != a and p != b:\n",
    "                df = Derivative(f, h= (b - a) / n**2 / 1000)\n",
    "                xmin, dfmin = p, df(p)\n",
    "                for x in np.linspace(p - (b - a)/n, p + (b - a)/n, n):    # just reuse `n` as precision basis\n",
    "                    if df(x) < dfmin:\n",
    "                        xmin, dfmin = x, df(x)\n",
    "                Pmin[i] = xmin\n",
    "                Fmin[i] = f(xmin)\n",
    "                \n",
    "        for i, p in enumerate(Pmax):\n",
    "            if p != a and p != b:\n",
    "                df = Derivative(f, h= (b - a) / n**2 / 1000)\n",
    "                xmax, dfmin = p, df(p)\n",
    "                for x in np.linspace(p - (b - a)/n, p + (b - a)/n, n):    # just reuse `n` as precision basis\n",
    "                    if df(x) < dfmin:\n",
    "                        xmax, dfmin = x, df(x)\n",
    "                Pmax[i] = xmax\n",
    "                Fmax[i] = f(xmax)\n",
    "                \n",
    "    \n",
    "    def get_global_minimum(self):\n",
    "        return min(self.get_all_minima(), key=lambda t: t[1])\n",
    "            \n",
    "    def get_global_maximum(self):\n",
    "        return max(self.get_all_maxima(), key=lambda t: t[1])\n",
    "    \n",
    "    def get_all_minima(self):\n",
    "        return [(x, y) for x, y in zip(self.Pmin, self.Fmin)]\n",
    "    \n",
    "    def get_all_maxima(self):\n",
    "        return [(x, y) for x, y in zip(self.Pmax, self.Fmax)]\n",
    "    \n",
    "    def __str__(self):\n",
    "        from textwrap import dedent as dd\n",
    "        return dd(f\"\"\"\n",
    "        All minima: {', '.join(f'{p:.4f}' for p, v in self.get_all_minima())}\n",
    "        All maxima: {', '.join(f'{p:.4f}' for p, v in self.get_all_maxima())}\n",
    "        Global minimum: {self.get_global_minimum()[0]}\n",
    "        Global maximum: {self.get_global_maximum()[0]}\n",
    "        \"\"\")"
   ]
  },
  {
   "cell_type": "code",
   "execution_count": 46,
   "metadata": {},
   "outputs": [],
   "source": [
    "import numpy as np\n",
    "\n",
    "class CalculusCalculator:\n",
    "    def __init__(self, f, a, b, resolution=100):\n",
    "        self.f, self.a, self.b, self.resolution = f, a, b, resolution\n",
    "        self.set_integration_method(Trapezoidal)\n",
    "        self.set_differentiation_method(Central2)\n",
    "        \n",
    "    def plot(self):\n",
    "        import matplotlib.pyplot as plt\n",
    "        plt.figure()\n",
    "        x = np.linspace(self.a, self.b, self.resolution)\n",
    "        plt.plot(x, [self.f(x) for x in x])\n",
    "        plt.show()\n",
    "        \n",
    "    def plot_derivative(self):\n",
    "        import matplotlib.pyplot as plt\n",
    "        plt.figure()\n",
    "        x = np.linspace(self.a, self.b, self.resolution)\n",
    "        plt.plot(x, [self.df(x) for x in x])\n",
    "        plt.show()\n",
    "        \n",
    "    def set_differentiation_method(self, method):\n",
    "        self.diff_method = method\n",
    "        \n",
    "    def set_integration_method(self, method):\n",
    "        self.int_method = Trapezoidal\n",
    "        self.integral = method(self.a, self.b, self.resolution).integrate(self.f)\n",
    "        \n",
    "    def df(self, x):\n",
    "        return self.diff_method(self.f)(x)\n",
    "    \n",
    "    def extreme_points(self):\n",
    "        print(MinMax(f=self.f, a=self.a, b=self.b, n=self.resolution))"
   ]
  },
  {
   "cell_type": "code",
   "execution_count": 47,
   "metadata": {},
   "outputs": [
    {
     "data": {
      "image/png": "[encoded data removed]",
      "text/plain": [
       "<Figure size 432x288 with 1 Axes>"
      ]
     },
     "metadata": {},
     "output_type": "display_data"
    }
   ],
   "source": [
    "c = CalculusCalculator(lambda x: x**2 * exp(-0.2 * x) * sin(2 * pi * x), 0, 6, 700)\n",
    "c.plot()"
   ]
  },
  {
   "cell_type": "code",
   "execution_count": 48,
   "metadata": {},
   "outputs": [
    {
     "data": {
      "image/png": "[encoded data removed]",
      "text/plain": [
       "<Figure size 432x288 with 1 Axes>"
      ]
     },
     "metadata": {},
     "output_type": "display_data"
    }
   ],
   "source": [
    "c.plot_derivative()"
   ]
  },
  {
   "cell_type": "code",
   "execution_count": 49,
   "metadata": {},
   "outputs": [
    {
     "name": "stdout",
     "output_type": "stream",
     "text": [
      "\n",
      "All minima: 0.8069, 0.0000, 1.7768, 2.7639, 3.7597, 4.7554, 5.7511\n",
      "All maxima: 0.3605, 1.2876, 2.2661, 3.2618, 4.2575, 5.2532, 6.0000\n",
      "Global minimum: 5.75107296137339\n",
      "Global maximum: 5.253218884120171\n",
      "\n"
     ]
    }
   ],
   "source": [
    "c.extreme_points()"
   ]
  },
  {
   "cell_type": "code",
   "execution_count": 50,
   "metadata": {},
   "outputs": [
    {
     "data": {
      "text/plain": [
       "-1.7349674573087768"
      ]
     },
     "execution_count": 50,
     "metadata": {},
     "output_type": "execute_result"
    }
   ],
   "source": [
    "c.integral"
   ]
  },
  {
   "cell_type": "code",
   "execution_count": 51,
   "metadata": {},
   "outputs": [
    {
     "data": {
      "text/plain": [
       "-24.05698904775627"
      ]
     },
     "execution_count": 51,
     "metadata": {},
     "output_type": "execute_result"
    }
   ],
   "source": [
    "c.df(2.51)"
   ]
  },
  {
   "cell_type": "markdown",
   "metadata": {},
   "source": [
    "# Exercise 9.19: Compute inverse functions"
   ]
  },
  {
   "cell_type": "code",
   "execution_count": 52,
   "metadata": {},
   "outputs": [],
   "source": [
    "class CalculusCalculator:\n",
    "    def __init__(self, f, a, b, resolution=100):\n",
    "        self.f, self.a, self.b, self.resolution = f, a, b, resolution\n",
    "        self.set_integration_method(Trapezoidal)\n",
    "        self.set_differentiation_method(Central2)\n",
    "        \n",
    "    def plot(self):\n",
    "        import matplotlib.pyplot as plt\n",
    "        plt.figure()\n",
    "        x = np.linspace(self.a, self.b, self.resolution)\n",
    "        plt.plot(x, [self.f(x) for x in x])\n",
    "        plt.show()\n",
    "        \n",
    "    def plot_derivative(self):\n",
    "        import matplotlib.pyplot as plt\n",
    "        plt.figure()\n",
    "        x = np.linspace(self.a, self.b, self.resolution)\n",
    "        plt.plot(x, [self.df(x) for x in x])\n",
    "        plt.show()\n",
    "        \n",
    "    def set_differentiation_method(self, method):\n",
    "        self.diff_method = method\n",
    "        \n",
    "    def set_integration_method(self, method):\n",
    "        self.int_method = Trapezoidal\n",
    "        self.integral = method(self.a, self.b, self.resolution).integrate(self.f)\n",
    "        \n",
    "    def df(self, x):\n",
    "        return self.diff_method(self.f)(x)\n",
    "    \n",
    "    def extreme_points(self):\n",
    "        print(MinMax(f=self.f, a=self.a, b=self.b, n=self.resolution))\n",
    "        \n",
    "    def inverse(self, x, h=1e-6):\n",
    "        def Newton(f, x, dfdx, epsilon=1.0E-7, N=100, store=False):\n",
    "            f_value = f(x)\n",
    "            n = 0\n",
    "            if store: info = [(x, f_value)]\n",
    "            while abs(f_value) > epsilon and n <= N:\n",
    "                dfdx_value = float(dfdx(x))\n",
    "                if abs(dfdx_value) < 1E-14:\n",
    "                    raise ValueError(\"Newton: f'(%g)=%g\" % (x, dfdx_value))\n",
    "\n",
    "                x = x - f_value/dfdx_value\n",
    "\n",
    "                n += 1\n",
    "                f_value = f(x)\n",
    "                if store: info.append((x, f_value))\n",
    "            if store:\n",
    "                return x, info\n",
    "            else:\n",
    "                return x, n, f_value\n",
    "\n",
    "        \n",
    "        def F(gamma):\n",
    "            return f(gamma) - xi\n",
    "\n",
    "        def dFdx(gamma):\n",
    "            return (F(gamma+h) - F(gamma-h))/(2*h)\n",
    "\n",
    "        g = np.zeros(len(x))\n",
    "\n",
    "        for i in range(len(x)):\n",
    "            xi = x[i]\n",
    "\n",
    "            # Compute start value (use last g[i-1] if possible)\n",
    "            if i == 0:\n",
    "                gamma0 = x[0]\n",
    "            else:\n",
    "                gamma0 = g[i-1]\n",
    "\n",
    "            gamma, n, F_value = Newton(F, gamma0, dFdx)\n",
    "            g[i] = gamma\n",
    "\n",
    "        return g"
   ]
  },
  {
   "cell_type": "code",
   "execution_count": 53,
   "metadata": {},
   "outputs": [
    {
     "data": {
      "image/png": "[encoded data removed]",
      "text/plain": [
       "<Figure size 432x288 with 1 Axes>"
      ]
     },
     "metadata": {},
     "output_type": "display_data"
    },
    {
     "data": {
      "text/plain": [
       "[<matplotlib.lines.Line2D at 0x109799358>]"
      ]
     },
     "execution_count": 53,
     "metadata": {},
     "output_type": "execute_result"
    },
    {
     "data": {
      "image/png": "[encoded data removed]",
      "text/plain": [
       "<Figure size 432x288 with 1 Axes>"
      ]
     },
     "metadata": {},
     "output_type": "display_data"
    }
   ],
   "source": [
    "c = CalculusCalculator(lambda x: x**2 * exp(-0.2 * x), 0, 6, 700)\n",
    "c.plot()\n",
    "x = np.linspace(0, 6, 100)\n",
    "plt.plot(c.inverse(x), x)    # i don't know but this does not look right.."
   ]
  },
  {
   "cell_type": "markdown",
   "metadata": {},
   "source": [
    "# Exercise 9.22: Animate a person with waving hands"
   ]
  },
  {
   "cell_type": "code",
   "execution_count": 54,
   "metadata": {},
   "outputs": [],
   "source": [
    "%%capture\n",
    "\n",
    "fig, ax = plt.subplots(figsize=(3, 6))\n",
    "plt.axis([-1.5, 1.5, -0.5, 5.5])\n",
    "ax.add_artist(plt.Circle((0, 4.5), 0.5, fill=False, lw=2))\n",
    "plt.plot([-1, 0, 1, 0, 0, 0, -1, 0, 1], [2, 3.5, 4, 3.5, 4, 1.5, 0, 1.5, 0], 'k', lw=2)\n",
    "ln, = plt.plot([1, 1.1], [4, 4.7], 'k', lw=2)\n",
    "\n",
    "from matplotlib.animation import FuncAnimation\n",
    "from math import sin, cos, sqrt, pi\n",
    "\n",
    "l = sqrt(2) / 2\n",
    "\n",
    "def draw(theta):\n",
    "    ln.set_data([1, 1 + l*cos(theta)], [4, 4 + l*sin(theta)])\n",
    "    return ln,\n",
    "\n",
    "a = FuncAnimation(fig, draw, np.r_[np.linspace(0.5*pi/2, 1.1*pi/2), np.linspace(1.1*pi/2, 0.5*pi/2)], interval=15, blit=True)"
   ]
  },
  {
   "cell_type": "code",
   "execution_count": 55,
   "metadata": {},
   "outputs": [
    {
     "data": {
      "text/html": [
       "<video width=\"216\" height=\"432\" controls autoplay loop>\n",
       "  <source type=\"video/mp4\" src=\"data:video/mp4;base64,AAAAHGZ0eXBNNFYgAAACAGlzb21pc28yYXZjMQAAAAhmcmVlAAAgfm1kYXQAAAKvBgX//6vcRem9\n",
       "5tlIt5Ys2CDZI+7veDI2NCAtIGNvcmUgMTUyIHIyODU0IGU5YTU5MDMgLSBILjI2NC9NUEVHLTQg\n",
       "QVZDIGNvZGVjIC0gQ29weWxlZnQgMjAwMy0yMDE3IC0gaHR0cDovL3d3dy52aWRlb2xhbi5vcmcv\n",
       "eDI2NC5odG1sIC0gb3B0aW9uczogY2FiYWM9MSByZWY9MyBkZWJsb2NrPTE6MDowIGFuYWx5c2U9\n",
       "MHgzOjB4MTEzIG1lPWhleCBzdWJtZT03IHBzeT0xIHBzeV9yZD0xLjAwOjAuMDAgbWl4ZWRfcmVm\n",
       "PTEgbWVfcmFuZ2U9MTYgY2hyb21hX21lPTEgdHJlbGxpcz0xIDh4OGRjdD0xIGNxbT0wIGRlYWR6\n",
       "b25lPTIxLDExIGZhc3RfcHNraXA9MSBjaHJvbWFfcXBfb2Zmc2V0PS0yIHRocmVhZHM9MTIgbG9v\n",
       "a2FoZWFkX3RocmVhZHM9MiBzbGljZWRfdGhyZWFkcz0wIG5yPTAgZGVjaW1hdGU9MSBpbnRlcmxh\n",
       "Y2VkPTAgYmx1cmF5X2NvbXBhdD0wIGNvbnN0cmFpbmVkX2ludHJhPTAgYmZyYW1lcz0zIGJfcHly\n",
       "YW1pZD0yIGJfYWRhcHQ9MSBiX2JpYXM9MCBkaXJlY3Q9MSB3ZWlnaHRiPTEgb3Blbl9nb3A9MCB3\n",
       "ZWlnaHRwPTIga2V5aW50PTI1MCBrZXlpbnRfbWluPTI1IHNjZW5lY3V0PTQwIGludHJhX3JlZnJl\n",
       "c2g9MCByY19sb29rYWhlYWQ9NDAgcmM9Y3JmIG1idHJlZT0xIGNyZj0yMy4wIHFjb21wPTAuNjAg\n",
       "cXBtaW49MCBxcG1heD02OSBxcHN0ZXA9NCBpcF9yYXRpbz0xLjQwIGFxPTE6MS4wMACAAAALRmWI\n",
       "hAAr//72c3wKa0czlS4Fdvdmo+XQkuX7EGEjxB1tGiRfz7DKKAAAC7l9Mgo8zANgtqg+qophueA+\n",
       "x3nyamGXPbUO0QMTulTsL9vvp060lqAaOhGWXmS/z2s2CQ471T8A51OyQHgid1MBHlEu+qtyZP4b\n",
       "YhbuQggL8o+g/MA7+LD34qAqs8r4YBwvV7c/vklSpHJLKndN3/o2qX+LgpieuJzFHftyZVXfUXLe\n",
       "U/P81bW7TKn5STiyp4z9uiAMzBnCSndu9qcY6zrGdB/1t31prhKUnhgoCMsnN9d7UoIJhieSdaFt\n",
       "wjpTBsZDngxV67cGZ6tP+SXjUMBzu4LV3qf+8pmCioznu+KMyI8uBW4ZQDCgGieDINdmR9JfEKcX\n",
       "Rb0Mu39epnug+CM6uBJRahS8znpa9rxloOlUoW9snidoKL5mN4xtjgBfGpi7feS0lmNNxj3aWRRx\n",
       "NJIdc8MEWGXNPm+K41sMlCxcvyqJrbzlFqz/bSHK2tC36sKlHUnLYBzh5h7YlWoe8OyXmNuIlJL3\n",
       "HcyiMN4GaBsbtqoXpOJOmBEFSvPS6y/uLoJLZMK7MLirmpfcLkQKkwjIMjsP/C7+aA1bj0H54tsG\n",
       "792Yu6ElH1dGmOVEUXv0ko37Juh/8MsbHvWvY4+VVtqzUtTQVUVDcu2u7XRaTaUVCFhhE20s2n/q\n",
       "X1vNGn7Syii9hTpdbtO2kHDvPEycrdGHZp8pmRHulIw7MGkDq8pegQrBrl/sJ8ZktQqeP71byOOU\n",
       "Hb1H2/nN8KM/BTrN/038qfppF10lsAEejuVyfHlIq/0RJvwaTJIV5tdU26bMAuhw5D9hPvsmgB93\n",
       "GQEjQeIlXly1UHtA46OpanFWZLr8kF1ptuZreX8OZAUXd8aGIRMvx4VNGp4Gp/p29I3brQ903E3e\n",
       "4eUtQFb85O1vFd39F9en/m9SSHuIH9LJx9IHvHnpdebwv1sP3ty+ZS/uBlRGh0GzjFBS2Qqb+BAv\n",
       "QIvioXgjAS9Yth+s0SK5cNPdYRvb6Jm+C/XIjbbhrnClw8A7Sq24I8ET2Nlk2DobeXq5aU90W6ro\n",
       "/n5mauO3rP6sK8sWFFVcInmQ/Bk1WrwFSlZtzj67ROWe5Iqij4uXouihFZNML8nJ6KjpzlLIvChE\n",
       "ry8aj7sW7BuKk7hJXZkjI6BT5d4qT2DMVgODSCwXSkgWpXuuwz0df0ukYasNXD6mCxv/Q667RGqp\n",
       "ZU0zTxrub/DbuPjsvf/vXnmh44OXb27LcoBMztjMAyEAff2ZZD8+g3Gbm7E76dzRaoTLQfhDIwNx\n",
       "N4uRtKsY4gmnQGc59dXt0KD5qRDqRAmcYsaKAbjgX+pnyvTTSSDUTgDwrd5kZbqYAzwV4DoEsb0h\n",
       "sKoGGpJag3OOrZt3D5zkCEec9NvWDG6XL9jHaLRcp9AQ7bOOY15bsz0EwxQjYsTZrT3xjIR7PP+Q\n",
       "fn605P4TPdjYjlh6YkEJwIgE8R6azKZ4/9Gzk4Q4LAuTXfGbfRNFhSRDZMkLOrz2vPMvAzm0gxnu\n",
       "lJSnAUytQuvXVdyhdSNdGlBInPGGMpIglhv1VWwSTjENZWhQebkQ6iZBKErkmYm35ivU7Fwpwagc\n",
       "zqnyxJsOyyI2y/OGyKAMTuZVjsEo3u+U5XrxWdVwP1ur7olnZ1qIl1DEnpsmpdE2tCnY7MHr4dKl\n",
       "+vaAAtqGNsHIRTin38NNUpVqrTCPWOREdF60FjQRZc6h6x1ivyG6gXDD3dEA68/fcrpEBBmoQ8Wl\n",
       "1wNtf5+ZFd64HB2hwH0k7/yvBXEDJ0XHJpiKZKFzS7vfM/vU8fzb+cR/+fr+3tmdPbtH1GnGLslP\n",
       "8/KWMg1SDNSF/an+R8K5u+RsU+D1DYKOk7251uKdBnp6yjI9YU532sQVCUuA6wJ4sKLRPsUvGMfK\n",
       "jGWMtkltgerpygfCtzWrEO8vnE7HK4IUivks2VKsXMsz8nPy+xTL/vaiyRqo57LjoOFKuVDctEE2\n",
       "KWWry3KrOh4f0j/vArgb5B1SmAZg5AXDc7y5o/FBN1rwBtMkW/2FXrJkAz2a4Iuu2WBIvoy7quo+\n",
       "yyEVhe7RHKPRZvFMf98MVFBnDwYss957YOUIOSzPZCRhazsHciWzbKnLyTWN8PK/8SUEDJbVRvb4\n",
       "Qh4lzjcvmOKL2Zt+KqJT0frSIrCQOeKAs5yMnXCvhq2U5ELN1xDCEK45A54i27KuSn3mjX901DS8\n",
       "8HKf0jHploAvVCqu3URuygioZuYRFbT9q6RQ3pMd8I4K+NlEGgyL5J2JXf4YDS4OgSyr4PU8of17\n",
       "WQhkRlgqsRU9O0S2GINgfBrWezFCwVqn3jwRD1bD69yFwNbzdEJJ8Gu1CIB6fXHnP0/a+/XCVB2P\n",
       "N1Tpm4IL6tXik1NhUevYdShoSkeWdt6VocQTQwkTTyVBU1T/OIWU6GXFLtCRhwX4vJZNAr+4DZe/\n",
       "ptkZRp7c0ftHQiU5qEodbst2gVP34ywTEBFmG1t923k0VJRHY2r7yFUeRzaKsuYqtfTyirIEYdUd\n",
       "EATD1tqkeAPG5bD5ieztRK1pcF2woCfGfojKQEtbzZFKHHjEb5OXnDKMln3rIdOacp3c8L0QOlPm\n",
       "ziBET9ZU38f5PUAWI/DZxgTBvqAvl2ZjhMQxwxHY6+1jmajh35B2jJgj3i7g//jI+d419fpiawEo\n",
       "4rMNufEi2hnT97VwaPmR+Y+KQp6kEcH1X9evc8OpLIXD3UTd3QC5cDjN0+ECChX4dQ40e2pksP08\n",
       "Nv1wGfTuMmseopykZjQF+0xJ4tNSdJfjm1Sul39qqzW7DHpIWggitfBURGTT8WqaZzHbYIR4f94N\n",
       "JqiI4GOoP2DFyK22i02IjbqSeBr4vlpteV4I0WuRV3JzF+UDmbQiDUkAJYc2mi3Iy/mAl7hOid9X\n",
       "l5gBRGzP1a++aqh3/hU38CGOVz7jIeM8OF2g7ZRIfHLcieyq8OJOSNC/Fu8lEYoZ05f+AGSkMINB\n",
       "3WnT6d6qYYhDSha8eQtLKHg7+3tt8RPCWt2v553F0RCtOKqwAcPmw4yIz2piP/UDxl6VVyiqVB/2\n",
       "vxml0XLmmRJi4fo5Bj9TlJY4H87YfcF3OwBAXz3rL+UQrnLyQPxNXsrvqQ8nOvkdPkYPGtrHGC0i\n",
       "tiiFIeyeuhQ+KZtKwgqrAbwN8+S1qkCR2Ra0A9mAn84Mr3Z0Z4nkWTaeZBgvKTpbJRLt7FMHIQAC\n",
       "EF8iguJEDrCOAzZ74JghbmbqxPkClc68F1ZeWMhsAuyn19n8dqn8XjdHoetxEPpIyJdMV76C5vFW\n",
       "vK/OWeQCbrlId/hdA3DjN5n49agYYhDpAHnIc0m7L4uoeYBYLG/uYhl25ICk9neUQZaM0mZL4TkA\n",
       "KIwNClA9dGTp0JRiIin7csgfRB4dX3sUES2NIRNbkinmSjJikRSnbdkMwpqFDfRs2leYF3dcRZPn\n",
       "jBoSqgutjYTek8YGRyIsjIYwFyJr/Px98PsAKhnsCRqvc0PfggHPTzbwG3bfqP9LmI930imeeyVa\n",
       "b/wNIz//C4HN/MN585Z8VDM7X1KkeB0X6Kn+8JCFdP6o3Qjo8RIllMMTRjOyxicc3vzcX8kf3DFj\n",
       "irQqp/L7M0XjjUyCJzD8KQfkncEVfxi3SO/NmPRpBzKEwPfy0iUbf4U4KCl7StVmKiGo3M+mTyw4\n",
       "80yVzFxjEm8IHO3729pE+x2wYuqSrcfMroTD3xu4athQrCYXuxSE4ynxMGL7lk9+6nrynpyLigeP\n",
       "EXV/RxOlQwdcvvNFNshdxuKBZ7GUEe8NQQRCHVD7KMChK9ET0mXw4XV5Vc+MqfgRkNZWZjxm0tSt\n",
       "72RcVw9IOY3gtq2untM0MD5bwKAgDoeaK5n5U7IjXYADUwAAAK9BmiRsQr/+OEAcD0nuVmuxSztE\n",
       "CE7vbFMAH884StnjPowOGTVV3Rg5u2DGCa//QVWTRH/aeDLyYi55ftjsF2SvHdpPQe3pD8eakxYz\n",
       "ioyVxLYY/bUhExPHz688daUru1UewQcZIEHiL4ACA0YAIaZxfu3LQvC1DtXRjr1PISOQy+ZTVMI2\n",
       "r8OeSawOQpyWYepaX1+onXe6XmSGog9xoxxjqk52dU3VYsI548oqrF0QAAAALkGeQniP/wNb9xLI\n",
       "7YpVqQaHphkasTfzT8HCKLLT5szPyUAPMgbkaqV2xF3BvvEAAAAkAZ5hdEb/BCkJWDZ0SITs6YiV\n",
       "Si3TZxu4NOSoWGy/HPoXBj5gAAAAHAGeY2pG/wGt2NsJQAYYKcv3zP0zyFCNwS1A3zcAAABzQZpo\n",
       "SahBaJlMCFf//jhACefblSqSACpPN/9snCU7LMY/hzQgOcpIJB8sx/4LFrdrJw73U5sfjKHuy7ge\n",
       "eQVIQThrwJ0QdPLPxC+TIUFuK2m8T2TUAhOod805h0d2Pc3Fn7Wba6wgxhHNIWzpPwqvLbEcVQAA\n",
       "AClBnoZFESx/AVnLE66RWuShJJkkTJbVPSmMQCdXhz5oKzmopjHZ94NzYQAAABsBnqV0Rv8BrrRI\n",
       "W4DjwSPh43PY5mJjaiCZPYEAAAAWAZ6nakb/AaM01reCmMuW52PjhPTFgAAAAGZBmqtJqEFsmUwI\n",
       "V//+OEAJ5ZALBrH5YXdPEiguAAXrqAqzIeYQg+xCxctwJbEZghlOqS8xXWBcSEMlXzOOUmcTTUur\n",
       "TLWPZaZ0GmG2vK++ydbaqN/wZngOLY3Bv9sJPn2/gnFUq8AAAAAcQZ7JRRUsfwFOjgaY4OoXGvEV\n",
       "f5SSsw26kmynjQAAABgBnupqRv8BobLiX+TWor+urq5yjQjJCFAAAAAvQZrsSahBbJlMCFf//jhA\n",
       "Cj+1mXUf2aDoNQAtvbC9SzWSW38nX2Ag3cvNjf+u10AAAABZQZsQSeEKUmUwIV/+OEAJ8jZUv9q/\n",
       "eAAFLJX6htTMdNs9EKfnUWe51crpF3LyaLd91G+l4epeuSQweswKv1iRb9tPbBaI6huBDc5RGAGw\n",
       "GY86Qrv8o2cKDYEAAAAiQZ8uRTRMfwHWV/C6dEQxT8lehgau0Ra1lJ7Nc6cdgzih/wAAABUBn010\n",
       "Rv8CWDvkA7VWYh8Hu0CUh80AAAAaAZ9Pakb/Alfu+tH/cUUPKJwhLYrnwPyzCtgAAABpQZtUSahB\n",
       "aJlMCFf//jhACi6X4EQDVZk58YQKluWTTSNsM/4W597G9CmN0hGmboQPcH0cU52oey2C9oLwT/F8\n",
       "KW+CcsDHddhddGAxMx7VwmG/ghBJ2YWmfEId0h47i6onj2dn9w1KmihAAAAAHkGfckURLH8B1fdD\n",
       "MX4x/SU7ZiBA2jrUhcRrZ8JUwQAAABkBn5F0Rv8CVoY7BfBAL8qtMfx77JiBTGrAAAAAGAGfk2pG\n",
       "/wJX7vulW9ciiNiVVpD/a5jVgAAAAGRBm5hJqEFsmUwIT//98QAi/WcAUhL8S1lBQWrlgHFX1S8R\n",
       "M/v1slBQSb2ODWrwRr2ER7gsEUCKVUC9XlgSgOsfFmwF9Pm/+KOswl90g9te9O4KcoA4/pETH5IB\n",
       "++dWQ2n6kLKBAAAAI0GftkUVLH8B5n7+2xXcX0jOb9LSwEZQEdF1Lrs3pr5qAOjYAAAAIQGf1XRG\n",
       "/wJQejq5dtUFjnlYAIaHeLK5n5tqCkBWL6Y1YQAAABsBn9dqRv8CZ+rzN7KCoqf49vQDyGe5wXEE\n",
       "TMEAAAA/QZvZSahBbJlMCE///fEAIsDnuAoENS+lZm/+oc0w+azNGtmVuCcmYUz9IXBZmP3hP0Vl\n",
       "Jn18oDr3RcPovImAAAAANEGb+knhClJlMCE//fEAIvFsj9p9EAhT0O8AAlY08m1ny6DXgiZE340L\n",
       "lDUrvABHkdxEob0AAAA1QZobSeEOiZTAhP/98QAj/WcA1DrtbhH5M2eJZ0GoLbcE81cXgXZ6Gcq5\n",
       "EqRwVrteJqL2RlQAAAAxQZo8SeEPJlMCE//98QAjvN1HgP20Xpm2riQTlPXiDeMeMd/c9oyEiP9X\n",
       "pdIGREfZIwAAAC9Bml1J4Q8mUwIT//3xACO9Hr8Amt/uO3hYDLXIElcvbmiwksHNoRB9fnRF7duk\n",
       "zQAAADpBmn5J4Q8mUwIT//3xACO9Hr8AcwyoZZiOOL1mr7uTgLE0cTFxgK5BKduNxN2NJq3dIv2N\n",
       "epr+yMqAAAAAN0Gan0nhDyZTAhP//fEAI701ZwAtPmtsqJ+WKnHhcqEiZ9opAVN/8aCQCGIvfb2J\n",
       "IJUtQwoTAZUAAAAoQZqgSeEPJlMCE//98QAjvReDvanLV+vgDS1G0IALbBCVtVTX4qZMwQAAACZB\n",
       "msFJ4Q8mUwIT//3xACO9M9DvX5zmPZUEvG0ZkAJepZi5QzINmAAAACZBmuJJ4Q8mUwIT//3xACPd\n",
       "o+2Vd2js8xwEEiZ/UyAEuNEh3coZBwAAAD5BmwRJ4Q8mUwURPCf//fEAI9mbdh28AmW+clK+KRhC\n",
       "XiyfoiZxZv/IQV6y4uMg7kWTynInCm5MVbq5DQhQQAAAABEBnyNqRv8CZqaYY02TBSDGFQAAACVB\n",
       "myVJ4Q8mUwIT//3xACPUm0AUdSM/XPsMkKjzMATYS26T7JGBAAAAJUGbRknhDyZTAhX//jhADmaf\n",
       "TdTb2QYBXelqptvQBvnaWGSYoIEAAAAoQZtnSeEPJlMCFf/+OEAOanSm1TWPyXxYZV/5mvyW3oA3\n",
       "12UdgZBswQAAAEFBm4tJ4Q8mUwIV//44QA5mExlM7u+EqqoALh0E+KM086t0jmymehBAwKm+5tkY\n",
       "SwUYKmtXJMCWOqYHwYuHs0Ml3AAAABtBn6lFETx/AeRioCiwHHa6AFsPbLKmLgRpkW0AAAAWAZ/I\n",
       "dEb/AmgJyjjFqnKpgAIT7y4rYQAAAB4Bn8pqRv8CZ8/NP+xCABCWDwYuh3tLZ7AlSs+klFAAAABM\n",
       "QZvPSahBaJlMCFf//jhADmYTGRGB8satgAIf7PT+sVhqsvBlAEdI22500u770Cccc26gzIc32Kzz\n",
       "Q5bFGSA+pcdvadSTW0WPP2QbMAAAACJBn+1FESx/Aebi+7bAZ0p8caoS761Ey5/dNgAJ16K5XGVB\n",
       "AAAAFAGeDHRG/wJoCco6aetXbWWT2k3BAAAAGgGeDmpG/wJmpl039hahNIvllCWuQ25ZgJJxAAAA\n",
       "KUGaE0moQWyZTAhP//3xACO9OyiwT2dk/6+ANZh3l26rczAE1pPzTZMwAAAAHUGeMUUVLH8B8Whi\n",
       "M4xfc4f9PK2YeaFidEyCv56QAAAAEgGeUHRG/wJ4N7SRbJ1FHSKFgQAAABABnlJqRv8Cd+rzCHDD\n",
       "G8dMAAAAGEGaVEmoQWyZTAhP//3xACPI83tpOqrhvwAAACVBmnVJ4QpSZTAhP/3xACO9UoOrmFDT\n",
       "rPzDOezIASwolRZgMg2ZAAAAJEGalknhDomUwIV//jhADmaxTdh2uKcSdBRrdhgBxHck8iYoIAAA\n",
       "ACxBmrdJ4Q8mUwIV//44QA5ppZPAAHCiA7dScI6atHwPpcqUvIZp7BjCEQyDgQAAAD1BmttJ4Q8m\n",
       "UwIV//44QA5mFY3Dk+3pDZle38ANt6fnknoSq0+h7pFcr4EPw7miqvU7oQ1/ANp4eDf5MH+BAAAA\n",
       "IkGe+UURPH8B5q9+n0ebzGk+hj6dL4DQAl2Tm6t/q5omqHgAAAAVAZ8YdEb/AmgOimXKPCiHxyct\n",
       "5uVtAAAAEgGfGmpG/wJn0w1HsEERtNOVsAAAADtBmx1JqEFomUwU8K/+OEAOaY5jTezgUPgBMIYC\n",
       "/iRSf0kkkDRTawmPXCP2JNAouszb3yA1PzkSrSMUEQAAABQBnzxqRv8CZ9MnON/wWppZumaSMQAA\n",
       "AE5BmyFJ4QpSZTAhP/3xACO7ikUj+aJSl8AAjP6PO2OTvGgnlxHrv5v9oWK6Y2T+GxJKDlqwaMPZ\n",
       "Fem37Nc7p+C2wIjy/WSp6pwjszFpkHAAAAAiQZ9fRTRMfwHgqjzdvF31jQY4AJN8vI+6ZCNQfMEm\n",
       "Q7yCbgAAABQBn350Rv8CX5CrYVkbyMhhXSBFtQAAABkBn2BqRv8CZ9MjX0bcTWCKiwF3awK9vCbg\n",
       "AAAANUGbYkmoQWiZTAhX//44QA5msU2Ry0NeMQPcNxvKnPAC3j47n0m0HcElKEqqg0YKURlwCS7h\n",
       "AAAAOkGbhEnhClJlMFESwr/+OEAOaneDIK4HaKuqdCpxDgafJQS5/VCGCtCv3Gz8FLWzU0ZyrjEU\n",
       "HRZmjKgAAAAWAZ+jakb/Amae3o3TB8lKD3LOEp5oQQAAAEJBm6ZJ4Q6JlMFEwr/+OEAOZnbbpdyQ\n",
       "rHEAorC7yrOwdWy228SRUUvtijdE6hMqu58hW/7xHzEnWtYEB8xsGQARx60AAAAXAZ/Fakb/Ama1\n",
       "U1lKWgwKtn2DarvhpU0AAABWQZvKSeEPJlMCFf/+OEAOf6kPVUAOBn847UKkAFusFqUrjGiC0S6g\n",
       "br4Ae5M23/y2+7WZ/OsG8/zTx3lD0k0i50D6WykcWBdVLJRK/S5C67A65DvDSDkAAAAmQZ/oRRE8\n",
       "fwHmNt2fatVfD5QZPTHtIvEy7qjhZRR18UyPis4kciYAAAAaAZ4HdEb/AmZa73VJMgeq6xNzHdK3\n",
       "3OvJm1AAAAAaAZ4Jakb/AmbgsYnSgiGx6LHgt1SVYXRZnTEAAABBQZoMSahBaJlMFPCv/jhADiep\n",
       "GjfR23U4yrTKVpuADo+0z7HY7+fr3+aHGd8kO6+lzQHh7Vuu5gx2daRFL8jQ1IAAAAAZAZ4rakb/\n",
       "Aa2rwqJjjrnhsyOlTxr8ThIf4AAAAFZBmjBJ4QpSZTAhX/44QAosgS3Bfi+y8jqgAS2/R5+ra3jN\n",
       "iWT627SL68f5S5+mHcDRalr6SRUcRkt8N1Ibq9/9tA76avfa/5oib3mpxtmFpkfU+JjKgQAAACtB\n",
       "nk5FNEx/AduAu+RZ7pa8Pb+IaACX/ysuhSBvjftoeuJSZGgTzW0yKTHzAAAAIgGebXRG/wJYPv3V\n",
       "5a9d3za/ABOA6KGYOei7np+ozad4z4EAAAAeAZ5vakb/AliQ05GlU4/nf5+ABrQsnSoY5y1t3p6Q\n",
       "AAAARUGackmoQWiZTBTwr/44QAo/J9hAgYRY933gAfxZMC0N6unkZ7/BBobGQd3UEkLHD35B+vDX\n",
       "L9hmrk3pNtkAxmdNc4mMqAAAABYBnpFqRv8CUHo6rcxudpeWyfEJM8Z9AAAAOEGak0nhClJlMCFf\n",
       "/jhADib/0udY7/oGAB/DOykTAsyyykPfrODOMX5bX1YVvmZGEms1pjAIxjUgAAAAREGatknhDomU\n",
       "wIV//jhACe2Vq4ogTAAP53aed82VRhWMGKHqmjsSkuanT+KjpQcuIt+jHBfETK2kPWuX3nely8zO\n",
       "mxlwAAAAJkGe1EURPH8B2s98fbtX086qphABBQDWt0ML3EDVRzBZHGTGEz/BAAAAGQGe9WpG/wJW\n",
       "6bPb5luT9nBzfngzTCXSfS8AAABbQZr6SahBaJlMCFf//jhACeyYHEuVWOACdVNFguJs8Gypk9t3\n",
       "5azPZFiihOPR2NJ8QLzUe6dRL/j7tSqyOhWHfoxDIge/XIaqL5Z08WP5QLTrL2l/S8/6/FQ7oQAA\n",
       "ABtBnxhFESx/AVXjbpddAlYcSEOKA6HLhv5Wf4EAAAAUAZ83dEb/Aa2fnU3V+w1AVxvvz/AAAAAR\n",
       "AZ85akb/Aa6OmUvqW6qjR/kAAABJQZs8SahBbJlMFEwr//44QAnsmBny2XkAIUXgxkFVIry2iur9\n",
       "K4E102LWT25Z4AgksetH6vT4F5d92XLmJr8ZAGtuHJ0XB+yxUwAAABMBn1tqRv8BobL8KmHBUNr3\n",
       "imm5AAAAZkGbQEnhClJlMCE//fEAIcIy6AGue9ADeE2mbdcnpWqIAKQwxxcXUR9lzXkqAAuBwWoj\n",
       "/5F6CBSx1SR72mQhBTaq5vrYJfdSJsX3+62lenweopPEVE2DSSH6dcSZbOlEccKBM3jHgQAAAB9B\n",
       "n35FNEx/AU/HXKHftq03FfXdZYl5zNSSrtqjWOoIAAAAFAGfnXRG/wGiBfJ5+3YOqtdACabgAAAA\n",
       "FQGfn2pG/wGiARp0aGSG0ibzM/6J1wAAAD9Bm4NJqEFomUwI3/pYAScVLueHZ89gAEu8Ja2sXcrg\n",
       "vAvTVOs78/gAA4k3ayFkS/NdeG6c+fLECrcwrl1fVw8AAAAVQZ+hRREsfwFQ67V8+irkFD7PTpGx\n",
       "AAAAHAGfwmpG/wGktsrsEiAAl4xd5dhyMPiGvWRPNuAAAAdWbW9vdgAAAGxtdmhkAAAAAAAAAAAA\n",
       "AAAAAAAD6AAABdwAAQAAAQAAAAAAAAAAAAAAAAEAAAAAAAAAAAAAAAAAAAABAAAAAAAAAAAAAAAA\n",
       "AABAAAAAAAAAAAAAAAAAAAAAAAAAAAAAAAAAAAAAAAAAAgAABoB0cmFrAAAAXHRraGQAAAADAAAA\n",
       "AAAAAAAAAAABAAAAAAAABdwAAAAAAAAAAAAAAAAAAAAAAAEAAAAAAAAAAAAAAAAAAAABAAAAAAAA\n",
       "AAAAAAAAAABAAAAAANgAAAGwAAAAAAAkZWR0cwAAABxlbHN0AAAAAAAAAAEAAAXcAAABgAABAAAA\n",
       "AAX4bWRpYQAAACBtZGhkAAAAAAAAAAAAAAAAAAAyAAAASwBVxAAAAAAALWhkbHIAAAAAAAAAAHZp\n",
       "ZGUAAAAAAAAAAAAAAABWaWRlb0hhbmRsZXIAAAAFo21pbmYAAAAUdm1oZAAAAAEAAAAAAAAAAAAA\n",
       "ACRkaW5mAAAAHGRyZWYAAAAAAAAAAQAAAAx1cmwgAAAAAQAABWNzdGJsAAAAs3N0c2QAAAAAAAAA\n",
       "AQAAAKNhdmMxAAAAAAAAAAEAAAAAAAAAAAAAAAAAAAAAANgBsABIAAAASAAAAAAAAAABAAAAAAAA\n",
       "AAAAAAAAAAAAAAAAAAAAAAAAAAAAAAAAAAAAGP//AAAAMWF2Y0MBZAAe/+EAGGdkAB6s2UODfl4Q\n",
       "AAADADAAABkA8WLZYAEABmjr48siwAAAABx1dWlka2hA8l8kT8W6OaUbzwMj8wAAAAAAAAAYc3R0\n",
       "cwAAAAAAAAABAAAAZAAAAMAAAAAUc3RzcwAAAAAAAAABAAAAAQAAAqhjdHRzAAAAAAAAAFMAAAAB\n",
       "AAABgAAAAAEAAAPAAAAAAQAAAYAAAAABAAAAAAAAAAEAAADAAAAAAQAAA8AAAAABAAABgAAAAAEA\n",
       "AAAAAAAAAQAAAMAAAAABAAADAAAAAAIAAADAAAAAAQAAAYAAAAABAAADwAAAAAEAAAGAAAAAAQAA\n",
       "AAAAAAABAAAAwAAAAAEAAAPAAAAAAQAAAYAAAAABAAAAAAAAAAEAAADAAAAAAQAAA8AAAAABAAAB\n",
       "gAAAAAEAAAAAAAAAAQAAAMAAAAAKAAABgAAAAAEAAAJAAAAAAQAAAMAAAAADAAABgAAAAAEAAAPA\n",
       "AAAAAQAAAYAAAAABAAAAAAAAAAEAAADAAAAAAQAAA8AAAAABAAABgAAAAAEAAAAAAAAAAQAAAMAA\n",
       "AAABAAADwAAAAAEAAAGAAAAAAQAAAAAAAAABAAAAwAAAAAQAAAGAAAAAAQAAA8AAAAABAAABgAAA\n",
       "AAEAAAAAAAAAAQAAAMAAAAABAAACQAAAAAEAAADAAAAAAQAAA8AAAAABAAABgAAAAAEAAAAAAAAA\n",
       "AQAAAMAAAAABAAABgAAAAAEAAAJAAAAAAQAAAMAAAAABAAACQAAAAAEAAADAAAAAAQAAA8AAAAAB\n",
       "AAABgAAAAAEAAAAAAAAAAQAAAMAAAAABAAACQAAAAAEAAADAAAAAAQAAA8AAAAABAAABgAAAAAEA\n",
       "AAAAAAAAAQAAAMAAAAABAAACQAAAAAEAAADAAAAAAQAAAYAAAAABAAADAAAAAAIAAADAAAAAAQAA\n",
       "A8AAAAABAAABgAAAAAEAAAAAAAAAAQAAAMAAAAABAAACQAAAAAEAAADAAAAAAQAAA8AAAAABAAAB\n",
       "gAAAAAEAAAAAAAAAAQAAAMAAAAABAAADAAAAAAIAAADAAAAAHHN0c2MAAAAAAAAAAQAAAAEAAABk\n",
       "AAAAAQAAAaRzdHN6AAAAAAAAAAAAAABkAAAN/QAAALMAAAAyAAAAKAAAACAAAAB3AAAALQAAAB8A\n",
       "AAAaAAAAagAAACAAAAAcAAAAMwAAAF0AAAAmAAAAGQAAAB4AAABtAAAAIgAAAB0AAAAcAAAAaAAA\n",
       "ACcAAAAlAAAAHwAAAEMAAAA4AAAAOQAAADUAAAAzAAAAPgAAADsAAAAsAAAAKgAAACoAAABCAAAA\n",
       "FQAAACkAAAApAAAALAAAAEUAAAAfAAAAGgAAACIAAABQAAAAJgAAABgAAAAeAAAALQAAACEAAAAW\n",
       "AAAAFAAAABwAAAApAAAAKAAAADAAAABBAAAAJgAAABkAAAAWAAAAPwAAABgAAABSAAAAJgAAABgA\n",
       "AAAdAAAAOQAAAD4AAAAaAAAARgAAABsAAABaAAAAKgAAAB4AAAAeAAAARQAAAB0AAABaAAAALwAA\n",
       "ACYAAAAiAAAASQAAABoAAAA8AAAASAAAACoAAAAdAAAAXwAAAB8AAAAYAAAAFQAAAE0AAAAXAAAA\n",
       "agAAACMAAAAYAAAAGQAAAEMAAAAZAAAAIAAAABRzdGNvAAAAAAAAAAEAAAAsAAAAYnVkdGEAAABa\n",
       "bWV0YQAAAAAAAAAhaGRscgAAAAAAAAAAbWRpcmFwcGwAAAAAAAAAAAAAAAAtaWxzdAAAACWpdG9v\n",
       "AAAAHWRhdGEAAAABAAAAAExhdmY1Ny44My4xMDA=\n",
       "\">\n",
       "  Your browser does not support the video tag.\n",
       "</video>"
      ],
      "text/plain": [
       "<IPython.core.display.HTML object>"
      ]
     },
     "execution_count": 55,
     "metadata": {},
     "output_type": "execute_result"
    }
   ],
   "source": [
    "from IPython.display import HTML\n",
    "HTML(a.to_html5_video())"
   ]
  }
 ],
 "metadata": {
  "kernelspec": {
   "display_name": "Python 3",
   "language": "python",
   "name": "python3"
  },
  "language_info": {
   "codemirror_mode": {
    "name": "ipython",
    "version": 3
   },
   "file_extension": ".py",
   "mimetype": "text/x-python",
   "name": "python",
   "nbconvert_exporter": "python",
   "pygments_lexer": "ipython3",
   "version": "3.6.4"
  }
 },
 "nbformat": 4,
 "nbformat_minor": 2
}
