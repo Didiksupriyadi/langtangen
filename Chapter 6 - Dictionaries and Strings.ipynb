{
 "cells": [
  {
   "cell_type": "markdown",
   "metadata": {},
   "source": [
    "# 6.1 Dictionaries"
   ]
  },
  {
   "cell_type": "markdown",
   "metadata": {},
   "source": [
    "## 6.1.3 Example: Polynomials as Dictionaries"
   ]
  },
  {
   "cell_type": "code",
   "execution_count": 1,
   "metadata": {
    "inputHidden": false,
    "outputHidden": false
   },
   "outputs": [
    {
     "data": {
      "text/plain": [
       "{0: 1.0, 1: -1.0, 2: 0.5, 3: -0.16666666666666666, 4: 0.041666666666666664}"
      ]
     },
     "execution_count": 1,
     "metadata": {},
     "output_type": "execute_result"
    }
   ],
   "source": [
    "# Dictionary Comprehension\n",
    "from math import factorial\n",
    "d = {k: (-1)**k / factorial(k) for k in range(5)}\n",
    "d"
   ]
  },
  {
   "cell_type": "markdown",
   "metadata": {},
   "source": [
    "# Dictionaries with default values"
   ]
  },
  {
   "cell_type": "code",
   "execution_count": 5,
   "metadata": {},
   "outputs": [
    {
     "data": {
      "text/plain": [
       "0"
      ]
     },
     "execution_count": 5,
     "metadata": {},
     "output_type": "execute_result"
    }
   ],
   "source": [
    "p1 = {'a': 1, 'b': 2}\n",
    "p1.get('c', 0)"
   ]
  },
  {
   "cell_type": "code",
   "execution_count": 6,
   "metadata": {},
   "outputs": [
    {
     "data": {
      "text/plain": [
       "0"
      ]
     },
     "execution_count": 6,
     "metadata": {},
     "output_type": "execute_result"
    }
   ],
   "source": [
    "from collections import defaultdict\n",
    "p2 = defaultdict(lambda: 0)\n",
    "p2.update(p1)\n",
    "p2['c']"
   ]
  },
  {
   "cell_type": "code",
   "execution_count": 7,
   "metadata": {},
   "outputs": [
    {
     "data": {
      "text/plain": [
       "0.0"
      ]
     },
     "execution_count": 7,
     "metadata": {},
     "output_type": "execute_result"
    }
   ],
   "source": [
    "from collections import defaultdict\n",
    "p3 = defaultdict(float)    # float() is called if key is not in dict.\n",
    "p3.update(p1)\n",
    "p3['c']"
   ]
  },
  {
   "cell_type": "code",
   "execution_count": 8,
   "metadata": {},
   "outputs": [
    {
     "data": {
      "text/plain": [
       "dict_keys(['a', 'b', 'c'])"
      ]
     },
     "execution_count": 8,
     "metadata": {},
     "output_type": "execute_result"
    }
   ],
   "source": [
    "p3.keys()    # c is now a key of the dictionary, because it was called!"
   ]
  },
  {
   "cell_type": "code",
   "execution_count": 9,
   "metadata": {},
   "outputs": [
    {
     "data": {
      "text/plain": [
       "['a', 'b', 'c']"
      ]
     },
     "execution_count": 9,
     "metadata": {},
     "output_type": "execute_result"
    }
   ],
   "source": [
    "sorted(p3)    # key-sorted"
   ]
  },
  {
   "cell_type": "markdown",
   "metadata": {},
   "source": [
    "# 6.2 Strings"
   ]
  },
  {
   "cell_type": "markdown",
   "metadata": {},
   "source": [
    "## 6.2.1 Common Operations on Strings"
   ]
  },
  {
   "cell_type": "code",
   "execution_count": 23,
   "metadata": {
    "collapsed": true
   },
   "outputs": [],
   "source": [
    "s = \"großartig!\""
   ]
  },
  {
   "cell_type": "code",
   "execution_count": 24,
   "metadata": {},
   "outputs": [
    {
     "data": {
      "text/plain": [
       "'GROSSARTIG!'"
      ]
     },
     "execution_count": 24,
     "metadata": {},
     "output_type": "execute_result"
    }
   ],
   "source": [
    "s2 = s.upper()\n",
    "s2"
   ]
  },
  {
   "cell_type": "code",
   "execution_count": 25,
   "metadata": {},
   "outputs": [
    {
     "data": {
      "text/plain": [
       "'grossartig!'"
      ]
     },
     "execution_count": 25,
     "metadata": {},
     "output_type": "execute_result"
    }
   ],
   "source": [
    "s3 = s2.lower()\n",
    "s3"
   ]
  },
  {
   "cell_type": "markdown",
   "metadata": {},
   "source": [
    "## 6.2.2 Example: Reading Pairs of Numbers"
   ]
  },
  {
   "cell_type": "code",
   "execution_count": 39,
   "metadata": {},
   "outputs": [
    {
     "data": {
      "text/plain": [
       "[(1.3, 0.0),\n",
       " (-1.0, 2.0),\n",
       " (3.0, -1.5),\n",
       " (0.0, 1.0),\n",
       " (1.0, 0.0),\n",
       " (1.0, 1.0),\n",
       " (0.0, -0.01),\n",
       " (10.5, -1.0),\n",
       " (2.5, -2.5)]"
      ]
     },
     "execution_count": 39,
     "metadata": {},
     "output_type": "execute_result"
    }
   ],
   "source": [
    "with open(\"stuff/read_pairs1.dat\") as f:\n",
    "    text = f.read()\n",
    "    pairs = []\n",
    "    for word in text.split():\n",
    "        pairs.append(tuple([float(x) for x in word[1:-1].split(',')]))\n",
    "pairs"
   ]
  },
  {
   "cell_type": "code",
   "execution_count": 54,
   "metadata": {},
   "outputs": [
    {
     "data": {
      "text/plain": [
       "[(1.3, 0.0),\n",
       " (-1.0, 2.0),\n",
       " (3.0, -1.5),\n",
       " (0.0, 1.0),\n",
       " (1.0, 0.0),\n",
       " (1.0, 1.0),\n",
       " (0.0, -0.01),\n",
       " (10.5, -1.0),\n",
       " (2.5, -2.5)]"
      ]
     },
     "execution_count": 54,
     "metadata": {},
     "output_type": "execute_result"
    }
   ],
   "source": [
    "with open(\"stuff/read_pairs2.dat\") as f:\n",
    "    text = ''.join(f.read().split())[1:-1].split(')(')\n",
    "    pairs = []\n",
    "    for word in text:\n",
    "        pairs.append(tuple([float(x) for x in word.split(',')]))\n",
    "pairs"
   ]
  },
  {
   "cell_type": "markdown",
   "metadata": {},
   "source": [
    "# 6.3 Reading Data from Web Pages"
   ]
  },
  {
   "cell_type": "markdown",
   "metadata": {},
   "source": [
    "## 6.3.2 How to Access Web Pages in Programs"
   ]
  },
  {
   "cell_type": "code",
   "execution_count": 55,
   "metadata": {
    "collapsed": true
   },
   "outputs": [],
   "source": [
    "from urllib.request import urlopen"
   ]
  },
  {
   "cell_type": "code",
   "execution_count": 68,
   "metadata": {},
   "outputs": [
    {
     "name": "stdout",
     "output_type": "stream",
     "text": [
      "b'<html>\\n\\n\\n\\n<head>\\n\\n<title>Pota.to</title>\\n\\n</head>\\n\\n\\n\\n<body background=\"images/potato-repeated-mini.jpg\">\\n\\n\\n\\n<p align=\"left\">&nbsp;</p>\\n\\n\\n\\n<p align=\"left\">&nbsp;</p>\\n\\n<div align=\"center\"><center>\\n\\n\\n\\n<table border=\"0\" width=\"50%\" height=\"50%\" cellspacing=\"0\" cellpadding=\"7\">\\n\\n  <tr>\\n\\n    <td width=\"33%\"></td>\\n\\n    <td width=\"33%\"></td>\\n\\n    <td width=\"34%\"></td>\\n\\n  </tr>\\n\\n  <tr>\\n\\n    <td width=\"33%\"></td>\\n\\n    <td width=\"33%\" bgcolor=\"#FFFFFF\"><p align=\"center\">Nothing&nbsp;yet,&nbsp;nosy.</td>\\n\\n    <td width=\"34%\"></td>\\n\\n  </tr>\\n\\n  <tr>\\n\\n    <td width=\"33%\"></td>\\n\\n    <td width=\"33%\"></td>\\n\\n    <td width=\"34%\"></td>\\n\\n  </tr>\\n\\n</table>\\n\\n</center></div>\\n\\n</body>\\n\\n</html>\\n\\n'\n"
     ]
    }
   ],
   "source": [
    "with urlopen(\"http://pota.to/\") as f:\n",
    "    print(f.read())"
   ]
  },
  {
   "cell_type": "code",
   "execution_count": 66,
   "metadata": {},
   "outputs": [
    {
     "name": "stdout",
     "output_type": "stream",
     "text": [
      "<html>\n",
      "\n",
      "\n",
      "\n",
      "<head>\n",
      "\n",
      "<title>Pota.to</title>\n",
      "\n",
      "</head>\n",
      "\n",
      "\n",
      "\n",
      "<body background=\"images/potato-repeated-mini.jpg\">\n",
      "\n",
      "\n",
      "\n",
      "<p align=\"left\">&nbsp;</p>\n",
      "\n",
      "\n",
      "\n",
      "<p align=\"left\">&nbsp;</p>\n",
      "\n",
      "<div align=\"center\"><center>\n",
      "\n",
      "\n",
      "\n",
      "<table border=\"0\" width=\"50%\" height=\"50%\" cellspacing=\"0\" cellpadding=\"7\">\n",
      "\n",
      "  <tr>\n",
      "\n",
      "    <td width=\"33%\"></td>\n",
      "\n",
      "    <td width=\"33%\"></td>\n",
      "\n",
      "    <td width=\"34%\"></td>\n",
      "\n",
      "  </tr>\n",
      "\n",
      "  <tr>\n",
      "\n",
      "    <td width=\"33%\"></td>\n",
      "\n",
      "    <td width=\"33%\" bgcolor=\"#FFFFFF\"><p align=\"center\">Nothing&nbsp;yet,&nbsp;nosy.</td>\n",
      "\n",
      "    <td width=\"34%\"></td>\n",
      "\n",
      "  </tr>\n",
      "\n",
      "  <tr>\n",
      "\n",
      "    <td width=\"33%\"></td>\n",
      "\n",
      "    <td width=\"33%\"></td>\n",
      "\n",
      "    <td width=\"34%\"></td>\n",
      "\n",
      "  </tr>\n",
      "\n",
      "</table>\n",
      "\n",
      "</center></div>\n",
      "\n",
      "</body>\n",
      "\n",
      "</html>\n",
      "\n",
      "\n"
     ]
    }
   ],
   "source": [
    "# mit Requests (high-level api, supporting authentication, etc.):\n",
    "import requests\n",
    "print(requests.get(\"http://pota.to/\").text)"
   ]
  },
  {
   "cell_type": "markdown",
   "metadata": {},
   "source": [
    "# 6.3.5 Handling Non-English Text"
   ]
  },
  {
   "cell_type": "code",
   "execution_count": 88,
   "metadata": {
    "collapsed": true
   },
   "outputs": [],
   "source": [
    "# -*- coding: utf-8 -*-"
   ]
  },
  {
   "cell_type": "code",
   "execution_count": 130,
   "metadata": {
    "scrolled": true
   },
   "outputs": [
    {
     "name": "stdout",
     "output_type": "stream",
     "text": [
      "\u0000, \u0001, \u0002, \u0003, \u0004, \u0005, \u0006, \u0007, \b, \t, \n",
      ", \u000b",
      ", \f",
      ", \r",
      ", \u000e, \u000f, \u0010, \u0011, \u0012, \u0013, \u0014, \u0015, \u0016, \u0017, \u0018, \u0019, \u001a, \u001b, \u001c",
      ", \u001d",
      ", \u001e",
      ", \u001f,  , !, \", #, $, %, &, ', (, ), *, +, ,, -, ., /, 0, 1, 2, 3, 4, 5, 6, 7, 8, 9, :, ;, <, =, >, ?, @, A, B, C, D, E, F, G, H, I, J, K, L, M, N, O, P, Q, R, S, T, U, V, W, X, Y, Z, [, \\, ], ^, _, `, a, b, c, d, e, f, g, h, i, j, k, l, m, n, o, p, q, r, s, t, u, v, w, x, y, z, {, |, }, ~, , "
     ]
    }
   ],
   "source": [
    "# ascii\n",
    "for i in range(128):\n",
    "    print(chr(i), end=\", \")"
   ]
  },
  {
   "cell_type": "code",
   "execution_count": 89,
   "metadata": {
    "collapsed": true
   },
   "outputs": [],
   "source": [
    "def check(s):\n",
    "    print(\"%s, %s: %s (%d)\" % (s, s.__class__.__name__, repr(s), len(s)))"
   ]
  },
  {
   "cell_type": "code",
   "execution_count": 90,
   "metadata": {},
   "outputs": [
    {
     "name": "stdout",
     "output_type": "stream",
     "text": [
      "67\n",
      "46\n",
      "32\n",
      "70\n",
      "46\n",
      "32\n",
      "71\n",
      "97\n",
      "117\n",
      "223\n"
     ]
    }
   ],
   "source": [
    "for char in \"C. F. Gauß\":\n",
    "    print(ord(char))"
   ]
  },
  {
   "cell_type": "code",
   "execution_count": 126,
   "metadata": {},
   "outputs": [
    {
     "name": "stdout",
     "output_type": "stream",
     "text": [
      "Ã\n",
      "ß\n"
     ]
    }
   ],
   "source": [
    "print(\"\\xc3\\x9f\")    # but utf-8 _is_ unicode, right?\n",
    "print(\"\\xdf\")        # why then, should this be \"unicode\" and the above \"utf-8\"??\n",
    "# also, \"DF\" is smaller than 256, so I really don't get where C3 9F comes from.\n",
    "# for the exciting answers to some of this, see a few cells below :)"
   ]
  },
  {
   "cell_type": "code",
   "execution_count": 111,
   "metadata": {},
   "outputs": [
    {
     "data": {
      "text/plain": [
       "b'\\xc3\\x9f'"
      ]
     },
     "execution_count": 111,
     "metadata": {},
     "output_type": "execute_result"
    }
   ],
   "source": [
    "\"ß\".encode('utf-8')"
   ]
  },
  {
   "cell_type": "code",
   "execution_count": 117,
   "metadata": {},
   "outputs": [
    {
     "data": {
      "text/plain": [
       "b'\\xdf'"
      ]
     },
     "execution_count": 117,
     "metadata": {},
     "output_type": "execute_result"
    }
   ],
   "source": [
    "\"ß\".encode('latin-1')    # huh?"
   ]
  },
  {
   "cell_type": "code",
   "execution_count": 127,
   "metadata": {},
   "outputs": [
    {
     "name": "stdout",
     "output_type": "stream",
     "text": [
      "Gauß\n",
      "'Gau\\xdf'\n",
      "'Gauß'\n",
      "b'Gau\\xc3\\x9f'\n"
     ]
    }
   ],
   "source": [
    "# okay. again\n",
    "s = \"Gauß\"    # same as u\"Gauß\" in python 3\n",
    "print(s)\n",
    "print(ascii(s))    # python 2 representation\n",
    "print(repr(s))     # python 3 representation\n",
    "print(s.encode('utf-8'))"
   ]
  },
  {
   "cell_type": "code",
   "execution_count": 125,
   "metadata": {},
   "outputs": [
    {
     "name": "stdout",
     "output_type": "stream",
     "text": [
      "b'Gau\\xc3\\x9f'\n",
      "b'Gau\\xc3\\x9f'\n",
      "b'Gau\\xc3\\x9f'\n",
      "Gauß\n",
      "'Gau\\xdf'\n",
      "'Gauß'\n"
     ]
    }
   ],
   "source": [
    "s = b\"Gau\\xc3\\x9f\"    # same as s = \"Gau\\xc3\\x9f\" in python 2\n",
    "print(s)\n",
    "print(ascii(s))    # python 2 representation\n",
    "print(repr(s))     # python 3 representation\n",
    "s2 = s.decode('utf-8')\n",
    "print(s2)\n",
    "print(ascii(s2))\n",
    "print(repr(s2))"
   ]
  },
  {
   "cell_type": "code",
   "execution_count": 132,
   "metadata": {
    "collapsed": true
   },
   "outputs": [],
   "source": [
    "# summerizing, the utf8 table gives the following information about the ß character:\n",
    "# unicode code point: U+00DF\n",
    "# character: ß\n",
    "# utf-8: c3 9f\n",
    "# name: LATIN SMALL LETTER SHARP S"
   ]
  },
  {
   "cell_type": "code",
   "execution_count": 147,
   "metadata": {},
   "outputs": [
    {
     "name": "stdout",
     "output_type": "stream",
     "text": [
      "ß\n"
     ]
    }
   ],
   "source": [
    "# so this should also work:\n",
    "\"\\u00df\"    # \\u needs a 16-bit hex number (4 digits)"
   ]
  },
  {
   "cell_type": "code",
   "execution_count": 148,
   "metadata": {},
   "outputs": [
    {
     "data": {
      "text/plain": [
       "'ß'"
      ]
     },
     "execution_count": 148,
     "metadata": {},
     "output_type": "execute_result"
    }
   ],
   "source": [
    "# same as\n",
    "\"\\U000000df\"    # \\U needs a 32-bit hex number (8 digits)"
   ]
  },
  {
   "cell_type": "code",
   "execution_count": 160,
   "metadata": {},
   "outputs": [
    {
     "data": {
      "text/plain": [
       "'ß'"
      ]
     },
     "execution_count": 160,
     "metadata": {},
     "output_type": "execute_result"
    }
   ],
   "source": [
    "# same as\n",
    "\"\\xdf\"    # this is the unicode code point as well.\n",
    "# <=> u\"\\xdf\""
   ]
  },
  {
   "cell_type": "code",
   "execution_count": 158,
   "metadata": {
    "scrolled": true
   },
   "outputs": [
    {
     "data": {
      "text/plain": [
       "'ß'"
      ]
     },
     "execution_count": 158,
     "metadata": {},
     "output_type": "execute_result"
    }
   ],
   "source": [
    "# same as\n",
    "b\"\\xc3\\x9f\".decode()    # b-strings are utf-8 byte-strings.\n",
    "# <=> b\"\\xc3\\x9f\".decode('utf-8')"
   ]
  },
  {
   "cell_type": "code",
   "execution_count": 153,
   "metadata": {},
   "outputs": [
    {
     "data": {
      "text/plain": [
       "'ß'"
      ]
     },
     "execution_count": 153,
     "metadata": {},
     "output_type": "execute_result"
    }
   ],
   "source": [
    "# same as\n",
    "\"\\N{LATIN SMALL LETTER SHARP S}\""
   ]
  }
 ],
 "metadata": {
  "kernel_info": {
   "name": "python3"
  },
  "kernelspec": {
   "display_name": "Python 3",
   "language": "python",
   "name": "python3"
  },
  "language_info": {
   "codemirror_mode": {
    "name": "ipython",
    "version": 3
   },
   "file_extension": ".py",
   "mimetype": "text/x-python",
   "name": "python",
   "nbconvert_exporter": "python",
   "pygments_lexer": "ipython3",
   "version": "3.6.2"
  },
  "nteract": {
   "version": "0.8.0"
  }
 },
 "nbformat": 4,
 "nbformat_minor": 4
}
