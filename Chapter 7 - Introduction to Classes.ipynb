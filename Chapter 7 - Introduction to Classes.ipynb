{
 "cells": [
  {
   "cell_type": "markdown",
   "metadata": {},
   "source": [
    "# 7.1 Simple Function Classes"
   ]
  },
  {
   "cell_type": "markdown",
   "metadata": {},
   "source": [
    "## The Self Variable"
   ]
  },
  {
   "cell_type": "code",
   "execution_count": 107,
   "metadata": {},
   "outputs": [
    {
     "name": "stdout",
     "output_type": "stream",
     "text": [
      "15.854999999999997\n",
      "hello\n"
     ]
    }
   ],
   "source": [
    "class Y:\n",
    "    def __init__(self, v0):\n",
    "        self.v0 = v0\n",
    "        self.g = 9.81\n",
    "    \n",
    "    def value(self, t):\n",
    "        return self.v0*t - (1/2 * self.g * t**2)\n",
    "        \n",
    "    def say(self, what):\n",
    "        print(what)\n",
    "    \n",
    "    def say_hello(self):\n",
    "        self.say(\"hello\")\n",
    "    \n",
    "y = Y(20)\n",
    "print(y.value(3))\n",
    "y.say_hello()\n",
    "\n",
    "# Strive for self-acceptance, not self-denial.\n",
    "# I am ok with this.2"
   ]
  },
  {
   "cell_type": "code",
   "execution_count": 118,
   "metadata": {},
   "outputs": [
    {
     "name": "stdout",
     "output_type": "stream",
     "text": [
      "15.854999999999997\n",
      "1.519999999999996\n"
     ]
    }
   ],
   "source": [
    "class Y:\n",
    "    def __call__(self, t, v0=None):\n",
    "        g = 9.81\n",
    "        if v0 is not None:\n",
    "            self.v0 = v0\n",
    "        return self.v0*t - (1/2 * g * t**2)\n",
    "    \n",
    "y = Y()\n",
    "print(y(3, 20))\n",
    "print(y(4))"
   ]
  },
  {
   "cell_type": "code",
   "execution_count": 120,
   "metadata": {},
   "outputs": [
    {
     "data": {
      "text/plain": [
       "18038.0"
      ]
     },
     "execution_count": 120,
     "metadata": {},
     "output_type": "execute_result"
    }
   ],
   "source": [
    "y.v0 = 1000\n",
    "y(20)"
   ]
  }
 ],
 "metadata": {
  "kernelspec": {
   "display_name": "Python 3",
   "language": "python",
   "name": "python3"
  },
  "language_info": {
   "codemirror_mode": {
    "name": "ipython",
    "version": 3
   },
   "file_extension": ".py",
   "mimetype": "text/x-python",
   "name": "python",
   "nbconvert_exporter": "python",
   "pygments_lexer": "ipython3",
   "version": "3.6.3"
  }
 },
 "nbformat": 4,
 "nbformat_minor": 2
}
