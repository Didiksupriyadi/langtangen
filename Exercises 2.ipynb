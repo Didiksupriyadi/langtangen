{
 "cells": [
  {
   "cell_type": "markdown",
   "metadata": {},
   "source": [
    "# Exercise 2.1: Make a Fahrenheit-Celsius conversion table"
   ]
  },
  {
   "cell_type": "code",
   "execution_count": 1,
   "metadata": {},
   "outputs": [
    {
     "name": "stdout",
     "output_type": "stream",
     "text": [
      "  0°F = -17.78°C\n",
      " 10°F = -12.22°C\n",
      " 20°F =  -6.67°C\n",
      " 30°F =  -1.11°C\n",
      " 40°F =   4.44°C\n",
      " 50°F =  10.00°C\n",
      " 60°F =  15.56°C\n",
      " 70°F =  21.11°C\n",
      " 80°F =  26.67°C\n",
      " 90°F =  32.22°C\n",
      "100°F =  37.78°C\n"
     ]
    }
   ],
   "source": [
    "for f in range(0, 101, 10):\n",
    "    c = 5 / 9 * (f - 32)\n",
    "    print(f\"{f:3.0f}°F = {c:6.2f}°C\")"
   ]
  },
  {
   "cell_type": "markdown",
   "metadata": {},
   "source": [
    "# Exercise 2.2: Generate an approximate Fahrenheit-Celsius conversion table"
   ]
  },
  {
   "cell_type": "code",
   "execution_count": 2,
   "metadata": {},
   "outputs": [
    {
     "name": "stdout",
     "output_type": "stream",
     "text": [
      "  0°F = -17.78°C ≈ -15°C\n",
      " 10°F = -12.22°C ≈ -10°C\n",
      " 20°F =  -6.67°C ≈  -5°C\n",
      " 30°F =  -1.11°C ≈   0°C\n",
      " 40°F =   4.44°C ≈   5°C\n",
      " 50°F =  10.00°C ≈  10°C\n",
      " 60°F =  15.56°C ≈  15°C\n",
      " 70°F =  21.11°C ≈  20°C\n",
      " 80°F =  26.67°C ≈  25°C\n",
      " 90°F =  32.22°C ≈  30°C\n",
      "100°F =  37.78°C ≈  35°C\n"
     ]
    }
   ],
   "source": [
    "for f in range(0, 101, 10):\n",
    "    c = 5 / 9 * (f - 32)\n",
    "    c_approx = (f - 30) / 2\n",
    "    print(f\"{f:3.0f}°F = {c:6.2f}°C \\u2248 {c_approx:3.0f}°C\")"
   ]
  },
  {
   "cell_type": "markdown",
   "metadata": {},
   "source": [
    "# Exercise 2.3: Work with a list"
   ]
  },
  {
   "cell_type": "code",
   "execution_count": 3,
   "metadata": {},
   "outputs": [
    {
     "name": "stdout",
     "output_type": "stream",
     "text": [
      "2 3 5 7 11 13 \n",
      "[2, 3, 5, 7, 11, 13, 17]\n"
     ]
    }
   ],
   "source": [
    "primes = [2, 3, 5, 7, 11, 13]\n",
    "for p in primes:\n",
    "    print(p, end=\" \")\n",
    "print()\n",
    "p = 17\n",
    "primes.append(p)\n",
    "print(primes)"
   ]
  },
  {
   "cell_type": "markdown",
   "metadata": {},
   "source": [
    "# Exercise 2.4: Generate odd numbers"
   ]
  },
  {
   "cell_type": "code",
   "execution_count": 4,
   "metadata": {},
   "outputs": [
    {
     "name": "stdout",
     "output_type": "stream",
     "text": [
      "1 3 5 7 9 11 13 15 17 19 21 23 25 "
     ]
    }
   ],
   "source": [
    "n = 25\n",
    "x = 1\n",
    "while x <= n:\n",
    "    print(x, end=\" \")\n",
    "    x += 2"
   ]
  },
  {
   "cell_type": "markdown",
   "metadata": {},
   "source": [
    "# Exercise 2.5: Compute the sum of the first n integers"
   ]
  },
  {
   "cell_type": "code",
   "execution_count": 5,
   "metadata": {},
   "outputs": [
    {
     "name": "stdout",
     "output_type": "stream",
     "text": [
      "Sum: 325\n",
      "The result is True\n"
     ]
    }
   ],
   "source": [
    "n = 25\n",
    "sum_ = 0\n",
    "for x in range(n + 1):\n",
    "    sum_ += x\n",
    "print(\"Sum:\", sum_)\n",
    "print(\"The result is\", sum_ == (n * (n + 1) / 2))"
   ]
  },
  {
   "cell_type": "markdown",
   "metadata": {},
   "source": [
    "# Exercise 2.6: Compute energy levels in an atom"
   ]
  },
  {
   "cell_type": "markdown",
   "metadata": {},
   "source": [
    "## A"
   ]
  },
  {
   "cell_type": "code",
   "execution_count": 6,
   "metadata": {},
   "outputs": [
    {
     "name": "stdout",
     "output_type": "stream",
     "text": [
      "Bohr energy for n =  1: -2.18e-18J =   -13.6eV\n",
      "Bohr energy for n =  2: -5.45e-19J =    -3.4eV\n",
      "Bohr energy for n =  3: -2.42e-19J =   -1.51eV\n",
      "Bohr energy for n =  4: -1.36e-19J =   -0.85eV\n",
      "Bohr energy for n =  5: -8.72e-20J =  -0.544eV\n",
      "Bohr energy for n =  6: -6.06e-20J =  -0.378eV\n",
      "Bohr energy for n =  7: -4.45e-20J =  -0.278eV\n",
      "Bohr energy for n =  8: -3.41e-20J =  -0.213eV\n",
      "Bohr energy for n =  9: -2.69e-20J =  -0.168eV\n",
      "Bohr energy for n = 10: -2.18e-20J =  -0.136eV\n",
      "Bohr energy for n = 11:  -1.8e-20J =  -0.112eV\n",
      "Bohr energy for n = 12: -1.51e-20J = -0.0945eV\n",
      "Bohr energy for n = 13: -1.29e-20J = -0.0805eV\n",
      "Bohr energy for n = 14: -1.11e-20J = -0.0694eV\n",
      "Bohr energy for n = 15: -9.69e-21J = -0.0605eV\n",
      "Bohr energy for n = 16: -8.52e-21J = -0.0531eV\n",
      "Bohr energy for n = 17: -7.54e-21J = -0.0471eV\n",
      "Bohr energy for n = 18: -6.73e-21J =  -0.042eV\n",
      "Bohr energy for n = 19: -6.04e-21J = -0.0377eV\n",
      "Bohr energy for n = 20: -5.45e-21J =  -0.034eV\n"
     ]
    }
   ],
   "source": [
    "n_min = 1\n",
    "n_max = 20\n",
    "\n",
    "# Physical Constants\n",
    "me = 9.1094e-31      # electron mass [kg]\n",
    "e = 1.6022e-19       # elementary charge [C]\n",
    "eps0 = 8.8542e-12    # electrical permittivity of vacuum [C^2 s^2 kg^-1 m^-3]\n",
    "h = 6.6261e-34       # Planck constant [Js]\n",
    "\n",
    "for n in range(n_min, n_max + 1):\n",
    "    En = -me * e**4 / 8 / eps0**2 / h**2 / n**2\n",
    "    print(f\"Bohr energy for n = {n:2d}: {En:9.3g}J = {En / e:7.3g}eV\")"
   ]
  },
  {
   "cell_type": "markdown",
   "metadata": {},
   "source": [
    "## B"
   ]
  },
  {
   "cell_type": "code",
   "execution_count": 7,
   "metadata": {},
   "outputs": [
    {
     "name": "stdout",
     "output_type": "stream",
     "text": [
      "     -0eV |    10.2eV |    12.1eV |    12.8eV |    13.1eV | \n",
      "----------+-----------+-----------+-----------+-----------+\n",
      "  -10.2eV |      -0eV |    1.89eV |    2.55eV |    2.86eV | \n",
      "----------+-----------+-----------+-----------+-----------+\n",
      "  -12.1eV |   -1.89eV |      -0eV |   0.661eV |   0.968eV | \n",
      "----------+-----------+-----------+-----------+-----------+\n",
      "  -12.8eV |   -2.55eV |  -0.661eV |      -0eV |   0.306eV | \n",
      "----------+-----------+-----------+-----------+-----------+\n",
      "  -13.1eV |   -2.86eV |  -0.968eV |  -0.306eV |      -0eV | "
     ]
    }
   ],
   "source": [
    "n_f_min = 1\n",
    "n_f_max = 5\n",
    "n_i_min = 1\n",
    "n_i_max = 5\n",
    "\n",
    "# Physical Constants\n",
    "me = 9.1094e-31      # electron mass [kg]\n",
    "e = 1.6022e-19       # elementary charge [C]\n",
    "eps0 = 8.8542e-12    # electrical permittivity of vacuum [C^2 s^2 kg^-1 m^-3]\n",
    "h = 6.6261e-34       # Planck constant [Js]\n",
    "\n",
    "for n_f in range(n_f_min, n_f_max + 1):\n",
    "    for n_i in range(n_i_min, n_i_max + 1):\n",
    "        En = -me * e**4 / 8 / eps0**2 / h**2 * (n_i**-2 - n_f**-2)    # Bohr energy [J]\n",
    "        print(f\"{En / e:7.3g}eV\", end=\" | \")\n",
    "    if n_f != n_f_max: print(\"\\n----------+-----------+-----------+-----------+-----------+\")"
   ]
  },
  {
   "cell_type": "markdown",
   "metadata": {},
   "source": [
    "# Exercise 2.7: Generate equally spaced coordinates"
   ]
  },
  {
   "cell_type": "markdown",
   "metadata": {},
   "source": [
    "## A"
   ]
  },
  {
   "cell_type": "code",
   "execution_count": 8,
   "metadata": {},
   "outputs": [
    {
     "name": "stdout",
     "output_type": "stream",
     "text": [
      "-6.0 | -4.2 | -2.4 | -0.6 | 1.20 | 3.00 | 4.80 | 6.60 | 8.40 | 10.2 | 12.0 | 13.8 | 15.6 | 17.4 | 19.2 | 21.0 | "
     ]
    }
   ],
   "source": [
    "n = 15\n",
    "a = -6\n",
    "b = 21\n",
    "\n",
    "coords = []\n",
    "\n",
    "for i in range(n + 1):\n",
    "    coords.append(a + i*(b - a)/n)\n",
    "\n",
    "for c in coords:\n",
    "    print(f\"{c:^04.1f}\", end=\" | \")    # printf: 0x: x block length, pad w/ zeros. position in block: <left ^center >right"
   ]
  },
  {
   "cell_type": "markdown",
   "metadata": {},
   "source": [
    "## B"
   ]
  },
  {
   "cell_type": "code",
   "execution_count": 9,
   "metadata": {},
   "outputs": [
    {
     "name": "stdout",
     "output_type": "stream",
     "text": [
      "-6.0 | -4.2 | -2.4 | -0.6 | 1.20 | 3.00 | 4.80 | 6.60 | 8.40 | 10.2 | 12.0 | 13.8 | 15.6 | 17.4 | 19.2 | 21.0 | "
     ]
    }
   ],
   "source": [
    "n = 15\n",
    "a = -6\n",
    "b = 21\n",
    "\n",
    "coords = [a + i*(b - a)/n for i in range(n + 1)]\n",
    "\n",
    "for c in coords:\n",
    "    print(f\"{c:^04.1f}\", end=\" | \")"
   ]
  },
  {
   "cell_type": "markdown",
   "metadata": {},
   "source": [
    "# Exercise 2.8: Make a table of values from a formula"
   ]
  },
  {
   "cell_type": "markdown",
   "metadata": {},
   "source": [
    "## A"
   ]
  },
  {
   "cell_type": "code",
   "execution_count": 10,
   "metadata": {},
   "outputs": [
    {
     "name": "stdout",
     "output_type": "stream",
     "text": [
      "   t     |     y    \n",
      "---------+----------\n",
      "0.00000  |        0\n",
      "0.20387  |  1.83486\n",
      "0.40775  |  3.26198\n",
      "0.61162  |  4.28135\n",
      "0.81549  |  4.89297\n",
      "1.01937  |  5.09684\n",
      "1.22324  |  4.89297\n",
      "1.42712  |  4.28135\n",
      "1.63099  |  3.26198\n",
      "1.83486  |  1.83486\n",
      "2.03874  |        0\n"
     ]
    }
   ],
   "source": [
    "n = 10\n",
    "v0 = 10     # initial velocity [m / s]\n",
    "g = 9.81    # acceleration of gravity [m / s^2]\n",
    "\n",
    "ts = [i * 2 * v0 / g / n for i in range(n + 1)]\n",
    "\n",
    "print(\"   t     |     y    \")\n",
    "print(\"---------+----------\")\n",
    "for t in ts:\n",
    "    y = v0*t - (1 / 2 * g * t**2)\n",
    "    print(\"%7.5f  |  %7g\" % (t, y))"
   ]
  },
  {
   "cell_type": "markdown",
   "metadata": {},
   "source": [
    "## B"
   ]
  },
  {
   "cell_type": "code",
   "execution_count": 11,
   "metadata": {},
   "outputs": [
    {
     "name": "stdout",
     "output_type": "stream",
     "text": [
      "   t     |     y    \n",
      "---------+----------\n",
      "0.00000  |        0\n",
      "0.20387  |  1.83486\n",
      "0.40775  |  3.26198\n",
      "0.61162  |  4.28135\n",
      "0.81549  |  4.89297\n",
      "1.01937  |  5.09684\n",
      "1.22324  |  4.89297\n",
      "1.42712  |  4.28135\n",
      "1.63099  |  3.26198\n",
      "1.83486  |  1.83486\n",
      "2.03874  |        0\n"
     ]
    }
   ],
   "source": [
    "n = 10\n",
    "v0 = 10     # Initial velocity [m / s]\n",
    "g = 9.81    # Acceleration of gravity [m / s^2]\n",
    "\n",
    "t = 0\n",
    "y = 0\n",
    "\n",
    "print(\"   t     |     y    \")\n",
    "print(\"---------+----------\")\n",
    "while y >= 0:\n",
    "    print(\"%7.5f  |  %7g\" % (t, y))\n",
    "    t += 2 * v0 / g / n\n",
    "    y = v0*t - (1 / 2 * g * t**2)"
   ]
  },
  {
   "cell_type": "markdown",
   "metadata": {
    "collapsed": true
   },
   "source": [
    "# Exercise 2.9: Store values from a formula in lists"
   ]
  },
  {
   "cell_type": "code",
   "execution_count": 12,
   "metadata": {},
   "outputs": [
    {
     "name": "stdout",
     "output_type": "stream",
     "text": [
      "   t     |     y    \n",
      "---------+----------\n",
      "0.00000  |        0\n",
      "0.20387  |  1.83486\n",
      "0.40775  |  3.26198\n",
      "0.61162  |  4.28135\n",
      "0.81549  |  4.89297\n",
      "1.01937  |  5.09684\n",
      "1.22324  |  4.89297\n",
      "1.42712  |  4.28135\n",
      "1.63099  |  3.26198\n",
      "1.83486  |  1.83486\n",
      "2.03874  |        0\n"
     ]
    }
   ],
   "source": [
    "n = 10\n",
    "v0 = 10     # Initial velocity [m / s]\n",
    "g = 9.81    # Acceleration of gravity [m / s^2]\n",
    "\n",
    "ts = [i * 2 * v0 / g / n for i in range(n + 1)]\n",
    "ys = [v0*t - (1 / 2 * g * t**2) for t in ts]\n",
    "\n",
    "print(\"   t     |     y    \")\n",
    "print(\"---------+----------\")\n",
    "for t, y in zip(ts, ys):\n",
    "    print(\"%7.5f  |  %7g\" % (t, y))"
   ]
  },
  {
   "cell_type": "markdown",
   "metadata": {},
   "source": [
    "# Exercise 2.10: Simulate operations on lists by hand"
   ]
  },
  {
   "cell_type": "code",
   "execution_count": 13,
   "metadata": {},
   "outputs": [
    {
     "name": "stdout",
     "output_type": "stream",
     "text": [
      "[1, 3, 5, 7, 11, 13, 17]\n"
     ]
    }
   ],
   "source": [
    "a = [1, 3, 5, 7, 11]\n",
    "b = [13, 17]\n",
    "c = a + b\n",
    "print(c)"
   ]
  },
  {
   "cell_type": "code",
   "execution_count": 14,
   "metadata": {},
   "outputs": [
    {
     "name": "stdout",
     "output_type": "stream",
     "text": [
      "[2, 4, 6, 8, 12]\n"
     ]
    }
   ],
   "source": [
    "b[0] = -1\n",
    "d = [e+1 for e in a]\n",
    "print(d)"
   ]
  },
  {
   "cell_type": "code",
   "execution_count": 15,
   "metadata": {},
   "outputs": [
    {
     "name": "stdout",
     "output_type": "stream",
     "text": [
      "[0, 18]\n"
     ]
    }
   ],
   "source": [
    "d.append(b[0] + 1)\n",
    "d.append(b[-1] + 1)\n",
    "print(d[-2:])"
   ]
  },
  {
   "cell_type": "code",
   "execution_count": 16,
   "metadata": {},
   "outputs": [
    {
     "name": "stdout",
     "output_type": "stream",
     "text": [
      "0\n",
      "18\n",
      "2\n",
      "20\n",
      "4\n",
      "22\n",
      "6\n",
      "24\n",
      "10\n",
      "28\n"
     ]
    }
   ],
   "source": [
    "for e1 in a:\n",
    "    for e2 in b:\n",
    "        print(e1 + e2)"
   ]
  },
  {
   "cell_type": "markdown",
   "metadata": {},
   "source": [
    "# Exercise 2.11: Compute a mathematical sum"
   ]
  },
  {
   "cell_type": "code",
   "execution_count": 17,
   "metadata": {},
   "outputs": [
    {
     "name": "stdout",
     "output_type": "stream",
     "text": [
      "5.187377517639621\n"
     ]
    }
   ],
   "source": [
    "s = 0; k = 1; M = 100\n",
    "while k <= M:\n",
    "    s += 1/k\n",
    "    k += 1\n",
    "print(s)"
   ]
  },
  {
   "cell_type": "markdown",
   "metadata": {},
   "source": [
    "# Exercise 2.12: Replace a while loop by a for loop"
   ]
  },
  {
   "cell_type": "code",
   "execution_count": 18,
   "metadata": {},
   "outputs": [
    {
     "name": "stdout",
     "output_type": "stream",
     "text": [
      "5.187377517639621\n"
     ]
    }
   ],
   "source": [
    "s = 0; M = 100\n",
    "for k in range(1, M + 1):\n",
    "    s += 1 / k\n",
    "print(s)"
   ]
  },
  {
   "cell_type": "markdown",
   "metadata": {},
   "source": [
    "# Exercise 2.13: Simulate a program by hand"
   ]
  },
  {
   "cell_type": "code",
   "execution_count": 19,
   "metadata": {},
   "outputs": [
    {
     "name": "stdout",
     "output_type": "stream",
     "text": [
      "8\n"
     ]
    }
   ],
   "source": [
    "initial_amount = 100\n",
    "p = 5.5 # interest rate\n",
    "amount = initial_amount\n",
    "years = 0\n",
    "while amount <= 1.5*initial_amount:\n",
    "    amount = amount + p/100*amount\n",
    "    years = years + 1\n",
    "print(years)"
   ]
  },
  {
   "cell_type": "code",
   "execution_count": 20,
   "metadata": {
    "collapsed": true
   },
   "outputs": [],
   "source": [
    "# b: integer division"
   ]
  },
  {
   "cell_type": "markdown",
   "metadata": {},
   "source": [
    "# Exercise 2.14: Explore Python documentation"
   ]
  },
  {
   "cell_type": "code",
   "execution_count": 21,
   "metadata": {},
   "outputs": [
    {
     "name": "stdout",
     "output_type": "stream",
     "text": [
      "0.5235987755982988\n"
     ]
    }
   ],
   "source": [
    "from math import asin\n",
    "print(asin(0.5))"
   ]
  },
  {
   "cell_type": "markdown",
   "metadata": {},
   "source": [
    "# Exercise 2.15: Index a nested list"
   ]
  },
  {
   "cell_type": "code",
   "execution_count": 22,
   "metadata": {},
   "outputs": [
    {
     "name": "stdout",
     "output_type": "stream",
     "text": [
      "a\n",
      "['d', 'e', 'f']\n",
      "h\n",
      "d\n"
     ]
    }
   ],
   "source": [
    "q = [['a', 'b', 'c'], ['d', 'e', 'f'], ['g', 'h']]\n",
    "print(q[0][0])\n",
    "print(q[1])\n",
    "print(q[-1][-1])\n",
    "print(q[1][0])"
   ]
  },
  {
   "cell_type": "code",
   "execution_count": 23,
   "metadata": {},
   "outputs": [
    {
     "name": "stdout",
     "output_type": "stream",
     "text": [
      "a\n",
      "b\n",
      "c\n",
      "d\n",
      "e\n",
      "f\n",
      "g\n",
      "h\n"
     ]
    }
   ],
   "source": [
    "for i in q:    # i: list\n",
    "    for j in range(len(i)):    # j: int index\n",
    "        print(i[j])"
   ]
  },
  {
   "cell_type": "markdown",
   "metadata": {},
   "source": [
    "# Exercise 2.16: Store data in lists"
   ]
  },
  {
   "cell_type": "code",
   "execution_count": 24,
   "metadata": {},
   "outputs": [
    {
     "name": "stdout",
     "output_type": "stream",
     "text": [
      "  0°F = -17.78°C ≈ -15°C\n",
      " 10°F = -12.22°C ≈ -10°C\n",
      " 20°F =  -6.67°C ≈  -5°C\n",
      " 30°F =  -1.11°C ≈   0°C\n",
      " 40°F =   4.44°C ≈   5°C\n",
      " 50°F =  10.00°C ≈  10°C\n",
      " 60°F =  15.56°C ≈  15°C\n",
      " 70°F =  21.11°C ≈  20°C\n",
      " 80°F =  26.67°C ≈  25°C\n",
      " 90°F =  32.22°C ≈  30°C\n",
      "100°F =  37.78°C ≈  35°C\n"
     ]
    }
   ],
   "source": [
    "F = list(range(0, 101, 10))\n",
    "C = [5 / 9 * (f - 32) for f in F]\n",
    "C_approx = [(f - 30) / 2 for f in F]\n",
    "\n",
    "l = [F, C, C_approx]\n",
    "\n",
    "for i in range(len(F)):\n",
    "    print(f\"{l[0][i]:3.0f}°F = {l[1][i]:6.2f}°C \\u2248 {l[2][i]:3.0f}°C\")"
   ]
  },
  {
   "cell_type": "markdown",
   "metadata": {},
   "source": [
    "# Exercise 2.17: Store data in a nested list"
   ]
  },
  {
   "cell_type": "code",
   "execution_count": 25,
   "metadata": {},
   "outputs": [
    {
     "name": "stdout",
     "output_type": "stream",
     "text": [
      "   t     |     y    \n",
      "---------+----------\n",
      "0.00000  |        0\n",
      "0.20387  |  1.83486\n",
      "0.40775  |  3.26198\n",
      "0.61162  |  4.28135\n",
      "0.81549  |  4.89297\n",
      "1.01937  |  5.09684\n",
      "1.22324  |  4.89297\n",
      "1.42712  |  4.28135\n",
      "1.63099  |  3.26198\n",
      "1.83486  |  1.83486\n",
      "2.03874  |        0\n"
     ]
    }
   ],
   "source": [
    "n = 10\n",
    "v0 = 10     # Initial velocity [m / s]\n",
    "g = 9.81    # Acceleration of gravity [m / s^2]\n",
    "\n",
    "ts = [i * 2 * v0 / g / n for i in range(n + 1)]\n",
    "ys = [v0*t - (1 / 2 * g * t**2) for t in ts]\n",
    "\n",
    "ty1 = [ts, ys]\n",
    "\n",
    "print(\"   t     |     y    \")\n",
    "print(\"---------+----------\")\n",
    "for i in range(len(ts)):\n",
    "    t = ty1[0][i]; y = ty1[1][i]\n",
    "    print(\"%7.5f  |  %7g\" % (t, y))"
   ]
  },
  {
   "cell_type": "code",
   "execution_count": 26,
   "metadata": {},
   "outputs": [
    {
     "name": "stdout",
     "output_type": "stream",
     "text": [
      "   t     |     y    \n",
      "---------+----------\n",
      "0.00000  |        0\n",
      "0.20387  |  1.83486\n",
      "0.40775  |  3.26198\n",
      "0.61162  |  4.28135\n",
      "0.81549  |  4.89297\n",
      "1.01937  |  5.09684\n",
      "1.22324  |  4.89297\n",
      "1.42712  |  4.28135\n",
      "1.63099  |  3.26198\n",
      "1.83486  |  1.83486\n",
      "2.03874  |        0\n"
     ]
    }
   ],
   "source": [
    "n = 10\n",
    "v0 = 10     # Initial velocity [m / s]\n",
    "g = 9.81    # Acceleration of gravity [m / s^2]\n",
    "\n",
    "ts = [i * 2 * v0 / g / n for i in range(n + 1)]\n",
    "ys = [v0*t - (1 / 2 * g * t**2) for t in ts]\n",
    "\n",
    "ty2 = [(t, y) for t, y in zip(ts, ys)]\n",
    "\n",
    "print(\"   t     |     y    \")\n",
    "print(\"---------+----------\")\n",
    "for t, y in ty2:\n",
    "    print(\"%7.5f  |  %7g\" % (t, y))"
   ]
  },
  {
   "cell_type": "markdown",
   "metadata": {},
   "source": [
    "# Exercise 2.18: Values of boolean expressions"
   ]
  },
  {
   "cell_type": "code",
   "execution_count": 27,
   "metadata": {},
   "outputs": [
    {
     "name": "stdout",
     "output_type": "stream",
     "text": [
      "False\n",
      "False\n",
      "True\n",
      "True\n",
      "False\n",
      "True\n",
      "True\n",
      "False\n",
      "True\n",
      "False\n",
      "False\n",
      "True\n",
      "False\n",
      "True\n",
      "False\n",
      "True\n"
     ]
    }
   ],
   "source": [
    "C = 41\n",
    "print(C == 40)\n",
    "print(C != 40 and C < 41)\n",
    "print(C != 40 or C < 41)\n",
    "print(not C == 40)\n",
    "print(not C > 40)\n",
    "print(C <= 41)\n",
    "print(not False)\n",
    "print(True and False)\n",
    "print(False or True)\n",
    "print(False or False or False)\n",
    "print(True and True and False)\n",
    "print(False == 0)\n",
    "print(True == 0)\n",
    "print(True == 1)\n",
    "print(42 == True)\n",
    "print(bool(42) == True)"
   ]
  },
  {
   "cell_type": "markdown",
   "metadata": {},
   "source": [
    "# Exercise 2.19: Explore round-off errors from a large number of inverse operations"
   ]
  },
  {
   "cell_type": "code",
   "execution_count": 28,
   "metadata": {
    "scrolled": true
   },
   "outputs": [
    {
     "name": "stdout",
     "output_type": "stream",
     "text": [
      "1 times sqrt and **2: 2.0000000000000004\n",
      "2 times sqrt and **2: 1.9999999999999996\n",
      "3 times sqrt and **2: 1.9999999999999996\n",
      "4 times sqrt and **2: 1.9999999999999964\n",
      "5 times sqrt and **2: 1.9999999999999964\n",
      "6 times sqrt and **2: 1.9999999999999964\n",
      "7 times sqrt and **2: 1.9999999999999714\n",
      "8 times sqrt and **2: 2.0000000000000235\n",
      "9 times sqrt and **2: 2.0000000000000235\n",
      "10 times sqrt and **2: 2.0000000000000235\n",
      "11 times sqrt and **2: 2.0000000000000235\n",
      "12 times sqrt and **2: 1.9999999999991336\n",
      "13 times sqrt and **2: 1.9999999999973292\n",
      "14 times sqrt and **2: 1.9999999999973292\n",
      "15 times sqrt and **2: 1.9999999999973292\n",
      "16 times sqrt and **2: 2.0000000000117746\n",
      "17 times sqrt and **2: 2.0000000000408580\n",
      "18 times sqrt and **2: 2.0000000000408580\n",
      "19 times sqrt and **2: 2.0000000001573586\n",
      "20 times sqrt and **2: 2.0000000001573586\n",
      "21 times sqrt and **2: 2.0000000001573586\n",
      "22 times sqrt and **2: 2.0000000010885857\n",
      "23 times sqrt and **2: 2.0000000029511749\n",
      "24 times sqrt and **2: 2.0000000066771721\n",
      "25 times sqrt and **2: 2.0000000066771721\n",
      "26 times sqrt and **2: 1.9999999917774933\n",
      "27 times sqrt and **2: 1.9999999917774933\n",
      "28 times sqrt and **2: 1.9999999917774933\n",
      "29 times sqrt and **2: 1.9999999917774933\n",
      "30 times sqrt and **2: 1.9999999917774933\n",
      "31 times sqrt and **2: 1.9999999917774933\n",
      "32 times sqrt and **2: 1.9999990380770896\n",
      "33 times sqrt and **2: 1.9999971307544144\n",
      "34 times sqrt and **2: 1.9999971307544144\n",
      "35 times sqrt and **2: 1.9999971307544144\n",
      "36 times sqrt and **2: 1.9999971307544144\n",
      "37 times sqrt and **2: 1.9999971307544144\n",
      "38 times sqrt and **2: 1.9999360966436217\n",
      "39 times sqrt and **2: 1.9999360966436217\n",
      "40 times sqrt and **2: 1.9999360966436217\n",
      "41 times sqrt and **2: 1.9994478907329654\n",
      "42 times sqrt and **2: 1.9984718365144798\n",
      "43 times sqrt and **2: 1.9965211562778555\n",
      "44 times sqrt and **2: 1.9965211562778555\n",
      "45 times sqrt and **2: 1.9887374575497223\n",
      "46 times sqrt and **2: 1.9887374575497223\n",
      "47 times sqrt and **2: 1.9887374575497223\n",
      "48 times sqrt and **2: 1.9887374575497223\n",
      "49 times sqrt and **2: 1.8682459487159784\n",
      "50 times sqrt and **2: 1.6487212645509468\n",
      "51 times sqrt and **2: 1.6487212645509468\n",
      "52 times sqrt and **2: 1.0000000000000000\n",
      "53 times sqrt and **2: 1.0000000000000000\n",
      "54 times sqrt and **2: 1.0000000000000000\n",
      "55 times sqrt and **2: 1.0000000000000000\n",
      "56 times sqrt and **2: 1.0000000000000000\n",
      "57 times sqrt and **2: 1.0000000000000000\n",
      "58 times sqrt and **2: 1.0000000000000000\n",
      "59 times sqrt and **2: 1.0000000000000000\n"
     ]
    }
   ],
   "source": [
    "from math import sqrt\n",
    "for n in range(1, 60):\n",
    "    r = 2.0\n",
    "    for i in range(n):\n",
    "        r = sqrt(r)\n",
    "    for i in range(n):\n",
    "        r = r**2\n",
    "    print(\"%d times sqrt and **2: %.16f\" % (n, r))"
   ]
  },
  {
   "cell_type": "code",
   "execution_count": 29,
   "metadata": {
    "scrolled": true
   },
   "outputs": [
    {
     "name": "stdout",
     "output_type": "stream",
     "text": [
      "1.4142135623730951\n",
      "1.189207115002721\n",
      "1.0905077326652577\n",
      "1.0442737824274138\n",
      "1.0218971486541166\n",
      "1.0108892860517005\n",
      "1.0054299011128027\n",
      "1.0027112750502025\n",
      "1.0013547198921082\n",
      "1.0006771306930664\n",
      "1.0003385080526823\n",
      "1.0001692397053021\n",
      "1.0000846162726942\n",
      "1.0000423072413958\n",
      "1.0000211533969647\n",
      "1.0000105766425498\n",
      "1.0000052883072919\n",
      "1.0000026441501502\n",
      "1.0000013220742012\n",
      "1.0000006610368821\n",
      "1.0000003305183864\n",
      "1.0000001652591797\n",
      "1.0000000826295865\n",
      "1.0000000413147925\n",
      "1.000000020657396\n",
      "1.000000010328698\n",
      "1.000000005164349\n",
      "1.0000000025821745\n",
      "1.0000000012910872\n",
      "1.0000000006455436\n",
      "1.0000000003227718\n",
      "1.0000000001613858\n",
      "1.0000000000806928\n",
      "1.0000000000403464\n",
      "1.0000000000201732\n",
      "1.0000000000100866\n",
      "1.0000000000050433\n",
      "1.0000000000025215\n",
      "1.0000000000012608\n",
      "1.0000000000006304\n",
      "1.000000000000315\n",
      "1.0000000000001574\n",
      "1.0000000000000786\n",
      "1.0000000000000393\n",
      "1.0000000000000195\n",
      "1.0000000000000098\n",
      "1.0000000000000049\n",
      "1.0000000000000024\n",
      "1.000000000000001\n",
      "1.0000000000000004\n",
      "1.0000000000000002\n",
      "1.0\n",
      "\n",
      "1.0\n",
      "1.0\n",
      "1.0\n",
      "1.0\n",
      "1.0\n",
      "1.0\n",
      "1.0\n",
      "1.0\n",
      "1.0\n",
      "1.0\n",
      "1.0\n",
      "1.0\n",
      "1.0\n",
      "1.0\n",
      "1.0\n",
      "1.0\n",
      "1.0\n",
      "1.0\n",
      "1.0\n",
      "1.0\n",
      "1.0\n",
      "1.0\n",
      "1.0\n",
      "1.0\n",
      "1.0\n",
      "1.0\n",
      "1.0\n",
      "1.0\n",
      "1.0\n",
      "1.0\n",
      "1.0\n",
      "1.0\n",
      "1.0\n",
      "1.0\n",
      "1.0\n",
      "1.0\n",
      "1.0\n",
      "1.0\n",
      "1.0\n",
      "1.0\n",
      "1.0\n",
      "1.0\n",
      "1.0\n",
      "1.0\n",
      "1.0\n",
      "1.0\n",
      "1.0\n",
      "1.0\n",
      "1.0\n",
      "1.0\n",
      "1.0\n",
      "1.0\n",
      "52 times sqrt and **2: 1.0000000000000000\n"
     ]
    }
   ],
   "source": [
    "n = 52\n",
    "r = 2.0\n",
    "for i in range(n):\n",
    "    r = sqrt(r)\n",
    "    print(r)\n",
    "print()\n",
    "for i in range(n):\n",
    "    r = r**2\n",
    "    print(r)\n",
    "print(\"%d times sqrt and **2: %.16f\" % (n, r))"
   ]
  },
  {
   "cell_type": "markdown",
   "metadata": {},
   "source": [
    "# Exercise 2.20: Explore what zero can be on a computer"
   ]
  },
  {
   "cell_type": "code",
   "execution_count": 30,
   "metadata": {
    "scrolled": true
   },
   "outputs": [
    {
     "name": "stdout",
     "output_type": "stream",
     "text": [
      "............... 1.0\n",
      "............... 0.5\n",
      "............... 0.25\n",
      "............... 0.125\n",
      "............... 0.0625\n",
      "............... 0.03125\n",
      "............... 0.015625\n",
      "............... 0.0078125\n",
      "............... 0.00390625\n",
      "............... 0.001953125\n",
      "............... 0.0009765625\n",
      "............... 0.00048828125\n",
      "............... 0.000244140625\n",
      "............... 0.0001220703125\n",
      "............... 6.103515625e-05\n",
      "............... 3.0517578125e-05\n",
      "............... 1.52587890625e-05\n",
      "............... 7.62939453125e-06\n",
      "............... 3.814697265625e-06\n",
      "............... 1.9073486328125e-06\n",
      "............... 9.5367431640625e-07\n",
      "............... 4.76837158203125e-07\n",
      "............... 2.384185791015625e-07\n",
      "............... 1.1920928955078125e-07\n",
      "............... 5.960464477539063e-08\n",
      "............... 2.9802322387695312e-08\n",
      "............... 1.4901161193847656e-08\n",
      "............... 7.450580596923828e-09\n",
      "............... 3.725290298461914e-09\n",
      "............... 1.862645149230957e-09\n",
      "............... 9.313225746154785e-10\n",
      "............... 4.656612873077393e-10\n",
      "............... 2.3283064365386963e-10\n",
      "............... 1.1641532182693481e-10\n",
      "............... 5.820766091346741e-11\n",
      "............... 2.9103830456733704e-11\n",
      "............... 1.4551915228366852e-11\n",
      "............... 7.275957614183426e-12\n",
      "............... 3.637978807091713e-12\n",
      "............... 1.8189894035458565e-12\n",
      "............... 9.094947017729282e-13\n",
      "............... 4.547473508864641e-13\n",
      "............... 2.2737367544323206e-13\n",
      "............... 1.1368683772161603e-13\n",
      "............... 5.684341886080802e-14\n",
      "............... 2.842170943040401e-14\n",
      "............... 1.4210854715202004e-14\n",
      "............... 7.105427357601002e-15\n",
      "............... 3.552713678800501e-15\n",
      "............... 1.7763568394002505e-15\n",
      "............... 8.881784197001252e-16\n",
      "............... 4.440892098500626e-16\n",
      "............... 2.220446049250313e-16\n",
      "final eps: 1.1102230246251565e-16\n"
     ]
    }
   ],
   "source": [
    "eps = 1.0\n",
    "while 1.0 != 1.0 + eps:\n",
    "    print(\"...............\", eps)\n",
    "    eps = eps/2.0\n",
    "print(\"final eps:\", eps)"
   ]
  },
  {
   "cell_type": "markdown",
   "metadata": {},
   "source": [
    "# Exercise 2.21: Compare two real numbers with a tolerance"
   ]
  },
  {
   "cell_type": "code",
   "execution_count": 31,
   "metadata": {},
   "outputs": [
    {
     "name": "stdout",
     "output_type": "stream",
     "text": [
      "Wrong result!\n",
      "totally correct\n"
     ]
    }
   ],
   "source": [
    "a = 1/947.0*947\n",
    "b = 1\n",
    "if a != b:\n",
    "    print(\"Wrong result!\")\n",
    "if abs(a - b) < 1e-15:\n",
    "    print(\"totally correct\")"
   ]
  },
  {
   "cell_type": "markdown",
   "metadata": {},
   "source": [
    "# Exercise 2.22: Interpret a code"
   ]
  },
  {
   "cell_type": "code",
   "execution_count": 32,
   "metadata": {},
   "outputs": [
    {
     "name": "stdout",
     "output_type": "stream",
     "text": [
      "1510130903.000927\n",
      "....I like while loops!\n",
      "....I like while loops!\n",
      "....I like while loops!\n",
      "....I like while loops!\n",
      "....I like while loops!\n",
      "Oh, no - the loop is over.\n"
     ]
    }
   ],
   "source": [
    "import time\n",
    "t0 = time.time()\n",
    "print(t0)\n",
    "while time.time() - t0 < 10:\n",
    "    print(\"....I like while loops!\")\n",
    "    time.sleep(2)\n",
    "print(\"Oh, no - the loop is over.\")"
   ]
  },
  {
   "cell_type": "markdown",
   "metadata": {},
   "source": [
    "# Exercise 2.23: Explore problems with inaccurate indentation"
   ]
  },
  {
   "cell_type": "code",
   "execution_count": 33,
   "metadata": {},
   "outputs": [
    {
     "name": "stdout",
     "output_type": "stream",
     "text": [
      "-60 -76.0\n",
      "-58 -72.4\n",
      "-56 -68.8\n",
      "-54 -65.2\n",
      "-52 -61.60000000000001\n",
      "-50 -58.0\n",
      "-48 -54.400000000000006\n",
      "-46 -50.8\n",
      "-44 -47.2\n",
      "-42 -43.60000000000001\n",
      "-40 -40.0\n",
      "-38 -36.400000000000006\n",
      "-36 -32.8\n",
      "-34 -29.200000000000003\n",
      "-32 -25.6\n",
      "-30 -22.0\n",
      "-28 -18.4\n",
      "-26 -14.800000000000004\n",
      "-24 -11.200000000000003\n",
      "-22 -7.600000000000001\n",
      "-20 -4.0\n",
      "-18 -0.3999999999999986\n",
      "-16 3.1999999999999993\n",
      "-14 6.800000000000001\n",
      "-12 10.399999999999999\n",
      "-10 14.0\n",
      "-8 17.6\n",
      "-6 21.2\n",
      "-4 24.8\n",
      "-2 28.4\n",
      "0 32.0\n",
      "2 35.6\n",
      "4 39.2\n",
      "6 42.8\n",
      "8 46.4\n",
      "10 50.0\n",
      "12 53.6\n",
      "14 57.2\n",
      "16 60.8\n",
      "18 64.4\n",
      "20 68.0\n",
      "22 71.6\n",
      "24 75.2\n",
      "26 78.80000000000001\n",
      "28 82.4\n",
      "30 86.0\n",
      "32 89.6\n",
      "34 93.2\n",
      "36 96.8\n",
      "38 100.4\n",
      "40 104.0\n",
      "42 107.60000000000001\n",
      "44 111.2\n",
      "46 114.8\n",
      "48 118.4\n",
      "50 122.0\n",
      "52 125.60000000000001\n",
      "54 129.2\n",
      "56 132.8\n",
      "58 136.4\n",
      "60 140.0\n"
     ]
    }
   ],
   "source": [
    "# Illegal Code:\n",
    "\"\"\"\n",
    "C = -60; dC = 2\n",
    "while C <= 60:\n",
    "    F = (9.0/5)*C + 32\n",
    "      print C, F\n",
    "C = C + dC\n",
    "\"\"\"\n",
    "\n",
    "# Correct Code:\n",
    "C = -60; dC = 2\n",
    "while C <= 60:\n",
    "    F = (9.0/5)*C + 32\n",
    "    print(C, F)\n",
    "    C = C + dC"
   ]
  },
  {
   "cell_type": "markdown",
   "metadata": {},
   "source": [
    "# Exercise 2.24: Explore punctuation in Python programs"
   ]
  },
  {
   "cell_type": "code",
   "execution_count": 34,
   "metadata": {},
   "outputs": [
    {
     "name": "stdout",
     "output_type": "stream",
     "text": [
      "(1,)\n"
     ]
    }
   ],
   "source": [
    "x = 1\n",
    "x = 1.\n",
    "x = 1;\n",
    "# x = 1!\n",
    "# x = 1?\n",
    "# x = 1:\n",
    "x = 1,    # tuple\n",
    "print(x)"
   ]
  },
  {
   "cell_type": "markdown",
   "metadata": {},
   "source": [
    "# Exercise 2.25: Investigate a for loop over a changing list"
   ]
  },
  {
   "cell_type": "code",
   "execution_count": 35,
   "metadata": {},
   "outputs": [
    {
     "data": {
      "text/plain": [
       "[0, 1, 2, 3, 4, 5, 6, 7, 8, 9]"
      ]
     },
     "execution_count": 35,
     "metadata": {},
     "output_type": "execute_result"
    }
   ],
   "source": [
    "numbers = list(range(10))\n",
    "numbers"
   ]
  },
  {
   "cell_type": "code",
   "execution_count": 36,
   "metadata": {},
   "outputs": [
    {
     "name": "stdout",
     "output_type": "stream",
     "text": [
      "n=0, del 5 [0, 1, 2, 3, 4, 6, 7, 8, 9]\n",
      "n=1, del 4 [0, 1, 2, 3, 6, 7, 8, 9]\n",
      "n=2, del 4 [0, 1, 2, 3, 7, 8, 9]\n",
      "n=3, del 3 [0, 1, 2, 7, 8, 9]\n",
      "n=8, del 3 [0, 1, 2, 8, 9]\n"
     ]
    }
   ],
   "source": [
    "for n in numbers:\n",
    "    i = len(numbers)//2\n",
    "    del numbers[i]\n",
    "    print(\"n=%d, del %d\" % (n,i), numbers)"
   ]
  }
 ],
 "metadata": {
  "kernelspec": {
   "display_name": "Python 3",
   "language": "python",
   "name": "python3"
  },
  "language_info": {
   "codemirror_mode": {
    "name": "ipython",
    "version": 3
   },
   "file_extension": ".py",
   "mimetype": "text/x-python",
   "name": "python",
   "nbconvert_exporter": "python",
   "pygments_lexer": "ipython3",
   "version": "3.6.2"
  }
 },
 "nbformat": 4,
 "nbformat_minor": 2
}
