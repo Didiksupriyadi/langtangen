{
 "cells": [
  {
   "cell_type": "markdown",
   "metadata": {},
   "source": [
    "# Exercise 4.1: Make an interactive program"
   ]
  },
  {
   "cell_type": "code",
   "execution_count": 1,
   "metadata": {},
   "outputs": [
    {
     "name": "stdout",
     "output_type": "stream",
     "text": [
      "Temperature in Fahrenheit: 100\n",
      "The temperature in Celsius is: 37.7778\n"
     ]
    }
   ],
   "source": [
    "F = float(input(\"Temperature in Fahrenheit: \"))\n",
    "print(\"The temperature in Celsius is: %g\" % (5/9 * (F - 32)))"
   ]
  },
  {
   "cell_type": "markdown",
   "metadata": {},
   "source": [
    "# Exercise 4.2: Read a number from the command line"
   ]
  },
  {
   "cell_type": "code",
   "execution_count": 2,
   "metadata": {},
   "outputs": [
    {
     "name": "stdout",
     "output_type": "stream",
     "text": [
      "The temperature in Celsius is: -5\n"
     ]
    }
   ],
   "source": [
    "# fahrenheit.py\n",
    "'''\n",
    "import sys\n",
    "F = float(sys.argv[1])\n",
    "print(\"The temperature in Celsius is: %g\" % (5/9 * (F - 32)))\n",
    "'''\n",
    "\n",
    "%run \"code/fahrenheit.py\" 23"
   ]
  },
  {
   "cell_type": "markdown",
   "metadata": {},
   "source": [
    "# Exercise 4.3: Read a number from a file"
   ]
  },
  {
   "cell_type": "code",
   "execution_count": 3,
   "metadata": {},
   "outputs": [
    {
     "name": "stdout",
     "output_type": "stream",
     "text": [
      "The temperature in Celsius is: 19.5556\n"
     ]
    }
   ],
   "source": [
    "with open(\"stuff/fahrenheit.txt\") as file:\n",
    "    file.readline()\n",
    "    file.readline()\n",
    "    F = float(file.readline().split()[-1])\n",
    "    print(\"The temperature in Celsius is: %g\" % (5/9 * (F - 32)))"
   ]
  },
  {
   "cell_type": "markdown",
   "metadata": {},
   "source": [
    "# Exercise 4.4: Read and write several numbers from and to file"
   ]
  },
  {
   "cell_type": "code",
   "execution_count": 4,
   "metadata": {},
   "outputs": [],
   "source": [
    "F = []\n",
    "with open(\"stuff/fahrenheit.txt\") as file:\n",
    "    file.readline()\n",
    "    file.readline()\n",
    "    for line in file:\n",
    "        f = float(line.split()[-1])\n",
    "        F.append(f)\n",
    "with open(\"stuff/celsius.dat\", 'w') as file:\n",
    "    for f in F:\n",
    "        file.write(f\"{f:13.6g} {5/9 * (f - 32):13.6g}\\n\")"
   ]
  },
  {
   "cell_type": "markdown",
   "metadata": {},
   "source": [
    "# Exercise 4.5: Use exceptions to handle wrong input"
   ]
  },
  {
   "cell_type": "code",
   "execution_count": 5,
   "metadata": {},
   "outputs": [
    {
     "name": "stdout",
     "output_type": "stream",
     "text": [
      "The temperature in Celsius is: 0.555556\n"
     ]
    }
   ],
   "source": [
    "# fahrenheit2.py\n",
    "'''\n",
    "import sys\n",
    "try:\n",
    "    F = float(sys.argv[1])\n",
    "except IndexError as e:\n",
    "    raise IndexError(\"You have to specify the temperature in Fahrenheit as a command line argument.\")\n",
    "print(\"The temperature in Celsius is: %g\" % (5/9 * (F - 32)))\n",
    "'''\n",
    "\n",
    "%run \"code/fahrenheit2.py\" 33"
   ]
  },
  {
   "cell_type": "markdown",
   "metadata": {},
   "source": [
    "# Exercise 4.6: Read input from the keyboard"
   ]
  },
  {
   "cell_type": "code",
   "execution_count": 6,
   "metadata": {},
   "outputs": [
    {
     "name": "stdout",
     "output_type": "stream",
     "text": [
      "x: 2j + 7\n",
      "Type of x: <class 'complex'>, value of x: (7+2j)\n"
     ]
    }
   ],
   "source": [
    "x = eval(input(\"x: \"))\n",
    "print(f\"Type of x: {type(x)}, value of x: {x}\")"
   ]
  },
  {
   "cell_type": "markdown",
   "metadata": {},
   "source": [
    "# Exercise 4.7: Read input from the command line"
   ]
  },
  {
   "cell_type": "code",
   "execution_count": 7,
   "metadata": {
    "collapsed": true
   },
   "outputs": [],
   "source": [
    "%%capture\n",
    "'''\n",
    "import sys\n",
    "x = eval(sys.argv[1])\n",
    "print(f\"Type of x: {type(x)}, value of x: {x}\")\n",
    "'''"
   ]
  },
  {
   "cell_type": "markdown",
   "metadata": {},
   "source": [
    "# Exercise 4.9: Prompt the user for input to a formula"
   ]
  },
  {
   "cell_type": "code",
   "execution_count": 8,
   "metadata": {},
   "outputs": [
    {
     "name": "stdout",
     "output_type": "stream",
     "text": [
      "v0 = 3\n",
      "t = 0.6\n",
      "0.034199999999999786\n"
     ]
    }
   ],
   "source": [
    "g = 9.81\n",
    "v0 = float(input(\"v0 = \"))\n",
    "t = float(input(\"t = \"))\n",
    "y = v0*t - 0.5*g*t**2\n",
    "print(y)"
   ]
  },
  {
   "cell_type": "markdown",
   "metadata": {},
   "source": [
    "# Exercise 4.10: Read parameters in a formula from the command line"
   ]
  },
  {
   "cell_type": "code",
   "execution_count": 9,
   "metadata": {
    "collapsed": true
   },
   "outputs": [],
   "source": [
    "%%capture\n",
    "'''\n",
    "import sys\n",
    "g = 9.81\n",
    "v0 = float(sys.argv[1])\n",
    "t = float(sys.argv[2])\n",
    "y = v0*t - 0.5*g*t**2\n",
    "print(y)\n",
    "'''"
   ]
  },
  {
   "cell_type": "markdown",
   "metadata": {},
   "source": [
    "# Exercise 4.11: Use exceptions to handle wrong input"
   ]
  },
  {
   "cell_type": "code",
   "execution_count": 10,
   "metadata": {
    "collapsed": true
   },
   "outputs": [],
   "source": [
    "%%capture\n",
    "'''\n",
    "import sys\n",
    "g = 9.81\n",
    "try:\n",
    "    v0 = float(sys.argv[1])\n",
    "    t = float(sys.argv[2])\n",
    "except IndexError:\n",
    "    v0 = float(input(\"v0 = \"))\n",
    "    t = float(input(\"t = \"))\n",
    "y = v0*t - 0.5*g*t**2\n",
    "print(y)\n",
    "'''"
   ]
  },
  {
   "cell_type": "markdown",
   "metadata": {},
   "source": [
    "# Exercise 4.12: Test validity of input data"
   ]
  },
  {
   "cell_type": "code",
   "execution_count": 11,
   "metadata": {},
   "outputs": [
    {
     "name": "stdout",
     "output_type": "stream",
     "text": [
      "v0 = 22\n",
      "t = 1\n",
      "17.095\n"
     ]
    }
   ],
   "source": [
    "import sys\n",
    "g = 9.81\n",
    "v0 = float(input(\"v0 = \"))\n",
    "t = float(input(\"t = \"))\n",
    "if not 0 <= t <= 2 * v0 / g:\n",
    "    raise ValueError(\"t has to lie between 0 and 2 * v0 / g\")\n",
    "y = v0*t - 0.5*g*t**2\n",
    "print(y)"
   ]
  },
  {
   "cell_type": "markdown",
   "metadata": {},
   "source": [
    "# Exercise 4.14: Evaluate a formula for data in a file"
   ]
  },
  {
   "cell_type": "code",
   "execution_count": 12,
   "metadata": {
    "collapsed": true
   },
   "outputs": [],
   "source": [
    "def read_data():\n",
    "    with open(\"stuff/414e.dat\") as file:\n",
    "        data = file.readlines()\n",
    "    v0 = float(data[0].split()[1])\n",
    "    t = [float(i) for s in [l.split() for l in data[2:]] for i in s]\n",
    "    return v0, t\n",
    "\n",
    "def test_read_data():\n",
    "    from textwrap import dedent\n",
    "    with open(\"stuff/414e.dat\", 'w') as file:\n",
    "        file.write(dedent(\"\"\"\\\n",
    "        v0: 3.00\n",
    "        t:\n",
    "        0.15592  0.28075   0.36807889 0.35 0.57681501876\n",
    "        0.21342619  0.0519085  0.042  0.27  0.50620017 0.528\n",
    "        0.2094294  0.1117  0.53012  0.3729850  0.39325246\n",
    "        0.21385894  0.3464815 0.57982969 0.10262264\n",
    "        0.29584013  0.17383923\n",
    "        \"\"\"))\n",
    "    v0, t = read_data()\n",
    "    success = v0 == 3.0 and len(t) == 22\n",
    "    assert success\n",
    "    \n",
    "test_read_data()"
   ]
  },
  {
   "cell_type": "code",
   "execution_count": 13,
   "metadata": {
    "collapsed": true
   },
   "outputs": [],
   "source": [
    "v0, t = read_data()\n",
    "t = sorted(t)\n",
    "\n",
    "with open(\"stuff/414ec.dat\", 'w') as file:\n",
    "    for t in t:\n",
    "        file.write(\"%13.6g %13.6g\\n\" % (t, v0*t - (9.81 / 2 * t**2)))"
   ]
  },
  {
   "cell_type": "markdown",
   "metadata": {},
   "source": [
    "# Exercise 4.15: Write a function given its test function"
   ]
  },
  {
   "cell_type": "code",
   "execution_count": 14,
   "metadata": {
    "collapsed": true
   },
   "outputs": [],
   "source": [
    "def test_halve():\n",
    "    assert halve(5.0) == 2.5  # Real number division\n",
    "    assert halve(5) == 2      # Integer division\n",
    "\n",
    "def halve(x):\n",
    "    if type(x) is int:\n",
    "        return x // 2\n",
    "    else: return x / 2\n",
    "    \n",
    "test_halve()"
   ]
  },
  {
   "cell_type": "code",
   "execution_count": 15,
   "metadata": {
    "collapsed": true
   },
   "outputs": [],
   "source": [
    "def test_add():\n",
    "    # Test integers\n",
    "    assert add(1, 2) == 3\n",
    "    # Test floating-point numbers with rounding error\n",
    "    tol = 1E-14\n",
    "    a=0.1; b=0.2\n",
    "    computed = add(a, b)\n",
    "    expected = 0.3\n",
    "    assert abs(expected - computed) < tol\n",
    "    # Test lists\n",
    "    assert add([1,4], [4,7]) == [1,4,4,7]\n",
    "    # Test strings\n",
    "    assert add(\"Hello, \", \"World!\") == \"Hello, World!\"\n",
    "    \n",
    "def add(a, b):\n",
    "    return a + b\n",
    "\n",
    "test_add()"
   ]
  },
  {
   "cell_type": "code",
   "execution_count": 16,
   "metadata": {
    "collapsed": true
   },
   "outputs": [],
   "source": [
    "def test_equal():\n",
    "    assert equal(\"abc\", \"abc\") == (True, \"abc\")\n",
    "    assert equal(\"abc\", \"aBc\") == (False, \"ab|Bc\")\n",
    "    assert equal(\"abc\", \"aBcd\") == (False, \"ab|Bc*|d\")\n",
    "    assert equal(\"Hello, World!\", \"hello world\") == (False, \"H|hello,|  |wW|oo|rr|ll|dd|*!|*\")\n",
    "\n",
    "def equal(a, b):\n",
    "    same = a == b\n",
    "    result = \"\"\n",
    "    if len(a) > len(b):\n",
    "        b += (len(a) - len(b)) * \"*\"\n",
    "    elif len(b) > len(a):\n",
    "        a += (len(b) - len(a)) * \"*\"\n",
    "    for a, b in zip(a, b):\n",
    "        result += a if a == b else f\"{a}|{b}\"\n",
    "    return same, result\n",
    "\n",
    "test_equal()"
   ]
  },
  {
   "cell_type": "markdown",
   "metadata": {},
   "source": [
    "# Exercise 4.16: Compute the distance it takes to stop a car"
   ]
  },
  {
   "cell_type": "code",
   "execution_count": 17,
   "metadata": {},
   "outputs": [
    {
     "name": "stdout",
     "output_type": "stream",
     "text": [
      "v0=120\n",
      "mu=0.3\n"
     ]
    },
    {
     "data": {
      "text/plain": [
       "188.77185034167707"
      ]
     },
     "execution_count": 17,
     "metadata": {},
     "output_type": "execute_result"
    }
   ],
   "source": [
    "def d(v0, mu):\n",
    "    v0 *= 1000 / 60 / 60\n",
    "    return 1/2 * v0**2 / mu / 9.81\n",
    "\n",
    "d(float(input(\"v0=\")), float(input(\"mu=\")))"
   ]
  },
  {
   "cell_type": "markdown",
   "metadata": {},
   "source": [
    "# Exercise 4.17: Look up calendar functionality"
   ]
  },
  {
   "cell_type": "code",
   "execution_count": 18,
   "metadata": {},
   "outputs": [
    {
     "name": "stdout",
     "output_type": "stream",
     "text": [
      "year=1998\n",
      "month=02\n",
      "day=18\n",
      "18-2-1998 was a Wednesday\n"
     ]
    }
   ],
   "source": [
    "from calendar import weekday, day_name\n",
    "year = int(input(\"year=\"))\n",
    "month = int(input(\"month=\"))\n",
    "day = int(input(\"day=\"))\n",
    "print(f\"{day}-{month}-{year} was a %s\" % day_name[weekday(year, month, day)])"
   ]
  },
  {
   "cell_type": "markdown",
   "metadata": {},
   "source": [
    "# Exercise 4.19: Why we test for specific exception types"
   ]
  },
  {
   "cell_type": "code",
   "execution_count": 20,
   "metadata": {},
   "outputs": [
    {
     "name": "stdout",
     "output_type": "stream",
     "text": [
      "C must be a pure number\n"
     ]
    },
    {
     "ename": "SystemExit",
     "evalue": "1",
     "output_type": "error",
     "traceback": [
      "An exception has occurred, use %tb to see the full traceback.\n",
      "\u001b[0;31mSystemExit\u001b[0m\u001b[0;31m:\u001b[0m 1\n"
     ]
    },
    {
     "name": "stderr",
     "output_type": "stream",
     "text": [
      "/Users/onnoeberhard/anaconda3/lib/python3.6/site-packages/IPython/core/interactiveshell.py:2870: UserWarning: To exit: use 'exit', 'quit', or Ctrl-D.\n",
      "  warn(\"To exit: use 'exit', 'quit', or Ctrl-D.\", stacklevel=1)\n"
     ]
    }
   ],
   "source": [
    "import sys\n",
    "try:\n",
    "    C = float(sys.argv[1])\n",
    "except IndexError:\n",
    "    print(\"C must be provided as command-line argument\")\n",
    "    sys.exit(1)\n",
    "except ValueError:\n",
    "    print(\"C must be a pure number\")\n",
    "    sys.exit(1)"
   ]
  },
  {
   "cell_type": "markdown",
   "metadata": {},
   "source": [
    "# Exercise 4.20: Make a complete module"
   ]
  },
  {
   "cell_type": "code",
   "execution_count": 21,
   "metadata": {
    "collapsed": true
   },
   "outputs": [],
   "source": [
    "# code/convert_temp.py"
   ]
  },
  {
   "cell_type": "markdown",
   "metadata": {},
   "source": [
    "# Exercise 4.21: Organize a previous program as a module"
   ]
  },
  {
   "cell_type": "code",
   "execution_count": 22,
   "metadata": {
    "collapsed": true
   },
   "outputs": [],
   "source": [
    "# code/sf2.py"
   ]
  },
  {
   "cell_type": "markdown",
   "metadata": {},
   "source": [
    "# Exercise 4.22: Read options and values from the command line"
   ]
  },
  {
   "cell_type": "code",
   "execution_count": 23,
   "metadata": {
    "collapsed": true
   },
   "outputs": [],
   "source": [
    "# code/sf.py"
   ]
  },
  {
   "cell_type": "markdown",
   "metadata": {},
   "source": [
    "# Exercise 4.23: Check if mathematical identities hold"
   ]
  },
  {
   "cell_type": "code",
   "execution_count": 24,
   "metadata": {},
   "outputs": [
    {
     "data": {
      "text/plain": [
       "0.6700000000000005"
      ]
     },
     "execution_count": 24,
     "metadata": {},
     "output_type": "execute_result"
    }
   ],
   "source": [
    "def power3_identity(A=-100, B=100, n=1000):\n",
    "    import random\n",
    "    result = 0\n",
    "    for _ in range(n):\n",
    "        a = random.uniform(A, B)\n",
    "        b = random.uniform(A, B)\n",
    "        result += int((a*b)**3 != a**3*b**3) / n\n",
    "    return result\n",
    "\n",
    "power3_identity()"
   ]
  },
  {
   "cell_type": "code",
   "execution_count": 25,
   "metadata": {},
   "outputs": [
    {
     "name": "stdout",
     "output_type": "stream",
     "text": [
      "0.6580000000000005\n",
      "0.4300000000000003\n",
      "0.2780000000000002\n"
     ]
    }
   ],
   "source": [
    "def equal(expr1, expr2, A=-100, B=100, n=500):\n",
    "    import random\n",
    "    result = 0\n",
    "    for _ in range(n):\n",
    "        a = random.uniform(A, B)\n",
    "        b = random.uniform(A, B)\n",
    "        result += int(eval(expr1) != eval(expr2)) / n\n",
    "    return result\n",
    "\n",
    "from math import *\n",
    "print(equal(\"(a * b)**3\", \"a**3 * b**3\"))\n",
    "print(equal(\"e**(a + b)\", \"e**a * e**b\"))\n",
    "print(equal(\"log(a**b)\", \"b * log(a)\", A=1))"
   ]
  },
  {
   "cell_type": "code",
   "execution_count": 26,
   "metadata": {
    "collapsed": true
   },
   "outputs": [],
   "source": [
    "identities = [\n",
    "    (\"a - b\", \"-(b - a)\"),\n",
    "    (\"a / b\", \"1 / (b / a)\"),\n",
    "    (\"(a * b)**4\", \"a**4 * b**4\"),\n",
    "    (\"(a + b)**2\", \"a**2 + 2*a*b + b**2\"),\n",
    "    (\"(a + b) * (a - b)\", \"a**2 - b**2\"),\n",
    "    (\"e**(a+b)\", \"e**a * e**b\"),\n",
    "    (\"log(a**b)\", \"b * log(a)\"),\n",
    "    (\"log(a * b)\", \"log(a) + log(b)\"),\n",
    "    (\"a * b\", \"exp(log(a) + log(b))\"),\n",
    "    (\"1 / (1/a + 1/b)\", \"a * b / (a + b)\"),\n",
    "    (\"a * (sin(b)**2 + cos(b)**2)\", \"a\"),\n",
    "    (\"sinh(a + b)\", \"((e**a * e**b) - (e**(-a) * e**(-b))) / 2\"),\n",
    "    (\"tan(a + b)\", \"sin(a + b) / cos(a + b)\"),\n",
    "    (\"sin(a + b)\", \"sin(a)*cos(b) + sin(b)*cos(a)\")\n",
    "]\n",
    "\n",
    "with open(\"stuff/423.txt\", 'w') as file:\n",
    "    file.write(\" Expression                                                                     | Failure rate  \\n\")\n",
    "    file.write(\"--------------------------------------------------------------------------------+---------------\\n\")\n",
    "    for i in identities:\n",
    "        file.write(f\"{i[0]:30} = {i[1]:45}  | %13.6g\\n\" % equal(*i, A=1))"
   ]
  },
  {
   "cell_type": "markdown",
   "metadata": {},
   "source": [
    "# Exercise 4.24: Compute probabilities with the binomial distribution"
   ]
  },
  {
   "cell_type": "code",
   "execution_count": 27,
   "metadata": {
    "collapsed": true
   },
   "outputs": [],
   "source": [
    "def binomial(x, n, p):\n",
    "    from scipy.special import binom\n",
    "    return binom(n, x) * p**x * (1 - p)**(n - x)"
   ]
  },
  {
   "cell_type": "code",
   "execution_count": 28,
   "metadata": {},
   "outputs": [
    {
     "data": {
      "text/plain": [
       "0.3125"
      ]
     },
     "execution_count": 28,
     "metadata": {},
     "output_type": "execute_result"
    }
   ],
   "source": [
    "binomial(2, 5, 1/2)"
   ]
  },
  {
   "cell_type": "code",
   "execution_count": 29,
   "metadata": {},
   "outputs": [
    {
     "data": {
      "text/plain": [
       "0.00077160493827160479"
      ]
     },
     "execution_count": 29,
     "metadata": {},
     "output_type": "execute_result"
    }
   ],
   "source": [
    "binomial(4, 4, 1/6)"
   ]
  },
  {
   "cell_type": "code",
   "execution_count": 30,
   "metadata": {},
   "outputs": [
    {
     "data": {
      "text/plain": [
       "0.04097798518679252"
      ]
     },
     "execution_count": 30,
     "metadata": {},
     "output_type": "execute_result"
    }
   ],
   "source": [
    "1 - binomial(0, 5, 1/120)"
   ]
  },
  {
   "cell_type": "markdown",
   "metadata": {},
   "source": [
    "# Exercise 4.25: Compute probabilities with the Poisson distribution"
   ]
  },
  {
   "cell_type": "code",
   "execution_count": 31,
   "metadata": {
    "collapsed": true
   },
   "outputs": [],
   "source": [
    "def poisson(x, t, nu):\n",
    "    return (nu * t)**x / factorial(x) * exp(-nu * t)"
   ]
  },
  {
   "cell_type": "code",
   "execution_count": 32,
   "metadata": {
    "collapsed": true
   },
   "outputs": [],
   "source": [
    "qa = lambda: poisson(eval(input(\"n: \")), eval(input(\"t: \")), eval(input(\"nu: \")))"
   ]
  },
  {
   "cell_type": "code",
   "execution_count": 33,
   "metadata": {},
   "outputs": [
    {
     "name": "stdout",
     "output_type": "stream",
     "text": [
      "n: 0\n",
      "t: 0.5\n",
      "nu: 5\n",
      "0.0820849986238988\n",
      "n: 1\n",
      "t: 2\n",
      "nu: 5\n",
      "0.00045399929762484856\n",
      "n: 2\n",
      "t: 20\n",
      "nu: 5/60\n",
      "0.2623272261632803\n"
     ]
    }
   ],
   "source": [
    "# taxi:\n",
    "print(qa())\n",
    "print(qa())\n",
    "print(qa())"
   ]
  },
  {
   "cell_type": "code",
   "execution_count": 34,
   "metadata": {},
   "outputs": [
    {
     "name": "stdout",
     "output_type": "stream",
     "text": [
      "n: 3\n",
      "t: 10\n",
      "nu: 10/50\n",
      "0.18044704431548358\n",
      "n: 0\n",
      "t: 1/52\n",
      "nu: 10/50\n",
      "0.9961612331300334\n"
     ]
    }
   ],
   "source": [
    "# earthquakes\n",
    "print(qa())\n",
    "print(qa())"
   ]
  },
  {
   "cell_type": "code",
   "execution_count": 35,
   "metadata": {},
   "outputs": [
    {
     "name": "stdout",
     "output_type": "stream",
     "text": [
      "n: 0\n",
      "t: 6\n",
      "nu: 6\n",
      "2.3195228302435696e-16\n"
     ]
    }
   ],
   "source": [
    "# misprints\n",
    "print(qa())"
   ]
  }
 ],
 "metadata": {
  "kernelspec": {
   "display_name": "Python 3",
   "language": "python",
   "name": "python3"
  },
  "language_info": {
   "codemirror_mode": {
    "name": "ipython",
    "version": 3
   },
   "file_extension": ".py",
   "mimetype": "text/x-python",
   "name": "python",
   "nbconvert_exporter": "python",
   "pygments_lexer": "ipython3",
   "version": "3.6.2"
  }
 },
 "nbformat": 4,
 "nbformat_minor": 2
}
