{
 "cells": [
  {
   "cell_type": "markdown",
   "metadata": {},
   "source": [
    "# Exercise 1: Make a function class"
   ]
  },
  {
   "cell_type": "code",
   "execution_count": 1,
   "metadata": {},
   "outputs": [
    {
     "data": {
      "text/plain": [
       "0.01335383513703555"
      ]
     },
     "execution_count": 1,
     "metadata": {},
     "output_type": "execute_result"
    }
   ],
   "source": [
    "class F:\n",
    "    def __init__(self, a, w):\n",
    "        self.a, self.w = a, w\n",
    "        \n",
    "    def __call__(self, x):\n",
    "        from math import exp, sin\n",
    "        return exp(-self.a * x) * sin(self.w * x)\n",
    "    \n",
    "f = F(a=1, w=0.1)\n",
    "from math import pi\n",
    "f(pi)"
   ]
  },
  {
   "cell_type": "code",
   "execution_count": 2,
   "metadata": {},
   "outputs": [
    {
     "data": {
      "text/plain": [
       "0.0005770715401197441"
      ]
     },
     "execution_count": 2,
     "metadata": {},
     "output_type": "execute_result"
    }
   ],
   "source": [
    "f.a = 2\n",
    "f(pi)"
   ]
  },
  {
   "cell_type": "markdown",
   "metadata": {},
   "source": [
    "# Exercise 2: Add a data attribute to a class"
   ]
  },
  {
   "cell_type": "code",
   "execution_count": 3,
   "metadata": {
    "collapsed": true
   },
   "outputs": [],
   "source": [
    "class Account(object):\n",
    "    def __init__(self, name, account_number, initial_amount):\n",
    "        self.name = name\n",
    "        self.no = account_number\n",
    "        self.balance = initial_amount\n",
    "        self.transactions = 0\n",
    "        \n",
    "    def deposit(self, amount):\n",
    "        self.balance += amount\n",
    "        self.transactions += 1\n",
    "        \n",
    "    def withdraw(self, amount):\n",
    "        self.balance -= amount\n",
    "        self.transactions += 1\n",
    "        \n",
    "    def dump(self):\n",
    "        print(\"%s, %s, balance: %s, transactions: %d\" % (self.name, self.no, self.balance, self.transactions))\n",
    "        \n",
    "    @staticmethod\n",
    "    def test():\n",
    "        a = Account(\"H.P.L.\", \"121344312\", 1000)\n",
    "        a.withdraw(3000)\n",
    "        a.deposit(20)\n",
    "        assert a.transactions == 2\n",
    "        \n",
    "Account.test()"
   ]
  },
  {
   "cell_type": "markdown",
   "metadata": {},
   "source": [
    "# Exercise 3: Add functionality to a class"
   ]
  },
  {
   "cell_type": "code",
   "execution_count": 4,
   "metadata": {
    "collapsed": true
   },
   "outputs": [],
   "source": [
    "from datetime import datetime as dt\n",
    "import dateutil.parser as dup\n",
    "\n",
    "class Account(object):\n",
    "    def __init__(self, name, account_number, initial_amount):\n",
    "        self._name = name\n",
    "        self._no = account_number\n",
    "        self._transactions = {str(dt.utcnow()): initial_amount}\n",
    "        \n",
    "    def deposit(self, amount):\n",
    "        self._transactions[str(dt.utcnow())] = amount\n",
    "        \n",
    "    def withdraw(self, amount):\n",
    "        self._transactions[str(dt.utcnow())] = -amount\n",
    "        \n",
    "    def get_balance(self):\n",
    "        return sum(self._transactions.values())\n",
    "    \n",
    "    def print_transactions(self):\n",
    "        for time, amount in self._transactions.items():\n",
    "            print(f\"%s: %6.f\" % (dup.parse(time).ctime(), amount))\n",
    "        \n",
    "    def dump(self):\n",
    "        print(\"%s, %s, balance: %s\" % (self._name, self._no, self.get_balance()))"
   ]
  },
  {
   "cell_type": "code",
   "execution_count": 5,
   "metadata": {},
   "outputs": [
    {
     "name": "stdout",
     "output_type": "stream",
     "text": [
      "Sun Mar 25 18:15:30 2018:     20\n",
      "Sun Mar 25 18:15:30 2018:    333\n",
      "Sun Mar 25 18:15:31 2018:    -34\n",
      "Sun Mar 25 18:15:32 2018:     90\n",
      "Sun Mar 25 18:15:33 2018:   -100\n",
      "Onno, 112312535, balance: 309\n"
     ]
    }
   ],
   "source": [
    "import time\n",
    "a = Account(\"Onno\", \"112312535\", 20)\n",
    "a.deposit(333)\n",
    "time.sleep(1)\n",
    "a.withdraw(34)\n",
    "time.sleep(1)\n",
    "a.deposit(90)\n",
    "time.sleep(1)\n",
    "a.withdraw(100)\n",
    "time.sleep(1)\n",
    "a.print_transactions()\n",
    "a.dump()"
   ]
  },
  {
   "cell_type": "code",
   "execution_count": 6,
   "metadata": {},
   "outputs": [
    {
     "name": "stdout",
     "output_type": "stream",
     "text": [
      "1522001734.293254\n",
      "Sun Mar 25 20:15:34 2018\n",
      "Thu Jun 17 14:31:08 2066\n",
      "time.struct_time(tm_year=2018, tm_mon=3, tm_mday=25, tm_hour=20, tm_min=15, tm_sec=34, tm_wday=6, tm_yday=84, tm_isdst=1)\n",
      "time.struct_time(tm_year=2018, tm_mon=3, tm_mday=25, tm_hour=18, tm_min=15, tm_sec=34, tm_wday=6, tm_yday=84, tm_isdst=0)\n",
      "1522001734.0\n",
      "time: Sun, 25 Mar 2018 20:15:34\n",
      "time.struct_time(tm_year=2018, tm_mon=3, tm_mday=25, tm_hour=20, tm_min=15, tm_sec=34, tm_wday=6, tm_yday=84, tm_isdst=-1)\n",
      "time.struct_time(tm_year=2018, tm_mon=3, tm_mday=25, tm_hour=20, tm_min=15, tm_sec=34, tm_wday=6, tm_yday=84, tm_isdst=-1)\n",
      "2018-03-25 20:15:34.301804\n",
      "2018-03-25 18:15:34.301922\n",
      "Sun Mar 25 18:15:34 2018\n",
      "Sun Mar 25 18:15:34 2018\n",
      "None\n",
      "None\n"
     ]
    }
   ],
   "source": [
    "# time stuff\n",
    "import time\n",
    "s = time.time()                                           # seconds since epoch\n",
    "print(s)\n",
    "print(time.ctime())                                       # print current time\n",
    "print(time.ctime(2*s))                                    # print time t\n",
    "l = time.localtime(s)                                     # convert seconds to time_struct (local), s is optional\n",
    "print(l)\n",
    "print(time.gmtime(s))                                     # convert seconds to time_struct (adjust to gmt), s is optional\n",
    "print(time.mktime(l))                                     # convert time_struct to seconde (local), s is optional\n",
    "p = time.strftime(\"time: %a, %d %b %Y %H:%M:%S\", l)       # formatted string from time_struct, l is optional\n",
    "print(p)\n",
    "print(time.strptime(p, \"time: %a, %d %b %Y %H:%M:%S\"))    # make time_struct from formatted string\n",
    "print(time.strptime(time.ctime()))                        # ctime format is default format for strptime\n",
    "\n",
    "from datetime import datetime as dt\n",
    "print(dt.now())     # local datetime\n",
    "d = dt.utcnow()     # utc datetime\n",
    "print(d)\n",
    "print(d.ctime())    # print datetime (strftime works as well)\n",
    "\n",
    "import dateutil.parser as dup\n",
    "d2 = dup.parse(str(d))    # parse datetime from iso string (datetime.strptime works as well)\n",
    "print(d2.ctime())\n",
    "print(d.tzinfo)\n",
    "print(d2.tzinfo)"
   ]
  },
  {
   "cell_type": "markdown",
   "metadata": {},
   "source": [
    "# Exercise 7.4: Make classes for a rectangle and a triangle"
   ]
  },
  {
   "cell_type": "code",
   "execution_count": 7,
   "metadata": {
    "collapsed": true
   },
   "outputs": [],
   "source": [
    "class Rectangle:\n",
    "    def __init__(self, width, height, corner):\n",
    "        self.width, self.height, self.corner = width, height, corner\n",
    "        \n",
    "    def area(self):\n",
    "        return self.width * self.height\n",
    "    \n",
    "    def perimeter(self):\n",
    "        return 2*self.width + 2*self.height\n",
    "    \n",
    "    @staticmethod\n",
    "    def test():\n",
    "        r = Rectangle(2, 3, (0, 0))\n",
    "        import numpy as np\n",
    "        assert np.allclose((r.area(), r.perimeter()), (6, 10))\n",
    "        \n",
    "Rectangle.test()"
   ]
  },
  {
   "cell_type": "code",
   "execution_count": 8,
   "metadata": {
    "collapsed": true
   },
   "outputs": [],
   "source": [
    "class Triangle:\n",
    "    def __init__(self, vertices):\n",
    "        self.x = []; self.y = []\n",
    "        for x, y in vertices:\n",
    "            self.x.append(x)\n",
    "            self.y.append(y)\n",
    "            \n",
    "    def area(self):\n",
    "        x, y = self.x, self.y\n",
    "        return 1/2 * sum(abs(x[i - 1]*y[i] - y[i - 1]*x[i]) for i in range(3))\n",
    "    \n",
    "    def perimeter(self):\n",
    "        from math import sqrt\n",
    "        x, y = self.x, self.y\n",
    "        return sum(sqrt((x[i] - x[i - 1])**2 + (y[i] - y[i - 1])**2) for i in range(3))\n",
    "    \n",
    "    @staticmethod\n",
    "    def test():\n",
    "        import numpy as np\n",
    "        t = Triangle([(0, 0), (1, 0), (0, 1)])\n",
    "        assert np.allclose((t.area(), t.perimeter()), (0.5, 3.414213562373095))\n",
    "        \n",
    "Triangle.test()"
   ]
  },
  {
   "cell_type": "markdown",
   "metadata": {},
   "source": [
    "# Exercise 7.5: Make a class for quadratic functions"
   ]
  },
  {
   "cell_type": "code",
   "execution_count": 9,
   "metadata": {},
   "outputs": [
    {
     "name": "stdout",
     "output_type": "stream",
     "text": [
      "          x |       f(x) \n",
      "------------+------------\n",
      "   0.000000 |  -3.000000 \n",
      "   1.111111 |   0.456790 \n",
      "   2.222222 |   6.382716 \n",
      "   3.333333 |  14.777778 \n",
      "   4.444444 |  25.641975 \n",
      "   5.555556 |  38.975309 \n",
      "   6.666667 |  54.777778 \n",
      "   7.777778 |  73.049383 \n",
      "   8.888889 |  93.790123 \n",
      "  10.000000 | 117.000000 \n",
      "\n",
      "roots: (5.0, -3.0)\n"
     ]
    }
   ],
   "source": [
    "class Quadratic:\n",
    "    def __init__(self, a, b, c):\n",
    "        self.a, self.b, self.c = a, b, c\n",
    "    \n",
    "    def __call__(self, x):\n",
    "        return (self.a * x**2) + self.b*x + self.c\n",
    "    \n",
    "    def table(self, l, r, n=10):\n",
    "        from numpy import linspace\n",
    "        print(\"          x |       f(x) \")\n",
    "        print(\"------------+------------\")\n",
    "        for x in linspace(l, r, n):\n",
    "            print(f\" {x:10.6f} | {self(x):10.6f} \")\n",
    "            \n",
    "    def roots(self):\n",
    "        from math import sqrt\n",
    "        a, b, c = self.a, self.b, self.c\n",
    "        d = -b / 2 / a; e = sqrt(b**2 - 4*a*c)\n",
    "        return a + e, a - e\n",
    "\n",
    "q = Quadratic(1, 2, -3)\n",
    "q.table(0, 10)\n",
    "print(\"\\nroots:\", q.roots())"
   ]
  },
  {
   "cell_type": "markdown",
   "metadata": {},
   "source": [
    "# Exercise 7.6: Make a class for straight lines"
   ]
  },
  {
   "cell_type": "code",
   "execution_count": 10,
   "metadata": {
    "collapsed": true
   },
   "outputs": [],
   "source": [
    "class Line:\n",
    "    def __init__(self, p1, p2):\n",
    "        x0, y0 = p1; x1, y1 = p2\n",
    "        a = (y1 - y0) / (x1 - x0)\n",
    "        self.__class__.__call__ = lambda self, x: y0 + a*(x - x0)\n",
    "    \n",
    "    @staticmethod\n",
    "    def test():\n",
    "        import numpy as np\n",
    "        line = Line((0, -1), (2, 4))\n",
    "        assert np.allclose((line(0.5), line(0), line(1)), (0.25, -1, 1.5))\n",
    "        \n",
    "Line.test()"
   ]
  },
  {
   "cell_type": "markdown",
   "metadata": {},
   "source": [
    "# Exercise 7.7: Flexible handling of function arguments"
   ]
  },
  {
   "cell_type": "code",
   "execution_count": 11,
   "metadata": {
    "collapsed": true
   },
   "outputs": [],
   "source": [
    "class Line:\n",
    "    def __init__(self, p1, p2):\n",
    "        if all(isinstance(p, tuple) for p in (p1, p2)):\n",
    "            x0, y0 = p1; x1, y1 = p2\n",
    "        elif isinstance(p1, tuple):\n",
    "            x0, y0 = p1\n",
    "            x1, y1 = x0 + 1, y0 + p2\n",
    "        elif isinstance(p2, tuple):\n",
    "            x0, y0 = p2\n",
    "            x1, y1 = x0 + 1, y0 + p1\n",
    "        else:\n",
    "            x0, y0 = 0, p1\n",
    "            x1, y1 = x0 + 1, y0 + p2\n",
    "        a = (y1 - y0) / (x1 - x0)\n",
    "        self.__class__.__call__ = lambda self, x: y0 + a*(x - x0)\n",
    "    \n",
    "    @staticmethod\n",
    "    def test():\n",
    "        import numpy as np\n",
    "        line = Line((0, -1), (2, 4))\n",
    "        assert np.allclose((line(0.5), line(0), line(1)), (0.25, -1, 1.5))\n",
    "        \n",
    "        line = Line((0, -1), 5/2)\n",
    "        assert np.allclose((line(0.5), line(0), line(1)), (0.25, -1, 1.5))\n",
    "        \n",
    "        line = Line(-1, 5/2)\n",
    "        assert np.allclose((line(0.5), line(0), line(1)), (0.25, -1, 1.5))\n",
    "        \n",
    "Line.test()"
   ]
  },
  {
   "cell_type": "markdown",
   "metadata": {},
   "source": [
    "# Exercise 7.8: Wrap functions in a class"
   ]
  },
  {
   "cell_type": "code",
   "execution_count": 12,
   "metadata": {
    "collapsed": true
   },
   "outputs": [],
   "source": [
    "class LagrangeInterpolation:\n",
    "    def __init__(self, xp, yp):\n",
    "        self.xp, self.yp = xp, yp\n",
    "        \n",
    "    def __call__(self, x):\n",
    "        x = np.asarray(x)\n",
    "        k = arange(len(self.xp))\n",
    "        return sum(self.yp[k] * self.L_k(x, k), axis=1)\n",
    "\n",
    "    def L_k(self, x, k):\n",
    "        xp = self.xp\n",
    "        i = empty([len(k) - 1, len(k)], dtype=int)\n",
    "        for k_ in k:\n",
    "            i[:, k_] = np.delete(k, k_)\n",
    "        g = x.reshape(-1, 1, 1) - np.resize(xp[i], (x.size, xp[i].shape[0], xp[i].shape[1]))\n",
    "        return prod(g / (xp[k] - xp[i]), axis=1)\n",
    "    \n",
    "    def plot(self):\n",
    "        import matplotlib.pyplot as plt\n",
    "        xp = self.xp\n",
    "        plt.figure()\n",
    "        plt.scatter(xp, self.yp)\n",
    "        x = linspace(xp[0], xp[-1], 1001)\n",
    "        plt.plot(x, self(x))\n",
    "        plt.show()"
   ]
  },
  {
   "cell_type": "code",
   "execution_count": 13,
   "metadata": {},
   "outputs": [
    {
     "name": "stdout",
     "output_type": "stream",
     "text": [
      "p_L(1.2)=0.932039\n",
      "sin(1.2)=0.932039\n"
     ]
    },
    {
     "data": {
      "image/png": "[encoded data removed]",
      "text/plain": [
       "<matplotlib.figure.Figure at 0x10cab9518>"
      ]
     },
     "metadata": {},
     "output_type": "display_data"
    }
   ],
   "source": [
    "import numpy as np\n",
    "from numpy import arange, empty, prod, sum, linspace\n",
    "xp = np.linspace(0, 3*np.pi, 15)\n",
    "yp = np.sin(xp)\n",
    "f = LagrangeInterpolation(xp, yp)\n",
    "x = 1.2\n",
    "print(\"p_L(%g)=%g\" % (x, f(x)))\n",
    "print(\"sin(%g)=%g\" % (x, np.sin(x)))\n",
    "f.plot()"
   ]
  },
  {
   "cell_type": "markdown",
   "metadata": {},
   "source": [
    "# Exercise 7.9: Flexible handling of function arguments"
   ]
  },
  {
   "cell_type": "code",
   "execution_count": 14,
   "metadata": {
    "collapsed": true
   },
   "outputs": [],
   "source": [
    "class LagrangeInterpolation:\n",
    "    def __init__(self, f, x, n=10):\n",
    "        self.xp = np.linspace(x[0], x[1], n)\n",
    "        self.yp = f(self.xp)\n",
    "        \n",
    "    def __call__(self, x):\n",
    "        x = np.asarray(x)\n",
    "        k = arange(len(self.xp))\n",
    "        return sum(self.yp[k] * self.L_k(x, k), axis=1)\n",
    "    \n",
    "    def L_k(self, x, k):\n",
    "        xp = self.xp\n",
    "        i = empty([len(k) - 1, len(k)], dtype=int)\n",
    "        for k_ in k:\n",
    "            i[:, k_] = np.delete(k, k_)\n",
    "        g = x.reshape(-1, 1, 1) - np.resize(xp[i], (x.size, xp[i].shape[0], xp[i].shape[1]))\n",
    "        return prod(g / (xp[k] - xp[i]), axis=1)\n",
    "    \n",
    "    def plot(self):\n",
    "        import matplotlib.pyplot as plt\n",
    "        xp = self.xp\n",
    "        plt.figure()\n",
    "        plt.scatter(xp, self.yp)\n",
    "        x = linspace(xp[0], xp[-1], 1001)\n",
    "        plt.plot(x, self(x))\n",
    "        plt.show()"
   ]
  },
  {
   "cell_type": "code",
   "execution_count": 15,
   "metadata": {},
   "outputs": [
    {
     "data": {
      "image/png": "[encoded data removed]",
      "text/plain": [
       "<matplotlib.figure.Figure at 0x10f9ebd68>"
      ]
     },
     "metadata": {},
     "output_type": "display_data"
    }
   ],
   "source": [
    "from numpy import exp, sin, pi\n",
    "\n",
    "def myfunction(x):\n",
    "    return exp(-x/2.0)*sin(x)\n",
    "\n",
    "f = LagrangeInterpolation(myfunction, x=[0, 2*pi], n=11)\n",
    "f.plot()"
   ]
  },
  {
   "cell_type": "markdown",
   "metadata": {},
   "source": [
    "# Exercise 7.10: Deduce a class implementation"
   ]
  },
  {
   "cell_type": "code",
   "execution_count": 16,
   "metadata": {},
   "outputs": [
    {
     "name": "stdout",
     "output_type": "stream",
     "text": [
      "Hello, students!\n",
      "Hello, World!\n"
     ]
    }
   ],
   "source": [
    "class Hello:\n",
    "    def __call__(self, x):\n",
    "        return f\"Hello, {x}!\"\n",
    "    \n",
    "    def __str__(self):\n",
    "        return \"Hello, World!\"\n",
    "    \n",
    "a = Hello()\n",
    "print(a(\"students\"))\n",
    "print(a)"
   ]
  },
  {
   "cell_type": "markdown",
   "metadata": {},
   "source": [
    "# Exercise 7.11: Implement special methods in a classm"
   ]
  },
  {
   "cell_type": "code",
   "execution_count": 17,
   "metadata": {},
   "outputs": [
    {
     "data": {
      "text/plain": [
       "0.01335383513703555"
      ]
     },
     "execution_count": 17,
     "metadata": {},
     "output_type": "execute_result"
    }
   ],
   "source": [
    "class F:\n",
    "    def __init__(self, a, w):\n",
    "        self.a, self.w = a, w\n",
    "        \n",
    "    def __call__(self, x):\n",
    "        from math import exp, sin\n",
    "        return exp(-self.a * x) * sin(self.w * x)\n",
    "    \n",
    "    def __str__(self):\n",
    "        return \"exp(-self.a * x) * sin(self.w * x)\"\n",
    "    \n",
    "f = F(a=1, w=0.1)\n",
    "from math import pi\n",
    "f(pi)"
   ]
  },
  {
   "cell_type": "code",
   "execution_count": 18,
   "metadata": {},
   "outputs": [
    {
     "data": {
      "text/plain": [
       "0.0005770715401197441"
      ]
     },
     "execution_count": 18,
     "metadata": {},
     "output_type": "execute_result"
    }
   ],
   "source": [
    "f.a = 2\n",
    "f(pi)"
   ]
  },
  {
   "cell_type": "code",
   "execution_count": 19,
   "metadata": {},
   "outputs": [
    {
     "name": "stdout",
     "output_type": "stream",
     "text": [
      "exp(-self.a * x) * sin(self.w * x)\n"
     ]
    }
   ],
   "source": [
    "print(f)"
   ]
  },
  {
   "cell_type": "markdown",
   "metadata": {},
   "source": [
    "# Exercise 7.12: Make a class for summation of series"
   ]
  },
  {
   "cell_type": "code",
   "execution_count": 20,
   "metadata": {
    "collapsed": true
   },
   "outputs": [],
   "source": [
    "def test_Sum():\n",
    "    term = lambda k, x: (-x)**k\n",
    "    x = 0.5\n",
    "    S = Sum(term, M=0, N=3)\n",
    "    \n",
    "    assert abs(S(x) - 5/8) < 1e-12\n",
    "    assert abs(S.term(k=4, x=x) - term(k=4, x=x)) < 1e-12"
   ]
  },
  {
   "cell_type": "code",
   "execution_count": 21,
   "metadata": {
    "collapsed": true
   },
   "outputs": [],
   "source": [
    "class Sum():\n",
    "    def __init__(self, term, M, N):\n",
    "        self.term, self.M, self.N = term, M, N\n",
    "    \n",
    "    def __call__(self, x):\n",
    "        return sum(self.term(k, x) for k in range(self.M, self.N + 1))\n",
    "    \n",
    "test_Sum()"
   ]
  },
  {
   "cell_type": "code",
   "execution_count": 22,
   "metadata": {},
   "outputs": [
    {
     "data": {
      "image/png": "[encoded data removed]",
      "text/plain": [
       "<matplotlib.figure.Figure at 0x10ca867b8>"
      ]
     },
     "metadata": {},
     "output_type": "display_data"
    }
   ],
   "source": [
    "import matplotlib.pyplot as plt\n",
    "import numpy as np\n",
    "from scipy.special import factorial\n",
    "plt.figure()\n",
    "x = np.linspace(-10, 10, 100)\n",
    "y = Sum(lambda k, x: (-1)**k / factorial(2*k + 1) * x**(2*k + 1), 0, 10)(x)\n",
    "plt.plot(x, y)\n",
    "plt.show()"
   ]
  },
  {
   "cell_type": "markdown",
   "metadata": {},
   "source": [
    "# Exercise 7.13: Apply a numerical differentitation class"
   ]
  },
  {
   "cell_type": "code",
   "execution_count": 23,
   "metadata": {},
   "outputs": [
    {
     "data": {
      "text/plain": [
       "'/Users/onnoeberhard/Desktop/Scientific Python'"
      ]
     },
     "execution_count": 23,
     "metadata": {},
     "output_type": "execute_result"
    }
   ],
   "source": [
    "pwd"
   ]
  },
  {
   "cell_type": "code",
   "execution_count": 24,
   "metadata": {},
   "outputs": [
    {
     "data": {
      "image/png": "[encoded data removed]",
      "text/plain": [
       "<matplotlib.figure.Figure at 0x15169ec668>"
      ]
     },
     "metadata": {},
     "output_type": "display_data"
    }
   ],
   "source": [
    "from package.Y import Y\n",
    "from package.Derivative import Derivative\n",
    "import matplotlib.pyplot as plt\n",
    "import numpy as np\n",
    "\n",
    "y = Y(20)\n",
    "dy = Derivative(y.value)\n",
    "\n",
    "t = np.linspace(0, y.v0/y.g)\n",
    "plt.figure()\n",
    "plt.plot(t, y.value(t))\n",
    "plt.plot(t, dy(t))\n",
    "plt.show()"
   ]
  },
  {
   "cell_type": "markdown",
   "metadata": {},
   "source": [
    "# Exercise 7.14: Implement an addition operator"
   ]
  },
  {
   "cell_type": "code",
   "execution_count": 25,
   "metadata": {
    "collapsed": true
   },
   "outputs": [],
   "source": [
    "class Rope:\n",
    "    def __init__(self, knots):\n",
    "        self.knots = knots\n",
    "        \n",
    "    def __add__(self, other):\n",
    "        return Rope(self.knots + other.knots + 1)\n",
    "    \n",
    "    def __str__(self):\n",
    "        return str(self.knots)"
   ]
  },
  {
   "cell_type": "code",
   "execution_count": 26,
   "metadata": {},
   "outputs": [
    {
     "name": "stdout",
     "output_type": "stream",
     "text": [
      "5\n"
     ]
    }
   ],
   "source": [
    "r1 = Rope(2)\n",
    "r2 = Rope(2)\n",
    "r3 = r1 + r2\n",
    "print(r3)"
   ]
  },
  {
   "cell_type": "code",
   "execution_count": 27,
   "metadata": {
    "collapsed": true
   },
   "outputs": [],
   "source": [
    "def test_Rope():\n",
    "    r1 = Rope(2)\n",
    "    r2 = Rope(2)\n",
    "    r3 = r1 + r2\n",
    "    assert r3.knots == 5"
   ]
  },
  {
   "cell_type": "markdown",
   "metadata": {},
   "source": [
    "# Exercise 7.15: Implement in-place += and -= operators"
   ]
  },
  {
   "cell_type": "code",
   "execution_count": 28,
   "metadata": {
    "collapsed": true
   },
   "outputs": [],
   "source": [
    "from datetime import datetime as dt\n",
    "import dateutil.parser as dup\n",
    "\n",
    "class Account(object):\n",
    "    def __init__(self, name, account_number, initial_amount):\n",
    "        self._name = name\n",
    "        self._no = account_number\n",
    "        self._transactions = {str(dt.utcnow()): initial_amount}\n",
    "        \n",
    "    def __iadd__(self, amount):\n",
    "        self._transactions[str(dt.utcnow())] = amount\n",
    "        return self\n",
    "        \n",
    "    def __isub__(self, amount):\n",
    "        self._transactions[str(dt.utcnow())] = -amount\n",
    "        return self\n",
    "        \n",
    "    def get_balance(self):\n",
    "        return sum(v for v in self._transactions.values())\n",
    "    \n",
    "    def print_transactions(self):\n",
    "        for time, amount in self._transactions.items():\n",
    "            print(f\"%s: %6.f\" % (dup.parse(time).ctime(), amount))\n",
    "        \n",
    "    def __str__(self):\n",
    "        return \"%s, %s, balance: %s\" % (self._name, self._no, self.get_balance())\n",
    "        \n",
    "    def __repr__(self):\n",
    "        return f\"Account('{self._name}', {self._no}, {self.get_balance()})\""
   ]
  },
  {
   "cell_type": "code",
   "execution_count": 29,
   "metadata": {},
   "outputs": [
    {
     "name": "stdout",
     "output_type": "stream",
     "text": [
      "Sun Mar 25 18:15:36 2018:     20\n",
      "Sun Mar 25 18:15:36 2018:    333\n",
      "Sun Mar 25 18:15:37 2018:    -34\n",
      "Sun Mar 25 18:15:38 2018:     90\n",
      "Sun Mar 25 18:15:39 2018:   -100\n",
      "Onno, 112312535, balance: 309\n"
     ]
    }
   ],
   "source": [
    "import time\n",
    "a = Account(\"Onno\", \"112312535\", 20)\n",
    "a += 333\n",
    "time.sleep(1)\n",
    "a -= 34\n",
    "time.sleep(1)\n",
    "a += 90\n",
    "time.sleep(1)\n",
    "a -= 100\n",
    "time.sleep(1)\n",
    "a.print_transactions()\n",
    "print(a)"
   ]
  },
  {
   "cell_type": "code",
   "execution_count": 30,
   "metadata": {},
   "outputs": [
    {
     "data": {
      "text/plain": [
       "\"Account('Onno', 112312535, 309)\""
      ]
     },
     "execution_count": 30,
     "metadata": {},
     "output_type": "execute_result"
    }
   ],
   "source": [
    "repr(a)"
   ]
  },
  {
   "cell_type": "code",
   "execution_count": 31,
   "metadata": {
    "collapsed": true
   },
   "outputs": [],
   "source": [
    "b = eval(repr(a))"
   ]
  },
  {
   "cell_type": "code",
   "execution_count": 32,
   "metadata": {},
   "outputs": [
    {
     "name": "stdout",
     "output_type": "stream",
     "text": [
      "Onno, 112312535, balance: 309\n",
      "Onno, 112312535, balance: 309\n"
     ]
    }
   ],
   "source": [
    "print(a)\n",
    "print(b)"
   ]
  },
  {
   "cell_type": "code",
   "execution_count": 33,
   "metadata": {},
   "outputs": [
    {
     "data": {
      "text/plain": [
       "False"
      ]
     },
     "execution_count": 33,
     "metadata": {},
     "output_type": "execute_result"
    }
   ],
   "source": [
    "b == a"
   ]
  },
  {
   "cell_type": "markdown",
   "metadata": {},
   "source": [
    "# Exercise 7.16: Implement a class for numerical differentiation"
   ]
  },
  {
   "cell_type": "code",
   "execution_count": 34,
   "metadata": {
    "collapsed": true
   },
   "outputs": [],
   "source": [
    "def test_Central():\n",
    "    def f(x):\n",
    "        return 1/2 * x**2\n",
    "    \n",
    "    df = Central(f)\n",
    "    x = 2\n",
    "    print(df(x))\n",
    "    print(x)\n",
    "    assert abs(df(x) - x) < 1e-6"
   ]
  },
  {
   "cell_type": "code",
   "execution_count": 35,
   "metadata": {
    "collapsed": true
   },
   "outputs": [],
   "source": [
    "class Central:\n",
    "    def __init__(self, f, h=1e-6):\n",
    "        self.f, self.h = f, h\n",
    "        \n",
    "    def __call__(self, x):\n",
    "        f, h = self.f, self.h\n",
    "        return (f(x + h) - f(x - h)) / 2/h"
   ]
  },
  {
   "cell_type": "code",
   "execution_count": 36,
   "metadata": {},
   "outputs": [
    {
     "name": "stdout",
     "output_type": "stream",
     "text": [
      "2.0000000000575113\n",
      "2\n"
     ]
    }
   ],
   "source": [
    "test_Central()"
   ]
  },
  {
   "cell_type": "code",
   "execution_count": 37,
   "metadata": {
    "collapsed": true
   },
   "outputs": [],
   "source": [
    "import sympy as sp\n",
    "\n",
    "def table(f, x, h=1e-6):\n",
    "    x_list = x\n",
    "    x = sp.Symbol('x')\n",
    "    df_exact = sp.lambdify(x, sp.diff(f))\n",
    "    df_numeric = Central(sp.lambdify(x, f), h=h)\n",
    "    print(\"         x |         Error \")\n",
    "    print(\"-----------+---------------\")\n",
    "    for x in x_list:\n",
    "        print(\" {:9.6f} | {:13.6e} \".format(x, df_exact(x) - df_numeric(x)))"
   ]
  },
  {
   "cell_type": "code",
   "execution_count": 38,
   "metadata": {},
   "outputs": [
    {
     "name": "stdout",
     "output_type": "stream",
     "text": [
      "         x |         Error \n",
      "-----------+---------------\n",
      " -4.000000 |  2.290324e-09 \n",
      " -3.111111 | -5.667182e-10 \n",
      " -2.222222 | -9.131380e-10 \n",
      " -1.333333 | -3.966854e-10 \n",
      " -0.444444 |  3.963496e-12 \n",
      "  0.444444 |  3.963496e-12 \n",
      "  1.333333 | -3.966871e-10 \n",
      "  2.222222 | -1.135199e-09 \n",
      "  3.111111 | -1.010797e-09 \n",
      "  4.000000 |  2.290324e-09 \n"
     ]
    }
   ],
   "source": [
    "x = sp.Symbol('x')\n",
    "table(2*x*sp.cos(2*x) + sp.sin(2*x), np.linspace(-4, 4, 10))"
   ]
  },
  {
   "cell_type": "code",
   "execution_count": 39,
   "metadata": {},
   "outputs": [
    {
     "data": {
      "image/png": "[encoded data removed]",
      "text/plain": [
       "<matplotlib.figure.Figure at 0x1516df0b38>"
      ]
     },
     "metadata": {},
     "output_type": "display_data"
    }
   ],
   "source": [
    "f = lambda x: 2*x*np.cos(2*x) + np.sin(2*x)\n",
    "x = np.linspace(-5, 5, 100)\n",
    "plt.figure()\n",
    "plt.plot(x, f(x))\n",
    "plt.show()"
   ]
  },
  {
   "cell_type": "markdown",
   "metadata": {},
   "source": [
    "# Exercise 7.17: Examine a program"
   ]
  },
  {
   "cell_type": "code",
   "execution_count": 40,
   "metadata": {},
   "outputs": [
    {
     "name": "stdout",
     "output_type": "stream",
     "text": [
      "error: 0.0\n",
      "error: -5.048639195592841e-08\n"
     ]
    }
   ],
   "source": [
    "from math import *\n",
    "\n",
    "class Backward(object):\n",
    "    def __init__(self, f, h=1e-9):\n",
    "        self.f, self.h = f, h\n",
    "    \n",
    "    def __call__(self, x):\n",
    "        h, f = self.h, self.f\n",
    "        return (f(x) - f(x-h))/h    # finite difference\n",
    "\n",
    "dsin = Backward(sin)\n",
    "e = dsin(0) - cos(0); print(\"error:\", e)\n",
    "dexp = Backward(exp, h=1e-7)\n",
    "e = dexp(0) - exp(0); print(\"error:\", e)"
   ]
  },
  {
   "cell_type": "markdown",
   "metadata": {},
   "source": [
    "# Exercise 7.18: Modify a class for numerical differentiation"
   ]
  },
  {
   "cell_type": "code",
   "execution_count": 41,
   "metadata": {
    "collapsed": true
   },
   "outputs": [],
   "source": [
    "class Derivative(object):\n",
    "    def __init__(self, f, h=1E-5):\n",
    "        self._f = f\n",
    "        self._h = float(h)\n",
    "\n",
    "    def __call__(self, x):\n",
    "        f, h = self._f, self._h\n",
    "        return (f(x+h) - f(x))/h\n",
    "\n",
    "    def set_precision(self, h):\n",
    "        self._h = h\n",
    "    \n",
    "    def get_precision(self):\n",
    "        return self._h\n",
    "    \n",
    "def test_Derivative():\n",
    "    d = Derivative(lambda x: x)\n",
    "    d.set_precision(1e-2)\n",
    "    assert d.get_precision() == 1e-2\n",
    "    \n",
    "test_Derivative()"
   ]
  },
  {
   "cell_type": "markdown",
   "metadata": {},
   "source": [
    "# Exercise 7.19: Make a class for the Heaviside function"
   ]
  },
  {
   "cell_type": "code",
   "execution_count": 42,
   "metadata": {
    "collapsed": true
   },
   "outputs": [],
   "source": [
    "class Heaviside():\n",
    "    import numpy as np\n",
    "    \n",
    "    def __init__(self, eps=None):\n",
    "        self.eps = eps\n",
    "    \n",
    "    def __call__(self, x):\n",
    "        eps = self.eps\n",
    "        \n",
    "        if eps:\n",
    "            from numpy import sin, pi\n",
    "            y = 0\n",
    "            y = np.where((-eps <= x) & (x < eps), (1 + x/eps + sin(pi * x / eps)/pi) / 2, y)\n",
    "            y = np.where(x >= eps, 1, y)\n",
    "        else:\n",
    "            y = 1 * (x >= 0)\n",
    "        \n",
    "        return y\n",
    "\n",
    "    def plot(self, xmin, xmax):\n",
    "        import matplotlib.pyplot as plt\n",
    "        \n",
    "        plt.figure()\n",
    "        x = np.linspace(xmin, xmax, 200)\n",
    "        plt.plot(x, self(x))\n",
    "        plt.show()"
   ]
  },
  {
   "cell_type": "code",
   "execution_count": 43,
   "metadata": {},
   "outputs": [
    {
     "data": {
      "text/plain": [
       "1"
      ]
     },
     "execution_count": 43,
     "metadata": {},
     "output_type": "execute_result"
    }
   ],
   "source": [
    "H = Heaviside()\n",
    "H(0.1)"
   ]
  },
  {
   "cell_type": "code",
   "execution_count": 44,
   "metadata": {},
   "outputs": [
    {
     "data": {
      "text/plain": [
       "array(0.623405959900277)"
      ]
     },
     "execution_count": 44,
     "metadata": {},
     "output_type": "execute_result"
    }
   ],
   "source": [
    "H = Heaviside(eps=0.8)\n",
    "H(0.1)"
   ]
  },
  {
   "cell_type": "code",
   "execution_count": 45,
   "metadata": {},
   "outputs": [
    {
     "data": {
      "text/plain": [
       "array([0, 0, 0, 0, 0, 1, 1, 1, 1, 1, 1])"
      ]
     },
     "execution_count": 45,
     "metadata": {},
     "output_type": "execute_result"
    }
   ],
   "source": [
    "H = Heaviside()\n",
    "x = np.linspace(-1, 1, 11)\n",
    "H(x)"
   ]
  },
  {
   "cell_type": "code",
   "execution_count": 46,
   "metadata": {},
   "outputs": [
    {
     "data": {
      "text/plain": [
       "array([  0.00000000e+00,  -1.94908592e-17,   1.24604605e-02,\n",
       "         9.08450569e-02,   2.62460460e-01,   5.00000000e-01,\n",
       "         7.37539540e-01,   9.09154943e-01,   9.87539540e-01,\n",
       "         1.00000000e+00,   1.00000000e+00])"
      ]
     },
     "execution_count": 46,
     "metadata": {},
     "output_type": "execute_result"
    }
   ],
   "source": [
    "H = Heaviside(eps=0.8)\n",
    "H(x)"
   ]
  },
  {
   "cell_type": "code",
   "execution_count": 47,
   "metadata": {},
   "outputs": [
    {
     "data": {
      "image/png": "[encoded data removed]",
      "text/plain": [
       "<matplotlib.figure.Figure at 0x1416945f28>"
      ]
     },
     "metadata": {},
     "output_type": "display_data"
    }
   ],
   "source": [
    "H = Heaviside(eps=1)\n",
    "H.plot(xmin=-4, xmax=4)"
   ]
  },
  {
   "cell_type": "markdown",
   "metadata": {},
   "source": [
    "# Exercise 7.20: Make a class for the indicator function"
   ]
  },
  {
   "cell_type": "code",
   "execution_count": 48,
   "metadata": {
    "collapsed": true
   },
   "outputs": [],
   "source": [
    "class Indicator():\n",
    "    import numpy as np\n",
    "    \n",
    "    def __init__(self, a, b, eps=None):\n",
    "        self.eps, self.a, self.b = eps, a, b\n",
    "    \n",
    "    def __call__(self, x):\n",
    "        H = Heaviside(self.eps)\n",
    "        y = H(x - self.a) * H(-(x - self.b))\n",
    "        return y\n",
    "\n",
    "    def plot(self, xmin, xmax):\n",
    "        import matplotlib.pyplot as plt\n",
    "        \n",
    "        plt.figure()\n",
    "        x = np.linspace(xmin, xmax, 200)\n",
    "        plt.plot(x, self(x))\n",
    "        plt.show()"
   ]
  },
  {
   "cell_type": "code",
   "execution_count": 49,
   "metadata": {},
   "outputs": [
    {
     "data": {
      "image/png": "[encoded data removed]",
      "text/plain": [
       "<matplotlib.figure.Figure at 0x10fb98630>"
      ]
     },
     "metadata": {},
     "output_type": "display_data"
    }
   ],
   "source": [
    "I = Indicator(-2, 3, eps=1)\n",
    "I.plot(-5, 6)"
   ]
  },
  {
   "cell_type": "markdown",
   "metadata": {},
   "source": [
    "# Exercise 7.21: Make a class for piecewise constant functions"
   ]
  },
  {
   "cell_type": "code",
   "execution_count": 50,
   "metadata": {
    "collapsed": true
   },
   "outputs": [],
   "source": [
    "class PiecewiseConstant():\n",
    "    import numpy as np\n",
    "    \n",
    "    def __init__(self, points, xmax):\n",
    "        self.points, self.xmax = points, xmax\n",
    "        \n",
    "    def __call__(self, x):\n",
    "        y = np.nan\n",
    "        for v, xi in self.points:\n",
    "            y = np.where((xi <= x) & (x < self.xmax), v, y)\n",
    "        return y\n",
    "    \n",
    "    def plot(self):\n",
    "        import matplotlib.pyplot as plt\n",
    "        \n",
    "        plt.figure()\n",
    "        x = np.linspace(self.points[0][1], self.xmax, 1000)\n",
    "        plt.plot(x, self(x))\n",
    "        plt.show()"
   ]
  },
  {
   "cell_type": "code",
   "execution_count": 51,
   "metadata": {},
   "outputs": [
    {
     "name": "stdout",
     "output_type": "stream",
     "text": [
      "0.2 0.2 nan\n",
      "[ nan  nan  nan  nan  nan  0.4  0.4  0.4  0.2  0.2  0.2  0.2  0.2  0.2  0.2\n",
      "  0.1  0.1  0.1  0.1  0.1  nan]\n"
     ]
    }
   ],
   "source": [
    "f = PiecewiseConstant([(0.4, 1), (0.2, 1.5), (0.1, 3)], xmax=4)\n",
    "print(f(1.5), f(1.75), f(4))\n",
    "x = np.linspace(0, 4, 21)\n",
    "print(f(x))"
   ]
  },
  {
   "cell_type": "code",
   "execution_count": 52,
   "metadata": {},
   "outputs": [
    {
     "data": {
      "image/png": "[encoded data removed]",
      "text/plain": [
       "<matplotlib.figure.Figure at 0x10f642748>"
      ]
     },
     "metadata": {},
     "output_type": "display_data"
    }
   ],
   "source": [
    "f.plot()"
   ]
  },
  {
   "cell_type": "markdown",
   "metadata": {},
   "source": [
    "# Exercise 7.22: Speed up repeated integral calculations"
   ]
  },
  {
   "cell_type": "code",
   "execution_count": 53,
   "metadata": {
    "collapsed": true
   },
   "outputs": [],
   "source": [
    "class Integral(object):\n",
    "    def __init__(self, f, a, n=100):\n",
    "        self.f, self.a, self.n = f, a, n\n",
    "    \n",
    "    def __call__(self, x):\n",
    "        if isinstance(x, np.ndarray):\n",
    "            nk = int(self.n / len(x))\n",
    "            I = [trapezoidal(self.f, self.a, x[0], nk)]\n",
    "            for i, xi in enumerate(x[1:]):\n",
    "                I.append(I[i] + trapezoidal(self.f, x[i], xi, nk))\n",
    "            return I\n",
    "        else:\n",
    "            return trapezoidal(self.f, self.a, x, self.n)\n",
    "\n",
    "def trapezoidal(f, a, x, n):\n",
    "    dx = (x - a) / n\n",
    "    I = dx / 2 * sum(f(a + (k - 1)*dx) + f(a + k*dx) for k in range(n))\n",
    "    return I"
   ]
  },
  {
   "cell_type": "code",
   "execution_count": 54,
   "metadata": {},
   "outputs": [
    {
     "data": {
      "text/plain": [
       "[0.99369384775594749,\n",
       " 1.999953942101556,\n",
       " 1.0062600943456086,\n",
       " -2.2204460492503131e-16]"
      ]
     },
     "execution_count": 54,
     "metadata": {},
     "output_type": "execute_result"
    }
   ],
   "source": [
    "from numpy import sin, pi\n",
    "I = Integral(sin, 0, n=1000)\n",
    "I(np.array([pi/2, pi, 3/2*pi, 2*pi]))"
   ]
  },
  {
   "cell_type": "markdown",
   "metadata": {},
   "source": [
    "# Exercise 7.23: Apply a class for polynomials"
   ]
  },
  {
   "cell_type": "code",
   "execution_count": 55,
   "metadata": {
    "collapsed": true
   },
   "outputs": [],
   "source": [
    "class Polynomial(object):\n",
    "    def __init__(self, coefficients):\n",
    "        self.coeff = coefficients\n",
    "        \n",
    "    def __call__(self, x):\n",
    "        \"\"\"Evaluate the polynomial.\"\"\" \n",
    "        s = 0 \n",
    "        for i, c in enumerate(self.coeff):\n",
    "            s += c*x**i\n",
    "        return s\n",
    "    \n",
    "    def __add__(self, other):\n",
    "        \"\"\"Return self + other as Polynomial object.\"\"\" \n",
    "        \n",
    "        # Start with the longest list and add in the other\n",
    "        if len(self.coeff) > len(other.coeff):\n",
    "            result_coeff = self.coeff[:]  # copy!\n",
    "            for i in range(len(other.coeff)):\n",
    "                result_coeff[i] += other.coeff[i]\n",
    "        else:\n",
    "            result_coeff = other.coeff[:] # copy!\n",
    "            for i in range(len(self.coeff)):\n",
    "                result_coeff[i] += self.coeff[i]\n",
    "        \n",
    "        return Polynomial(result_coeff)"
   ]
  },
  {
   "cell_type": "code",
   "execution_count": 56,
   "metadata": {
    "collapsed": true
   },
   "outputs": [],
   "source": [
    "def evaluate(x, N):\n",
    "    from math import factorial\n",
    "    coef = [1/factorial(k) for k in range(N + 1)]\n",
    "    p = Polynomial(coef)\n",
    "    print(f\"N: {N:2d}, p({x:05.2f}) = {p(x):f}\")"
   ]
  },
  {
   "cell_type": "code",
   "execution_count": 57,
   "metadata": {},
   "outputs": [
    {
     "name": "stdout",
     "output_type": "stream",
     "text": [
      "exact: 1.6487212707001282\n",
      "N:  2, p(00.50) = 1.625000\n",
      "N:  5, p(00.50) = 1.648698\n",
      "N: 10, p(00.50) = 1.648721\n",
      "N: 15, p(00.50) = 1.648721\n",
      "N: 20, p(00.50) = 1.648721\n",
      "N: 25, p(00.50) = 1.648721\n",
      "exact: 20.085536923187668\n",
      "N:  2, p(03.00) = 8.500000\n",
      "N:  5, p(03.00) = 18.400000\n",
      "N: 10, p(03.00) = 20.079665\n",
      "N: 15, p(03.00) = 20.085534\n",
      "N: 20, p(03.00) = 20.085537\n",
      "N: 25, p(03.00) = 20.085537\n",
      "exact: 22026.465794806718\n",
      "N:  2, p(10.00) = 61.000000\n",
      "N:  5, p(10.00) = 1477.666667\n",
      "N: 10, p(10.00) = 12842.305115\n",
      "N: 15, p(10.00) = 20952.886969\n",
      "N: 20, p(10.00) = 21991.482026\n",
      "N: 25, p(10.00) = 22026.076361\n"
     ]
    }
   ],
   "source": [
    "from math import exp\n",
    "for x in [0.5, 3, 10]:\n",
    "    print(\"exact:\", exp(x))\n",
    "    for N in [2, 5, 10, 15, 20, 25]:\n",
    "        evaluate(x, N)"
   ]
  },
  {
   "cell_type": "markdown",
   "metadata": {},
   "source": [
    "# Exercise 7.24: Find a bug in a class for polynomials"
   ]
  },
  {
   "cell_type": "code",
   "execution_count": 58,
   "metadata": {
    "collapsed": true
   },
   "outputs": [],
   "source": [
    "class Polynomial(object):\n",
    "    def __init__(self, coefficients):\n",
    "        self.coeff = coefficients\n",
    "        \n",
    "    def __call__(self, x):\n",
    "        return sum([c*x**i for i, c in enumerate(self.coeff)])\n",
    "    \n",
    "    def __add__(self, other):\n",
    "        maxlength = max(len(self.coeff), len(other.coeff))\n",
    "        # Extend both lists with zeros to this maxlength\n",
    "        self.coeff += [0]*(maxlength - len(self.coeff))\n",
    "        other.coeff += [0]*(maxlength - len(other.coeff))\n",
    "        result_coeff = self.coeff\n",
    "        for i in range(maxlength):\n",
    "            result_coeff[i] += other.coeff[i]\n",
    "        return Polynomial(result_coeff)"
   ]
  },
  {
   "cell_type": "code",
   "execution_count": 59,
   "metadata": {},
   "outputs": [
    {
     "data": {
      "text/plain": [
       "46"
      ]
     },
     "execution_count": 59,
     "metadata": {},
     "output_type": "execute_result"
    }
   ],
   "source": [
    "p1 = Polynomial([1, 2, 3])\n",
    "p2 = Polynomial([0, 4, 0])\n",
    "(p1 + p2)(3)"
   ]
  },
  {
   "cell_type": "markdown",
   "metadata": {},
   "source": [
    "# Exercise 7.25: Implement subtraction of polynomials"
   ]
  },
  {
   "cell_type": "code",
   "execution_count": 60,
   "metadata": {
    "collapsed": true
   },
   "outputs": [],
   "source": [
    "class Polynomial(object):\n",
    "    def __init__(self, coefficients):\n",
    "        self.coeff = coefficients\n",
    "        \n",
    "    def __call__(self, x):\n",
    "        return sum([c*x**i for i, c in enumerate(self.coeff)])\n",
    "    \n",
    "    def __add__(self, other):\n",
    "        maxlength = max(len(self.coeff), len(other.coeff))\n",
    "        # Extend both lists with zeros to this maxlength\n",
    "        self.coeff += [0]*(maxlength - len(self.coeff))\n",
    "        other.coeff += [0]*(maxlength - len(other.coeff))\n",
    "        result_coeff = self.coeff\n",
    "        for i in range(maxlength):\n",
    "            result_coeff[i] += other.coeff[i]\n",
    "        return Polynomial(result_coeff)\n",
    "    \n",
    "    def __sub__(self, other):\n",
    "        from copy import copy\n",
    "        other_ = copy(other)\n",
    "        other_.coeff = [-c for c in other_.coeff]\n",
    "        return self.__add__(other_)\n",
    "    \n",
    "    def __str__(self):\n",
    "        s = \"\"\n",
    "        for i in range(0, len(self.coeff)):\n",
    "            if self.coeff[i] != 0:\n",
    "                s += \" + %g*x^%d\" % (self.coeff[i], i)\n",
    "        # Fix layout\n",
    "        s = s.replace(\"+ -\", \"- \")\n",
    "        s = s.replace(\"x^0\", \"1\")\n",
    "        s = s.replace(\" 1*\", \" \")\n",
    "        s = s.replace(\"x^1 \", \"x \")\n",
    "        if s[0:3] == \" + \":  # remove initial +\n",
    "            s = s[3:]\n",
    "        if s[0:3] == \" - \":  # fix spaces for initial -\n",
    "            s = \"-\" + s[3:]\n",
    "        return s"
   ]
  },
  {
   "cell_type": "code",
   "execution_count": 61,
   "metadata": {},
   "outputs": [
    {
     "data": {
      "text/plain": [
       "[1, -2, 3]"
      ]
     },
     "execution_count": 61,
     "metadata": {},
     "output_type": "execute_result"
    }
   ],
   "source": [
    "p1 = Polynomial([1, 2, 3])\n",
    "p2 = Polynomial([0, 4, 0])\n",
    "(p1 - p2).coeff"
   ]
  },
  {
   "cell_type": "markdown",
   "metadata": {},
   "source": [
    "# Exercise 7.26: Test the functionality of pretty print of polynomials"
   ]
  },
  {
   "cell_type": "code",
   "execution_count": 62,
   "metadata": {},
   "outputs": [
    {
     "name": "stdout",
     "output_type": "stream",
     "text": [
      "1 - 6*x + 3*x^2\n"
     ]
    }
   ],
   "source": [
    "print(p1 - p2)    # looks fine."
   ]
  },
  {
   "cell_type": "markdown",
   "metadata": {},
   "source": [
    "# Exercise 7.27: Vectorize a class for polynomials"
   ]
  },
  {
   "cell_type": "code",
   "execution_count": 63,
   "metadata": {
    "collapsed": true
   },
   "outputs": [],
   "source": [
    "class Polynomial(object):\n",
    "    import numpy as np\n",
    "    \n",
    "    def __init__(self, coefficients):\n",
    "        self.coeff = np.asarray(coefficients)\n",
    "        \n",
    "    def __call__(self, x):\n",
    "        return self.coeff @ x**np.arange(len(self.coeff))\n",
    "    \n",
    "    def __add__(self, other):\n",
    "        coeffs = sorted([self.coeff, other.coeff], key=len)\n",
    "        r = coeffs[0] + coeffs[1][:len(coeffs[0])]\n",
    "        r = np.append(r, coeffs[1][len(r):])\n",
    "        return Polynomial(r)\n",
    "    \n",
    "    def __sub__(self, other):\n",
    "        from copy import copy\n",
    "        other_ = copy(other)\n",
    "        other_.coeff = [-c for c in other_.coeff]\n",
    "        return self.__add__(other_)\n",
    "    \n",
    "    def __str__(self):\n",
    "        s = \"\"\n",
    "        for i in range(0, len(self.coeff)):\n",
    "            if self.coeff[i] != 0:\n",
    "                s += \" + %g*x^%d\" % (self.coeff[i], i)\n",
    "        # Fix layout\n",
    "        s = s.replace(\"+ -\", \"- \")\n",
    "        s = s.replace(\"x^0\", \"1\")\n",
    "        s = s.replace(\" 1*\", \" \")\n",
    "        s = s.replace(\"x^1 \", \"x \")\n",
    "        if s[0:3] == \" + \":  # remove initial +\n",
    "            s = s[3:]\n",
    "        if s[0:3] == \" - \":  # fix spaces for initial -\n",
    "            s = \"-\" + s[3:]\n",
    "        return s"
   ]
  },
  {
   "cell_type": "code",
   "execution_count": 64,
   "metadata": {},
   "outputs": [
    {
     "data": {
      "text/plain": [
       "array([1, 6, 3, 6, 7])"
      ]
     },
     "execution_count": 64,
     "metadata": {},
     "output_type": "execute_result"
    }
   ],
   "source": [
    "p1 = Polynomial([1, 2, 3, 5, 7])\n",
    "p2 = Polynomial([0, 4, 0, 1])\n",
    "(p1 + p2).coeff"
   ]
  },
  {
   "cell_type": "code",
   "execution_count": 65,
   "metadata": {},
   "outputs": [
    {
     "data": {
      "text/plain": [
       "185"
      ]
     },
     "execution_count": 65,
     "metadata": {},
     "output_type": "execute_result"
    }
   ],
   "source": [
    "(p1 + p2)(2)"
   ]
  },
  {
   "cell_type": "markdown",
   "metadata": {},
   "source": [
    "# Exercise 7.28: Use a dict to hold polynomial coefficients"
   ]
  },
  {
   "cell_type": "code",
   "execution_count": 66,
   "metadata": {
    "collapsed": true
   },
   "outputs": [],
   "source": [
    "class Polynomial:\n",
    "    import numpy as np\n",
    "    \n",
    "    def __init__(self, coefficients):\n",
    "        self.coeff = coefficients\n",
    "        \n",
    "    def __call__(self, x):\n",
    "        return sum(c * x**i for i, c in self.coeff.items())\n",
    "    \n",
    "    def __add__(self, other):\n",
    "        cs = self.coeff.copy()\n",
    "        for c in other.coeff:\n",
    "            if c in cs:\n",
    "                cs[c] += other.coeff[c]\n",
    "            else:\n",
    "                cs[c] = other.coeff[c]\n",
    "        return Polynomial(cs)\n",
    "    \n",
    "    def __sub__(self, other):\n",
    "        from copy import copy\n",
    "        other_ = copy(other)\n",
    "        other_.coeff = {k: -c for k, c in other_.coeff.items()}\n",
    "        return self.__add__(other_)\n",
    "    \n",
    "    def __mul__(self, other):\n",
    "        from collections import defaultdict\n",
    "        cs = defaultdict(float)\n",
    "        for i, c in self.coeff.items():\n",
    "            for ii, cc in other.coeff.items():\n",
    "                cs[i + ii] += c * cc\n",
    "        return Polynomial(dict(cs))\n",
    "    \n",
    "    @staticmethod\n",
    "    def test():\n",
    "        # test __call__\n",
    "        p1 = Polynomial({4: 1, 2: -2, 0: 3})\n",
    "        assert abs(p(2) - 11) < 1e-12\n",
    "        \n",
    "        # test __add__\n",
    "        p2 = Polynomial({0: 1, 3: 1})\n",
    "        p3 = p1 + p2\n",
    "        assert set(p3.coeff.keys()) == {0, 2, 3, 4}\n",
    "        assert np.allclose([p3.coeff[k] for k in sorted(p3.coeff)], [4, -2, 1, 1])\n",
    "        \n",
    "        # test __mul__\n",
    "        p4 = Polynomial({1: -2, 2: 3})\n",
    "        p5 = p2 * p4\n",
    "        assert set(p5.coeff.keys()) == {1, 2, 4, 5}\n",
    "        assert np.allclose([p5.coeff[k] for k in sorted(p5.coeff)], [-2, 3, -2, 3])"
   ]
  },
  {
   "cell_type": "code",
   "execution_count": 67,
   "metadata": {},
   "outputs": [
    {
     "data": {
      "text/plain": [
       "11"
      ]
     },
     "execution_count": 67,
     "metadata": {},
     "output_type": "execute_result"
    }
   ],
   "source": [
    "p = Polynomial({4: 1, 2: -2, 0: 3})\n",
    "p(2)"
   ]
  },
  {
   "cell_type": "code",
   "execution_count": 68,
   "metadata": {},
   "outputs": [
    {
     "data": {
      "text/plain": [
       "{1: -2.0, 2: 3.0, 4: -2.0, 5: 3.0}"
      ]
     },
     "execution_count": 68,
     "metadata": {},
     "output_type": "execute_result"
    }
   ],
   "source": [
    "p1 = Polynomial({0: 1, 3: 1})\n",
    "p2 = Polynomial({1: -2, 2: 3})\n",
    "(p1 * p2).coeff"
   ]
  },
  {
   "cell_type": "code",
   "execution_count": 69,
   "metadata": {
    "collapsed": true
   },
   "outputs": [],
   "source": [
    "Polynomial.test()"
   ]
  },
  {
   "cell_type": "markdown",
   "metadata": {},
   "source": [
    "# Exercise 7.29: Extend class Vec2D to work with lists/tuples"
   ]
  },
  {
   "cell_type": "code",
   "execution_count": 70,
   "metadata": {
    "collapsed": true
   },
   "outputs": [],
   "source": [
    "class Vec2D:\n",
    "    def __init__(self, x, y):\n",
    "        self.x = x\n",
    "        self.y = y\n",
    "    \n",
    "    def __add__(self, other):\n",
    "        if isinstance(other, Vec2D):\n",
    "            return Vec2D(self.x + other.x, self.y + other.y)\n",
    "        else:\n",
    "            return Vec2D(self.x + other[0], self.y + other[1])\n",
    "        \n",
    "    def __radd__(self, other):\n",
    "        return self.__add__(other)\n",
    "    \n",
    "    def __sub__(self, other):\n",
    "        if isinstance(other, Vec2D):\n",
    "            return Vec2D(self.x - other.x, self.y - other.y)\n",
    "        else:\n",
    "            return Vec2D(self.x - other[0], self.y - other[1])\n",
    "        \n",
    "    def __rsub__(self, other):\n",
    "        if isinstance(other, Vec2D):\n",
    "            return Vec2D(other.x - self.x, other.y - self.y)\n",
    "        else:\n",
    "            return Vec2D(other[0] - self.x, other[1] - self.y)\n",
    "    \n",
    "    def __mul__(self, other):\n",
    "        return self.x*other.x + self.y*other.y\n",
    "    \n",
    "    def __abs__(self):\n",
    "        return math.sqrt(self.x**2 + self.y**2)\n",
    "    \n",
    "    def __eq__(self, other):\n",
    "        return self.x == other.x and self.y == other.y\n",
    "    \n",
    "    def __str__(self):\n",
    "        return \"(%g, %g)\" % (self.x, self.y)"
   ]
  },
  {
   "cell_type": "code",
   "execution_count": 71,
   "metadata": {
    "collapsed": true
   },
   "outputs": [],
   "source": [
    "u = Vec2D(-2, 4)\n",
    "v = u + (1, 1.5)\n",
    "w = [-3, 2] - v"
   ]
  },
  {
   "cell_type": "markdown",
   "metadata": {},
   "source": [
    "# Exercise 7.30: Extend class Vec2D to 3D vectors"
   ]
  },
  {
   "cell_type": "code",
   "execution_count": 72,
   "metadata": {
    "collapsed": true
   },
   "outputs": [],
   "source": [
    "class Vec3D:\n",
    "    def __init__(self, x, y, z):\n",
    "        self.x = x\n",
    "        self.y = y\n",
    "        self.z = z\n",
    "    \n",
    "    def __add__(self, other):\n",
    "        return Vec3D(self.x + other.x, self.y + other.y, self.z + other.z)\n",
    "    \n",
    "    def __sub__(self, other):\n",
    "        return Vec3D(self.x - other.x, self.y - other.y, self.z - other.z)\n",
    "    \n",
    "    def __mul__(self, other):\n",
    "        return self.x*other.x + self.y*other.y + self.z*other.z\n",
    "    \n",
    "    def __abs__(self):\n",
    "        return math.sqrt(self.x**2 + self.y**2 + self.z**2)\n",
    "    \n",
    "    def __eq__(self, other):\n",
    "        return self.x == other.x and self.y == other.y and self.z == other.z\n",
    "    \n",
    "    def __str__(self):\n",
    "        return \"(%g, %g, %g)\" % (self.x, self.y, self.z)\n",
    "    \n",
    "    def cross(self, other):\n",
    "        return Vec3D(self.y*other.z - self.z*other.y, self.z*other.x - self.x*other.z, self.x*other.y - self.y*other.x)"
   ]
  },
  {
   "cell_type": "code",
   "execution_count": 73,
   "metadata": {},
   "outputs": [
    {
     "name": "stdout",
     "output_type": "stream",
     "text": [
      "(0, 0, -1)\n"
     ]
    }
   ],
   "source": [
    "print(Vec3D(0, 1, 0).cross(Vec3D(1, 0, 0)))"
   ]
  },
  {
   "cell_type": "markdown",
   "metadata": {},
   "source": [
    "# Exercise 7.31: Use NumPy arrays in class Vec2D"
   ]
  },
  {
   "cell_type": "code",
   "execution_count": 74,
   "metadata": {
    "collapsed": true
   },
   "outputs": [],
   "source": [
    "class Vec:\n",
    "    import math\n",
    "        \n",
    "    def __init__(self, *vec):\n",
    "        self.v = np.asarray(vec).flatten()\n",
    "    \n",
    "    def __add__(self, other):\n",
    "        return Vec(self.v + other.v)\n",
    "    \n",
    "    def __sub__(self, other):\n",
    "        return Vec(self.v - other.v)\n",
    "    \n",
    "    def __mul__(self, other):\n",
    "        return self.v @ other.v\n",
    "    \n",
    "    def __abs__(self):\n",
    "        return math.sqrt(sum(c**2 for c in self.v))\n",
    "    \n",
    "    def __eq__(self, other):\n",
    "        return (self.v == other.v).all()"
   ]
  },
  {
   "cell_type": "code",
   "execution_count": 75,
   "metadata": {},
   "outputs": [
    {
     "data": {
      "text/plain": [
       "14"
      ]
     },
     "execution_count": 75,
     "metadata": {},
     "output_type": "execute_result"
    }
   ],
   "source": [
    "v1 = v2 = Vec([1, 2, 3])\n",
    "v1 * v2"
   ]
  },
  {
   "cell_type": "markdown",
   "metadata": {},
   "source": [
    "# Exercise 7.32: Impreciseness of interval arithmetics"
   ]
  },
  {
   "cell_type": "code",
   "execution_count": 76,
   "metadata": {
    "collapsed": true
   },
   "outputs": [],
   "source": [
    "class Interval(object):\n",
    "    def __init__(self, lower, upper):\n",
    "        self.lo = float(lower)\n",
    "        self.up = float(upper)\n",
    "    \n",
    "    def __add__(self, other):\n",
    "        if not isinstance(other, Interval):\n",
    "            other = Interval(other, other)\n",
    "        a, b, c, d = self.lo, self.up, other.lo, other.up\n",
    "        return Interval(a + c, b + d)\n",
    "    \n",
    "    def __radd__(self, other):\n",
    "        return self.__add__(other)\n",
    "    \n",
    "    def __sub__(self, other):\n",
    "        a, b, c, d = self.lo, self.up, other.lo, other.up\n",
    "        return Interval(a - d, b - c)\n",
    "    \n",
    "    def __mul__(self, other):\n",
    "        a, b, c, d = self.lo, self.up, other.lo, other.up\n",
    "        return Interval(min(a*c, a*d, b*c, b*d), max(a*c, a*d, b*c, b*d))\n",
    "    \n",
    "    def __truediv__(self, other):\n",
    "        a, b, c, d = self.lo, self.up, other.lo, other.up\n",
    "        if c * d <= 0: \n",
    "            raise ValueError(\"Interval %s cannot be denominator because it contains zero\" % other)\n",
    "        return Interval(min(a/c, a/d, b/c, b/d), max(a/c, a/d, b/c, b/d))\n",
    "    \n",
    "    def __str__(self):\n",
    "        return \"[%g, %g]\" % (self.lo, self.up)"
   ]
  },
  {
   "cell_type": "code",
   "execution_count": 77,
   "metadata": {},
   "outputs": [
    {
     "name": "stdout",
     "output_type": "stream",
     "text": [
      "[0.333333, 1]\n"
     ]
    }
   ],
   "source": [
    "x = Interval(1, 2)\n",
    "print(x / (1 + x))"
   ]
  },
  {
   "cell_type": "markdown",
   "metadata": {},
   "source": [
    "# Exercise 7.33: Make classes for students and courses"
   ]
  },
  {
   "cell_type": "code",
   "execution_count": 78,
   "metadata": {
    "collapsed": true
   },
   "outputs": [],
   "source": [
    "class Student:\n",
    "    def __init__(self, name, courses):\n",
    "        self.__dict__.update({k: v for k, v in locals().items() if k != 'self'})\n",
    "        \n",
    "    def __str__(self):\n",
    "        s = f\"Name: {self.name}\\n\"\n",
    "        for c in self.courses:\n",
    "            s += str(c) + \"\\n\"\n",
    "        return s\n",
    "\n",
    "class Course:\n",
    "    def __init__(self, title, semester, credits, grade):\n",
    "        self.__dict__.update({k: v for k, v in locals().items() if k != 'self'})\n",
    "        \n",
    "    def __str__(self):\n",
    "        return f\"{self.title:30} {self.semester:11} {self.credits:2} {self.grade}\""
   ]
  },
  {
   "cell_type": "code",
   "execution_count": 79,
   "metadata": {},
   "outputs": [
    {
     "name": "stdout",
     "output_type": "stream",
     "text": [
      "Name: John Doe\n",
      "Astronomy                      2003 fall   10 A\n",
      "Quantum Mechanics II           2005 spring  5 C\n",
      "\n"
     ]
    }
   ],
   "source": [
    "print(Student(\"John Doe\", [Course(\"Astronomy\", \"2003 fall\", 10, \"A\"), \n",
    "                           Course(\"Quantum Mechanics II\", \"2005 spring\", 5, \"C\")]))"
   ]
  },
  {
   "cell_type": "markdown",
   "metadata": {},
   "source": [
    "# Exercise 7.34: Find local and global extrema of a function"
   ]
  },
  {
   "cell_type": "code",
   "execution_count": 80,
   "metadata": {
    "collapsed": true
   },
   "outputs": [],
   "source": [
    "class MinMax:\n",
    "    import numpy as np\n",
    "    \n",
    "    def __init__(self, f, a, b, n):\n",
    "        self.__dict__.update({k: v for k, v in locals().items() if k != 'self'})\n",
    "        self._find_extrema()\n",
    "        \n",
    "    def _find_extrema(self):\n",
    "        f, a, b = self.f, self.a, self.b\n",
    "        \n",
    "        self.Pmin, self.Pmax, self.Fmin, self.Fmax = Pmin, Pmax, Fmin, Fmax = [], [], [], []\n",
    "        \n",
    "        x = np.linspace(a, b, self.n)\n",
    "        for i, xi in enumerate(x[1:-1]):\n",
    "            if f(x[i]) < f(xi) > f(x[i + 2]):\n",
    "                Pmax.append(xi)\n",
    "                Fmax.append(f(xi))\n",
    "            elif f(x[i]) > f(xi) < f(x[i + 2]):\n",
    "                Pmin.append(xi)\n",
    "                Fmin.append(f(xi))\n",
    "                \n",
    "        if f(a) > f(x[1]):\n",
    "            Pmax.insert(1, a)\n",
    "            Fmax.insert(1, f(a))\n",
    "        elif f(a) < f(x[1]):\n",
    "            Pmin.insert(1, a)\n",
    "            Fmin.insert(1, f(a))\n",
    "        if f(b) > f(x[-2]):\n",
    "            Pmax.append(b)\n",
    "            Fmax.append(f(b))\n",
    "        elif f(b) < f(x[-2]):\n",
    "            Pmin.append(b)\n",
    "            Fmin.append(f(b))\n",
    "                    \n",
    "    def _refine_extrema(self):\n",
    "        f, a, b, n = self.f, self.a, self.b, self.n\n",
    "        Pmin, Pmax, Fmin, Fmax = self.Pmin, self.Pmax, self.Fmin, self.Fmax\n",
    "        for i, p in enumerate(Pmin):\n",
    "            if p != a and p != b:\n",
    "                df = Derivative(f, h= (b - a) / n**2 / 1000)\n",
    "                xmin, dfmin = p, df(p)\n",
    "                for x in np.linspace(p - (b - a)/n, p + (b - a)/n, n):    # just reuse `n` as precision basis\n",
    "                    if df(x) < dfmin:\n",
    "                        xmin, dfmin = x, df(x)\n",
    "                Pmin[i] = xmin\n",
    "                Fmin[i] = f(xmin)\n",
    "                \n",
    "        for i, p in enumerate(Pmax):\n",
    "            if p != a and p != b:\n",
    "                df = Derivative(f, h= (b - a) / n**2 / 1000)\n",
    "                xmax, dfmin = p, df(p)\n",
    "                for x in np.linspace(p - (b - a)/n, p + (b - a)/n, n):    # just reuse `n` as precision basis\n",
    "                    if df(x) < dfmin:\n",
    "                        xmax, dfmin = x, df(x)\n",
    "                Pmax[i] = xmax\n",
    "                Fmax[i] = f(xmax)\n",
    "                \n",
    "    \n",
    "    def get_global_minimum(self):\n",
    "        return min(self.get_all_minima(), key=lambda t: t[1])\n",
    "            \n",
    "    def get_global_maximum(self):\n",
    "        return max(self.get_all_maxima(), key=lambda t: t[1])\n",
    "    \n",
    "    def get_all_minima(self):\n",
    "        return [(x, y) for x, y in zip(self.Pmin, self.Fmin)]\n",
    "    \n",
    "    def get_all_maxima(self):\n",
    "        return [(x, y) for x, y in zip(self.Pmax, self.Fmax)]\n",
    "    \n",
    "    def __str__(self):\n",
    "        from textwrap import dedent as dd\n",
    "        return dd(f\"\"\"\n",
    "        All minima: {', '.join(f'{p:.4f}' for p, v in self.get_all_minima())}\n",
    "        All maxima: {', '.join(f'{p:.4f}' for p, v in self.get_all_maxima())}\n",
    "        Global minimum: {self.get_global_minimum()[0]}\n",
    "        Global maximum: {self.get_global_maximum()[0]}\n",
    "        \"\"\")"
   ]
  },
  {
   "cell_type": "code",
   "execution_count": 81,
   "metadata": {},
   "outputs": [
    {
     "name": "stdout",
     "output_type": "stream",
     "text": [
      "\n",
      "All minima: 0.8056, 0.0000, 1.7736, 2.7632, 3.7584\n",
      "All maxima: 0.3616, 1.2840, 2.2672, 3.2608, 4.0000\n",
      "Global minimum: 3.7584\n",
      "Global maximum: 3.2608\n",
      "\n",
      "\n",
      "All minima: 0.8048, 0.0000, 1.7728, 2.7624, 3.7576\n",
      "All maxima: 0.3624, 1.2848, 2.2680, 3.2616, 4.0000\n",
      "Global minimum: 3.7576001599680064\n",
      "Global maximum: 3.2615998400319937\n",
      "\n"
     ]
    }
   ],
   "source": [
    "from math import exp, sin, pi\n",
    "mm = MinMax(f=lambda x: x**2 * exp(-0.2 * x) * sin(2 * pi * x), a=0, b=4, n=5001)\n",
    "print(mm)\n",
    "mm._refine_extrema()\n",
    "print(mm)"
   ]
  },
  {
   "cell_type": "markdown",
   "metadata": {},
   "source": [
    "# Exercise 7.35: Find the optimal production for a company"
   ]
  },
  {
   "cell_type": "code",
   "execution_count": 82,
   "metadata": {
    "collapsed": true
   },
   "outputs": [],
   "source": [
    "f = lambda x, y: 45*x + 14*y\n",
    "fa = lambda x, alpha: alpha/14 - 45*x/14"
   ]
  },
  {
   "cell_type": "code",
   "execution_count": 83,
   "metadata": {},
   "outputs": [
    {
     "data": {
      "image/png": "[encoded data removed]",
      "text/plain": [
       "<matplotlib.figure.Figure at 0x1517b92518>"
      ]
     },
     "metadata": {},
     "output_type": "display_data"
    }
   ],
   "source": [
    "import matplotlib.pyplot as plt\n",
    "from numpy import linspace\n",
    "x = linspace(0, 20, 1000)\n",
    "plt.figure()\n",
    "plt.fill_between(x, 100 - 2*x, alpha=0.3)\n",
    "plt.fill_between(x, 80/3 - 5/3*x, alpha=0.3)\n",
    "plt.fill_between(x, 150/4, alpha=0.3)\n",
    "for alpha in [1, 100, 1000, 500, 700]:\n",
    "    plt.plot(x, fa(x, alpha), label=f\"alpha = {alpha}\")\n",
    "plt.ylabel(\"y\")\n",
    "plt.xlabel(\"x\")\n",
    "plt.legend()\n",
    "plt.show()"
   ]
  },
  {
   "cell_type": "code",
   "execution_count": 84,
   "metadata": {},
   "outputs": [
    {
     "data": {
      "text/plain": [
       "720"
      ]
     },
     "execution_count": 84,
     "metadata": {},
     "output_type": "execute_result"
    }
   ],
   "source": [
    "f(x=16, y=0)    # optimal solution."
   ]
  },
  {
   "cell_type": "code",
   "execution_count": 85,
   "metadata": {},
   "outputs": [],
   "source": [
    "import sympy as sp\n",
    "x, y = sp.symbols('x y')\n",
    "\n",
    "conditions = [\n",
    "    \"2*x +   y <= 100\",\n",
    "    \"5*x + 3*y <=  80\",\n",
    "    \"      4*y <= 150\",\n",
    "    \"  x       >=   0\",\n",
    "    \"        y >=   0\"\n",
    "]\n",
    "\n",
    "\n",
    "# Compute the intersections\n",
    "intersections = []\n",
    "eqs = [\n",
    "    sp.Eq(eval(a), eval(b)) for a, b in \n",
    "        [e.split(\"=\") for e in \n",
    "            [c.replace(\"<=\", \"=\").replace(\">=\", \"=\") for c in conditions]\n",
    "]]\n",
    "\n",
    "for e1 in eqs:\n",
    "    for e2 in eqs:\n",
    "        i = sp.solve([e1, e2])\n",
    "        if len(i) > 1 and i not in intersections:\n",
    "            intersections.append(i)\n",
    "        \n",
    "        \n",
    "# Check conditions on intersections\n",
    "corners = []\n",
    "\n",
    "for i in intersections:\n",
    "    corners.append(tuple(i.values()))\n",
    "    x, y = sp.symbols('x y')\n",
    "    x, y = i[x], i[y]\n",
    "    for c in conditions:\n",
    "        if not eval(c):\n",
    "            del corners[-1]\n",
    "            break"
   ]
  },
  {
   "cell_type": "code",
   "execution_count": 86,
   "metadata": {},
   "outputs": [
    {
     "data": {
      "text/plain": [
       "[(0, 80/3), (16, 0), (0, 0)]"
      ]
     },
     "execution_count": 86,
     "metadata": {},
     "output_type": "execute_result"
    }
   ],
   "source": [
    "corners"
   ]
  },
  {
   "cell_type": "code",
   "execution_count": 87,
   "metadata": {},
   "outputs": [
    {
     "name": "stdout",
     "output_type": "stream",
     "text": [
      "16 0\n"
     ]
    }
   ],
   "source": [
    "f = lambda c: 45*c[0] + 14*c[1]\n",
    "x, y = max(corners, key=f)\n",
    "print(x, y)    # yay!"
   ]
  }
 ],
 "metadata": {
  "kernelspec": {
   "display_name": "Python 3",
   "language": "python",
   "name": "python3"
  },
  "language_info": {
   "codemirror_mode": {
    "name": "ipython",
    "version": 3
   },
   "file_extension": ".py",
   "mimetype": "text/x-python",
   "name": "python",
   "nbconvert_exporter": "python",
   "pygments_lexer": "ipython3",
   "version": "3.6.2"
  }
 },
 "nbformat": 4,
 "nbformat_minor": 2
}
