{
 "cells": [
  {
   "cell_type": "markdown",
   "metadata": {},
   "source": [
    "# Exercise 3.1: Implement a simple mathematical function"
   ]
  },
  {
   "cell_type": "code",
   "execution_count": 1,
   "metadata": {
    "collapsed": true
   },
   "outputs": [],
   "source": [
    "from math import exp, sin, pi\n",
    "\n",
    "def g(t):\n",
    "    return exp(-t) * sin(pi * t)"
   ]
  },
  {
   "cell_type": "code",
   "execution_count": 2,
   "metadata": {},
   "outputs": [
    {
     "name": "stdout",
     "output_type": "stream",
     "text": [
      "0.0 4.505223801027239e-17\n"
     ]
    }
   ],
   "source": [
    "print(g(0), g(1))"
   ]
  },
  {
   "cell_type": "markdown",
   "metadata": {},
   "source": [
    "# Exercise 3.2: Implement a simple mathematical function with a parameter"
   ]
  },
  {
   "cell_type": "code",
   "execution_count": 3,
   "metadata": {
    "collapsed": true
   },
   "outputs": [],
   "source": [
    "def h(t, a=1):\n",
    "    return exp(-a * t) * sin(pi * t)"
   ]
  },
  {
   "cell_type": "code",
   "execution_count": 5,
   "metadata": {},
   "outputs": [
    {
     "name": "stdout",
     "output_type": "stream",
     "text": [
      "0.0 5.559887866514173e-21\n"
     ]
    }
   ],
   "source": [
    "print(h(0, 10), h(1, 10))"
   ]
  },
  {
   "cell_type": "markdown",
   "metadata": {},
   "source": [
    "# Exercise 3.3: Explain how a program works"
   ]
  },
  {
   "cell_type": "code",
   "execution_count": 7,
   "metadata": {},
   "outputs": [
    {
     "name": "stdout",
     "output_type": "stream",
     "text": [
      "5\n",
      "27\n"
     ]
    }
   ],
   "source": [
    "def add(A, B):\n",
    "    C = A + B\n",
    "    return C\n",
    "\n",
    "a = 3\n",
    "b = 2\n",
    "print(add(a, b))          # 5\n",
    "print(add(2*a, b+1)*3)    # 27"
   ]
  },
  {
   "cell_type": "markdown",
   "metadata": {},
   "source": [
    "# Exercise 3.4: Write a Fahrenheit-Celsius conversion function"
   ]
  },
  {
   "cell_type": "code",
   "execution_count": 8,
   "metadata": {},
   "outputs": [
    {
     "name": "stdout",
     "output_type": "stream",
     "text": [
      "5 5.0 5.0\n"
     ]
    }
   ],
   "source": [
    "def C(F):\n",
    "    return 5 / 9 * (F - 32)\n",
    "\n",
    "def F(C):\n",
    "    return 9/5*C + 32\n",
    "\n",
    "a = 5\n",
    "print(a, C(F(a)), F(C(a)))"
   ]
  },
  {
   "cell_type": "markdown",
   "metadata": {},
   "source": [
    "# Exercise 3.5: Write a test function for Exercise 3.4"
   ]
  },
  {
   "cell_type": "code",
   "execution_count": 14,
   "metadata": {},
   "outputs": [],
   "source": [
    "def test_F_C():\n",
    "    eps = 1e-14\n",
    "    a = 12.34\n",
    "    assert abs(C(F(a)) - a) < eps, f\"a = {a}, C(F(a)) = {C(F(a))}\"\n",
    "    assert abs(F(C(a)) - a) < eps, f\"a = {a}, F(C(a)) = {F(C(a))}\"\n",
    "\n",
    "test_F_C()"
   ]
  },
  {
   "cell_type": "markdown",
   "metadata": {},
   "source": [
    "# Exercise 3.6: Given a test function, write the function"
   ]
  },
  {
   "cell_type": "code",
   "execution_count": 18,
   "metadata": {},
   "outputs": [],
   "source": [
    "def test_double():\n",
    "    assert double(2) == 4\n",
    "    assert abs(double(0.1) - 0.2) < 1E-15\n",
    "    assert double([1, 2]) == [1, 2, 1, 2]\n",
    "    assert double((1, 2)) == (1, 2, 1, 2)\n",
    "    assert double(3+4j) == 6+8j\n",
    "    assert double('hello') == 'hellohello'\n",
    "    \n",
    "def double(x):\n",
    "    return 2*x\n",
    "\n",
    "test_double()"
   ]
  },
  {
   "cell_type": "markdown",
   "metadata": {},
   "source": [
    "# Exercise 3.7: Evaluate a sum and write a test function"
   ]
  },
  {
   "cell_type": "code",
   "execution_count": 23,
   "metadata": {
    "collapsed": true
   },
   "outputs": [],
   "source": [
    "def sum_1k(M):\n",
    "    return sum(1 / k for k in range(1, M+1))"
   ]
  },
  {
   "cell_type": "code",
   "execution_count": 25,
   "metadata": {},
   "outputs": [],
   "source": [
    "def test_sum_1k():\n",
    "    M = 3\n",
    "    exact = 1 + 1/2 + 1/3\n",
    "    result = sum_1k(M)\n",
    "    error = abs(result - exact)\n",
    "    success = error < 1e-15\n",
    "    assert success, f\"sum_1k({M}): result={result}, exact={exact}, error={error}\"\n",
    "    \n",
    "test_sum_1k()"
   ]
  }
 ],
 "metadata": {
  "kernelspec": {
   "display_name": "Python 3",
   "language": "python",
   "name": "python3"
  },
  "language_info": {
   "codemirror_mode": {
    "name": "ipython",
    "version": 3
   },
   "file_extension": ".py",
   "mimetype": "text/x-python",
   "name": "python",
   "nbconvert_exporter": "python",
   "pygments_lexer": "ipython3",
   "version": "3.6.2"
  }
 },
 "nbformat": 4,
 "nbformat_minor": 2
}
