{
 "cells": [
  {
   "cell_type": "markdown",
   "metadata": {},
   "source": [
    "# Exercise 1.1: Compute 1+1"
   ]
  },
  {
   "cell_type": "code",
   "execution_count": 1,
   "metadata": {},
   "outputs": [
    {
     "name": "stdout",
     "output_type": "stream",
     "text": [
      "2\n"
     ]
    }
   ],
   "source": [
    "a = 1 + 1\n",
    "print(a)"
   ]
  },
  {
   "cell_type": "markdown",
   "metadata": {},
   "source": [
    "# Exercise 1.2: Write a Hello World program"
   ]
  },
  {
   "cell_type": "code",
   "execution_count": 2,
   "metadata": {},
   "outputs": [
    {
     "name": "stdout",
     "output_type": "stream",
     "text": [
      "Hello, World!\n"
     ]
    }
   ],
   "source": [
    "print(\"Hello, World!\")"
   ]
  },
  {
   "cell_type": "markdown",
   "metadata": {},
   "source": [
    "# Exercise 1.3: Derive and compute a formula"
   ]
  },
  {
   "cell_type": "code",
   "execution_count": 3,
   "metadata": {},
   "outputs": [
    {
     "name": "stdout",
     "output_type": "stream",
     "text": [
      "10^9 seconds are 31.7 years!\n"
     ]
    }
   ],
   "source": [
    "from sympy import Symbol\n",
    "\n",
    "t = Symbol('t')    # Symbol: time [s]\n",
    "\n",
    "t = t / 60 / 60 / 24 / 365.24225    # Unit conversion: t: [s] -> [a]\n",
    "\n",
    "# Result\n",
    "result = t.subs('t', 1e9)\n",
    "print(f\"10^9 seconds are {result:.3g} years!\")"
   ]
  },
  {
   "cell_type": "markdown",
   "metadata": {},
   "source": [
    "# Exercise 1.4: Convert from meters to British length units"
   ]
  },
  {
   "cell_type": "code",
   "execution_count": 4,
   "metadata": {},
   "outputs": [
    {
     "name": "stdout",
     "output_type": "stream",
     "text": [
      "\n",
      "640 m in British units are:\n",
      "25196.9 inches or\n",
      "2099.74 feet or\n",
      "699.913 yards or\n",
      "0.397678 miles \n",
      "\n"
     ]
    }
   ],
   "source": [
    "x = 640    # length [m]\n",
    "\n",
    "print(f\"\"\"\n",
    "{x} m in British units are:\n",
    "{x * 100 / 2.54 :.6g} inches or\n",
    "{x * 100 / 2.54 / 12 :.6g} feet or\n",
    "{x * 100 / 2.54 / 12 / 3 :.6g} yards or\n",
    "{x * 100 / 2.54 / 12 / 3 / 1760 :.6g} miles \n",
    "\"\"\")"
   ]
  },
  {
   "cell_type": "markdown",
   "metadata": {},
   "source": [
    "# Exercise 1.5: Compute the mass of various substances"
   ]
  },
  {
   "cell_type": "code",
   "execution_count": 5,
   "metadata": {},
   "outputs": [
    {
     "name": "stdout",
     "output_type": "stream",
     "text": [
      "One liter of air has a mass of 0.00120 kg\n",
      "One liter of gasoline has a mass of 0.670 kg\n",
      "...\n",
      "One liter of protons has a mass of 2.30e+14 kg\n"
     ]
    }
   ],
   "source": [
    "from sympy import Symbol, solve\n",
    "\n",
    "# Constants and symbols\n",
    "V = 1                  # volume [dm^3]\n",
    "rho = Symbol('rho')    # density [g / cm^3]\n",
    "m = Symbol('m')        # mass [kg]\n",
    "\n",
    "# Unit conversions:\n",
    "V = V * 1000        # V: [dm^3 -> m^3]\n",
    "rho = rho / 1000    # rho: [g / cm^3 -> kg / m^3]\n",
    "\n",
    "e = m/V - rho\n",
    "m = solve(e, m)[0]\n",
    "\n",
    "print(f\"One liter of air has a mass of {m.subs('rho', 0.0012):.3g} kg\")\n",
    "print(f\"One liter of gasoline has a mass of {m.subs('rho', 0.67):.3g} kg\")\n",
    "print(\"...\")\n",
    "print(f\"One liter of protons has a mass of {m.subs('rho', 2.3e14):.3g} kg\")"
   ]
  },
  {
   "cell_type": "markdown",
   "metadata": {},
   "source": [
    "# Exercise 1.6: Compute the growth of money in a bank"
   ]
  },
  {
   "cell_type": "code",
   "execution_count": 6,
   "metadata": {},
   "outputs": [
    {
     "name": "stdout",
     "output_type": "stream",
     "text": [
      "The initial 1000€ will have turned into 1157.63€ after 3 years.\n"
     ]
    }
   ],
   "source": [
    "# Constants\n",
    "A = 1000    # initial amount [€]\n",
    "p = 5.0     # interest rate [% / a]\n",
    "n = 3       # years\n",
    "\n",
    "result = A * (1 + p/100)**n\n",
    "print(f\"The initial {A}€ will have turned into {result:.6g}€ after {n} years.\")"
   ]
  },
  {
   "cell_type": "markdown",
   "metadata": {},
   "source": [
    "# Exercise 1.7: Find error(s) in a program"
   ]
  },
  {
   "cell_type": "code",
   "execution_count": 7,
   "metadata": {},
   "outputs": [
    {
     "name": "stdout",
     "output_type": "stream",
     "text": [
      "sin(1)=0.841471\n"
     ]
    }
   ],
   "source": [
    "# Faulty Program:\n",
    "\"\"\"\n",
    "x=1; print(\"sin(%g)=%g\" % (x, sin(x)))\n",
    "\"\"\"\n",
    "\n",
    "# Correct Program:\n",
    "from math import sin\n",
    "x=1; print(\"sin(%g)=%g\" % (x, sin(x)))"
   ]
  },
  {
   "cell_type": "markdown",
   "metadata": {},
   "source": [
    "# Exercise 1.8: Type in program text"
   ]
  },
  {
   "cell_type": "code",
   "execution_count": 8,
   "metadata": {},
   "outputs": [
    {
     "name": "stdout",
     "output_type": "stream",
     "text": [
      "The area of the parallelogram is 10.000\n",
      "The area of the square is 4\n",
      "The area of the circle is 7.069\n",
      "The volume of the cone is 11.781\n"
     ]
    }
   ],
   "source": [
    "from math import pi\n",
    "\n",
    "h = 5.0    # height\n",
    "b = 2.0    # base\n",
    "r = 1.5    # radius\n",
    "\n",
    "area_parallelogram = h * b\n",
    "print(\"The area of the parallelogram is %.3f\" % area_parallelogram)\n",
    "\n",
    "area_square = b ** 2\n",
    "print(\"The area of the square is %g\" % area_square)\n",
    "\n",
    "area_circle = pi * r**2\n",
    "print(\"The area of the circle is %.3f\" % area_circle)\n",
    "\n",
    "volume_cone = 1.0 / 3 * pi * r**2 * h\n",
    "print(\"The volume of the cone is %.3f\" % volume_cone)"
   ]
  },
  {
   "cell_type": "markdown",
   "metadata": {},
   "source": [
    "# Exercise 1.9: Type in programs and debug them"
   ]
  },
  {
   "cell_type": "code",
   "execution_count": 9,
   "metadata": {},
   "outputs": [
    {
     "name": "stdout",
     "output_type": "stream",
     "text": [
      "1.0\n"
     ]
    }
   ],
   "source": [
    "from math import sin, cos, pi\n",
    "x = pi/4\n",
    "val = sin(x)**2 + cos(x)**2\n",
    "print(val)"
   ]
  },
  {
   "cell_type": "code",
   "execution_count": 10,
   "metadata": {},
   "outputs": [
    {
     "name": "stdout",
     "output_type": "stream",
     "text": [
      "4.0\n"
     ]
    }
   ],
   "source": [
    "v0 = 3\n",
    "t=1\n",
    "a = 2\n",
    "s = v0*t + (0.5 * a * t**2)\n",
    "print(s)"
   ]
  },
  {
   "cell_type": "code",
   "execution_count": 11,
   "metadata": {},
   "outputs": [
    {
     "name": "stdout",
     "output_type": "stream",
     "text": [
      "First equation:  73.96 = 73.96\n",
      "Second equation: 4 = 4\n"
     ]
    }
   ],
   "source": [
    "a = 3.3; b = 5.3\n",
    "a2 = a**2\n",
    "b2 = b**2\n",
    "\n",
    "eq1_sum = a2 + 2*a*b + b2\n",
    "eq2_sum = a2 - 2*a*b + b2\n",
    "eq1_pow = (a + b)**2\n",
    "eq2_pow = (a - b)**2\n",
    "print(\"First equation:  %g = %g\" % (eq1_sum, eq1_pow))\n",
    "print(\"Second equation: %g = %g\" % (eq2_pow, eq2_pow))"
   ]
  },
  {
   "cell_type": "markdown",
   "metadata": {},
   "source": [
    "# Exercise 1.10: Evaluate a Gaussian function"
   ]
  },
  {
   "cell_type": "code",
   "execution_count": 12,
   "metadata": {},
   "outputs": [
    {
     "name": "stdout",
     "output_type": "stream",
     "text": [
      "0.17603266338214976\n"
     ]
    }
   ],
   "source": [
    "from math import sqrt, pi, exp\n",
    "\n",
    "m = 0    # mean\n",
    "s = 2    # standard deviation\n",
    "x = 1    # independent variable\n",
    "\n",
    "f = 1 / sqrt(2 * pi) / s * exp(-1 / 2 * ((x - m) / s)**2)\n",
    "print(f)"
   ]
  },
  {
   "cell_type": "markdown",
   "metadata": {},
   "source": [
    "# Exercise 1.11: Compute the air resistance on a football"
   ]
  },
  {
   "cell_type": "code",
   "execution_count": 13,
   "metadata": {},
   "outputs": [
    {
     "name": "stdout",
     "output_type": "stream",
     "text": [
      "\n",
      "Force of gravity on the ball: 4.2 N\n",
      "Drag Force on the ball (V = 120 km / h): 10.1 N\n",
      "Drag Force on the ball (V = 30 km / h): 0.6 N\n",
      "\n"
     ]
    }
   ],
   "source": [
    "from math import pi\n",
    "\n",
    "# Constants\n",
    "CD = 0.4     # drag coefficient [1]\n",
    "rho = 1.2    # air density [kg / m^3]\n",
    "a = 11e-2    # radius of the ball [m]\n",
    "m = 0.43     # mass of the ball [kg]\n",
    "g = 9.81     # acceleration of gravity [m / s^2]\n",
    "V1 = 120     # (1) velocity of the ball [km / h]\n",
    "V2 = 30      # (2) velocity of the ball [km / h]\n",
    "\n",
    "# Unit conversions\n",
    "V1_ = V1 * 1000 / 60 / 60    # V1: [km / h] -> [m / s]\n",
    "V2_ = V2 * 1000 / 60 / 60    # V2: [km / h] -> [m / s]\n",
    "\n",
    "# Calculations\n",
    "A = pi * a**2    # area of the ball [m^2]\n",
    "Fg = m * g       # force of gravity [N]\n",
    "Fd1 = 1 / 2 * CD * rho * A * V1_**2    # drag force on the ball (with V1)\n",
    "Fd2 = 1 / 2 * CD * rho * A * V2_**2    # drag force on the ball (with V2)\n",
    "\n",
    "print(f\"\"\"\n",
    "Force of gravity on the ball: {Fg:.1f} N\n",
    "Drag Force on the ball (V = {V1} km / h): {Fd1:.1f} N\n",
    "Drag Force on the ball (V = {V2} km / h): {Fd2:.1f} N\n",
    "\"\"\")"
   ]
  },
  {
   "cell_type": "markdown",
   "metadata": {},
   "source": [
    "# Exercise 1.12: How to cook the perfect egg"
   ]
  },
  {
   "cell_type": "code",
   "execution_count": 14,
   "metadata": {},
   "outputs": [
    {
     "name": "stdout",
     "output_type": "stream",
     "text": [
      "\n",
      "Time to boil the egg from the fridge: 397 s\n",
      "Time to boil the egg at room temperature: 315 s\n",
      "\n"
     ]
    }
   ],
   "source": [
    "from sympy import Symbol, log, lambdify\n",
    "from math import pi\n",
    "from numpy import *\n",
    "\n",
    "# Constants and symbols\n",
    "Ty = 70              # maximum temperature of the yolk [°C]\n",
    "Tw = 100             # temperature of the boiling water [°C]\n",
    "M = 67e-3            # mass of the egg [kg]\n",
    "rho = 1.038e3        # density of the egg [kg / m^3]\n",
    "c = 3.7e3            # specific heat capacity of the egg [J / kg / K]\n",
    "K = 0.54             # thermal conductivity [W / K]\n",
    "T0 = Symbol('T0')    # initial temperature of the egg [°C] (Symbol)\n",
    "T01 = 4              # initial temperature of the egg when taken from the fridge [°C]\n",
    "T02 = 20             # initial temperature of the egg at room temperature [°C]\n",
    "\n",
    "t = M**(2 / 3) * c * rho**(1 / 3) / K / pi**2 / (4 * pi / 3)**(2 / 3) \\\n",
    "    * log(0.76 * (T0 - Tw) / (Ty - Tw))    # time to boil the egg (t(T0))\n",
    "t = lambdify((T0), t, dummify = False)\n",
    "\n",
    "t1 = t(T0 = T01)    # time to boil the egg taken from the fridge\n",
    "t2 = t(T0 = T02)    # time to boil the egg at room temperature\n",
    "\n",
    "print(f\"\"\"\n",
    "Time to boil the egg from the fridge: {t1:.3g} s\n",
    "Time to boil the egg at room temperature: {t2:.3g} s\n",
    "\"\"\")"
   ]
  },
  {
   "cell_type": "markdown",
   "metadata": {},
   "source": [
    "# Exercise 1.13: Derive the trajectory of a ball"
   ]
  },
  {
   "cell_type": "markdown",
   "metadata": {},
   "source": [
    "Prerequisites:\n",
    "$$\n",
    "\\begin{align*}\n",
    "a_x &= \\frac{d^2x}{dt^2}\\\\\n",
    "a_y &= \\frac{d^2y}{dt^2}\\\\\n",
    "\\\\\n",
    "\\frac{d}{dt}x(0) &= v_0 \\cos\\theta\\\\\n",
    "\\frac{d}{dt}y(0) &= v_0 \\sin\\theta\\\\\n",
    "x(0) &= 0\\\\\n",
    "y(0) &= y_0\\\\~\\\\\n",
    "\\end{align*}\n",
    "$$\n",
    "Calculations for $x(t)$ and $y(t)$:\n",
    "$$\n",
    "\\begin{align*}\n",
    "\\int\\int a_x &= \\frac{1}{2} a_x t^2 + v_0 \\cos\\theta \\dot~ t + x_0\\\\\n",
    "&= v_0 \\cos\\theta \\dot~ t\\\\\n",
    "&= x(t)\\\\\n",
    "\\int\\int a_y &= \\frac{1}{2} a_y t^2 + v_0 \\sin\\theta \\dot~ t + y_0\\\\\n",
    "&= \\frac{-1}{2} g t^2 + v_0 \\sin\\theta \\dot~ t + y_0\\\\\n",
    "&= y(t)\\\\~\\\\\n",
    "\\end{align*}\n",
    "$$\n",
    "$\\theta = \\frac{\\pi}{2}$:\n",
    "$$\n",
    "\\begin{align*}\n",
    "x(t) &= v_0 \\cos\\theta \\dot~ t\\\\\n",
    "&= 0\\\\\n",
    "y(t) &= \\frac{-1}{2} g t^2 + v_0 \\sin\\theta \\dot~ t + y_0\\\\\n",
    "&= \\frac{-1}{2} g t^2 + v_0 t + y_0\\\\~\\\\\n",
    "\\end{align*}\n",
    "$$\n",
    "Elimination of $t$:\n",
    "$$\n",
    "\\begin{align*}\n",
    "&~ &x(t) &= v_0 \\cos\\theta \\dot~ t\\\\\n",
    "&\\Leftrightarrow &t(x) &= \\frac{x}{v_0 \\cos\\theta}\\\\\n",
    "&\\Rightarrow &y(x) &= \\frac{-1}{2} g \\frac{x^2}{v_0^2 \\cos^2\\theta} + v_0 \\sin\\theta \\frac{x}{v_0 \\cos\\theta} + y_0\\\\\n",
    "&&&= x \\tan{\\theta} - \\frac{1}{2 v_0^2} \\frac{g x^2}{\\cos^2{\\theta}} + y_0\n",
    "\\end{align*}\n",
    "$$"
   ]
  },
  {
   "cell_type": "markdown",
   "metadata": {},
   "source": [
    "# Exercise 1.14: Find errors in the coding of formulas"
   ]
  },
  {
   "cell_type": "markdown",
   "metadata": {},
   "source": [
    "Correct formula:\n",
    "$$\n",
    "F = \\frac{9}{5}C + 32\n",
    "$$"
   ]
  },
  {
   "cell_type": "code",
   "execution_count": 15,
   "metadata": {},
   "outputs": [
    {
     "name": "stdout",
     "output_type": "stream",
     "text": [
      "69.80000000000001\n",
      "69.80000000000001\n",
      "69.8\n",
      "69.80000000000001\n",
      "69.8\n",
      "69.8\n",
      "69.80000000000001\n",
      "69.80000000000001\n"
     ]
    }
   ],
   "source": [
    "# Adapted for Python 3\n",
    "C = 21;   F = 9/5*C + 32;      print(F)    # works\n",
    "C = 21.0; F = (9/5)*C + 32;    print(F)    # works\n",
    "C = 21.0; F = 9*C/5 + 32;      print(F)    # works\n",
    "C = 21.0; F = 9.*(C/5.0) + 32; print(F)    # works\n",
    "C = 21.0; F = 9.0*C/5.0 + 32;  print(F)    # works\n",
    "C = 21;   F = 9*C/5 + 32;      print(F)    # works\n",
    "C = 21;   F = (1/5)*9*C + 32;  print(F)    # works\n",
    "C = 21;   F = (1./5)*9*C + 32; print(F)    # works\n",
    "\n",
    "# yeah, Pyhon 3!\n",
    "# Note for Python 2: watch out for integer divisions!"
   ]
  },
  {
   "cell_type": "markdown",
   "metadata": {},
   "source": [
    "# Exercise 1.15: Explain why a program does not work"
   ]
  },
  {
   "cell_type": "code",
   "execution_count": 16,
   "metadata": {},
   "outputs": [
    {
     "name": "stdout",
     "output_type": "stream",
     "text": [
      "5\n"
     ]
    }
   ],
   "source": [
    "# Code (illegal):\n",
    "\"\"\"\n",
    "C = A + B\n",
    "A = 3 \n",
    "B = 2 \n",
    "print(C)\n",
    "\"\"\"\n",
    "\n",
    "# Code (correct):\n",
    "A = 3 \n",
    "B = 2 \n",
    "C = A + B\n",
    "print(C)\n",
    "\n",
    "# Objects can only be used after they have been defined!"
   ]
  },
  {
   "cell_type": "markdown",
   "metadata": {},
   "source": [
    "# Exercise 1.16: Find errors in Python statements"
   ]
  },
  {
   "cell_type": "code",
   "execution_count": 17,
   "metadata": {},
   "outputs": [
    {
     "name": "stdout",
     "output_type": "stream",
     "text": [
      "-1.2246467991473532e-16\n",
      "-2.653589793362073e-06\n"
     ]
    }
   ],
   "source": [
    "# 1a = 2\n",
    "# Variable names cannot start with a number.\n",
    "a1 = 2\n",
    "\n",
    "# a1 = b\n",
    "# b is not defined.\n",
    "a1 = 3\n",
    "\n",
    "x = 2\n",
    "\n",
    "# y = X + 4\n",
    "# python differentiates between upper- and lowercase\n",
    "y = x + 4\n",
    "\n",
    "# from Math import tan\n",
    "# the module is named math (lowercase)\n",
    "from math import tan\n",
    "\n",
    "# print(tan(pi))\n",
    "# pi also has to be imported.\n",
    "from math import pi\n",
    "print(tan(pi))\n",
    "\n",
    "# pi = \"3.14159’\n",
    "# strings can be defined using single or double quotes, but not both for the same string.\n",
    "pi = \"3.14159\"\n",
    "\n",
    "# print(tan(pi))\n",
    "# pi is now a string. firs, it has to be converted to float.\n",
    "print(tan(float(pi)))\n",
    "\n",
    "c = 4**3**2**3\n",
    "\n",
    "# _ = ((c-78564)/c + 32))\n",
    "# a number cannot be assigned anything. it only can be assigned to a variable. also, there is an extra parenthesis\n",
    "d = ((c-78564)/c + 32)\n",
    "\n",
    "# discount = 12%\n",
    "# the percent sign is not defined as such in python.\n",
    "discount = 12e-2\n",
    "\n",
    "# AMOUNT = 120.-\n",
    "# same goes for that .- thingy.\n",
    "AMOUNT = 120.0\n",
    "\n",
    "# amount = 120$\n",
    "# again for the dollar sign\n",
    "amount = 120    # [$]\n",
    "\n",
    "# address = hpl@simula.no\n",
    "# that is not a valid string.\n",
    "address = \"hpl@simula.no\"\n",
    "\n",
    "# and = duck\n",
    "# much wrong here. a variable cannot be named \"and\", because that is a reserved name in python. \n",
    "# also, duck is not defined / not a valid string.\n",
    "and_ = \"duck\"\n",
    "\n",
    "# class = ’INF1100, gr 2\"\n",
    "# wow. ok, class is again reserved, and you still can't use different quotes to define one string\n",
    "class_ = \"INF1100, gr 2\"\n",
    "\n",
    "continue_ = x > 0\n",
    "\n",
    "rev = fox = True\n",
    "\n",
    "Norwegian = [\"a human language\"]\n",
    "\n",
    "true = fox is rev in Norwegian"
   ]
  },
  {
   "cell_type": "markdown",
   "metadata": {},
   "source": [
    "# Exercise 1.17: Find errors in the coding of a formula"
   ]
  },
  {
   "cell_type": "code",
   "execution_count": 18,
   "metadata": {},
   "outputs": [
    {
     "name": "stdout",
     "output_type": "stream",
     "text": [
      "(-1+3.872983346207417j) (-1-3.872983346207417j)\n"
     ]
    }
   ],
   "source": [
    "# Code (illegal)\n",
    "\"\"\"\n",
    "a = 2; b = 1; c = 2\n",
    "from math import sqrt\n",
    "q = b*b - 4*a*c\n",
    "q_sr = sqrt(q)\n",
    "x1 = (-b + q_sr)/2*a\n",
    "x2 = (-b - q_sr)/2*a\n",
    "print(x1, x2)\n",
    "\"\"\"\n",
    "\n",
    "# Code (correct)\n",
    "a = 2; b = 1; c = 2\n",
    "from cmath import sqrt\n",
    "q = b*b - 4*a*c\n",
    "q_sr = sqrt(q)\n",
    "x1 = (-b + q_sr)/2*a\n",
    "x2 = (-b - q_sr)/2*a\n",
    "print(x1, x2)"
   ]
  },
  {
   "cell_type": "markdown",
   "metadata": {},
   "source": [
    "# Exercise 1.18: Find errors in a program"
   ]
  },
  {
   "cell_type": "code",
   "execution_count": 19,
   "metadata": {},
   "outputs": [
    {
     "name": "stdout",
     "output_type": "stream",
     "text": [
      "0.9999999999999999 1.7320508075688767\n"
     ]
    }
   ],
   "source": [
    "# Code (wrong)\n",
    "\"\"\"\n",
    "from math import pi, tan\n",
    "tan = tan(pi/4)\n",
    "tan2 = tan(pi/3)\n",
    "print(tan, tan2)\n",
    "\"\"\"\n",
    "\n",
    "# Code (correct)\n",
    "from math import pi, tan\n",
    "tan1 = tan(pi/4)\n",
    "tan2 = tan(pi/3)\n",
    "print(tan1, tan2)"
   ]
  }
 ],
 "metadata": {
  "kernelspec": {
   "display_name": "Python 3",
   "language": "python",
   "name": "python3"
  },
  "language_info": {
   "codemirror_mode": {
    "name": "ipython",
    "version": 3
   },
   "file_extension": ".py",
   "mimetype": "text/x-python",
   "name": "python",
   "nbconvert_exporter": "python",
   "pygments_lexer": "ipython3",
   "version": "3.6.2"
  }
 },
 "nbformat": 4,
 "nbformat_minor": 2
}
